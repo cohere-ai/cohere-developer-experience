{
  "cells": [
    {
      "cell_type": "markdown",
      "metadata": {
        "id": "xjLFw9Vfi3xO"
      },
      "source": [
        "In the past months, we engineered a novel relevance endpoint that takes a query and a list of documents and predicts the relevance between the query and each document. \n",
        "\n",
        "It can be used in a two-stage retrieval setup: First you take the user question, and retrieve the top-100 documents from your collection by either using lexical search or semantic search.\n",
        "\n",
        "You then pass the question and these top-100 documents to our relevance-endpoint to get a score for each document. You can then rank these documents based on these scores.\n",
        "\n",
        "In our benchmarks across 20 datasets, we **saw significant improvements compared to lexical and semantic search**, especially for use-cases where no training data is available."
      ]
    },
    {
      "cell_type": "markdown",
      "metadata": {
        "id": "Jw7C9tZxVgXm"
      },
      "source": [
        "We will demonstrate the rerank endpoint in this notebook.\n",
        "\n"
      ]
    },
    {
      "cell_type": "code",
      "execution_count": null,
      "metadata": {},
      "outputs": [],
      "source": [
        "! pip install -U cohere"
      ]
    },
    {
      "cell_type": "code",
      "execution_count": 1,
      "metadata": {
        "id": "07xZdGGAOCaP"
      },
      "outputs": [],
      "source": [
        "import cohere\n",
        "import requests\n",
        "import numpy as np\n",
        "from time import time\n",
        "from typing import List\n",
        "from pprint import pprint"
      ]
    },
    {
      "cell_type": "code",
      "execution_count": 2,
      "metadata": {
        "id": "FqKP7G3fOVQ9"
      },
      "outputs": [],
      "source": [
        "# Set up your cohere client\n",
        "co = cohere.ClientV2(\n",
        "    \"COHERE_API_KEY\"\n",
        ")  # Get your free API key here: https://dashboard.cohere.com/api-keys\n",
        "\n",
        "MODEL_NAME = \"rerank-v3.5\"\n",
        "\n",
        "# Example query and passages (data taken from http://sbert.net/datasets/simplewiki-2020-11-01.jsonl.gz)\n",
        "query = \"What is the capital of the United States?\"\n",
        "docs = [\n",
        "    \"Carson City is the capital city of the American state of Nevada. At the 2010 United States Census, Carson City had a population of 55,274.\",\n",
        "    \"The Commonwealth of the Northern Mariana Islands is a group of islands in the Pacific Ocean that are a political division controlled by the United States. Its capital is Saipan.\",\n",
        "    \"Charlotte Amalie is the capital and largest city of the United States Virgin Islands. It has about 20,000 people. The city is on the island of Saint Thomas.\",\n",
        "    \"Washington, D.C. (also known as simply Washington or D.C., and officially as the District of Columbia) is the capital of the United States. It is a federal district. The President of the USA and many major national government offices are in the territory. This makes it the political center of the United States of America.\",\n",
        "    \"West Virginia is a state in the Appalachian region of the United States. Its capital and largest city is Charleston. It is often abbreviated W. Va. or simply WV.\",\n",
        "    \"Capital punishment (the death penalty) has existed in the United States since before the United States was a country. As of 2017, capital punishment is legal in 30 of the 50 states. The federal government (including the United States military) also uses capital punishment.\",\n",
        "    \"North Dakota is a state in the United States. 672,591 people lived in North Dakota in the year 2010. The capital and seat of government is Bismarck.\",\n",
        "    \"Kentucky is a state in the United States. Its capital is Frankfort. It touches the states of Missouri (by the Mississippi River), Illinois, Indiana, Ohio, West Virginia (by the Ohio River), Tennessee and Virginia. There are many rivers in Kentucky\",\n",
        "    \"Micronesia, officially the Federated States of Micronesia, is an island nation in the Pacific Ocean, northeast of Papua New Guinea. The country is a sovereign state in free association with the United States. The capital city of Federated States of Micronesia is Palikir.\",\n",
        "    \"Utah is a state in the west United States. The capital and largest city is Salt Lake City. Utah became a state in the U.S. on January 4, 1896.\"]"
      ]
    },
    {
      "cell_type": "markdown",
      "metadata": {
        "id": "u3Ogs_QotGTw"
      },
      "source": [
        "## Using the Endpoint\n",
        "In the following cell we will call rerank to rank `docs` based on how relevant they are with `query`.\n",
        "\n"
      ]
    },
    {
      "cell_type": "code",
      "execution_count": null,
      "metadata": {
        "colab": {
          "base_uri": "https://localhost:8080/"
        },
        "id": "05S-LK5uthHz",
        "outputId": "7ca9af1c-b682-4d8f-d062-7dcdb267dbf4"
      },
      "outputs": [
        {
          "name": "stdout",
          "output_type": "stream",
          "text": [
            "Rank: 1\n",
            "Score: 0.8858788\n",
            "Document: Washington, D.C. (also known as simply Washington or D.C., and officially as the District of Columbia) is the capital of the United States. It is a federal district. The President of the USA and many major national government offices are in the territory. This makes it the political center of the United States of America.\n",
            "\n",
            "Rank: 2\n",
            "Score: 0.29369354\n",
            "Document: Utah is a state in the west United States. The capital and largest city is Salt Lake City. Utah became a state in the U.S. on January 4, 1896.\n",
            "\n",
            "Rank: 3\n",
            "Score: 0.27229524\n",
            "Document: Kentucky is a state in the United States. Its capital is Frankfort. It touches the states of Missouri (by the Mississippi River), Illinois, Indiana, Ohio, West Virginia (by the Ohio River), Tennessee and Virginia. There are many rivers in Kentucky\n",
            "\n"
          ]
        }
      ],
      "source": [
        "results = co.rerank(\n",
        "    query=query,\n",
        "    model=MODEL_NAME,\n",
        "    documents=docs,\n",
        "    top_n=3\n",
        ")\n",
        "\n",
        "for idx, result in enumerate(results.results):\n",
        "    print(f\"Rank: {idx+1}\")\n",
        "    print(f\"Score: {result.relevance_score}\")\n",
        "    print(f\"Document: {docs[result.index]}\\n\")"
      ]
    },
    {
      "cell_type": "markdown",
      "metadata": {
        "id": "61WyvMAtlf2Y"
      },
      "source": [
        "## Search on  Wikipedia - End2end demo\n",
        "The following is an example how to use this model end-to-end to search over the Simple English Wikipedia, which consists of about 500k passages. \n",
        "\n",
        "We use BM25 lexical search to retrieve the top-100 passages matching the query and then send these 100 passages and the query to our rerank endpoint to get a re-ranked list. We output the top-3 hits according to BM25 lexical search (as used by e.g. Elasticsearch) and the re-ranked list from our endpoint.\n"
      ]
    },
    {
      "cell_type": "code",
      "execution_count": null,
      "metadata": {
        "id": "o-gpxa9NlkK7"
      },
      "outputs": [],
      "source": [
        "! pip install -U rank_bm25"
      ]
    },
    {
      "cell_type": "code",
      "execution_count": 9,
      "metadata": {
        "id": "YOsh4bfvlkRQ"
      },
      "outputs": [],
      "source": [
        "import json\n",
        "import gzip\n",
        "import os\n",
        "from rank_bm25 import BM25Okapi\n",
        "from sklearn.feature_extraction import _stop_words\n",
        "import string\n",
        "from tqdm.autonotebook import tqdm"
      ]
    },
    {
      "cell_type": "code",
      "execution_count": 10,
      "metadata": {
        "colab": {
          "base_uri": "https://localhost:8080/"
        },
        "id": "_Rf_d54tlvtM",
        "outputId": "84583161-c3cd-4f14-89d8-995d2aa55eef"
      },
      "outputs": [
        {
          "name": "stdout",
          "output_type": "stream",
          "text": [
            "--2025-04-14 13:40:23--  http://sbert.net/datasets/simplewiki-2020-11-01.jsonl.gz\n",
            "Resolving sbert.net (sbert.net)... 104.21.96.1, 104.21.16.1, 104.21.32.1, ...\n",
            "Connecting to sbert.net (sbert.net)|104.21.96.1|:80... connected.\n",
            "HTTP request sent, awaiting response... 301 Moved Permanently\n",
            "Location: https://sbert.net/datasets/simplewiki-2020-11-01.jsonl.gz [following]\n",
            "--2025-04-14 13:40:23--  https://sbert.net/datasets/simplewiki-2020-11-01.jsonl.gz\n",
            "Connecting to sbert.net (sbert.net)|104.21.96.1|:443... connected.\n",
            "HTTP request sent, awaiting response... 301 Moved Permanently\n",
            "Location: https://public.ukp.informatik.tu-darmstadt.de/reimers/sentence-transformers/datasets/simplewiki-2020-11-01.jsonl.gz [following]\n",
            "--2025-04-14 13:40:24--  https://public.ukp.informatik.tu-darmstadt.de/reimers/sentence-transformers/datasets/simplewiki-2020-11-01.jsonl.gz\n",
            "Resolving public.ukp.informatik.tu-darmstadt.de (public.ukp.informatik.tu-darmstadt.de)... 130.83.167.186\n",
            "Connecting to public.ukp.informatik.tu-darmstadt.de (public.ukp.informatik.tu-darmstadt.de)|130.83.167.186|:443... connected.\n",
            "HTTP request sent, awaiting response... 200 OK\n",
            "Length: 50223724 (48M) [application/octet-stream]\n",
            "Saving to: ‘simplewiki-2020-11-01.jsonl.gz’\n",
            "\n",
            "simplewiki-2020-11- 100%[===================>]  47.90M  8.78MB/s    in 6.8s    \n",
            "\n",
            "2025-04-14 13:40:33 (7.03 MB/s) - ‘simplewiki-2020-11-01.jsonl.gz’ saved [50223724/50223724]\n",
            "\n"
          ]
        }
      ],
      "source": [
        "! wget http://sbert.net/datasets/simplewiki-2020-11-01.jsonl.gz"
      ]
    },
    {
      "cell_type": "code",
      "execution_count": 11,
      "metadata": {
        "colab": {
          "base_uri": "https://localhost:8080/"
        },
        "id": "OMLzTvk7lzyY",
        "outputId": "1d05aa18-ec4c-4b64-d21d-76faccf4d951"
      },
      "outputs": [
        {
          "name": "stdout",
          "output_type": "stream",
          "text": [
            "Passages: 509663\n"
          ]
        }
      ],
      "source": [
        "# As dataset, we use Simple English Wikipedia. Compared to the full English wikipedia, it has only\n",
        "# about 170k articles. We split these articles into paragraphs and encode them with the bi-encoder\n",
        "wikipedia_filepath = \"simplewiki-2020-11-01.jsonl.gz\"\n",
        "\n",
        "passages = []\n",
        "with gzip.open(wikipedia_filepath, \"rt\", encoding=\"utf8\") as fIn:\n",
        "    for line in fIn:\n",
        "        data = json.loads(line.strip())\n",
        "        passages.extend(data[\"paragraphs\"])\n",
        "\n",
        "print(\"Passages:\", len(passages))"
      ]
    },
    {
      "cell_type": "code",
      "execution_count": 12,
      "metadata": {
        "colab": {
          "base_uri": "https://localhost:8080/"
        },
        "id": "CAtpe51XgZ5Y",
        "outputId": "1ccf0358-6712-4c21-e831-c3b3611597fd"
      },
      "outputs": [
        {
          "name": "stdout",
          "output_type": "stream",
          "text": [
            "Ted Cassidy (July 31, 1932 - January 16, 1979) was an American actor. He was best known for his roles as Lurch and Thing on \"The Addams Family\". Aileen Carol Wuornos Pralle (born Aileen Carol Pittman; February 29, 1956 – October 9, 2002) was an American serial killer. She was born in Rochester, Michigan. She confessed to killing six men in Florida and was executed in Florida State Prison by lethal injection for the murders. Wuornos said that the men she killed had raped her or tried to rape her while she was working as a prostitute.\n"
          ]
        }
      ],
      "source": [
        "print(passages[0], passages[1])"
      ]
    },
    {
      "cell_type": "code",
      "execution_count": 13,
      "metadata": {
        "colab": {
          "base_uri": "https://localhost:8080/",
          "height": 49,
          "referenced_widgets": [
            "405380d381534be1b0d92a5da1013632",
            "54eb133663084cde8c32854b47558f83",
            "c74c928ca40d4215b600f617578c10b3",
            "71021babdbe140e480172a84d4d69749",
            "9215306114b24fffa4223f896cd50e1d",
            "46a0ba39225d4884aad26d72d8bd0c72",
            "688a5aad1e8c4188ac5c5c705832b066",
            "b1c5b6d6f4244c02964caa104dc0b170",
            "80e40812cfcf4a25bec8dc1d2e6a18ca",
            "441c174815e443698552dd5ee5a82bb3",
            "70dc83747ccc4b85b4a7b90cdeb5a301"
          ]
        },
        "id": "8AJFsclpl8wx",
        "outputId": "4fbbbf2f-624c-4f88-bfc0-6cd7d31ec0cc"
      },
      "outputs": [
        {
          "data": {
            "application/vnd.jupyter.widget-view+json": {
              "model_id": "5e3efbe030a14eb5b0ab0e6a82f73dd5",
              "version_major": 2,
              "version_minor": 0
            },
            "text/plain": [
              "  0%|          | 0/509663 [00:00<?, ?it/s]"
            ]
          },
          "metadata": {},
          "output_type": "display_data"
        }
      ],
      "source": [
        "# We compare the results to lexical search (keyword search). Here, we use\n",
        "# the BM25 algorithm which is implemented in the rank_bm25 package.\n",
        "\n",
        "\n",
        "# We lower case our text and remove stop-words from indexing\n",
        "def bm25_tokenizer(text):\n",
        "    tokenized_doc = []\n",
        "    for token in text.lower().split():\n",
        "        token = token.strip(string.punctuation)\n",
        "\n",
        "        if len(token) > 0 and token not in _stop_words.ENGLISH_STOP_WORDS:\n",
        "            tokenized_doc.append(token)\n",
        "    return tokenized_doc\n",
        "\n",
        "\n",
        "tokenized_corpus = []\n",
        "for passage in tqdm(passages):\n",
        "    tokenized_corpus.append(bm25_tokenizer(passage))\n",
        "\n",
        "bm25 = BM25Okapi(tokenized_corpus)"
      ]
    },
    {
      "cell_type": "code",
      "execution_count": 29,
      "metadata": {
        "id": "sZavW8t6mNTH"
      },
      "outputs": [],
      "source": [
        "# This function will search all wikipedia articles for passages that\n",
        "# answer the query. We then re-rank using our rerank endpoint\n",
        "\n",
        "\n",
        "def search(query, top_k=3, num_candidates=100):\n",
        "    print(\"Input question:\", query)\n",
        "\n",
        "    ##### BM25 search (lexical search) #####\n",
        "    bm25_scores = bm25.get_scores(bm25_tokenizer(query))\n",
        "    top_n = np.argpartition(bm25_scores, -num_candidates)[-num_candidates:]\n",
        "    bm25_hits = [{\"corpus_id\": idx, \"score\": bm25_scores[idx]} for idx in top_n]\n",
        "    bm25_hits = sorted(bm25_hits, key=lambda x: x[\"score\"], reverse=True)\n",
        "\n",
        "    print(f\"Top-3 lexical search (BM25) hits\")\n",
        "    for idx, hit in enumerate(bm25_hits[0:top_k]):\n",
        "        print(f\"Rank: {idx+1}\")\n",
        "        print(f\"Score: {hit['score']:.3f}\")\n",
        "        doc_text = passages[hit['corpus_id']].replace('\\n', ' ')\n",
        "        print(f\"Document: {doc_text}\\n\")\n",
        "\n",
        "    # Add re-ranking\n",
        "    docs = [passages[hit[\"corpus_id\"]] for hit in bm25_hits]\n",
        "\n",
        "    print(f\"\\nTop-3 hits by rank-API ({len(bm25_hits)} BM25 hits re-ranked)\")\n",
        "    results = co.rerank(query=query, model=MODEL_NAME, documents=docs, top_n=top_k)\n",
        "    for idx, result in enumerate(results.results):\n",
        "        print(f\"Rank: {idx+1}\")\n",
        "        print(f\"Score: {result.relevance_score}\")\n",
        "        print(f\"Document: {docs[result.index]}\\n\")"
      ]
    },
    {
      "cell_type": "code",
      "execution_count": 30,
      "metadata": {
        "colab": {
          "base_uri": "https://localhost:8080/"
        },
        "id": "LdW9KxlUmHFN",
        "outputId": "3ce44a8d-693d-493e-b477-166a7faca4db"
      },
      "outputs": [
        {
          "name": "stdout",
          "output_type": "stream",
          "text": [
            "Input question: What is the capital of the United States?\n",
            "Top-3 lexical search (BM25) hits\n",
            "Rank: 1\n",
            "Score: 16.264\n",
            "Document: Capital punishment (the death penalty) has existed in the United States since before the United States was a country. As of 2017, capital punishment is legal in 30 of the 50 states. The federal government (including the United States military) also uses capital punishment.\n",
            "\n",
            "Rank: 2\n",
            "Score: 15.124\n",
            "Document: In 1783, it was the capital of the United States for a few months.\n",
            "\n",
            "Rank: 3\n",
            "Score: 14.476\n",
            "Document: New York was the capital of the United States under the Articles of Confederation from 1785 to 1788. When the US Constitution was made, it stayed as the capital from 1789 until 1790. In 1789, the first President of the United States, George Washington, was inaugurated; the first United States Congress and the Supreme Court of the United States each met for the first time, and the United States Bill of Rights was written, all at Federal Hall on Wall Street. By 1790, New York grew bigger than Philadelphia, so it become the biggest city in the United States. By the end of 1790, because of the Residence Act, Philadelphia became the new capital.\n",
            "\n",
            "\n",
            "Top-3 hits by rank-API (100 BM25 hits re-ranked)\n",
            "Rank: 1\n",
            "Score: 0.8858788\n",
            "Document: Washington, D.C. (also known as simply Washington or D.C., and officially as the District of Columbia) is the capital of the United States. It is a federal district. The President of the USA and many major national government offices are in the territory. This makes it the political center of the United States of America.\n",
            "\n",
            "Rank: 2\n",
            "Score: 0.81770587\n",
            "Document: As the national capital of the United States, Washington, D.C. has numerous media outlets in various mediums. Some of these media are known throughout the United States, including \"The Washington Post\" and various broadcasting networks headquartered in D.C.\n",
            "\n",
            "Rank: 3\n",
            "Score: 0.7440808\n",
            "Document: New York was the capital of the United States under the Articles of Confederation from 1785 to 1788. When the US Constitution was made, it stayed as the capital from 1789 until 1790. In 1789, the first President of the United States, George Washington, was inaugurated; the first United States Congress and the Supreme Court of the United States each met for the first time, and the United States Bill of Rights was written, all at Federal Hall on Wall Street. By 1790, New York grew bigger than Philadelphia, so it become the biggest city in the United States. By the end of 1790, because of the Residence Act, Philadelphia became the new capital.\n",
            "\n"
          ]
        }
      ],
      "source": [
        "search(query = \"What is the capital of the United States?\")"
      ]
    },
    {
      "cell_type": "code",
      "execution_count": 31,
      "metadata": {
        "colab": {
          "base_uri": "https://localhost:8080/"
        },
        "id": "cVw7ZYI0mw3r",
        "outputId": "e959d24c-a24a-49cd-f6aa-a129a5ee8b1d"
      },
      "outputs": [
        {
          "name": "stdout",
          "output_type": "stream",
          "text": [
            "Input question: Number countries Europe\n",
            "Top-3 lexical search (BM25) hits\n",
            "Rank: 1\n",
            "Score: 16.963\n",
            "Document: ECoHR' has a number of judges. The number of judges is seven normally but at the case of dealing a great issue, the number will be 21 and the judges are equally from member countries of the Council of Europe. At present, there are forty seven member countries of the Council of Europe. Each country may have one judge in the ECoHR. But, judges work independently for the ECoHR, and not for their country.\n",
            "\n",
            "Rank: 2\n",
            "Score: 14.560\n",
            "Document: Most countries in Europe, and a few countries in Asia, have made some or all synthetic cannabinoids illegal.\n",
            "\n",
            "Rank: 3\n",
            "Score: 14.165\n",
            "Document: Many of these countries were members of the Western European Union. Many, such as Norway, are also in Northern Europe or in Central Europe or Southern Europe.\n",
            "\n",
            "\n",
            "Top-3 hits by rank-API (100 BM25 hits re-ranked)\n",
            "Rank: 1\n",
            "Score: 0.80844593\n",
            "Document: There are at least 43 countries in Europe (the European identities of 5 transcontinental countries:Cyprus, Georgia, Kazakhstan, Russia and Turkey are disputed). Most of these countries are members of the European Union.\n",
            "\n",
            "Rank: 2\n",
            "Score: 0.752468\n",
            "Document: Europe, the planet's 6th largest continent, includes 47 countries and assorted dependencies, islands and territories.\n",
            "\n",
            "Rank: 3\n",
            "Score: 0.69820654\n",
            "Document: Within these regions, there are up to 48 independent European countries (with the identities of 5 transcontinental countries being disputed). The largest is the Russian Federation, which covers 39% of Europe.\n",
            "\n"
          ]
        }
      ],
      "source": [
        "search(query = \"Number countries Europe\")"
      ]
    },
    {
      "cell_type": "code",
      "execution_count": 32,
      "metadata": {
        "colab": {
          "base_uri": "https://localhost:8080/"
        },
        "id": "52p0BMsomxV2",
        "outputId": "cade17e7-5bd8-44ed-d18d-2f986663ef5a"
      },
      "outputs": [
        {
          "name": "stdout",
          "output_type": "stream",
          "text": [
            "Input question: Elon Musk year birth\n",
            "Top-3 lexical search (BM25) hits\n",
            "Rank: 1\n",
            "Score: 22.568\n",
            "Document: Tesla, Inc. is a company based in Palo Alto, California which makes electric cars. It was started in 2003 by Martin Eberhard, Dylan Stott, and Elon Musk (who also co-founded PayPal and SpaceX and is the CEO of SpaceX). Eberhard no longer works there. Today, Elon Musk is the Chief Executive Officer (CEO). It started selling its first car, the Roadster in 2008.\n",
            "\n",
            "Rank: 2\n",
            "Score: 20.492\n",
            "Document: Elon Musk complained via Twitter about Los Angeles traffic and the same day, December 17, 2016, founded the company. It built a short test tunnel in Los Angeles.\n",
            "\n",
            "Rank: 3\n",
            "Score: 20.448\n",
            "Document: At the end of 2016, Musk founded The Boring Company which focuses on tunnelling and infrastructure. He mentioned Los Angeles traffic as the reason for starting this company. In March 2017 Elon Musk announced he has started another company which aims to merge human brains and computers, it is called Neuralink.\n",
            "\n",
            "\n",
            "Top-3 hits by rank-API (100 BM25 hits re-ranked)\n",
            "Rank: 1\n",
            "Score: 0.903098\n",
            "Document: Elon Reeve Musk (born June 28, 1971) is a businessman and philanthropist. He was born in South Africa. He moved to Canada and later became an American citizen. Musk is the current CEO & Chief Product Architect of Tesla Motors, a company that makes electric vehicles. He is also the CEO of Solar City, a company that makes solar panels, and the CEO & CTO of SpaceX, an aerospace company. In August 2020, Bloomberg ranked Musk third among the richest people on the planet with net worth to be $115.4 billion.\n",
            "\n",
            "Rank: 2\n",
            "Score: 0.3010542\n",
            "Document: In early 2002, Musk was seeking workers for his new space company, soon to be named SpaceX. Musk found a rocket engineer Tom Mueller (later SpaceX's CTO of Propulsion). He agreed to work for Musk. That was how SpaceX was born. The first headquarters of SpaceX was in a warehouse in El Segundo, California. The company has grown rapidly since it was founded in 2002, growing from 160 workers in November 2005 to 1,100 in 2010, 3,800 workers and contractors by October 2013, nearly 5,000 by late 2015, and about 6,000 in April 2017.\n",
            "\n",
            "Rank: 3\n",
            "Score: 0.25737333\n",
            "Document: Elon Musk complained via Twitter about Los Angeles traffic and the same day, December 17, 2016, founded the company. It built a short test tunnel in Los Angeles.\n",
            "\n"
          ]
        }
      ],
      "source": [
        "search(query = \"Elon Musk year birth\")"
      ]
    },
    {
      "cell_type": "code",
      "execution_count": 33,
      "metadata": {
        "colab": {
          "base_uri": "https://localhost:8080/"
        },
        "id": "r38_cEjgmzmm",
        "outputId": "1862a573-b7b0-4a3e-d720-c891fee45ea3"
      },
      "outputs": [
        {
          "name": "stdout",
          "output_type": "stream",
          "text": [
            "Input question: Which US president was killed?\n",
            "Top-3 lexical search (BM25) hits\n",
            "Rank: 1\n",
            "Score: 11.966\n",
            "Document: He came into office when the previous president, Cyprien Ntaryamira, was killed in a plane crash. It was an assassination in which the Rwandan president Juvénal Habyarimana was also killed. Ntibantunganya left office when he was deposed by Pierre Buyoya in a military coup of 1996.\n",
            "\n",
            "Rank: 2\n",
            "Score: 11.697\n",
            "Document: Burr killed Alexander Hamilton in a duel in 1804, when Burr was still Vice President.\n",
            "\n",
            "Rank: 3\n",
            "Score: 11.482\n",
            "Document: After President James A. Garfield died, vice-president Chester Arthur replaced him. The man who killed him expected the new President to pardon him. This did not happen.\n",
            "\n",
            "\n",
            "Top-3 hits by rank-API (100 BM25 hits re-ranked)\n",
            "Rank: 1\n",
            "Score: 0.78314424\n",
            "Document: James Abram Garfield (November 19, 1831 - September 19, 1881) was the 20th (1881) President of the United States and the 2nd President to be assassinated (killed while in office). President Garfield was in office from March to September of 1881. He was in office for a total of six months and fifteen days. For almost half that time he was bedridden as a result of an attempt to kill him. He was shot on July 2 and finally died in September the same year he got into office.\n",
            "\n",
            "Rank: 2\n",
            "Score: 0.67988104\n",
            "Document: Lyndon Baines Johnson (August 27, 1908 – January 22, 1973) was a member of the Democratic Party and the 36th president of the United States serving from 1963 to 1969. Johnson took over as president when President Kennedy was killed in November 1963. He was then re-elected in the 1964 election.\n",
            "\n",
            "Rank: 3\n",
            "Score: 0.6739866\n",
            "Document: After Abraham Lincoln was killed, Andrew Johnson became President. He was President for four years. During that time, 12 people who held important political jobs were assassinated. The next president, Ulysses S. Grant, led the United States from 18691877. During that time, 11 government leaders were assassinated; another 9 were attacked, but survived.\n",
            "\n"
          ]
        }
      ],
      "source": [
        "search(query = \"Which US president was killed?\")"
      ]
    },
    {
      "cell_type": "code",
      "execution_count": 34,
      "metadata": {
        "colab": {
          "base_uri": "https://localhost:8080/"
        },
        "id": "yKc8uwkGnPIu",
        "outputId": "92aaeac2-e3ef-4621-edb1-4e1b136ed135"
      },
      "outputs": [
        {
          "name": "stdout",
          "output_type": "stream",
          "text": [
            "Input question: When is Chinese New Year\n",
            "Top-3 lexical search (BM25) hits\n",
            "Rank: 1\n",
            "Score: 18.606\n",
            "Document: Today in China the Gregorian calendar is used for most activities. At the same time, the Chinese calendar is still used for traditional Chinese holidays like Chinese New Year or Lunar New Year.\n",
            "\n",
            "Rank: 2\n",
            "Score: 18.151\n",
            "Document: Before that, the holiday was usually just called the \"NewYear\". Because the traditional Chinese calendar is mostly based on the changes in the moon, the Chinese New Year is also known in English as the \"Lunar New Year\" or \"Chinese Lunar New Year\". This name comes from \"Luna\", an old Latin name for the moon. The Indonesian name for the holiday is Imlek, which comes from the Hokkien word for the old Chinese calendar and is therefore also like saying \"Lunar New Year\".\n",
            "\n",
            "Rank: 3\n",
            "Score: 18.011\n",
            "Document: Spring Festival is the Chinese New Year.\n",
            "\n",
            "\n",
            "Top-3 hits by rank-API (100 BM25 hits re-ranked)\n",
            "Rank: 1\n",
            "Score: 0.9123193\n",
            "Document: Chinese New Year, known in China as the SpringFestival and in Singapore as the LunarNewYear, is a holiday on and around the new moon on the first day of the year in the traditional Chinese calendar. This calendar is based on the changes in the moon and is only sometimes changed to fit the seasons of the year based on how the Earth moves around the sun. Because of this, Chinese New Year is never on January1. It moves around between January21 and February20.\n",
            "\n",
            "Rank: 2\n",
            "Score: 0.8559598\n",
            "Document: Chinese New Year always starts on a new moon, when the Moon is between the Earth and Sun and it looks all dark in the night sky. Because new moons happen about every 29.53 days but the year set by Pope GregoryXIII is 365.2425 days long, the Chinese holiday moves to different days each year. The Chinese calendar adds a 13th month every so often to keep the seasons in the right place, so the first day of the new year always happens between January21 and February20 on the 2nd or 3rd new moon after the 1st day of winter. The chart on the right gives the day of each Chinese New Year from 1996 to 2031.\n",
            "\n",
            "Rank: 3\n",
            "Score: 0.8020137\n",
            "Document: Chinese New Year lasts fifteen days, including one week as a national holiday. It starts with the first day of the Chinese lunar year and ends with the full moon fifteen days later. It is always in the middle of winter, but is called the Spring Festival in Chinese because Chinese seasons are a little different from English ones. On the first day of the Chinese New Year, people call on friends and relatives. Because most people watch the special performances on CCTV all the night on New Year's Eve and don't go to bed until 12:00 AM, they usually get up later in the next day. The fifth day of the Chinese New Year is the day to welcome the god of Wealth (Chinese:财神爷), many people make and eat dumplings (Chinese:饺子. Pinyin: Jaozi). They believe that dumplings can hold the god of Wealth and bring luck. The last day of the Chinese New Year is the Lantern Festival. On this day, the moon becomes the full moon. People go out and watch the lantern festivals everywhere. After that, they eat sweet dumpling (Chinese:汤圆,元宵), a kind of dumpling which is round and looks like the full moon.\n",
            "\n"
          ]
        }
      ],
      "source": [
        "search(query=\"When is Chinese New Year\")"
      ]
    },
    {
      "cell_type": "code",
      "execution_count": 35,
      "metadata": {
        "colab": {
          "base_uri": "https://localhost:8080/"
        },
        "id": "NT8_OxwInS1x",
        "outputId": "5ac4aba7-f26b-4a84-9b7d-41a8ab733f02"
      },
      "outputs": [
        {
          "name": "stdout",
          "output_type": "stream",
          "text": [
            "Input question: How many people live in Paris\n",
            "Top-3 lexical search (BM25) hits\n",
            "Rank: 1\n",
            "Score: 16.277\n",
            "Document: Live à Paris (English: \"Live in Paris\") is a live album by Canadian singer Céline Dion.\n",
            "\n",
            "Rank: 2\n",
            "Score: 15.173\n",
            "Document: Île-de-France is a region of France. The capital city is Paris. It is also the capital city of France. In 2013 about 12 million people lived in the region. About 2.1 million people live in the city of Paris.\n",
            "\n",
            "Rank: 3\n",
            "Score: 14.666\n",
            "Document: Gennevilliers is a town in France near Paris. It is in the region Île-de-France and the department of Hauts-de-Seine. About 41,000 people live there.\n",
            "\n",
            "\n",
            "Top-3 hits by rank-API (100 BM25 hits re-ranked)\n",
            "Rank: 1\n",
            "Score: 0.86767644\n",
            "Document: Paris (nicknamed the \"\"City of light\"\") is the capital city of France, and the largest city in France. The area is , and around 2.15 million people live there. If suburbs are counted, the population of the Paris area rises to 12 million people.\n",
            "\n",
            "Rank: 2\n",
            "Score: 0.7872945\n",
            "Document: Île-de-France is a region of France. The capital city is Paris. It is also the capital city of France. In 2013 about 12 million people lived in the region. About 2.1 million people live in the city of Paris.\n",
            "\n",
            "Rank: 3\n",
            "Score: 0.40952834\n",
            "Document: La Défense () is an area in the Paris Metropolitan Area of Île-de-France, located in the Hauts-de-Seine French department, just west of Paris. It is the largest business district in Europe and is home to 19 skyscrapers and more than 50 other buildings made of glass and steel. The area is 1.6 km (560 hectares) big. About 25,000 people live in La Défense, and another 180,000 people work there. Over 8 million tourists visit La Défense every year.\n",
            "\n"
          ]
        }
      ],
      "source": [
        "search(query=\"How many people live in Paris\")"
      ]
    },
    {
      "cell_type": "code",
      "execution_count": 36,
      "metadata": {
        "colab": {
          "base_uri": "https://localhost:8080/"
        },
        "id": "bLkBz68fnUoS",
        "outputId": "75800b8b-fe7a-4dcc-e622-b7ee7a19397a"
      },
      "outputs": [
        {
          "name": "stdout",
          "output_type": "stream",
          "text": [
            "Input question: Who is the director of The Matrix?\n",
            "Top-3 lexical search (BM25) hits\n",
            "Rank: 1\n",
            "Score: 16.253\n",
            "Document: An inverse matrix is a matrix that, when multiplied by another matrix, equals the identity matrix. For example:\n",
            "\n",
            "Rank: 2\n",
            "Score: 16.072\n",
            "Document: is an identity matrix. There is exactly one identity matrix for each square dimension set. An identity matrix is special because when multiplying any matrix by the identity matrix, the result is always the original matrix with no change.\n",
            "\n",
            "Rank: 3\n",
            "Score: 15.353\n",
            "Document: First, the system needs to be turned into an augmented matrix. In an augmented matrix, each linear equation becomes a row. On one side of the augmented matrix, the coefficients of each term in the linear equation become numbers in the matrix. On the other side of the augmented matrix are the constant terms each linear equation is equal to. For this system, the augmented matrix is:\n",
            "\n",
            "\n",
            "Top-3 hits by rank-API (100 BM25 hits re-ranked)\n",
            "Rank: 1\n",
            "Score: 0.85097736\n",
            "Document: The Matrix is a science fiction action movie that was made in 1999. It was written and directed by the Wachowski Brothers. The main actors in the movie are Keanu Reeves, Laurence Fishburne, Carrie-Anne Moss, and Hugo Weaving. \"The Matrix\" was followed by two sequels: \"The Matrix Reloaded\" and \"The Matrix Revolutions\".\n",
            "\n",
            "Rank: 2\n",
            "Score: 0.8080827\n",
            "Document: Helmut Bakaitis (born 26 September 1944) is a German-born Australian director, actor and screenwriter. He is known for his role as The Architect in \"The Matrix\" movie series. Bakaitis was born in Lauban, Lower Silesia, Germany (now Lubań, Poland). Bakaitis started teaching directing at Australian Academy of Dramatic Art (AADA).\n",
            "\n",
            "Rank: 3\n",
            "Score: 0.65940565\n",
            "Document: Laurence Fishburne III (born July 30, 1961) is an American actor of movies and theater, playwright, director, and producer. He was nominated for the Oscar, and won the Emmy and Tony Awards. He is famous for his roles in successful movies like \"Apocalypse Now\" and \"The Matrix\". Fishburne was the first African-American actor to play Perry White in \"Man of Steel\".\n",
            "\n"
          ]
        }
      ],
      "source": [
        "search(query=\"Who is the director of The Matrix?\")"
      ]
    },
    {
      "cell_type": "code",
      "execution_count": null,
      "metadata": {},
      "outputs": [],
      "source": []
    },
    {
      "cell_type": "code",
      "execution_count": null,
      "metadata": {},
      "outputs": [],
      "source": []
    }
  ],
  "metadata": {
    "colab": {
      "provenance": []
    },
    "kernelspec": {
      "display_name": "base",
      "language": "python",
      "name": "base"
    },
    "language_info": {
      "codemirror_mode": {
        "name": "ipython",
        "version": 3
      },
      "file_extension": ".py",
      "mimetype": "text/x-python",
      "name": "python",
      "nbconvert_exporter": "python",
      "pygments_lexer": "ipython3",
      "version": "3.11.4"
    },
    "widgets": {
      "application/vnd.jupyter.widget-state+json": {
        "405380d381534be1b0d92a5da1013632": {
          "model_module": "@jupyter-widgets/controls",
          "model_module_version": "1.5.0",
          "model_name": "HBoxModel",
          "state": {
            "_dom_classes": [],
            "_model_module": "@jupyter-widgets/controls",
            "_model_module_version": "1.5.0",
            "_model_name": "HBoxModel",
            "_view_count": null,
            "_view_module": "@jupyter-widgets/controls",
            "_view_module_version": "1.5.0",
            "_view_name": "HBoxView",
            "box_style": "",
            "children": [
              "IPY_MODEL_54eb133663084cde8c32854b47558f83",
              "IPY_MODEL_c74c928ca40d4215b600f617578c10b3",
              "IPY_MODEL_71021babdbe140e480172a84d4d69749"
            ],
            "layout": "IPY_MODEL_9215306114b24fffa4223f896cd50e1d"
          }
        },
        "441c174815e443698552dd5ee5a82bb3": {
          "model_module": "@jupyter-widgets/base",
          "model_module_version": "1.2.0",
          "model_name": "LayoutModel",
          "state": {
            "_model_module": "@jupyter-widgets/base",
            "_model_module_version": "1.2.0",
            "_model_name": "LayoutModel",
            "_view_count": null,
            "_view_module": "@jupyter-widgets/base",
            "_view_module_version": "1.2.0",
            "_view_name": "LayoutView",
            "align_content": null,
            "align_items": null,
            "align_self": null,
            "border": null,
            "bottom": null,
            "display": null,
            "flex": null,
            "flex_flow": null,
            "grid_area": null,
            "grid_auto_columns": null,
            "grid_auto_flow": null,
            "grid_auto_rows": null,
            "grid_column": null,
            "grid_gap": null,
            "grid_row": null,
            "grid_template_areas": null,
            "grid_template_columns": null,
            "grid_template_rows": null,
            "height": null,
            "justify_content": null,
            "justify_items": null,
            "left": null,
            "margin": null,
            "max_height": null,
            "max_width": null,
            "min_height": null,
            "min_width": null,
            "object_fit": null,
            "object_position": null,
            "order": null,
            "overflow": null,
            "overflow_x": null,
            "overflow_y": null,
            "padding": null,
            "right": null,
            "top": null,
            "visibility": null,
            "width": null
          }
        },
        "46a0ba39225d4884aad26d72d8bd0c72": {
          "model_module": "@jupyter-widgets/base",
          "model_module_version": "1.2.0",
          "model_name": "LayoutModel",
          "state": {
            "_model_module": "@jupyter-widgets/base",
            "_model_module_version": "1.2.0",
            "_model_name": "LayoutModel",
            "_view_count": null,
            "_view_module": "@jupyter-widgets/base",
            "_view_module_version": "1.2.0",
            "_view_name": "LayoutView",
            "align_content": null,
            "align_items": null,
            "align_self": null,
            "border": null,
            "bottom": null,
            "display": null,
            "flex": null,
            "flex_flow": null,
            "grid_area": null,
            "grid_auto_columns": null,
            "grid_auto_flow": null,
            "grid_auto_rows": null,
            "grid_column": null,
            "grid_gap": null,
            "grid_row": null,
            "grid_template_areas": null,
            "grid_template_columns": null,
            "grid_template_rows": null,
            "height": null,
            "justify_content": null,
            "justify_items": null,
            "left": null,
            "margin": null,
            "max_height": null,
            "max_width": null,
            "min_height": null,
            "min_width": null,
            "object_fit": null,
            "object_position": null,
            "order": null,
            "overflow": null,
            "overflow_x": null,
            "overflow_y": null,
            "padding": null,
            "right": null,
            "top": null,
            "visibility": null,
            "width": null
          }
        },
        "54eb133663084cde8c32854b47558f83": {
          "model_module": "@jupyter-widgets/controls",
          "model_module_version": "1.5.0",
          "model_name": "HTMLModel",
          "state": {
            "_dom_classes": [],
            "_model_module": "@jupyter-widgets/controls",
            "_model_module_version": "1.5.0",
            "_model_name": "HTMLModel",
            "_view_count": null,
            "_view_module": "@jupyter-widgets/controls",
            "_view_module_version": "1.5.0",
            "_view_name": "HTMLView",
            "description": "",
            "description_tooltip": null,
            "layout": "IPY_MODEL_46a0ba39225d4884aad26d72d8bd0c72",
            "placeholder": "​",
            "style": "IPY_MODEL_688a5aad1e8c4188ac5c5c705832b066",
            "value": "100%"
          }
        },
        "688a5aad1e8c4188ac5c5c705832b066": {
          "model_module": "@jupyter-widgets/controls",
          "model_module_version": "1.5.0",
          "model_name": "DescriptionStyleModel",
          "state": {
            "_model_module": "@jupyter-widgets/controls",
            "_model_module_version": "1.5.0",
            "_model_name": "DescriptionStyleModel",
            "_view_count": null,
            "_view_module": "@jupyter-widgets/base",
            "_view_module_version": "1.2.0",
            "_view_name": "StyleView",
            "description_width": ""
          }
        },
        "70dc83747ccc4b85b4a7b90cdeb5a301": {
          "model_module": "@jupyter-widgets/controls",
          "model_module_version": "1.5.0",
          "model_name": "DescriptionStyleModel",
          "state": {
            "_model_module": "@jupyter-widgets/controls",
            "_model_module_version": "1.5.0",
            "_model_name": "DescriptionStyleModel",
            "_view_count": null,
            "_view_module": "@jupyter-widgets/base",
            "_view_module_version": "1.2.0",
            "_view_name": "StyleView",
            "description_width": ""
          }
        },
        "71021babdbe140e480172a84d4d69749": {
          "model_module": "@jupyter-widgets/controls",
          "model_module_version": "1.5.0",
          "model_name": "HTMLModel",
          "state": {
            "_dom_classes": [],
            "_model_module": "@jupyter-widgets/controls",
            "_model_module_version": "1.5.0",
            "_model_name": "HTMLModel",
            "_view_count": null,
            "_view_module": "@jupyter-widgets/controls",
            "_view_module_version": "1.5.0",
            "_view_name": "HTMLView",
            "description": "",
            "description_tooltip": null,
            "layout": "IPY_MODEL_441c174815e443698552dd5ee5a82bb3",
            "placeholder": "​",
            "style": "IPY_MODEL_70dc83747ccc4b85b4a7b90cdeb5a301",
            "value": " 509663/509663 [00:17&lt;00:00, 16838.02it/s]"
          }
        },
        "80e40812cfcf4a25bec8dc1d2e6a18ca": {
          "model_module": "@jupyter-widgets/controls",
          "model_module_version": "1.5.0",
          "model_name": "ProgressStyleModel",
          "state": {
            "_model_module": "@jupyter-widgets/controls",
            "_model_module_version": "1.5.0",
            "_model_name": "ProgressStyleModel",
            "_view_count": null,
            "_view_module": "@jupyter-widgets/base",
            "_view_module_version": "1.2.0",
            "_view_name": "StyleView",
            "bar_color": null,
            "description_width": ""
          }
        },
        "9215306114b24fffa4223f896cd50e1d": {
          "model_module": "@jupyter-widgets/base",
          "model_module_version": "1.2.0",
          "model_name": "LayoutModel",
          "state": {
            "_model_module": "@jupyter-widgets/base",
            "_model_module_version": "1.2.0",
            "_model_name": "LayoutModel",
            "_view_count": null,
            "_view_module": "@jupyter-widgets/base",
            "_view_module_version": "1.2.0",
            "_view_name": "LayoutView",
            "align_content": null,
            "align_items": null,
            "align_self": null,
            "border": null,
            "bottom": null,
            "display": null,
            "flex": null,
            "flex_flow": null,
            "grid_area": null,
            "grid_auto_columns": null,
            "grid_auto_flow": null,
            "grid_auto_rows": null,
            "grid_column": null,
            "grid_gap": null,
            "grid_row": null,
            "grid_template_areas": null,
            "grid_template_columns": null,
            "grid_template_rows": null,
            "height": null,
            "justify_content": null,
            "justify_items": null,
            "left": null,
            "margin": null,
            "max_height": null,
            "max_width": null,
            "min_height": null,
            "min_width": null,
            "object_fit": null,
            "object_position": null,
            "order": null,
            "overflow": null,
            "overflow_x": null,
            "overflow_y": null,
            "padding": null,
            "right": null,
            "top": null,
            "visibility": null,
            "width": null
          }
        },
        "b1c5b6d6f4244c02964caa104dc0b170": {
          "model_module": "@jupyter-widgets/base",
          "model_module_version": "1.2.0",
          "model_name": "LayoutModel",
          "state": {
            "_model_module": "@jupyter-widgets/base",
            "_model_module_version": "1.2.0",
            "_model_name": "LayoutModel",
            "_view_count": null,
            "_view_module": "@jupyter-widgets/base",
            "_view_module_version": "1.2.0",
            "_view_name": "LayoutView",
            "align_content": null,
            "align_items": null,
            "align_self": null,
            "border": null,
            "bottom": null,
            "display": null,
            "flex": null,
            "flex_flow": null,
            "grid_area": null,
            "grid_auto_columns": null,
            "grid_auto_flow": null,
            "grid_auto_rows": null,
            "grid_column": null,
            "grid_gap": null,
            "grid_row": null,
            "grid_template_areas": null,
            "grid_template_columns": null,
            "grid_template_rows": null,
            "height": null,
            "justify_content": null,
            "justify_items": null,
            "left": null,
            "margin": null,
            "max_height": null,
            "max_width": null,
            "min_height": null,
            "min_width": null,
            "object_fit": null,
            "object_position": null,
            "order": null,
            "overflow": null,
            "overflow_x": null,
            "overflow_y": null,
            "padding": null,
            "right": null,
            "top": null,
            "visibility": null,
            "width": null
          }
        },
        "c74c928ca40d4215b600f617578c10b3": {
          "model_module": "@jupyter-widgets/controls",
          "model_module_version": "1.5.0",
          "model_name": "FloatProgressModel",
          "state": {
            "_dom_classes": [],
            "_model_module": "@jupyter-widgets/controls",
            "_model_module_version": "1.5.0",
            "_model_name": "FloatProgressModel",
            "_view_count": null,
            "_view_module": "@jupyter-widgets/controls",
            "_view_module_version": "1.5.0",
            "_view_name": "ProgressView",
            "bar_style": "success",
            "description": "",
            "description_tooltip": null,
            "layout": "IPY_MODEL_b1c5b6d6f4244c02964caa104dc0b170",
            "max": 509663,
            "min": 0,
            "orientation": "horizontal",
            "style": "IPY_MODEL_80e40812cfcf4a25bec8dc1d2e6a18ca",
            "value": 509663
          }
        }
      }
    }
  },
  "nbformat": 4,
  "nbformat_minor": 0
}
