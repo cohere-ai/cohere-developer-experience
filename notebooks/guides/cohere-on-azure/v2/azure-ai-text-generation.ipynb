{
 "cells": [
  {
   "cell_type": "markdown",
   "metadata": {},
   "source": [
    "# Text Generation"
   ]
  },
  {
   "cell_type": "markdown",
   "metadata": {},
   "source": [
    "In this tutorial, we'll explore text generation using Cohere's Command model. Text generation is a fundamental capability that enables LLMs to generate text for various applications, such as providing detailed responses to questions, helping with writing and editing tasks, creating conversational responses, and assisting with code generation and documentation.\n",
    "\n",
    "In this tutorial, we'll cover:\n",
    "- Setting up the Cohere client\n",
    "- Basic text generation\n",
    "- Other typical use cases\n",
    "- Building a chatbot\n",
    "\n",
    "We'll use Cohere's Command model deployed on Azure to demonstrate these capabilities and help you understand how to effectively use text generation in your applications."
   ]
  },
  {
   "cell_type": "markdown",
   "metadata": {},
   "source": [
    "## Setup"
   ]
  },
  {
   "cell_type": "markdown",
   "metadata": {},
   "source": [
    "First, you will need to deploy the Command model on Azure via Azure AI Foundry. The deployment will create a serverless API with pay-as-you-go token based billing. You can find more information on how to deploy models in the [Azure documentation](https://learn.microsoft.com/en-us/azure/ai-studio/how-to/deploy-models-serverless?tabs=azure-ai-studio).\n",
    "\n",
    "In the example below, we are deploying the Command R+ (August 2024) model.\n",
    "\n",
    "Once the model is deployed, you can access it via Cohere's Python SDK. Let's now install the Cohere SDK and set up our client.\n",
    "\n",
    "To create a client, you need to provide the API key and the model's base URL for the Azure endpoint. You can get these information from the Azure AI Foundry platform where you deployed the model."
   ]
  },
  {
   "cell_type": "code",
   "execution_count": 1,
   "metadata": {},
   "outputs": [],
   "source": [
    "# %pip install cohere\n",
    "import cohere\n",
    "\n",
    "co = cohere.ClientV2(\n",
    "  api_key=\"AZURE_API_KEY_CHAT\",\n",
    "  base_url=\"AZURE_ENDPOINT_CHAT\" # example: \"https://cohere-command-r-plus-08-2024-xyz.eastus.models.ai.azure.com/\"\n",
    ")"
   ]
  },
  {
   "cell_type": "markdown",
   "metadata": {},
   "source": [
    "## Creating some contextual information"
   ]
  },
  {
   "cell_type": "markdown",
   "metadata": {},
   "source": [
    "Before we begin, let's create some context to use in our text generation tasks. In this example, we'll use a set of technical support frequently asked questions (FAQs) as our context."
   ]
  },
  {
   "cell_type": "code",
   "execution_count": 2,
   "metadata": {},
   "outputs": [],
   "source": [
    "# Technical support FAQ\n",
    "faq_tech_support = \"\"\"- Question: How do I set up my new smartphone with my mobile plan?\n",
    "- Answer:\n",
    "  - Insert your SIM card into the device.\n",
    "  - Turn on your phone and follow the on-screen setup instructions.\n",
    "  - Connect to your mobile network and enter your account details when prompted.\n",
    "  - Download and install any necessary apps or updates.\n",
    "  - Contact customer support if you need further assistance.\n",
    "\n",
    "- Question: My internet connection is slow. How can I improve my mobile data speed?\n",
    "- Answer:\n",
    "  - Check your signal strength and move to an area with better coverage.\n",
    "  - Restart your device and try connecting again.\n",
    "  - Ensure your data plan is active and has sufficient data.\n",
    "  - Consider upgrading your plan for faster speeds.\n",
    "\n",
    "- Question: I can't connect to my mobile network. What should I do?\n",
    "- Answer:\n",
    "  - Check your SIM card is inserted correctly and not damaged.\n",
    "  - Restart your device and try connecting again.\n",
    "  - Ensure your account is active and not suspended.\n",
    "  - Check for any network outages in your area.\n",
    "  - Contact customer support for further assistance.\n",
    "\n",
    "- Question: How do I set up my voicemail?\n",
    "- Answer:\n",
    "  - Dial your voicemail access number (usually provided by your carrier).\n",
    "  - Follow the prompts to set up your voicemail greeting and password.\n",
    "  - Record your voicemail greeting and save it.\n",
    "  - Test your voicemail by calling your number and leaving a message.\n",
    "\n",
    "- Question: I'm having trouble sending text messages. What could be the issue?\n",
    "- Answer:\n",
    "  - Check your signal strength and move to an area with better coverage.\n",
    "  - Ensure your account has sufficient credit or an active plan.\n",
    "  - Restart your device and try sending a message again.\n",
    "  - Check your message settings and ensure they are correct.\n",
    "  - Contact customer support if the issue persists.\"\"\""
   ]
  },
  {
   "cell_type": "markdown",
   "metadata": {},
   "source": [
    "## Helper function to generate text"
   ]
  },
  {
   "cell_type": "markdown",
   "metadata": {},
   "source": [
    "Now, let's define a function to generate text using the Command R+ model on Bedrock. We’ll use this function a few times throughout.\n",
    "\n",
    "This function takes a user message and generates the response via the chat endpoint. Note that we don't need to specify the model as we have already set it up in the client.\n",
    "\n",
    "Let's also set the `max_tokens` parameter. This parameter controls the maximum number of tokens (words) the model can generate."
   ]
  },
  {
   "cell_type": "code",
   "execution_count": 3,
   "metadata": {},
   "outputs": [],
   "source": [
    "def generate_text(message):\n",
    "    response = co.chat(\n",
    "        model=\"model\", # Pass a dummy string\n",
    "        messages=[{\"role\": \"user\", \"content\": message}])\n",
    "    return response"
   ]
  },
  {
   "cell_type": "markdown",
   "metadata": {},
   "source": [
    "## Text generation"
   ]
  },
  {
   "cell_type": "markdown",
   "metadata": {},
   "source": [
    "Let's explore basic text generation as our first use case. The model takes a prompt as input and produces a relevant response as output.\n",
    "\n",
    "Consider a scenario where a customer support agent uses an LLM to help draft responses to customer inquiries. The agent provides technical support FAQs as context along with the customer's question. The prompt is structured to include three components: the instruction, the context (FAQs), and the specific customer inquiry.\n",
    "\n",
    "After passing this prompt to our `generate_text` function, we receive a response object. The actual generated text can be accessed through the `response.text` attribute.\n",
    "\n"
   ]
  },
  {
   "cell_type": "code",
   "execution_count": 5,
   "metadata": {},
   "outputs": [
    {
     "name": "stdout",
     "output_type": "stream",
     "text": [
      "It's quite common to experience occasional fluctuations in mobile network performance, and there are a few steps you can take to address this issue. \n",
      "\n",
      "First, check your signal strength and consider moving to a different location with better coverage. Sometimes, even a small change in position can improve your connection. If you find that you're in an area with low signal strength, this could be the primary reason for the slow data speeds. \n",
      "\n",
      "Next, try restarting your device. A simple restart can often resolve temporary glitches and improve your connection. After restarting, ensure that your data plan is active and has enough data allocated for your usage. If you're close to reaching your data limit, this could also impact your speeds. \n",
      "\n",
      "You can also consider the following:\n",
      "- Check for any active updates for your device's operating system and install them. These updates often include performance enhancements and bug fixes.\n",
      "- If you use a phone case or screen protector, ensure they are not interfering with the device's signal reception.\n",
      "- Check your data usage and see if any applications are consuming a significant amount of data in the background. You can restrict background data usage for specific apps to optimize your overall data speeds.\n",
      "\n",
      "If the issue persists, it might be worth contacting your mobile network provider. They can check for any network-related issues in your area and provide further guidance or technical support.\n"
     ]
    }
   ],
   "source": [
    "inquiry = \"I've noticed some fluctuations in my mobile network's performance recently.The connection seems stable most of the time, but every now and then, I experience brief periods of slow data speeds. It happens a few times a day and is quite inconvenient.\"\n",
    "\n",
    "prompt = f\"\"\"Use the FAQs below to provide a concise response to this customer inquiry.\n",
    "\n",
    "# Customer inquiry\n",
    "{inquiry}\n",
    "\n",
    "# FAQs\n",
    "{faq_tech_support}\"\"\"\n",
    "\n",
    "response = generate_text(prompt)\n",
    "\n",
    "print(response.message.content[0].text)"
   ]
  },
  {
   "cell_type": "markdown",
   "metadata": {},
   "source": [
    "## Text summarization"
   ]
  },
  {
   "cell_type": "markdown",
   "metadata": {},
   "source": [
    "Another type of use case is text summarization. Now, let's summarize the customer inquiry into a single sentence. We add an instruction to the prompt and then pass the inquiry to the prompt."
   ]
  },
  {
   "cell_type": "code",
   "execution_count": 6,
   "metadata": {},
   "outputs": [
    {
     "name": "stdout",
     "output_type": "stream",
     "text": [
      "A customer is experiencing intermittent slow data speeds on their mobile network several times a day.\n"
     ]
    }
   ],
   "source": [
    "prompt=f\"\"\"Summarize this customer inquiry into one short sentence.\n",
    "\n",
    "Inquiry: {inquiry}\"\"\"\n",
    "\n",
    "response = generate_text(prompt)\n",
    "\n",
    "print(response.message.content[0].text)"
   ]
  },
  {
   "cell_type": "markdown",
   "metadata": {},
   "source": [
    "## Text rewriting"
   ]
  },
  {
   "cell_type": "markdown",
   "metadata": {},
   "source": [
    "Text rewriting is a powerful capability that allows us to adapt content for different purposes while preserving the core message. This involves transforming the style, tone, or format of text to better suit the target audience or medium.\n",
    "\n",
    "Let's look at an example where we convert a customer support chat response into a formal email. We'll construct the prompt by first stating our goal to rewrite the text, then providing the original chat response as context."
   ]
  },
  {
   "cell_type": "code",
   "execution_count": 7,
   "metadata": {},
   "outputs": [
    {
     "name": "stdout",
     "output_type": "stream",
     "text": [
      "Subject: Troubleshooting Slow Data Speeds and Network Connection Issues\n",
      "\n",
      "Dear [Customer's Name],\n",
      "\n",
      "I hope this email finds you well. I understand that you may be facing some challenges with your mobile network, including slow data speeds and text messaging difficulties. Here are some recommended troubleshooting steps to help resolve these issues:\n",
      "\n",
      "- Signal Strength: Check the signal strength on your device and move to a different location with better network coverage. Sometimes, a simple change in position can significantly improve your connection.\n",
      "\n",
      "- Restart Your Device: Power cycle your device by turning it off and then on again. After restarting, try connecting to the network once more to see if the issue persists.\n",
      "\n",
      "- Account Status: Verify that your account is active and in good standing. Occasionally, temporary suspensions or account-related issues can cause connectivity problems.\n",
      "\n",
      "- Contact Customer Support: If the above steps do not resolve the issue, please reach out to our customer support team for further assistance. We can help you with additional troubleshooting and guide you through any necessary account or plan updates to enhance your network performance.\n",
      "\n",
      "Please let us know if these troubleshooting steps were helpful. We are committed to ensuring your mobile experience is seamless and enjoyable. Feel free to reply to this email if you require any additional support or have further questions.\n",
      "\n",
      "Best regards,\n",
      "\n",
      "[Your Name]\n",
      "[Customer Support Agent]\n",
      "[Company Name]\n"
     ]
    }
   ],
   "source": [
    "prompt=f\"\"\"Rewrite this customer support agent response into an email format, ready to send to the customer.\n",
    "\n",
    "If you're experiencing brief periods of slow data speeds or difficulty sending text messages and connecting to your mobile network, here are some troubleshooting steps you can follow:\n",
    "\n",
    "1. Check your signal strength - Move to an area with better coverage.\n",
    "2. Restart your device and try connecting again.\n",
    "3. Ensure your account is active and not suspended.\n",
    "4. Contact customer support for further assistance. (This can include updating your plan for better network performance.)\n",
    "\n",
    "Did these steps help resolve the issue? Let me know if you need further assistance.\"\"\"\n",
    "\n",
    "response = generate_text(prompt)\n",
    "\n",
    "print(response.message.content[0].text)"
   ]
  },
  {
   "cell_type": "markdown",
   "metadata": {},
   "source": [
    "## Build a Chatbot"
   ]
  },
  {
   "cell_type": "markdown",
   "metadata": {},
   "source": [
    "While our previous examples were single-turn interactions, the Chat endpoint enables us to create chatbots that maintain memory of past conversation turns. This capability allows developers to build conversational applications that preserve context throughout the dialogue.\n",
    "\n",
    "Below, we implement a basic customer support chatbot that acts as a helpful service agent. We'll create a function called run_chatbot that handles the conversation flow and displays messages and events. The function can take an optional chat history parameter to maintain conversational context across multiple turns.\n",
    "\n",
    "For this, we introduce a couple of additional parameters to the Chat endpoint:\n",
    "\n",
    "- `preamble`: A preamble contains instructions to help steer a chatbot’s response toward specific characteristics, such as a persona, style, or format. Here, we are using a simple preamble: “You are a helpful customer support agent that assists customers of a mobile network service.”\n",
    "- `chat_history`: We store the history of a conversation between a user and the chatbot as a list, append every new conversation turn, and pass this information to the next endpoint call."
   ]
  },
  {
   "cell_type": "code",
   "execution_count": 8,
   "metadata": {},
   "outputs": [],
   "source": [
    "# Define a preamble\n",
    "system_message = \"\"\"## Task and Context\n",
    "You are a helpful customer support agent that assists customers of a mobile network service.\"\"\"\n",
    "\n",
    "# Run the chatbot\n",
    "def run_chatbot(message, messages=None):\n",
    "    if messages is None:\n",
    "        messages = []\n",
    "        \n",
    "    if \"system\" not in {m.get(\"role\") for m in messages}:\n",
    "        messages.append({\"role\": \"system\", \"content\": system_message})\n",
    "        \n",
    "    messages.append({\"role\": \"user\", \"content\": message})\n",
    "    \n",
    "    response = co.chat(\n",
    "        model=\"model\",  # Pass a dummy string\n",
    "        messages=messages,\n",
    "    )\n",
    "    \n",
    "    messages.append({\"role\": \"assistant\", \"content\": response.message.content[0].text})\n",
    "    \n",
    "    print(response.message.content[0].text)\n",
    "                \n",
    "    return messages"
   ]
  },
  {
   "cell_type": "code",
   "execution_count": 9,
   "metadata": {},
   "outputs": [
    {
     "name": "stdout",
     "output_type": "stream",
     "text": [
      "Hello there! I'd be happy to assist you with this issue. Network performance fluctuations can be concerning, and it's important to identify the cause to ensure you have a smooth experience. \n",
      "\n",
      "Can you tell me more about the problems you've been experiencing? Are there specific times or locations where the network seems to perform poorly? Any details you can provide will help me understand the situation better and offer potential solutions.\n"
     ]
    }
   ],
   "source": [
    "messages = run_chatbot(\"Hi. I've noticed some fluctuations in my mobile network's performance recently.\")"
   ]
  },
  {
   "cell_type": "code",
   "execution_count": 10,
   "metadata": {},
   "outputs": [
    {
     "name": "stdout",
     "output_type": "stream",
     "text": [
      "I'm sorry to hear that you're experiencing slow data speeds. Here are some troubleshooting steps and tips to help improve your network performance:\n",
      "\n",
      "- **Check Network Coverage:** First, ensure that you are in an area with good network coverage. You can check the coverage map provided by your mobile network service on their website. If you're in a location with known weak signal strength, moving to a different area might improve your data speed.\n",
      "\n",
      "- **Restart Your Device:** Sometimes, a simple restart of your mobile device can help refresh the network connection. Power off your device, wait for a few moments, and then turn it back on.\n",
      "\n",
      "- **Check for Network Updates:** Make sure your device is running the latest software and carrier settings. Updates often include improvements and optimizations for network performance. You can check for updates in your device's settings.\n",
      "\n",
      "- **Manage Network Settings:**\n",
      "   - *Network Mode:* Try switching to a different network mode (e.g., 4G/LTE, 3G) to see if a specific network band provides better speed.\n",
      "   - *Airplane Mode:* Toggle Airplane mode on and off to reconnect to the network.\n",
      "   - *Network Reset:* If the issue persists, you can try resetting your network settings, but note that this will erase saved Wi-Fi passwords.\n",
      "\n",
      "- **Contact Customer Support:** If the problem continues, it might be beneficial to contact your mobile network's customer support team. They can check for any known issues in your area and provide further assistance. They might also guide you through advanced troubleshooting steps.\n",
      "\n",
      "- **Consider Network Congestion:** Slow data speeds can sometimes occur during peak usage hours when the network is congested. Try using data-intensive apps during off-peak hours to see if that makes a difference.\n",
      "\n",
      "- **Check Background Apps:** Certain apps running in the background can consume data and impact speed. Close any unnecessary apps to free up resources.\n",
      "\n",
      "If the slow data speed persists despite these measures, it's advisable to reach out to your mobile network provider for further investigation and assistance. They can provide network-specific solutions and ensure you're getting the service you expect.\n"
     ]
    }
   ],
   "source": [
    "messages = run_chatbot(\"At times, the data speed is very poor. What should I do?\", messages)"
   ]
  },
  {
   "cell_type": "code",
   "execution_count": 11,
   "metadata": {},
   "outputs": [
    {
     "name": "stdout",
     "output_type": "stream",
     "text": [
      "You're welcome! Here are some additional steps and factors to consider:\n",
      "\n",
      "- **Device Health:** Ensure your device is in good working condition. An older device or one with hardware issues might struggle to maintain a fast data connection. Consider checking for any pending system updates that could optimize your device's performance.\n",
      "\n",
      "- **SIM Card:** Try removing and reinserting your SIM card to ensure it is properly seated. A loose connection can impact network performance. If the issue persists, it might be worth asking your network provider for a SIM replacement.\n",
      "\n",
      "- **Network Congestion at Specific Times:** Network speed can vary depending on the time of day. If possible, monitor your data speed during different parts of the day to identify any patterns. This can help determine if network congestion during peak hours is the primary cause.\n",
      "\n",
      "- **Data Plan and Throttling:** Check your mobile data plan to ensure you haven't exceeded any data limits, which could result in reduced speeds. Some providers throttle speeds after a certain data threshold is reached.\n",
      "\n",
      "- **Background Updates and Downloads:** Certain apps might be set to update or download content in the background, consuming data and potentially slowing down your connection. Review your app settings and consider disabling automatic updates or background data usage for apps that don't require real-time updates.\n",
      "\n",
      "- **Network Diagnostics Tools:** Some mobile devices have built-in network diagnostics tools that can provide insights into your connection. These tools can help identify issues with signal strength, network latency, and more.\n",
      "\n",
      "- **Wi-Fi Calling and Data Usage:** If your device supports Wi-Fi calling, ensure it is enabled. This can offload some data usage from the cellular network, potentially improving speeds.\n",
      "\n",
      "- **Network Provider's App:** Download and install your mobile network provider's official app, if available. These apps often provide real-time network status updates and allow you to report issues directly.\n",
      "\n",
      "If you've gone through these checks and the problem persists, contacting your network provider's technical support team is the next best step. They can provide further guidance based on your specific situation.\n"
     ]
    }
   ],
   "source": [
    "messages = run_chatbot(\"Thanks. What else can I check?\", messages)"
   ]
  },
  {
   "cell_type": "markdown",
   "metadata": {},
   "source": [
    "### View the chat history"
   ]
  },
  {
   "cell_type": "markdown",
   "metadata": {},
   "source": [
    "Here's what is contained in the chat history after a few turns."
   ]
  },
  {
   "cell_type": "code",
   "execution_count": 12,
   "metadata": {},
   "outputs": [
    {
     "name": "stdout",
     "output_type": "stream",
     "text": [
      "Chat history:\n",
      "{'role': 'system', 'content': '## Task and Context\\nYou are a helpful customer support agent that assists customers of a mobile network service.'} \n",
      "\n",
      "{'role': 'user', 'content': \"Hi. I've noticed some fluctuations in my mobile network's performance recently.\"} \n",
      "\n",
      "{'role': 'assistant', 'content': \"Hello there! I'd be happy to assist you with this issue. Network performance fluctuations can be concerning, and it's important to identify the cause to ensure you have a smooth experience. \\n\\nCan you tell me more about the problems you've been experiencing? Are there specific times or locations where the network seems to perform poorly? Any details you can provide will help me understand the situation better and offer potential solutions.\"} \n",
      "\n",
      "{'role': 'user', 'content': 'At times, the data speed is very poor. What should I do?'} \n",
      "\n",
      "{'role': 'assistant', 'content': \"I'm sorry to hear that you're experiencing slow data speeds. Here are some troubleshooting steps and tips to help improve your network performance:\\n\\n- **Check Network Coverage:** First, ensure that you are in an area with good network coverage. You can check the coverage map provided by your mobile network service on their website. If you're in a location with known weak signal strength, moving to a different area might improve your data speed.\\n\\n- **Restart Your Device:** Sometimes, a simple restart of your mobile device can help refresh the network connection. Power off your device, wait for a few moments, and then turn it back on.\\n\\n- **Check for Network Updates:** Make sure your device is running the latest software and carrier settings. Updates often include improvements and optimizations for network performance. You can check for updates in your device's settings.\\n\\n- **Manage Network Settings:**\\n   - *Network Mode:* Try switching to a different network mode (e.g., 4G/LTE, 3G) to see if a specific network band provides better speed.\\n   - *Airplane Mode:* Toggle Airplane mode on and off to reconnect to the network.\\n   - *Network Reset:* If the issue persists, you can try resetting your network settings, but note that this will erase saved Wi-Fi passwords.\\n\\n- **Contact Customer Support:** If the problem continues, it might be beneficial to contact your mobile network's customer support team. They can check for any known issues in your area and provide further assistance. They might also guide you through advanced troubleshooting steps.\\n\\n- **Consider Network Congestion:** Slow data speeds can sometimes occur during peak usage hours when the network is congested. Try using data-intensive apps during off-peak hours to see if that makes a difference.\\n\\n- **Check Background Apps:** Certain apps running in the background can consume data and impact speed. Close any unnecessary apps to free up resources.\\n\\nIf the slow data speed persists despite these measures, it's advisable to reach out to your mobile network provider for further investigation and assistance. They can provide network-specific solutions and ensure you're getting the service you expect.\"} \n",
      "\n",
      "{'role': 'user', 'content': 'Thanks. What else can I check?'} \n",
      "\n",
      "{'role': 'assistant', 'content': \"You're welcome! Here are some additional steps and factors to consider:\\n\\n- **Device Health:** Ensure your device is in good working condition. An older device or one with hardware issues might struggle to maintain a fast data connection. Consider checking for any pending system updates that could optimize your device's performance.\\n\\n- **SIM Card:** Try removing and reinserting your SIM card to ensure it is properly seated. A loose connection can impact network performance. If the issue persists, it might be worth asking your network provider for a SIM replacement.\\n\\n- **Network Congestion at Specific Times:** Network speed can vary depending on the time of day. If possible, monitor your data speed during different parts of the day to identify any patterns. This can help determine if network congestion during peak hours is the primary cause.\\n\\n- **Data Plan and Throttling:** Check your mobile data plan to ensure you haven't exceeded any data limits, which could result in reduced speeds. Some providers throttle speeds after a certain data threshold is reached.\\n\\n- **Background Updates and Downloads:** Certain apps might be set to update or download content in the background, consuming data and potentially slowing down your connection. Review your app settings and consider disabling automatic updates or background data usage for apps that don't require real-time updates.\\n\\n- **Network Diagnostics Tools:** Some mobile devices have built-in network diagnostics tools that can provide insights into your connection. These tools can help identify issues with signal strength, network latency, and more.\\n\\n- **Wi-Fi Calling and Data Usage:** If your device supports Wi-Fi calling, ensure it is enabled. This can offload some data usage from the cellular network, potentially improving speeds.\\n\\n- **Network Provider's App:** Download and install your mobile network provider's official app, if available. These apps often provide real-time network status updates and allow you to report issues directly.\\n\\nIf you've gone through these checks and the problem persists, contacting your network provider's technical support team is the next best step. They can provide further guidance based on your specific situation.\"} \n",
      "\n"
     ]
    }
   ],
   "source": [
    "print(\"Chat history:\")\n",
    "for message in messages:\n",
    "    print(message, \"\\n\")"
   ]
  },
  {
   "cell_type": "markdown",
   "metadata": {},
   "source": [
    "## Summary"
   ]
  },
  {
   "cell_type": "markdown",
   "metadata": {},
   "source": [
    "In this tutorial, we learned about:\n",
    "- How to set up the Cohere client to use the Command model deployed on Azure AI Foundry\n",
    "- How to perform basic text generation\n",
    "- How to use the model for other types of use cases\n",
    "- How to build a chatbot using the Chat endpoint\n",
    "\n",
    "In the next tutorial, we'll explore how to use the Embed model in semantic search applications."
   ]
  },
  {
   "cell_type": "markdown",
   "metadata": {},
   "source": []
  }
 ],
 "metadata": {
  "kernelspec": {
   "display_name": "base",
   "language": "python",
   "name": "base"
  },
  "language_info": {
   "codemirror_mode": {
    "name": "ipython",
    "version": 3
   },
   "file_extension": ".py",
   "mimetype": "text/x-python",
   "name": "python",
   "nbconvert_exporter": "python",
   "pygments_lexer": "ipython3",
   "version": "3.11.4"
  }
 },
 "nbformat": 4,
 "nbformat_minor": 2
}
