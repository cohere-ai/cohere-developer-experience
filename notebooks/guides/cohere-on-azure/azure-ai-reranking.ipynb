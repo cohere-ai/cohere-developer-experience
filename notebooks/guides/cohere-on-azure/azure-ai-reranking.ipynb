{
 "cells": [
  {
   "cell_type": "markdown",
   "metadata": {},
   "source": [
    "# Reranking"
   ]
  },
  {
   "cell_type": "markdown",
   "metadata": {},
   "source": [
    "Reranking is a crucial technique used in information retrieval systems, particularly for large-scale search applications. The process involves taking an initial set of retrieved documents and reordering them based on how relevant they are to the user's search query.\n",
    "\n",
    "One of the most compelling aspects of reranking is its ease of implementation - despite providing substantial improvements to search results, Cohere's Rerank models can be integrated into any existing search system with just a single line of code, regardless of whether it uses semantic or traditional keyword-based search approaches.\n",
    "\n",
    "In this tutorial, we'll cover:\n",
    "- Setting up the Cohere client\n",
    "- Retrieving documents\n",
    "- Reranking documents\n",
    "- Reranking semi structured data\n",
    "\n",
    "We'll use Cohere's Embed model deployed on Azure to demonstrate these capabilities and help you understand how to effectively implement semantic search in your applications."
   ]
  },
  {
   "cell_type": "markdown",
   "metadata": {},
   "source": [
    "## Setup"
   ]
  },
  {
   "cell_type": "markdown",
   "metadata": {},
   "source": [
    "First, you will need to deploy the Rerank model on Azure via Azure AI Foundry. The deployment will create a serverless API with pay-as-you-go token based billing. You can find more information on how to deploy models in the [Azure documentation](https://learn.microsoft.com/en-us/azure/ai-studio/how-to/deploy-models-serverless?tabs=azure-ai-studio).\n",
    "\n",
    "In the example below, we are deploying the Rerank Multilingual v3 model.\n",
    "\n",
    "Once the model is deployed, you can access it via Cohere's Python SDK. Let's now install the Cohere SDK and set up our client.\n",
    "\n",
    "To create a client, you need to provide the API key and the model's base URL for the Azure endpoint. You can get these information from the Azure AI Foundry platform where you deployed the model."
   ]
  },
  {
   "cell_type": "code",
   "execution_count": 1,
   "metadata": {},
   "outputs": [],
   "source": [
    "# ! pip install cohere\n",
    "\n",
    "import cohere\n",
    "\n",
    "co = cohere.Client(\n",
    "    api_key=\"AZURE_API_KEY_RERANK\",\n",
    "    base_url=\"AZURE_ENDPOINT_RERANK\" # example: \"https://cohere-rerank-v3-multilingual-xyz.eastus.models.ai.azure.com/\"\n",
    ")"
   ]
  },
  {
   "cell_type": "markdown",
   "metadata": {},
   "source": [
    "## Retrieve documents"
   ]
  },
  {
   "cell_type": "markdown",
   "metadata": {},
   "source": [
    "For this example, we'll work with documents that have already been retrieved through an initial search stage (which could be semantic search, keyword matching, or another retrieval method).\n",
    "\n",
    "Below is a list of nine documents representing the initial search results. Each document contains email data structured as a dictionary with two fields - Title and Content. This semi-structured format allows the Rerank endpoint to effectively process and reorder the results based on relevance."
   ]
  },
  {
   "cell_type": "code",
   "execution_count": 3,
   "metadata": {},
   "outputs": [],
   "source": [
    "documents = [\n",
    "    {\"Title\":\"Incorrect Password\",\"Content\":\"Hello, I have been trying to access my account for the past hour and it keeps saying my password is incorrect. Can you please help me?\"},\n",
    "    {\"Title\":\"Confirmation Email Missed\",\"Content\":\"Hi, I recently purchased a product from your website but I never received a confirmation email. Can you please look into this for me?\"},\n",
    "    {\"Title\":\"Questions about Return Policy\",\"Content\":\"Hello, I have a question about the return policy for this product. I purchased it a few weeks ago and it is defective.\"},\n",
    "    {\"Title\":\"Customer Support is Busy\",\"Content\":\"Good morning, I have been trying to reach your customer support team for the past week but I keep getting a busy signal. Can you please help me?\"},\n",
    "    {\"Title\":\"Received Wrong Item\",\"Content\":\"Hi, I have a question about my recent order. I received the wrong item and I need to return it.\"},\n",
    "    {\"Title\":\"Customer Service is Unavailable\",\"Content\":\"Hello, I have been trying to reach your customer support team for the past hour but I keep getting a busy signal. Can you please help me?\"},\n",
    "    {\"Title\":\"Return Policy for Defective Product\",\"Content\":\"Hi, I have a question about the return policy for this product. I purchased it a few weeks ago and it is defective.\"},\n",
    "    {\"Title\":\"Wrong Item Received\",\"Content\":\"Good morning, I have a question about my recent order. I received the wrong item and I need to return it.\"},\n",
    "    {\"Title\":\"Return Defective Product\",\"Content\":\"Hello, I have a question about the return policy for this product. I purchased it a few weeks ago and it is defective.\"}\n",
    "]"
   ]
  },
  {
   "cell_type": "markdown",
   "metadata": {},
   "source": [
    "## Rerank documents"
   ]
  },
  {
   "cell_type": "markdown",
   "metadata": {},
   "source": [
    "Adding a reranking component is simple with Cohere Rerank. It takes just one line of code to implement.\n",
    "\n",
    "Calling the Rerank endpoint requires the following arguments:\n",
    "\n",
    "- `documents`: The list of documents, which we defined in the previous section\n",
    "- `query`: The user query; we’ll use 'What emails have been about refunds?' as an example\n",
    "- `top_n`:  The number of documents we want to be returned, sorted from the most to the least relevant document\n",
    "\n",
    "When passing documents that contain multiple fields like in this case, for best performance we recommend formatting them as YAML strings.\n",
    "\n"
   ]
  },
  {
   "cell_type": "code",
   "execution_count": 4,
   "metadata": {},
   "outputs": [],
   "source": [
    "import yaml\n",
    "\n",
    "yaml_docs = [yaml.dump(doc, sort_keys=False) for doc in documents] \n",
    "\n",
    "query = 'What emails have been about refunds?'\n",
    "\n",
    "results = co.rerank(\n",
    "    documents=yaml_docs,\n",
    "    query=query,\n",
    "    top_n=3\n",
    ")"
   ]
  },
  {
   "cell_type": "markdown",
   "metadata": {},
   "source": [
    "Since we set `top_n=3`, the response will return the three documents most relevant to our query. Each result includes both the document's original position (index) in our input list and a score indicating how well it matches the query.\n",
    "\n",
    "Let's examine the reranked results below.\n"
   ]
  },
  {
   "cell_type": "code",
   "execution_count": 5,
   "metadata": {},
   "outputs": [
    {
     "name": "stdout",
     "output_type": "stream",
     "text": [
      "Rank: 1\n",
      "Score: 8.547617e-05\n",
      "Document: {'Title': 'Return Defective Product', 'Content': 'Hello, I have a question about the return policy for this product. I purchased it a few weeks ago and it is defective.'}\n",
      "\n",
      "Rank: 2\n",
      "Score: 5.1442214e-05\n",
      "Document: {'Title': 'Questions about Return Policy', 'Content': 'Hello, I have a question about the return policy for this product. I purchased it a few weeks ago and it is defective.'}\n",
      "\n",
      "Rank: 3\n",
      "Score: 3.591301e-05\n",
      "Document: {'Title': 'Return Policy for Defective Product', 'Content': 'Hi, I have a question about the return policy for this product. I purchased it a few weeks ago and it is defective.'}\n",
      "\n"
     ]
    }
   ],
   "source": [
    "def return_results(results, documents):    \n",
    "    for idx, result in enumerate(results.results):\n",
    "        print(f\"Rank: {idx+1}\") \n",
    "        print(f\"Score: {result.relevance_score}\")\n",
    "        print(f\"Document: {documents[result.index]}\\n\")\n",
    "    \n",
    "return_results(results, documents)"
   ]
  },
  {
   "cell_type": "markdown",
   "metadata": {},
   "source": [
    "The search query was looking for emails about refunds. But none of the documents mention the word “refunds” specifically.\n",
    "\n",
    "However, the Rerank model was able to retrieve the right documents. Some of the documents mentioned the word “return”, which has a very similar meaning to \"refunds.\""
   ]
  },
  {
   "cell_type": "markdown",
   "metadata": {},
   "source": [
    "## Rerank semi structured data"
   ]
  },
  {
   "cell_type": "markdown",
   "metadata": {},
   "source": [
    "The Rerank 3 model supports multi-aspect and semi-structured data like emails, invoices, JSON documents, code, and tables. By setting the rank fields, you can select which fields the model should consider for reranking.\n",
    "\n",
    "In the following example, we’ll use an email data example. It is a semi-stuctured data that contains a number of fields – from, to, date, subject, and text.\n",
    "\n",
    "The model will rerank based on order of the fields passed."
   ]
  },
  {
   "cell_type": "code",
   "execution_count": 9,
   "metadata": {},
   "outputs": [],
   "source": [
    "# Define the documents\n",
    "emails = [\n",
    "    {\"from\": \"hr@co1t.com\", \"to\": \"david@co1t.com\", \"date\": \"2024-06-24\", \"subject\": \"A Warm Welcome to Co1t!\", \"text\": \"We are delighted to welcome you to the team! As you embark on your journey with us, you'll find attached an agenda to guide you through your first week.\"},\n",
    "    {\"from\": \"it@co1t.com\", \"to\": \"david@co1t.com\", \"date\": \"2024-06-24\", \"subject\": \"Setting Up Your IT Needs\", \"text\": \"Greetings! To ensure a seamless start, please refer to the attached comprehensive guide, which will assist you in setting up all your work accounts.\"},\n",
    "    {\"from\": \"john@co1t.com\", \"to\": \"david@co1t.com\", \"date\": \"2024-06-24\", \"subject\": \"First Week Check-In\", \"text\": \"Hello! I hope you're settling in well. Let's connect briefly tomorrow to discuss how your first week has been going. Also, make sure to join us for a welcoming lunch this Thursday at noon—it's a great opportunity to get to know your colleagues!\"}\n",
    "]\n",
    "\n",
    "yaml_emails = [yaml.dump(doc, sort_keys=False) for doc in emails]"
   ]
  },
  {
   "cell_type": "code",
   "execution_count": 11,
   "metadata": {},
   "outputs": [
    {
     "name": "stdout",
     "output_type": "stream",
     "text": [
      "Rank: 1\n",
      "Score: 0.13454832\n",
      "Document: from: john@co1t.com\n",
      "to: david@co1t.com\n",
      "date: '2024-06-24'\n",
      "subject: First Week Check-In\n",
      "text: \"Hello! I hope you're settling in well. Let's connect briefly tomorrow to discuss\\\n",
      "  \\ how your first week has been going. Also, make sure to join us for a welcoming\\\n",
      "  \\ lunch this Thursday at noon\\u2014it's a great opportunity to get to know your\\\n",
      "  \\ colleagues!\"\n",
      "\n",
      "\n",
      "Rank: 2\n",
      "Score: 0.0010044164\n",
      "Document: from: it@co1t.com\n",
      "to: david@co1t.com\n",
      "date: '2024-06-24'\n",
      "subject: Setting Up Your IT Needs\n",
      "text: Greetings! To ensure a seamless start, please refer to the attached comprehensive\n",
      "  guide, which will assist you in setting up all your work accounts.\n",
      "\n",
      "\n"
     ]
    }
   ],
   "source": [
    "# Add the user query\n",
    "query = \"Any email about check ins?\"\n",
    "\n",
    "# Rerank the documents\n",
    "results = co.rerank(\n",
    "    query=query,\n",
    "    documents=yaml_emails,\n",
    "    top_n=2,\n",
    ")\n",
    "\n",
    "return_results(results, yaml_emails)"
   ]
  },
  {
   "cell_type": "markdown",
   "metadata": {},
   "source": [
    "## Summary"
   ]
  },
  {
   "cell_type": "markdown",
   "metadata": {},
   "source": [
    "In this tutorial, we learned about:\n",
    "- How to set up the Cohere client to use the Rerank model deployed on Azure AI Foundry\n",
    "- How to retrieve documents\n",
    "- How to rerank documents\n",
    "- How to rerank semi structured data\n",
    "\n",
    "In the next tutorial, we'll learn how to build RAG applications by leveraging the models that we've looked at in the previous tutorials - Command, Embed, and Rerank."
   ]
  }
 ],
 "metadata": {
  "kernelspec": {
   "display_name": "base",
   "language": "python",
   "name": "base"
  },
  "language_info": {
   "codemirror_mode": {
    "name": "ipython",
    "version": 3
   },
   "file_extension": ".py",
   "mimetype": "text/x-python",
   "name": "python",
   "nbconvert_exporter": "python",
   "pygments_lexer": "ipython3",
   "version": "3.11.4"
  }
 },
 "nbformat": 4,
 "nbformat_minor": 2
}
