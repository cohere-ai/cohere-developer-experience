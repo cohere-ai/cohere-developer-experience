{
 "cells": [
  {
   "cell_type": "markdown",
   "metadata": {},
   "source": [
    "# Text Generation"
   ]
  },
  {
   "cell_type": "markdown",
   "metadata": {},
   "source": [
    "In this tutorial, we'll explore text generation using Cohere's Command model. Text generation is a fundamental capability that enables LLMs systems to generate text for various applications, such as providing detailed responses to questions, helping with writing and editing tasks, creating conversational responses, and assisting with code generation and documentation.\n",
    "\n",
    "In this tutorial, we'll cover:\n",
    "- Setting up the Cohere client\n",
    "- Basic text generation\n",
    "- Other typical use cases\n",
    "- Building a chatbot\n",
    "\n",
    "We'll use Cohere's Command model deployed on Azure to demonstrate these capabilities and help you understand how to effectively use text generation in your applications."
   ]
  },
  {
   "cell_type": "markdown",
   "metadata": {},
   "source": [
    "## Setup"
   ]
  },
  {
   "cell_type": "markdown",
   "metadata": {},
   "source": [
    "First, you will need to deploy the Command model on Azure via Azure AI Foundry. The deployment will create a serverless API with pay-as-you-go token based billing. You can find more information on how to deploy models in the [Azure documentation](https://learn.microsoft.com/en-us/azure/ai-studio/how-to/deploy-models-serverless?tabs=azure-ai-studio).\n",
    "\n",
    "In the example below, we are deploying the Command R+ (August 2024) model.\n",
    "\n",
    "Once the model is deployed, you can access it via Cohere's Python SDK. Let's now install the Cohere SDK and set up our client.\n",
    "\n",
    "To create a client, you need to provide the API key and the model's base URL for the Azure endpoint. You can get these information from the Azure AI Foundry platform where you deployed the model."
   ]
  },
  {
   "cell_type": "code",
   "execution_count": null,
   "metadata": {},
   "outputs": [],
   "source": [
    "# ! pip install cohere\n",
    "\n",
    "import cohere\n",
    "\n",
    "co = cohere.Client(\n",
    "  api_key=\"AZURE_API_KEY_CHAT\",\n",
    "  base_url=\"AZURE_ENDPOINT_CHAT\" # example: \"https://cohere-command-r-plus-08-2024-xyz.eastus.models.ai.azure.com/\"\n",
    ")"
   ]
  },
  {
   "cell_type": "markdown",
   "metadata": {},
   "source": [
    "## Creating some contextual information"
   ]
  },
  {
   "cell_type": "markdown",
   "metadata": {},
   "source": [
    "Before we begin, let's create some context to use in our text generation tasks. In this example, we'll use a set of technical support frequently asked questions (FAQs) as our context."
   ]
  },
  {
   "cell_type": "code",
   "execution_count": 7,
   "metadata": {},
   "outputs": [],
   "source": [
    "# Technical support FAQ\n",
    "faq_tech_support = \"\"\"- Question: How do I set up my new smartphone with my mobile plan?\n",
    "- Answer:\n",
    "  - Insert your SIM card into the device.\n",
    "  - Turn on your phone and follow the on-screen setup instructions.\n",
    "  - Connect to your mobile network and enter your account details when prompted.\n",
    "  - Download and install any necessary apps or updates.\n",
    "  - Contact customer support if you need further assistance.\n",
    "\n",
    "- Question: My internet connection is slow. How can I improve my mobile data speed?\n",
    "- Answer:\n",
    "  - Check your signal strength and move to an area with better coverage.\n",
    "  - Restart your device and try connecting again.\n",
    "  - Ensure your data plan is active and has sufficient data.\n",
    "  - Consider upgrading your plan for faster speeds.\n",
    "\n",
    "- Question: I can't connect to my mobile network. What should I do?\n",
    "- Answer:\n",
    "  - Check your SIM card is inserted correctly and not damaged.\n",
    "  - Restart your device and try connecting again.\n",
    "  - Ensure your account is active and not suspended.\n",
    "  - Check for any network outages in your area.\n",
    "  - Contact customer support for further assistance.\n",
    "\n",
    "- Question: How do I set up my voicemail?\n",
    "- Answer:\n",
    "  - Dial your voicemail access number (usually provided by your carrier).\n",
    "  - Follow the prompts to set up your voicemail greeting and password.\n",
    "  - Record your voicemail greeting and save it.\n",
    "  - Test your voicemail by calling your number and leaving a message.\n",
    "\n",
    "- Question: I'm having trouble sending text messages. What could be the issue?\n",
    "- Answer:\n",
    "  - Check your signal strength and move to an area with better coverage.\n",
    "  - Ensure your account has sufficient credit or an active plan.\n",
    "  - Restart your device and try sending a message again.\n",
    "  - Check your message settings and ensure they are correct.\n",
    "  - Contact customer support if the issue persists.\"\"\""
   ]
  },
  {
   "cell_type": "markdown",
   "metadata": {},
   "source": [
    "## Helper function to generate text"
   ]
  },
  {
   "cell_type": "markdown",
   "metadata": {},
   "source": [
    "Now, let's define a function to generate text using the Command R+ model on Bedrock. We’ll use this function a few times throughout.\n",
    "\n",
    "This function takes a user message and generates the response via the chat endpoint. Note that we don't need to specify the model as we have already set it up in the client."
   ]
  },
  {
   "cell_type": "code",
   "execution_count": 8,
   "metadata": {},
   "outputs": [],
   "source": [
    "def generate_text(message):\n",
    "    response = co.chat(\n",
    "        message=message\n",
    "    )\n",
    "    return response"
   ]
  },
  {
   "cell_type": "markdown",
   "metadata": {},
   "source": [
    "## Text generation"
   ]
  },
  {
   "cell_type": "markdown",
   "metadata": {},
   "source": [
    "Let's explore basic text generation as our first use case. The model takes a prompt as input and produces a relevant response as output.\n",
    "\n",
    "Consider a scenario where a customer support agent uses an LLM to help draft responses to customer inquiries. The agent provides technical support FAQs as context along with the customer's question. The prompt is structured to include three components: the instruction, the context (FAQs), and the specific customer inquiry.\n",
    "\n",
    "After passing this prompt to our `generate_text` function, we receive a response object. The actual generated text can be accessed through the `response.text` attribute.\n",
    "\n"
   ]
  },
  {
   "cell_type": "code",
   "execution_count": 9,
   "metadata": {},
   "outputs": [
    {
     "name": "stdout",
     "output_type": "stream",
     "text": [
      "It's quite common to experience occasional fluctuations in mobile network performance, and there are a few things you can try to address the slow data speeds you're encountering. \n",
      "\n",
      "First, check your signal strength. If the signal is weak, moving to a different location with better coverage might help. This is often the case in areas with high network traffic or physical obstructions like tall buildings. \n",
      "\n",
      "Next, try restarting your device. Sometimes, a simple restart can resolve temporary glitches and improve your connection. \n",
      "\n",
      "It's also worth checking your data plan. Ensure that your plan is active, and you have sufficient data allocated for the billing period. If you're consistently using a large amount of data, you might be reaching your plan's limit, which could result in slower speeds. In this case, consider upgrading to a plan with a higher data allowance or faster speeds. \n",
      "\n",
      "If the issue persists, it might be a good idea to contact your mobile network's customer support. They can provide real-time information about any network issues or outages in your area and offer further troubleshooting steps.\n"
     ]
    }
   ],
   "source": [
    "inquiry = \"I've noticed some fluctuations in my mobile network's performance recently. The connection seems stable most of the time, but every now and then, I experience brief periods of slow data speeds. It happens a few times a day and is quite inconvenient.\"\n",
    "\n",
    "prompt = f\"\"\"Use the FAQs below to provide a concise response to this customer inquiry.\n",
    "\n",
    "# Customer inquiry\n",
    "{inquiry}\n",
    "\n",
    "# FAQs\n",
    "{faq_tech_support}\"\"\"\n",
    "\n",
    "response = generate_text(prompt)\n",
    "\n",
    "print(response.text)"
   ]
  },
  {
   "cell_type": "markdown",
   "metadata": {},
   "source": [
    "## Text summarization"
   ]
  },
  {
   "cell_type": "markdown",
   "metadata": {},
   "source": [
    "Another type of use case is text summarization. Now, let's summarize the customer inquiry into a single sentence. We add an instruction to the prompt and then pass the inquiry to the prompt."
   ]
  },
  {
   "cell_type": "code",
   "execution_count": 10,
   "metadata": {},
   "outputs": [
    {
     "name": "stdout",
     "output_type": "stream",
     "text": [
      "A customer is experiencing intermittent slow data speeds on their mobile network several times a day.\n"
     ]
    }
   ],
   "source": [
    "prompt=f\"\"\"Summarize this customer inquiry into one short sentence.\n",
    "\n",
    "Inquiry: {inquiry}\"\"\"\n",
    "\n",
    "response = generate_text(prompt)\n",
    "\n",
    "print(response.text)"
   ]
  },
  {
   "cell_type": "markdown",
   "metadata": {},
   "source": [
    "## Text rewriting"
   ]
  },
  {
   "cell_type": "markdown",
   "metadata": {},
   "source": [
    "Text rewriting is a powerful capability that allows us to adapt content for different purposes while preserving the core message. This involves transforming the style, tone, or format of text to better suit the target audience or medium.\n",
    "\n",
    "Let's look at an example where we convert a customer support chat response into a formal email. We'll construct the prompt by first stating our goal to rewrite the text, then providing the original chat response as context."
   ]
  },
  {
   "cell_type": "code",
   "execution_count": 11,
   "metadata": {},
   "outputs": [
    {
     "name": "stdout",
     "output_type": "stream",
     "text": [
      "Subject: Troubleshooting Slow Data Speeds and Network Connection Issues\n",
      "\n",
      "Dear [Customer's Name],\n",
      "\n",
      "I hope this email finds you well. I understand that you may be facing some challenges with your mobile network, including slow data speeds and text messaging difficulties. Here are some recommended troubleshooting steps to help you resolve these issues:\n",
      "\n",
      "- Signal Strength: Check the signal strength on your device and move to a different location if needed. Sometimes, relocating to an area with better coverage can significantly improve your connection.\n",
      "\n",
      "- Restart Your Device: A simple restart can often fix temporary glitches. After restarting, try connecting to the network again and see if the issue persists.\n",
      "\n",
      "- Account Status: Please ensure that your account is active and in good standing. If there's any suspension or temporary hold on your account, it may affect your network services.\n",
      "\n",
      "- Contact Us: If the above steps don't resolve the issue, our customer support team is here to help. We can further investigate and provide solutions, including discussing potential plan upgrades to enhance your network performance.\n",
      "\n",
      "Please let us know if these troubleshooting steps were helpful. If you still encounter difficulties, feel free to reach out to us, and we'll be happy to provide further assistance.\n",
      "\n",
      "Best regards,\n",
      "[Your Name]\n",
      "[Customer Support Agent]\n",
      "[Company Name]\n",
      "\n",
      "Feel free to adapt and personalize the email to align with your company's tone and guidelines.\n"
     ]
    }
   ],
   "source": [
    "prompt=f\"\"\"Rewrite this customer support agent response into an email format, ready to send to the customer.\n",
    "\n",
    "If you're experiencing brief periods of slow data speeds or difficulty sending text messages and connecting to your mobile network, here are some troubleshooting steps you can follow:\n",
    "\n",
    "1. Check your signal strength - Move to an area with better coverage.\n",
    "2. Restart your device and try connecting again.\n",
    "3. Ensure your account is active and not suspended.\n",
    "4. Contact customer support for further assistance. (This can include updating your plan for better network performance.)\n",
    "\n",
    "Did these steps help resolve the issue? Let me know if you need further assistance.\"\"\"\n",
    "\n",
    "response = generate_text(prompt)\n",
    "\n",
    "print(response.text)"
   ]
  },
  {
   "cell_type": "markdown",
   "metadata": {},
   "source": [
    "## Build a Chatbot"
   ]
  },
  {
   "cell_type": "markdown",
   "metadata": {},
   "source": [
    "While our previous examples were single-turn interactions, the Chat endpoint enables us to create chatbots that maintain memory of past conversation turns. This capability allows developers to build conversational applications that preserve context throughout the dialogue.\n",
    "\n",
    "Below, we implement a basic customer support chatbot that acts as a helpful service agent. We'll create a function called run_chatbot that handles the conversation flow and displays messages and events. The function can take an optional chat history parameter to maintain conversational context across multiple turns.\n",
    "\n",
    "For this, we introduce a couple of additional parameters to the Chat endpoint:\n",
    "\n",
    "- `preamble`: A preamble contains instructions to help steer a chatbot’s response toward specific characteristics, such as a persona, style, or format. Here, we are using a simple preamble: “You are a helpful customer support agent that assists customers of a mobile network service.”\n",
    "- `chat_history`: We store the history of a conversation between a user and the chatbot as a list, append every new conversation turn, and pass this information to the next endpoint call."
   ]
  },
  {
   "cell_type": "code",
   "execution_count": 13,
   "metadata": {},
   "outputs": [],
   "source": [
    "# Define a preamble\n",
    "preamble = \"\"\"## Task and Context\n",
    "You are a helpful customer support agent that assists customers of a mobile network service.\"\"\"\n",
    "\n",
    "# Run the chatbot\n",
    "def run_chatbot(message, chat_history=None):\n",
    "    if chat_history is None:\n",
    "        chat_history = []\n",
    "        \n",
    "    response = co.chat(\n",
    "        message=message,\n",
    "        preamble=preamble,\n",
    "        chat_history=chat_history\n",
    "    )\n",
    "    \n",
    "    print(response.text)\n",
    "    \n",
    "    chat_history = response.chat_history\n",
    "            \n",
    "    return chat_history"
   ]
  },
  {
   "cell_type": "code",
   "execution_count": 14,
   "metadata": {},
   "outputs": [
    {
     "name": "stdout",
     "output_type": "stream",
     "text": [
      "Hello there! I'd be happy to assist you with this issue. Mobile network performance can be influenced by various factors, and we want to ensure you have a seamless experience. \n",
      "\n",
      "Could you please provide more details about the fluctuations you've observed? Are there specific times when the issue occurs, or is it happening randomly? Do you notice it in certain locations or across different areas? Any additional information about the problem, such as slow data speeds, dropped calls, or difficulty connecting, would be helpful for troubleshooting. \n",
      "\n",
      "We can then proceed to investigate and offer potential solutions to improve your network experience.\n"
     ]
    }
   ],
   "source": [
    "chat_history = run_chatbot(\"Hi. I've noticed some fluctuations in my mobile network's performance recently.\")"
   ]
  },
  {
   "cell_type": "code",
   "execution_count": 15,
   "metadata": {},
   "outputs": [
    {
     "name": "stdout",
     "output_type": "stream",
     "text": [
      "I'm sorry to hear that you're experiencing slow data speeds. Here are some steps you can take to address this issue:\n",
      "\n",
      "- **Check Network Coverage:** First, ensure that you are in an area with good network coverage. Sometimes, being in a location with weak signal strength can result in poor data performance. You can check your mobile network's coverage map to see if the area you're in is well-covered.\n",
      "\n",
      "- **Restart Your Device:** A simple restart of your mobile device can often resolve temporary glitches and improve performance. It helps refresh the connection between your device and the network.\n",
      "\n",
      "- **Check for Network Updates:** Make sure your device is running the latest software and carrier settings. Updates often include improvements and optimizations for network performance. Go to your device's settings and check for any available updates.\n",
      "\n",
      "- **Manage Data Usage:** If multiple applications are running in the background, they might be consuming data, leading to slower speeds. Close any unnecessary apps and restrict background data usage for apps that don't require constant connectivity.\n",
      "\n",
      "- **Check Plan and Data Limits:** Review your mobile plan to ensure you haven't exceeded your data limit, as this can result in throttled speeds. Contact your mobile network provider to confirm your plan details and data allowances.\n",
      "\n",
      "- **Contact Network Provider:** If the issue persists, it's best to contact your mobile network provider. They can run diagnostics, check for any network-related issues in your area, and offer further assistance. They might provide solutions like network optimization, changing your plan, or offering temporary data boosts.\n",
      "\n",
      "If you follow these steps and still experience poor data speeds, it's advisable to reach out to your network provider's customer support for personalized assistance. They will be able to provide solutions tailored to your specific situation.\n"
     ]
    }
   ],
   "source": [
    "chat_history = run_chatbot(\"At times, the data speed is very poor. What should I do?\", chat_history)"
   ]
  },
  {
   "cell_type": "code",
   "execution_count": 16,
   "metadata": {},
   "outputs": [
    {
     "name": "stdout",
     "output_type": "stream",
     "text": [
      "You're welcome! Here are some additional troubleshooting steps and factors to consider:\n",
      "\n",
      "- **Device Settings:**\n",
      "   - Check your device's network settings to ensure they are configured correctly. Verify that you have selected the appropriate network mode (e.g., 4G/LTE, 5G) and that the correct mobile network is selected, especially if you've recently traveled to a different region.\n",
      "   - Disable any battery-saving modes or data-restriction settings that might impact network performance.\n",
      "\n",
      "- **SIM Card:**\n",
      "   - Try removing and reinserting your SIM card to ensure a proper connection. A loose SIM card might cause connectivity issues.\n",
      "   - If you have access to another device, you can try inserting your SIM card into that device to see if the problem persists. This will help determine if the issue is device-specific or network-related.\n",
      "\n",
      "- **Network Congestion:**\n",
      "   - Slow data speeds can sometimes occur during peak usage hours when the network is congested. Try using data-intensive applications at different times of the day to see if the speed improves.\n",
      "\n",
      "- **Background Updates:**\n",
      "   - Some apps automatically update in the background, which can consume data and impact speed. Check your app store settings and disable automatic updates, opting to update apps manually when connected to Wi-Fi.\n",
      "\n",
      "- **Network Diagnostics:**\n",
      "   - Most smartphones have built-in network diagnostics tools. You can run these tests to check your connection quality and signal strength. Look for 'Network Test' or 'Signal Diagnostics' in your device's settings.\n",
      "\n",
      "- **Wi-Fi Calling and Data:**\n",
      "   - If available, enable Wi-Fi calling and ensure your device is connected to a stable Wi-Fi network. This can offload some data usage from the mobile network, potentially improving speeds.\n",
      "\n",
      "- **Contact Device Manufacturer:**\n",
      "   If you suspect the issue is with your device rather than the network, consider contacting your device manufacturer's support team. They can provide device-specific troubleshooting steps.\n",
      "\n",
      "If you've tried these additional steps and the problem persists, it's advisable to contact your mobile network provider for further assistance, as they can investigate network-related issues in your area.\n"
     ]
    }
   ],
   "source": [
    "chat_history = run_chatbot(\"Thanks. What else can I check?\", chat_history)"
   ]
  },
  {
   "cell_type": "markdown",
   "metadata": {},
   "source": [
    "### View the chat history"
   ]
  },
  {
   "cell_type": "markdown",
   "metadata": {},
   "source": [
    "Here's what is contained in the chat history after a few turns."
   ]
  },
  {
   "cell_type": "code",
   "execution_count": 18,
   "metadata": {},
   "outputs": [
    {
     "name": "stdout",
     "output_type": "stream",
     "text": [
      "Chat history:\n",
      "role='USER' message=\"Hi. I've noticed some fluctuations in my mobile network's performance recently.\" tool_calls=None \n",
      "\n",
      "role='CHATBOT' message=\"Hello there! I'd be happy to assist you with this issue. Mobile network performance can be influenced by various factors, and we want to ensure you have a seamless experience. \\n\\nCould you please provide more details about the fluctuations you've observed? Are there specific times when the issue occurs, or is it happening randomly? Do you notice it in certain locations or across different areas? Any additional information about the problem, such as slow data speeds, dropped calls, or difficulty connecting, would be helpful for troubleshooting. \\n\\nWe can then proceed to investigate and offer potential solutions to improve your network experience.\" tool_calls=None \n",
      "\n",
      "role='USER' message='At times, the data speed is very poor. What should I do?' tool_calls=None \n",
      "\n",
      "role='CHATBOT' message=\"I'm sorry to hear that you're experiencing slow data speeds. Here are some steps you can take to address this issue:\\n\\n- **Check Network Coverage:** First, ensure that you are in an area with good network coverage. Sometimes, being in a location with weak signal strength can result in poor data performance. You can check your mobile network's coverage map to see if the area you're in is well-covered.\\n\\n- **Restart Your Device:** A simple restart of your mobile device can often resolve temporary glitches and improve performance. It helps refresh the connection between your device and the network.\\n\\n- **Check for Network Updates:** Make sure your device is running the latest software and carrier settings. Updates often include improvements and optimizations for network performance. Go to your device's settings and check for any available updates.\\n\\n- **Manage Data Usage:** If multiple applications are running in the background, they might be consuming data, leading to slower speeds. Close any unnecessary apps and restrict background data usage for apps that don't require constant connectivity.\\n\\n- **Check Plan and Data Limits:** Review your mobile plan to ensure you haven't exceeded your data limit, as this can result in throttled speeds. Contact your mobile network provider to confirm your plan details and data allowances.\\n\\n- **Contact Network Provider:** If the issue persists, it's best to contact your mobile network provider. They can run diagnostics, check for any network-related issues in your area, and offer further assistance. They might provide solutions like network optimization, changing your plan, or offering temporary data boosts.\\n\\nIf you follow these steps and still experience poor data speeds, it's advisable to reach out to your network provider's customer support for personalized assistance. They will be able to provide solutions tailored to your specific situation.\" tool_calls=None \n",
      "\n",
      "role='USER' message='Thanks. What else can I check?' tool_calls=None \n",
      "\n",
      "role='CHATBOT' message=\"You're welcome! Here are some additional troubleshooting steps and factors to consider:\\n\\n- **Device Settings:**\\n   - Check your device's network settings to ensure they are configured correctly. Verify that you have selected the appropriate network mode (e.g., 4G/LTE, 5G) and that the correct mobile network is selected, especially if you've recently traveled to a different region.\\n   - Disable any battery-saving modes or data-restriction settings that might impact network performance.\\n\\n- **SIM Card:**\\n   - Try removing and reinserting your SIM card to ensure a proper connection. A loose SIM card might cause connectivity issues.\\n   - If you have access to another device, you can try inserting your SIM card into that device to see if the problem persists. This will help determine if the issue is device-specific or network-related.\\n\\n- **Network Congestion:**\\n   - Slow data speeds can sometimes occur during peak usage hours when the network is congested. Try using data-intensive applications at different times of the day to see if the speed improves.\\n\\n- **Background Updates:**\\n   - Some apps automatically update in the background, which can consume data and impact speed. Check your app store settings and disable automatic updates, opting to update apps manually when connected to Wi-Fi.\\n\\n- **Network Diagnostics:**\\n   - Most smartphones have built-in network diagnostics tools. You can run these tests to check your connection quality and signal strength. Look for 'Network Test' or 'Signal Diagnostics' in your device's settings.\\n\\n- **Wi-Fi Calling and Data:**\\n   - If available, enable Wi-Fi calling and ensure your device is connected to a stable Wi-Fi network. This can offload some data usage from the mobile network, potentially improving speeds.\\n\\n- **Contact Device Manufacturer:**\\n   If you suspect the issue is with your device rather than the network, consider contacting your device manufacturer's support team. They can provide device-specific troubleshooting steps.\\n\\nIf you've tried these additional steps and the problem persists, it's advisable to contact your mobile network provider for further assistance, as they can investigate network-related issues in your area.\" tool_calls=None \n",
      "\n"
     ]
    }
   ],
   "source": [
    "print(\"Chat history:\")\n",
    "for turn in chat_history:\n",
    "    print(turn, \"\\n\")"
   ]
  },
  {
   "cell_type": "markdown",
   "metadata": {},
   "source": [
    "## Summary"
   ]
  },
  {
   "cell_type": "markdown",
   "metadata": {},
   "source": [
    "In this tutorial, we learned about:\n",
    "- How to set up the Cohere client to use the Command model deployed on Azure AI Foundry\n",
    "- How to perform basic text generation\n",
    "- How to use the model for other types of use cases\n",
    "- How to build a chatbot using the Chat endpoint\n",
    "\n",
    "In the next tutorial, we'll explore how to use the Embed model in semantic search applications."
   ]
  },
  {
   "cell_type": "markdown",
   "metadata": {},
   "source": []
  }
 ],
 "metadata": {
  "kernelspec": {
   "display_name": "base",
   "language": "python",
   "name": "base"
  },
  "language_info": {
   "codemirror_mode": {
    "name": "ipython",
    "version": 3
   },
   "file_extension": ".py",
   "mimetype": "text/x-python",
   "name": "python",
   "nbconvert_exporter": "python",
   "pygments_lexer": "ipython3",
   "version": "3.11.4"
  }
 },
 "nbformat": 4,
 "nbformat_minor": 2
}
