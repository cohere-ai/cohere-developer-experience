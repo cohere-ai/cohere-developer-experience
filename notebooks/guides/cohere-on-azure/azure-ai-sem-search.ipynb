{
 "cells": [
  {
   "cell_type": "markdown",
   "metadata": {},
   "source": [
    "# Semantic Search"
   ]
  },
  {
   "cell_type": "markdown",
   "metadata": {},
   "source": [
    "In this tutorial, we'll explore semantic search using Cohere's Embed model. Semantic search enables search systems to capture the meaning and context of search queries, going beyond simple keyword matching to find relevant results based on semantic similarity. \n",
    "\n",
    "With the Embed model, you can do this across languages. This is particularly powerful for multilingual applications where the same meaning can be expressed in different languages.\n",
    "\n",
    "In this tutorial, we'll cover:\n",
    "- Setting up the Cohere client\n",
    "- Embedding text data\n",
    "- Building a search index\n",
    "- Performing semantic search queries\n",
    "\n",
    "We'll use Cohere's Embed model deployed on Azure to demonstrate these capabilities and help you understand how to effectively implement semantic search in your applications.\n"
   ]
  },
  {
   "cell_type": "markdown",
   "metadata": {},
   "source": [
    "## Setup"
   ]
  },
  {
   "cell_type": "markdown",
   "metadata": {},
   "source": [
    "First, you will need to deploy the Embed model on Azure via Azure AI Foundry. The deployment will create a serverless API with pay-as-you-go token based billing. You can find more information on how to deploy models in the [Azure documentation](https://learn.microsoft.com/en-us/azure/ai-studio/how-to/deploy-models-serverless?tabs=azure-ai-studio).\n",
    "\n",
    "In the example below, we are deploying the Embed Multilingual v3 model.\n",
    "\n",
    "Once the model is deployed, you can access it via Cohere's Python SDK. Let's now install the Cohere SDK and set up our client.\n",
    "\n",
    "To create a client, you need to provide the API key and the model's base URL for the Azure endpoint. You can get these information from the Azure AI Foundry platform where you deployed the model."
   ]
  },
  {
   "cell_type": "code",
   "execution_count": 1,
   "metadata": {},
   "outputs": [],
   "source": [
    "# ! pip install cohere hnswlib\n",
    "\n",
    "import pandas as pd\n",
    "import hnswlib\n",
    "import re\n",
    "import cohere\n",
    "\n",
    "co = cohere.Client(\n",
    "  api_key=\"AZURE_API_KEY_EMBED\",\n",
    "  base_url=\"AZURE_ENDPOINT_EMBED\" # example: \"https://cohere-embed-v3-multilingual-xyz.eastus.models.ai.azure.com/\"\n",
    ")"
   ]
  },
  {
   "cell_type": "markdown",
   "metadata": {},
   "source": [
    "## Download dataset"
   ]
  },
  {
   "cell_type": "markdown",
   "metadata": {},
   "source": [
    "For this example, we'll be using [MultiFIN](https://aclanthology.org/2023.findings-eacl.66.pdf) - an open-source dataset of financial article headlines in 15 different languages (including English, Turkish, Danish, Spanish, Polish, Greek, Finnish, Hebrew, Japanese, Hungarian, Norwegian, Russian, Italian, Icelandic, and Swedish).\n",
    "\n",
    "We've prepared a CSV version of the MultiFIN dataset that includes an additional column containing English translations. While we won't use these translations for the model itself, they'll help us understand the results when we encounter headlines in Danish or Spanish. We'll load this CSV file into a pandas dataframe."
   ]
  },
  {
   "cell_type": "code",
   "execution_count": 3,
   "metadata": {},
   "outputs": [
    {
     "data": {
      "text/html": [
       "<div>\n",
       "<style scoped>\n",
       "    .dataframe tbody tr th:only-of-type {\n",
       "        vertical-align: middle;\n",
       "    }\n",
       "\n",
       "    .dataframe tbody tr th {\n",
       "        vertical-align: top;\n",
       "    }\n",
       "\n",
       "    .dataframe thead th {\n",
       "        text-align: right;\n",
       "    }\n",
       "</style>\n",
       "<table border=\"1\" class=\"dataframe\">\n",
       "  <thead>\n",
       "    <tr style=\"text-align: right;\">\n",
       "      <th></th>\n",
       "      <th>text</th>\n",
       "      <th>labels</th>\n",
       "      <th>lang</th>\n",
       "      <th>id</th>\n",
       "      <th>translation</th>\n",
       "    </tr>\n",
       "  </thead>\n",
       "  <tbody>\n",
       "    <tr>\n",
       "      <th>0</th>\n",
       "      <td>Revenue Recognition</td>\n",
       "      <td>['Accounting &amp; Assurance']</td>\n",
       "      <td>English</td>\n",
       "      <td>Israel-4145</td>\n",
       "      <td>Revenue Recognition</td>\n",
       "    </tr>\n",
       "    <tr>\n",
       "      <th>1</th>\n",
       "      <td>Más de la mitad de las empresas españolas fuer...</td>\n",
       "      <td>['Financial Crime']</td>\n",
       "      <td>Spanish</td>\n",
       "      <td>Spain-2044</td>\n",
       "      <td>More than half of the Spanish companies were v...</td>\n",
       "    </tr>\n",
       "    <tr>\n",
       "      <th>2</th>\n",
       "      <td>Wynagrodzenie netto w Polsce to średnio 71% pe...</td>\n",
       "      <td>['Human Resource']</td>\n",
       "      <td>Polish</td>\n",
       "      <td>Poland-1567</td>\n",
       "      <td>The net salary in Poland is an average of 71% ...</td>\n",
       "    </tr>\n",
       "    <tr>\n",
       "      <th>3</th>\n",
       "      <td>Time to talk: What has to change for women at ...</td>\n",
       "      <td>['Human Resource']</td>\n",
       "      <td>English</td>\n",
       "      <td>Turkey-5447</td>\n",
       "      <td>Time to talk: What has to change for women at ...</td>\n",
       "    </tr>\n",
       "    <tr>\n",
       "      <th>4</th>\n",
       "      <td>Total Retail 2017</td>\n",
       "      <td>['Retail &amp; Consumers']</td>\n",
       "      <td>English</td>\n",
       "      <td>Spain-1981</td>\n",
       "      <td>Total Retail 2017</td>\n",
       "    </tr>\n",
       "  </tbody>\n",
       "</table>\n",
       "</div>"
      ],
      "text/plain": [
       "                                                text  \\\n",
       "0                                Revenue Recognition   \n",
       "1  Más de la mitad de las empresas españolas fuer...   \n",
       "2  Wynagrodzenie netto w Polsce to średnio 71% pe...   \n",
       "3  Time to talk: What has to change for women at ...   \n",
       "4                                  Total Retail 2017   \n",
       "\n",
       "                       labels     lang           id  \\\n",
       "0  ['Accounting & Assurance']  English  Israel-4145   \n",
       "1         ['Financial Crime']  Spanish   Spain-2044   \n",
       "2          ['Human Resource']   Polish  Poland-1567   \n",
       "3          ['Human Resource']  English  Turkey-5447   \n",
       "4      ['Retail & Consumers']  English   Spain-1981   \n",
       "\n",
       "                                         translation  \n",
       "0                                Revenue Recognition  \n",
       "1  More than half of the Spanish companies were v...  \n",
       "2  The net salary in Poland is an average of 71% ...  \n",
       "3  Time to talk: What has to change for women at ...  \n",
       "4                                  Total Retail 2017  "
      ]
     },
     "execution_count": 3,
     "metadata": {},
     "output_type": "execute_result"
    }
   ],
   "source": [
    "url = \"https://raw.githubusercontent.com/cohere-ai/cohere-aws/main/notebooks/bedrock/multiFIN_train.csv\"\n",
    "df = pd.read_csv(url)\n",
    "\n",
    "# Inspect dataset\n",
    "df.head(5)"
   ]
  },
  {
   "cell_type": "markdown",
   "metadata": {},
   "source": [
    "## Pre-Process Dataset"
   ]
  },
  {
   "cell_type": "markdown",
   "metadata": {},
   "source": [
    "For this example, we'll work with a subset focusing on English, Spanish, and Danish content.\n",
    "\n",
    "We'll perform several pre-processing steps: removing any duplicate entries, filtering to keep only our three target languages, and selecting the 80 longest articles as our working dataset."
   ]
  },
  {
   "cell_type": "code",
   "execution_count": 4,
   "metadata": {},
   "outputs": [
    {
     "data": {
      "text/plain": [
       "lang\n",
       "Spanish    33\n",
       "English    29\n",
       "Danish     18\n",
       "Name: count, dtype: int64"
      ]
     },
     "execution_count": 4,
     "metadata": {},
     "output_type": "execute_result"
    }
   ],
   "source": [
    "# Ensure there is no duplicated text in the headers\n",
    "def remove_duplicates(text):\n",
    "    return re.sub(r'((\\b\\w+\\b.{1,2}\\w+\\b)+).+\\1', r'\\1', text, flags=re.I)\n",
    "\n",
    "df ['text'] = df['text'].apply(remove_duplicates)\n",
    "\n",
    "# Keep only selected languages\n",
    "languages = ['English', 'Spanish', 'Danish']\n",
    "df = df.loc[df['lang'].isin(languages)]\n",
    "\n",
    "# Pick the top 80 longest articles\n",
    "df['text_length'] = df['text'].str.len()\n",
    "df.sort_values(by=['text_length'], ascending=False, inplace=True)\n",
    "top_80_df = df[:80]\n",
    "\n",
    "# Language distribution\n",
    "top_80_df['lang'].value_counts()"
   ]
  },
  {
   "cell_type": "markdown",
   "metadata": {},
   "source": [
    "## Embed and index documents"
   ]
  },
  {
   "cell_type": "markdown",
   "metadata": {},
   "source": [
    "Let's embed our documents and store the embeddings. These embeddings are high-dimensional vectors (1,024 dimensions) that capture the semantic meaning of each document. We'll use Cohere's embed-multilingual-v3.0 model that we have defined in the client setup.\n",
    " \n",
    "The v3.0 embedding models require us to specify an `input_type` parameter that indicates what we're embedding. For semantic search, we use `search_document` for the documents we want to search through, and `search_query` for the search queries we'll make later.\n",
    "\n",
    "We'll also keep track information about each document's language and translation to provide richer search results.\n",
    "\n",
    "Finally, we'll build a search index with the `hnsw` vector library to store these embeddings efficiently, enabling faster document searches."
   ]
  },
  {
   "cell_type": "code",
   "execution_count": 5,
   "metadata": {},
   "outputs": [],
   "source": [
    "# Embed documents\n",
    "docs = top_80_df['text'].to_list()\n",
    "docs_lang = top_80_df['lang'].to_list()\n",
    "translated_docs = top_80_df['translation'].to_list() #for reference when returning non-English results\n",
    "doc_embs = co.embed(\n",
    "    texts=docs,\n",
    "    input_type='search_document'\n",
    ").embeddings\n",
    "\n",
    "# Create a search index\n",
    "index = hnswlib.Index(space='ip', dim=1024)\n",
    "index.init_index(max_elements=len(doc_embs), ef_construction=512, M=64)\n",
    "index.add_items(doc_embs, list(range(len(doc_embs))))"
   ]
  },
  {
   "cell_type": "markdown",
   "metadata": {},
   "source": [
    "## Send Query and Retrieve Documents"
   ]
  },
  {
   "cell_type": "markdown",
   "metadata": {},
   "source": [
    "Next, we build a function that takes a query as input, embeds it, and finds the three documents that are the most similar to the query."
   ]
  },
  {
   "cell_type": "code",
   "execution_count": 6,
   "metadata": {},
   "outputs": [],
   "source": [
    "# Retrieval of 4 closest docs to query\n",
    "def retrieval(query):\n",
    "    # Embed query and retrieve results\n",
    "    query_emb = co.embed(\n",
    "        texts=[query],\n",
    "        input_type=\"search_query\"\n",
    "    ).embeddings\n",
    "    doc_ids = index.knn_query(query_emb, k=3)[0][0] # we will retrieve 3 closest neighbors\n",
    "    \n",
    "    # Print and append results\n",
    "    print(f\"QUERY: {query.upper()} \\n\")\n",
    "    retrieved_docs, translated_retrieved_docs = [], []\n",
    "    \n",
    "    for doc_id in doc_ids:\n",
    "        # Append results\n",
    "        retrieved_docs.append(docs[doc_id])\n",
    "        translated_retrieved_docs.append(translated_docs[doc_id])\n",
    "    \n",
    "        # Print results\n",
    "        print(f\"ORIGINAL ({docs_lang[doc_id]}): {docs[doc_id]}\")\n",
    "        if docs_lang[doc_id] != \"English\":\n",
    "            print(f\"TRANSLATION: {translated_docs[doc_id]} \\n----\")\n",
    "        else:\n",
    "            print(\"----\")\n",
    "    print(\"END OF RESULTS \\n\\n\")\n",
    "    return retrieved_docs, translated_retrieved_docs"
   ]
  },
  {
   "cell_type": "markdown",
   "metadata": {},
   "source": [
    "Let’s now try to query the index with a couple of examples, one each in English and Danish."
   ]
  },
  {
   "cell_type": "code",
   "execution_count": 7,
   "metadata": {},
   "outputs": [
    {
     "name": "stdout",
     "output_type": "stream",
     "text": [
      "QUERY: CAN DATA SCIENCE HELP MEET SUSTAINABILITY GOALS? \n",
      "\n",
      "ORIGINAL (English): Using AI to better manage the environment could reduce greenhouse gas emissions, boost global GDP by up to 38m jobs by 2030\n",
      "----\n",
      "ORIGINAL (English): Quality of business reporting on the Sustainable Development Goals improves, but has a long way to go to meet and drive targets.\n",
      "----\n",
      "ORIGINAL (English): Only 10 years to achieve Sustainable Development Goals but businesses remain on starting blocks for integration and progress\n",
      "----\n",
      "END OF RESULTS \n",
      "\n",
      "\n",
      "QUERY: HVOR KAN JEG FINDE DEN SENESTE DANSKE BOLIGPLAN? \n",
      "\n",
      "ORIGINAL (Danish): Nyt fra CFOdirect: Ny PP&E-guide, FAQs om den nye leasingstandard, podcast om udfordringerne ved implementering af leasingstandarden og meget mere\n",
      "TRANSLATION: New from CFOdirect: New PP&E guide, FAQs on the new leasing standard, podcast on the challenges of implementing the leasing standard and much more \n",
      "----\n",
      "ORIGINAL (Danish): Lovforslag fremlagt om rentefri lån, udskudt frist for lønsumsafgift, førtidig udbetaling af skattekredit og loft på indestående på skattekontoen\n",
      "TRANSLATION: Bills presented on interest -free loans, deferred deadline for payroll tax, early payment of tax credit and ceiling on the balance in the tax account \n",
      "----\n",
      "ORIGINAL (Danish): Nyt fra CFOdirect: Shareholder-spørgsmål til ledelsen, SEC cybersikkerhedsguide, den amerikanske skattereform og meget mere\n",
      "TRANSLATION: New from CFOdirect: Shareholder questions for management, the SEC cybersecurity guide, US tax reform and more \n",
      "----\n",
      "END OF RESULTS \n",
      "\n",
      "\n"
     ]
    }
   ],
   "source": [
    "queries = [\n",
    "    \"Can data science help meet sustainability goals?\", # English example\n",
    "    \"Hvor kan jeg finde den seneste danske boligplan?\" # Danish example - \"Where can I find the latest Danish property plan?\"\n",
    "]\n",
    "\n",
    "for query in queries:\n",
    "    retrieval(query)"
   ]
  },
  {
   "cell_type": "markdown",
   "metadata": {},
   "source": [
    "With the first example, notice how the retrieval system was able to surface documents similar in meaning, for example, surfacing documents related to AI when given a query about data science. This is something that keyword-based search will not be able to capture.\n",
    "\n",
    "As for the second example, this demonstrates the multilingual nature of the model. You can use the same model across different languages. The model can also perform cross-lingual search, such as the example of from the first retrieved document, where “PP&E guide” is an English term that stands for “property, plant, and equipment,”."
   ]
  },
  {
   "cell_type": "markdown",
   "metadata": {},
   "source": [
    "## Summary"
   ]
  },
  {
   "cell_type": "markdown",
   "metadata": {},
   "source": [
    "In this tutorial, we learned about:\n",
    "- How to set up the Cohere client to use the Embed model deployed on Azure AI Foundry\n",
    "- How to embed text data\n",
    "- How to build a search index\n",
    "- How to perform multilingualsemantic search\n",
    "\n",
    "In the next tutorial, we'll explore how to use the Rerank model for reranking search results.\n"
   ]
  },
  {
   "cell_type": "markdown",
   "metadata": {},
   "source": []
  }
 ],
 "metadata": {
  "kernelspec": {
   "display_name": "base",
   "language": "python",
   "name": "base"
  },
  "language_info": {
   "codemirror_mode": {
    "name": "ipython",
    "version": 3
   },
   "file_extension": ".py",
   "mimetype": "text/x-python",
   "name": "python",
   "nbconvert_exporter": "python",
   "pygments_lexer": "ipython3",
   "version": "3.11.4"
  }
 },
 "nbformat": 4,
 "nbformat_minor": 2
}
