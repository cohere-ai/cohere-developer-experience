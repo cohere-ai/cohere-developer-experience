{
 "cells": [
  {
   "cell_type": "markdown",
   "metadata": {},
   "source": [
    "# Tool Use and Agents"
   ]
  },
  {
   "cell_type": "markdown",
   "metadata": {},
   "source": [
    "Tool use enhances retrieval-augmented generation (RAG) capabilities by enabling applications to both answer questions and automate tasks.\n",
    "\n",
    "Tools provide a broader access to external systems compared to traditional RAG. This approach leverages LLMs' inherent ability to reason and make decisions. By incorporating tools, developers can create agent-like applications that interact with external systems through both read and write operations.\n",
    "\n",
    "In this chapter, we'll explore how to build an agentic application by building an agent that can answer questions and automate tasks, enabled by a number of tools."
   ]
  },
  {
   "cell_type": "markdown",
   "metadata": {},
   "source": [
    "## Setup"
   ]
  },
  {
   "cell_type": "markdown",
   "metadata": {},
   "source": [
    "First, you will need to deploy the Command model on Azure via Azure AI Foundry. The deployment will create a serverless API with pay-as-you-go token based billing. You can find more information on how to deploy models in the [Azure documentation](https://learn.microsoft.com/en-us/azure/ai-studio/how-to/deploy-models-serverless?tabs=azure-ai-studio).\n",
    "\n",
    "In the example below, we are deploying the Command R+ (August 2024) model.\n",
    "\n",
    "Once the model is deployed, you can access it via Cohere's Python SDK. Let's now install the Cohere SDK and set up our client.\n",
    "\n",
    "To create a client, you need to provide the API key and the model's base URL for the Azure endpoint. You can get these information from the Azure AI Foundry platform where you deployed the model."
   ]
  },
  {
   "cell_type": "code",
   "execution_count": 2,
   "metadata": {},
   "outputs": [],
   "source": [
    "# ! pip install cohere\n",
    "\n",
    "import cohere\n",
    "\n",
    "co = cohere.Client(\n",
    "    api_key=\"AZURE_API_KEY_CHAT\",\n",
    "    base_url=\"AZURE_ENDPOINT_CHAT\" # example: \"https://cohere-command-r-plus-08-2024-xyz.eastus.models.ai.azure.com/\"\n",
    ")"
   ]
  },
  {
   "cell_type": "markdown",
   "metadata": {},
   "source": [
    "## Create tools"
   ]
  },
  {
   "cell_type": "markdown",
   "metadata": {},
   "source": [
    "The pre-requisite, before we can run a tool use workflow, is to set up the tools. Let's create three tools:\n",
    "\n",
    "- `search_faqs`: A tool for searching the FAQs of a company. For simplicity, we'll not implement any retrieval logic, but we'll simply pass a list of three predefined documents. In practice, we would set up a retrieval system as we did in Chapters 4, 5, and 6.\n",
    "- `search_emails`: A tool for searching the emails. Same as above, we'll simply pass a list of predefined emails.\n",
    "- `create_calendar_event`: A tool for creating new calendar events. Again, for simplicity, we'll only return mock successful event creations without actual implementation. In practice, we can connect to a calendar service API and implement all the necessary logic here.\n",
    "\n",
    "Here, we are defining a Python function for each tool, but more broadly, the tool can be any function or service that can receive and send objects."
   ]
  },
  {
   "cell_type": "code",
   "execution_count": 4,
   "metadata": {},
   "outputs": [],
   "source": [
    "def search_faqs(query):\n",
    "    faqs = [\n",
    "    {\"text\" : \"Submitting Travel Expenses:\\nSubmit your expenses through our user-friendly finance tool.\"},\n",
    "    {\"text\" : \"Side Projects Policy:\\nWe encourage you to explore your passions! Just ensure there's no conflict of interest with our business.\"},\n",
    "    {\"text\" : \"Wellness Benefits:\\nTo promote a healthy lifestyle, we provide gym memberships, on-site yoga classes, and health insurance.\"}\n",
    "    ]\n",
    "    return  {\"faqs\" : faqs}\n",
    "\n",
    "def search_emails(query):\n",
    "    emails = [\n",
    "    {\"from\": \"hr@co1t.com\", \"to\": \"david@co1t.com\", \"date\": \"2024-06-24\", \"subject\": \"A Warm Welcome to Co1t, David!\", \"text\": \"We are delighted to have you on board. Please find attached your first week's agenda.\"},\n",
    "    {\"from\": \"it@co1t.com\", \"to\": \"david@co1t.com\", \"date\": \"2024-06-24\", \"subject\": \"Instructions for IT Setup\", \"text\": \"Welcome, David! To get you started, please follow the attached guide to set up your work accounts.\"},\n",
    "    {\"from\": \"john@co1t.com\", \"to\": \"david@co1t.com\", \"date\": \"2024-06-24\", \"subject\": \"First Week Check-In\", \"text\": \"Hi David, let's chat briefly tomorrow to discuss your first week. Also, come join us for lunch this Thursday at noon to meet everyone!\"},\n",
    "    ]\n",
    "    return  {\"emails\" : emails}\n",
    "    \n",
    "def create_calendar_event(date: str, time: str, duration: int):\n",
    "    # You can implement any logic here\n",
    "    return {\"is_success\": True,\n",
    "            \"message\": f\"Created a {duration} hour long event at {time} on {date}\"}\n",
    "    \n",
    "functions_map = {\n",
    "    \"search_faqs\": search_faqs,\n",
    "    \"search_emails\": search_emails,\n",
    "    \"create_calendar_event\": create_calendar_event\n",
    "}"
   ]
  },
  {
   "cell_type": "markdown",
   "metadata": {},
   "source": [
    "## Define tool schemas"
   ]
  },
  {
   "cell_type": "markdown",
   "metadata": {},
   "source": [
    "The next step is to define the tool schemas in a format that can be accepted by the Chat endpoint. The schema must contain the following fields: `name`, `description`, and `parameter_definitions`.\n",
    "\n",
    "This schema informs the LLM about what the tool does, and the LLM decides whether to use a particular tool based on it. Therefore, the more descriptive and specific the schema, the more likely the LLM will make the right tool call decisions.   "
   ]
  },
  {
   "cell_type": "code",
   "execution_count": 5,
   "metadata": {},
   "outputs": [],
   "source": [
    "tools = [\n",
    "    {\n",
    "      \"name\": \"search_faqs\",\n",
    "      \"description\": \"Given a user query, searches a company's frequently asked questions (FAQs) list and returns the most relevant matches to the query.\",\n",
    "      \"parameter_definitions\": {\n",
    "        \"query\": {\n",
    "          \"description\": \"The query from the user\",\n",
    "          \"type\": \"str\",\n",
    "          \"required\": True\n",
    "        }\n",
    "      }\n",
    "    }, \n",
    "    {\n",
    "      \"name\": \"search_emails\",\n",
    "      \"description\": \"Given a user query, searches a person's emails and returns the most relevant matches to the query.\",\n",
    "      \"parameter_definitions\": {\n",
    "        \"query\": {\n",
    "          \"description\": \"The query from the user\",\n",
    "          \"type\": \"str\",\n",
    "          \"required\": True\n",
    "        }\n",
    "      }\n",
    "    }, \n",
    "    {\n",
    "      \"name\": \"create_calendar_event\",\n",
    "      \"description\": \"Creates a new calendar event of the specified duration at the specified time and date. A new event cannot be created on the same time as an existing event.\",\n",
    "      \"parameter_definitions\": {\n",
    "        \"date\": {\n",
    "          \"description\": \"the date on which the event starts, formatted as mm/dd/yy\",\n",
    "          \"type\": \"str\",\n",
    "          \"required\": True\n",
    "        },\n",
    "        \"time\": {\n",
    "          \"description\": \"the time of the event, formatted using 24h military time formatting\",\n",
    "          \"type\": \"str\",\n",
    "          \"required\": True\n",
    "        },\n",
    "        \"duration\": {\n",
    "          \"description\": \"the number of hours the event lasts for\",\n",
    "          \"type\": \"float\",\n",
    "          \"required\": True\n",
    "        }\n",
    "      }\n",
    "    }\n",
    "]"
   ]
  },
  {
   "cell_type": "markdown",
   "metadata": {},
   "source": [
    "## Run agent"
   ]
  },
  {
   "cell_type": "markdown",
   "metadata": {},
   "source": [
    "Now, let's set up the agent using Cohere's tool use feature. We can think of a tool use system as consisting of four components:\n",
    "\n",
    "- The user\n",
    "- The application\n",
    "- The LLM\n",
    "- The tools\n",
    "\n",
    "At its most basic, these four components interact in a workflow through four steps:\n",
    "\n",
    "- Step 1: Get user message. The LLM gets the user message (via the application).\n",
    "- Step 2: Generate tool calls. The LLM makes a decision on the tools to call (if any) and generates the tool calls.\n",
    "- Step 3: Get tool results. The application executes the tools and sends the tool results to the LLM.\n",
    "- Step 4: Generate response and citations. The LLM generates the response and citations and sends them back to the user.\n",
    "\n",
    "Let's create a function called `run_assistant` to implement these steps and print out the key events and messages along the way. This function also optionally accepts the chat history as an argument to keep the state in a multi-turn conversation."
   ]
  },
  {
   "cell_type": "code",
   "execution_count": 8,
   "metadata": {},
   "outputs": [],
   "source": [
    "preamble=\"\"\"## Task and Context\n",
    "You are an assistant who assist new employees of Co1t with their first week. You respond to their questions and assist them with their needs. Today is Monday, June 24, 2024\"\"\"\n",
    "\n",
    "def run_assistant(message, chat_history=None):\n",
    "    \n",
    "    if chat_history is None:\n",
    "        chat_history = []\n",
    "    \n",
    "    # Step 1: get user message\n",
    "    print(f\"Question:\\n{message}\")\n",
    "    print(\"=\"*50)\n",
    "\n",
    "    # Step 2: Generate tool calls (if any)    \n",
    "    response = co.chat(\n",
    "        message=message,\n",
    "        preamble=preamble,\n",
    "        tools=tools,\n",
    "        chat_history=chat_history,\n",
    "        force_single_step=False\n",
    "    )\n",
    "\n",
    "    while response.tool_calls:\n",
    "        tool_calls = response.tool_calls\n",
    "        \n",
    "        if response.text:\n",
    "            print(\"Tool plan:\")\n",
    "            print(response.text,\"\\n\")\n",
    "        print(\"Tool calls:\")\n",
    "        for call in tool_calls:\n",
    "            print(f\"Tool name: {call.name} | Parameters: {call.parameters}\")\n",
    "        print(\"=\"*50)\n",
    "        \n",
    "        # Step 3: Get tool results\n",
    "        tool_results = []\n",
    "        for tc in tool_calls:\n",
    "            tool_call = {\"name\": tc.name, \"parameters\": tc.parameters}\n",
    "            tool_output = functions_map[tc.name](**tc.parameters)\n",
    "            tool_results.append({\"call\": tool_call, \"outputs\": [tool_output]})\n",
    "        \n",
    "        # Step 4: Generate response and citations\n",
    "        response = co.chat(\n",
    "            message=\"\",\n",
    "            preamble=preamble,\n",
    "            tools=tools,\n",
    "            tool_results=tool_results,\n",
    "            chat_history=response.chat_history,\n",
    "            force_single_step=False\n",
    "        )\n",
    "\n",
    "        chat_history = response.chat_history\n",
    "        \n",
    "    # Print final response\n",
    "    print(\"RESPONSE:\\n\")\n",
    "    print(response.text)\n",
    "    print(\"=\"*50)\n",
    "    \n",
    "    # Print citations (if any)\n",
    "    if response.citations:\n",
    "        print(\"\\nCITATIONS:\\n\")\n",
    "        for citation in response.citations:\n",
    "            print(citation)\n",
    "\n",
    "        print(\"\\nCITED REFERENCES:\\n\")\n",
    "        for document in response.documents:\n",
    "            print(document)\n",
    "                \n",
    "    return chat_history"
   ]
  },
  {
   "cell_type": "markdown",
   "metadata": {},
   "source": [
    "Let’s now run the agent. We'll use an example of a new hire asking about IT access and the travel expense process.\n",
    "\n",
    "Given three tools to choose from, the model is able to pick the right tools (in this case, `search_faqs` and `search_emails`) based on what the user is asking for.\n",
    "\n",
    "Also, notice that the model first generates a plan about what it should do (\"I will ...\") before actually generating the tool call(s).\n",
    "\n",
    "Additionally, the model also generates fine-grained citations in tool use mode based on the tool results it receives, the same way we saw with RAG."
   ]
  },
  {
   "cell_type": "code",
   "execution_count": 9,
   "metadata": {},
   "outputs": [
    {
     "name": "stdout",
     "output_type": "stream",
     "text": [
      "Question:\n",
      "Any doc on how do I submit travel expenses? Also, any emails about setting up IT access?\n",
      "==================================================\n",
      "Tool plan:\n",
      "I will search for 'how to submit travel expenses' and 'setting up IT access'. \n",
      "\n",
      "Tool calls:\n",
      "Tool name: search_faqs | Parameters: {'query': 'how to submit travel expenses'}\n",
      "Tool name: search_emails | Parameters: {'query': 'setting up IT access'}\n",
      "==================================================\n",
      "RESPONSE:\n",
      "\n",
      "You can submit your travel expenses through the user-friendly finance tool.\n",
      "\n",
      "There is an email from IT with the subject 'Instructions for IT Setup'. It says:\n",
      "> Welcome, David! To get you started, please follow the attached guide to set up your work accounts.\n",
      "==================================================\n",
      "\n",
      "CITATIONS:\n",
      "\n",
      "start=48 end=75 text='user-friendly finance tool.' document_ids=['search_faqs:0:2:0']\n",
      "start=100 end=102 text='IT' document_ids=['search_emails:1:2:0']\n",
      "start=120 end=147 text=\"'Instructions for IT Setup'\" document_ids=['search_emails:1:2:0']\n",
      "start=160 end=258 text='Welcome, David! To get you started, please follow the attached guide to set up your work accounts.' document_ids=['search_emails:1:2:0']\n",
      "\n",
      "CITED REFERENCES:\n",
      "\n",
      "{'faqs': '[{\"text\":\"Submitting Travel Expenses:\\\\nSubmit your expenses through our user-friendly finance tool.\"},{\"text\":\"Side Projects Policy:\\\\nWe encourage you to explore your passions! Just ensure there\\'s no conflict of interest with our business.\"},{\"text\":\"Wellness Benefits:\\\\nTo promote a healthy lifestyle, we provide gym memberships, on-site yoga classes, and health insurance.\"}]', 'id': 'search_faqs:0:2:0', 'tool_name': 'search_faqs'}\n",
      "{'emails': '[{\"date\":\"2024-06-24\",\"from\":\"hr@co1t.com\",\"subject\":\"A Warm Welcome to Co1t, David!\",\"text\":\"We are delighted to have you on board. Please find attached your first week\\'s agenda.\",\"to\":\"david@co1t.com\"},{\"date\":\"2024-06-24\",\"from\":\"it@co1t.com\",\"subject\":\"Instructions for IT Setup\",\"text\":\"Welcome, David! To get you started, please follow the attached guide to set up your work accounts.\",\"to\":\"david@co1t.com\"},{\"date\":\"2024-06-24\",\"from\":\"john@co1t.com\",\"subject\":\"First Week Check-In\",\"text\":\"Hi David, let\\'s chat briefly tomorrow to discuss your first week. Also, come join us for lunch this Thursday at noon to meet everyone!\",\"to\":\"david@co1t.com\"}]', 'id': 'search_emails:1:2:0', 'tool_name': 'search_emails'}\n"
     ]
    }
   ],
   "source": [
    "chat_history = run_assistant(\"Any doc on how do I submit travel expenses? Also, any emails about setting up IT access?\")"
   ]
  },
  {
   "cell_type": "markdown",
   "metadata": {},
   "source": [
    "## Conclusion"
   ]
  },
  {
   "cell_type": "markdown",
   "metadata": {},
   "source": [
    "In this tutorial, we learned about:\n",
    "- How to set up tools with parameter definitions for the Cohere chat API\n",
    "- How to define tools for building agentic applications\n",
    "- How to set up the agent\n",
    "- How to run a tool use workflow involving the user, the application, the LLM, and the tools"
   ]
  }
 ],
 "metadata": {
  "kernelspec": {
   "display_name": "base",
   "language": "python",
   "name": "base"
  },
  "language_info": {
   "codemirror_mode": {
    "name": "ipython",
    "version": 3
   },
   "file_extension": ".py",
   "mimetype": "text/x-python",
   "name": "python",
   "nbconvert_exporter": "python",
   "pygments_lexer": "ipython3",
   "version": "3.11.4"
  }
 },
 "nbformat": 4,
 "nbformat_minor": 2
}
