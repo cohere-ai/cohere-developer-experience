{
 "cells": [
  {
   "cell_type": "code",
   "execution_count": 1,
   "id": "be2b9a95",
   "metadata": {},
   "outputs": [],
   "source": [
    "import cohere\n",
    "import json\n",
    "\n",
    "import os\n",
    "co = cohere.ClientV2(os.getenv(\"COHERE_API_KEY\"))"
   ]
  },
  {
   "cell_type": "code",
   "execution_count": 2,
   "id": "d1f4a58c",
   "metadata": {},
   "outputs": [],
   "source": [
    "model = \"command-a-reasoning-08-2025\""
   ]
  },
  {
   "cell_type": "code",
   "execution_count": 3,
   "id": "cd621414",
   "metadata": {},
   "outputs": [],
   "source": [
    "def get_weather(location):\n",
    "    # Implement any logic here\n",
    "    return [{\"temperature\": \"20°C\"}]\n",
    "    # Return a JSON object string, or a list of tool content blocks e.g. [{\"url\": \"abc.com\", \"text\": \"...\"}, {\"url\": \"xyz.com\", \"text\": \"...\"}]\n",
    "\n",
    "\n",
    "functions_map = {\"get_weather\": get_weather}"
   ]
  },
  {
   "cell_type": "code",
   "execution_count": 4,
   "id": "7bcc3b55",
   "metadata": {},
   "outputs": [],
   "source": [
    "tools = [\n",
    "    {\n",
    "        \"type\": \"function\",\n",
    "        \"function\": {\n",
    "            \"name\": \"get_weather\",\n",
    "            \"description\": \"gets the weather of a given location\",\n",
    "            \"parameters\": {\n",
    "                \"type\": \"object\",\n",
    "                \"properties\": {\n",
    "                    \"location\": {\n",
    "                        \"type\": \"string\",\n",
    "                        \"description\": \"the location to get the weather, example: San Francisco.\",\n",
    "                    }\n",
    "                },\n",
    "                \"required\": [\"location\"],\n",
    "            },\n",
    "        },\n",
    "    },\n",
    "]\n"
   ]
  },
  {
   "cell_type": "code",
   "execution_count": 5,
   "id": "4df2b886",
   "metadata": {},
   "outputs": [],
   "source": [
    "messages = [\n",
    "    {\"role\": \"user\", \"content\": \"What's the weather in Toronto?\"}\n",
    "]\n"
   ]
  },
  {
   "cell_type": "code",
   "execution_count": 6,
   "id": "1b2f5406",
   "metadata": {},
   "outputs": [],
   "source": [
    "response = co.chat(\n",
    "    model=model, messages=messages, tools=tools\n",
    ")"
   ]
  },
  {
   "cell_type": "code",
   "execution_count": 8,
   "id": "599a60f6",
   "metadata": {},
   "outputs": [
    {
     "name": "stdout",
     "output_type": "stream",
     "text": [
      "The user is asking for the weather in Toronto. I need to use the available tool 'get_weather' to retrieve this information. The tool requires a 'location' parameter, which the user has provided as Toronto. I'll call the tool with the location set to Toronto. No other parameters are needed since the tool only requires the location. \n",
      "\n",
      "[ToolCallV2(id='get_weather_z6ygd4ccadtm', type='function', function=ToolCallV2Function(name='get_weather', arguments='{\"location\":\"Toronto\"}'))]\n"
     ]
    }
   ],
   "source": [
    "response = co.chat(\n",
    "    model=model, messages=messages, tools=tools\n",
    ")\n",
    "\n",
    "if response.message.tool_calls:\n",
    "    messages.append(response.message)\n",
    "    print(response.message.content[0].thinking, \"\\n\")\n",
    "    print(response.message.tool_calls)\n"
   ]
  },
  {
   "cell_type": "code",
   "execution_count": 11,
   "id": "f7932bd3",
   "metadata": {},
   "outputs": [],
   "source": [
    "if response.message.tool_calls:\n",
    "    for tc in response.message.tool_calls:\n",
    "        tool_result = functions_map[tc.function.name](\n",
    "            **json.loads(tc.function.arguments)\n",
    "        )\n",
    "        tool_content = []\n",
    "        for data in tool_result:\n",
    "            # Optional: the \"document\" object can take an \"id\" field for use in citations, otherwise auto-generated\n",
    "            tool_content.append(\n",
    "                {\n",
    "                    \"type\": \"document\",\n",
    "                    \"document\": {\"data\": json.dumps(data)},\n",
    "                }\n",
    "            )\n",
    "        messages.append(\n",
    "            {\n",
    "                \"role\": \"tool\",\n",
    "                \"tool_call_id\": tc.id,\n",
    "                \"content\": tool_content,\n",
    "            }\n",
    "        )"
   ]
  },
  {
   "cell_type": "code",
   "execution_count": 12,
   "id": "ac9dfef6",
   "metadata": {},
   "outputs": [
    {
     "name": "stdout",
     "output_type": "stream",
     "text": [
      "The user asked for the weather in Toronto. I used the get_weather tool with the location parameter set to \"Toronto\". The tool returned a result indicating the temperature is 20°C. Since the response only includes the temperature, I'll check if there's additional weather information needed. However, based on the tool's output structure, it seems only the temperature is available. I can now present this information to the user.\n",
      "--------------------------------------------------\n",
      "The temperature in Toronto is 20°C.\n"
     ]
    }
   ],
   "source": [
    "response = co.chat(\n",
    "    model=model, messages=messages, tools=tools\n",
    ")\n",
    "\n",
    "messages.append(\n",
    "    {\"role\": \"assistant\", \"content\": response.message.content[1].text}\n",
    ")\n",
    "\n",
    "\n",
    "print(response.message.content[0].thinking)\n",
    "print(\"-\"*50)\n",
    "print(response.message.content[1].text)\n"
   ]
  },
  {
   "cell_type": "code",
   "execution_count": 13,
   "id": "8db063ec",
   "metadata": {},
   "outputs": [
    {
     "name": "stdout",
     "output_type": "stream",
     "text": [
      "[Citation(start=30, end=35, text='20°C.', sources=[ToolSource(type='tool', id='get_weather_z6ygd4ccadtm:0', tool_output={'temperature': '20°C'})], content_index=1, type='TEXT_CONTENT')]\n"
     ]
    }
   ],
   "source": [
    "print(response.message.citations)"
   ]
  },
  {
   "cell_type": "code",
   "execution_count": 14,
   "id": "abe8207b",
   "metadata": {},
   "outputs": [
    {
     "name": "stdout",
     "output_type": "stream",
     "text": [
      "{'role': 'user', 'content': \"What's the weather in Toronto?\"} \n",
      "\n",
      "role='assistant' tool_calls=[ToolCallV2(id='get_weather_z6ygd4ccadtm', type='function', function=ToolCallV2Function(name='get_weather', arguments='{\"location\":\"Toronto\"}'))] tool_plan=None content=[ThinkingAssistantMessageResponseContentItem(value=None, type='thinking', thinking=\"The user is asking for the weather in Toronto. I need to use the available tool 'get_weather' to retrieve this information. The tool requires a 'location' parameter, which the user has provided as Toronto. I'll call the tool with the location set to Toronto. No other parameters are needed since the tool only requires the location.\")] citations=None \n",
      "\n",
      "{'role': 'tool', 'tool_call_id': 'get_weather_z6ygd4ccadtm', 'content': [{'type': 'document', 'document': {'data': '{\"temperature\": \"20\\\\u00b0C\"}'}}]} \n",
      "\n",
      "{'role': 'assistant', 'content': 'The temperature in Toronto is 20°C.'} \n",
      "\n"
     ]
    }
   ],
   "source": [
    "for message in messages:\n",
    "    print(message, \"\\n\")"
   ]
  },
  {
   "cell_type": "code",
   "execution_count": null,
   "id": "6c217b15",
   "metadata": {},
   "outputs": [],
   "source": []
  },
  {
   "cell_type": "code",
   "execution_count": null,
   "id": "bb296ed3",
   "metadata": {},
   "outputs": [],
   "source": []
  }
 ],
 "metadata": {
  "kernelspec": {
   "display_name": "base",
   "language": "python",
   "name": "base"
  },
  "language_info": {
   "codemirror_mode": {
    "name": "ipython",
    "version": 3
   },
   "file_extension": ".py",
   "mimetype": "text/x-python",
   "name": "python",
   "nbconvert_exporter": "python",
   "pygments_lexer": "ipython3",
   "version": "3.11.4"
  }
 },
 "nbformat": 4,
 "nbformat_minor": 5
}
