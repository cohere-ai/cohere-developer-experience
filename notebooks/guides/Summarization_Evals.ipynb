{
  "cells": [
    {
      "cell_type": "markdown",
      "metadata": {
        "id": "WClxySHIzi9G"
      },
      "source": [
        "![Cohere-Logo-Color-RGB.png](data:image/png;base64,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)"
      ]
    },
    {
      "cell_type": "markdown",
      "metadata": {
        "id": "LplM9PSe8djM"
      },
      "source": [
        "# Evaluating summarization\n",
        "\n",
        "In this cookbook, we will be demonstrating an approach we use for evaluating summarization tasks using LLM evaluation.\n",
        "\n",
        "### Table of contents:\n",
        "1. [Get started](#start)\n",
        "2. [Construct the evaluation dataset](#dataset)\n",
        "3. [Build the evaluation framework](#eval-framework)\n",
        "5. [Run evaluations](#run-evals)"
      ]
    },
    {
      "cell_type": "markdown",
      "metadata": {
        "id": "6SfEhd3O74--"
      },
      "source": [
        "<a id=\"start\"></a>\n",
        "<a name=\"start\"></a>\n",
        "# Get Started\n",
        "\n",
        "You'll need a Cohere API key to run this notebook. If you don't have a key, head to https://cohere.com/ to generate your key."
      ]
    },
    {
      "cell_type": "code",
      "execution_count": null,
      "metadata": {
        "id": "H2TfKiPM3a6f"
      },
      "outputs": [],
      "source": [
        "# %%capture\n",
        "!pip install \"cohere<5\" datasets --quiet"
      ]
    },
    {
      "cell_type": "code",
      "execution_count": null,
      "metadata": {
        "id": "J1HzGqnY74bj"
      },
      "outputs": [],
      "source": [
        "import json\n",
        "import random\n",
        "import re\n",
        "from typing import List, Optional\n",
        "\n",
        "import cohere\n",
        "from getpass import getpass\n",
        "from datasets import load_dataset\n",
        "import pandas as pd\n",
        "\n",
        "# Set up Cohere client\n",
        "co_api_key = getpass(\"Enter your Cohere API key: \")\n",
        "co_model = \"command-r\"\n",
        "co = cohere.Client(api_key=co_api_key)"
      ]
    },
    {
      "cell_type": "markdown",
      "metadata": {
        "id": "dEN21GS913wo"
      },
      "source": [
        "As test data, we'll use transcripts from the [QMSum dataset](https://github.com/Yale-LILY/QMSum). Note that in addition to the transcripts, this dataset also contains reference summaries -- we will use only the transcripts as our approach is reference-free."
      ]
    },
    {
      "cell_type": "code",
      "execution_count": null,
      "metadata": {
        "id": "1JfU70r113wo"
      },
      "outputs": [],
      "source": [
        "qmsum = load_dataset(\"MocktaiLEngineer/qmsum-processed\", split=\"validation\")\n",
        "transcripts = [x for x in qmsum[\"meeting_transcript\"] if x is not None]"
      ]
    },
    {
      "cell_type": "markdown",
      "metadata": {
        "id": "3U58iKz213wo"
      },
      "source": [
        "<a id=\"dataset\"></a>\n",
        "<a name=\"dataset\"></a>\n",
        "# Construct the evaluation dataset\n",
        "\n",
        "We are interested in evaluating summarization in real-world, enterprise use cases, which typically have two distinguishing features as compared to academic summarization benchmarks:\n",
        "- Enterprise use cases often focus on specific summarization objectives, e.g. \"summarize action items\".\n",
        "- Enterprise use cases often feature specific instruction constraints, e.g. \"summarize in bullets with each bullet under 20 words\".\n",
        "\n",
        "Therefore, we must first create a dataset that contains diverse summarization prompts. We will do this programmatically by building prompts from their components, as defined below:\n",
        "- Prompt = text (e.g. transcript to be summarized) + instruction\n",
        "- Instruction = instruction objective (e.g. \"summarize action items\") + modifiers\n",
        "- Modifiers = format/length modifiers (e.g. \"use bullets\") + style/tone modifiers (e.g. \"do not mention names\") + ...\n",
        "\n",
        "First, we define the prompt that combines the text and instructions. Here, we use a very basic prompt:"
      ]
    },
    {
      "cell_type": "code",
      "execution_count": null,
      "metadata": {
        "id": "2Bj2I0If13wp"
      },
      "outputs": [],
      "source": [
        "prompt_template = \"\"\"## meeting transcript\n",
        "{transcript}\n",
        "\n",
        "## instructions\n",
        "{instructions}\"\"\""
      ]
    },
    {
      "cell_type": "markdown",
      "metadata": {
        "id": "vc33XZLL13wp"
      },
      "source": [
        "Next, we build the instructions. Because each instruction may have a different objective and modifiers, we track them using metadata. This will later be required for evaluation (i.e. to know what the prompt is asking)."
      ]
    },
    {
      "cell_type": "code",
      "execution_count": null,
      "metadata": {
        "id": "4uMI5VXm13wp"
      },
      "outputs": [],
      "source": [
        "# In this cookbook, we will only consider the following 2 objectives and 4 format/length modifiers\n",
        "\n",
        "instruction_objectives = {\n",
        "    \"general_summarization\": \"Summarize the meeting based on the transcript.\",\n",
        "    \"action_items\": \"What are the follow-up items based on the meeting transcript?\",\n",
        "}\n",
        "\n",
        "# Note that not all format/length modifiers are compatible with all objectives. For example, action\n",
        "# items are best suited for bullet format.\n",
        "format_length_modifiers = {\n",
        "    \"paragraphs_short\": {\n",
        "        \"text\": \"In paragraph form, output your response. Use at least 10 words and at most 50 words in total.\",\n",
        "        \"objectives\": [\"general_summarization\"],\n",
        "        \"eval_metadata\": {\n",
        "            \"format\": \"paragraphs\",\n",
        "            \"min_length\": 10,\n",
        "            \"max_length\": 50,\n",
        "        },\n",
        "    },\n",
        "    \"paragraphs_medium\": {\n",
        "        \"text\": \"Return the answer in the form of paragraphs. Make sure your answer is between 50 and 200 words long.\",\n",
        "        \"objectives\": [\"general_summarization\"],\n",
        "        \"eval_metadata\": {\n",
        "            \"format\": \"paragraphs\",\n",
        "            \"min_length\": 50,\n",
        "            \"max_length\": 200,\n",
        "        },\n",
        "    },\n",
        "    \"bullets_short_3\": {\n",
        "        \"text\": \"Format your answer in the form of bullets. Use exactly 3 bullets. Each bullet should be at least 10 words and at most 20 words.\",\n",
        "        \"objectives\": [\"general_summarization\", \"action_items\"],\n",
        "        \"eval_metadata\": {\n",
        "            \"format\": \"bullets\",\n",
        "            \"number\": 3,\n",
        "            \"min_length\": 10,\n",
        "            \"max_length\": 20,\n",
        "        },\n",
        "    },\n",
        "    \"bullets_medium_2\": {\n",
        "        \"text\": \"In bullets, output your response. Make sure to use exactly 2 bullets. Make sure each bullet is between 20 and 80 words long.\",\n",
        "        \"objectives\": [\"general_summarization\", \"action_items\"],\n",
        "        \"eval_metadata\": {\n",
        "            \"format\": \"bullets\",\n",
        "            \"number\": 2,\n",
        "            \"min_length\": 20,\n",
        "            \"max_length\": 80,\n",
        "        },\n",
        "    },\n",
        "}"
      ]
    },
    {
      "cell_type": "markdown",
      "metadata": {
        "id": "u0dqBqxO13wq"
      },
      "source": [
        "Let's combine the objectives and format/length modifiers to finish building the instructions."
      ]
    },
    {
      "cell_type": "code",
      "execution_count": null,
      "metadata": {
        "colab": {
          "base_uri": "https://localhost:8080/"
        },
        "id": "qMTxDOL713wq",
        "outputId": "e854d1bf-0ea7-41cd-b385-98294d19472e"
      },
      "outputs": [
        {
          "name": "stdout",
          "output_type": "stream",
          "text": [
            "[\n",
            "    {\n",
            "        \"instruction\": \"Summarize the meeting based on the transcript. In paragraph form, output your response. Use at least 10 words and at most 50 words in total.\",\n",
            "        \"eval_metadata\": {\n",
            "            \"format\": \"paragraphs\",\n",
            "            \"min_length\": 10,\n",
            "            \"max_length\": 50\n",
            "        },\n",
            "        \"objective\": \"general_summarization\"\n",
            "    },\n",
            "    {\n",
            "        \"instruction\": \"Summarize the meeting based on the transcript. Return the answer in the form of paragraphs. Make sure your answer is between 50 and 200 words long.\",\n",
            "        \"eval_metadata\": {\n",
            "            \"format\": \"paragraphs\",\n",
            "            \"min_length\": 50,\n",
            "            \"max_length\": 200\n",
            "        },\n",
            "        \"objective\": \"general_summarization\"\n",
            "    }\n",
            "]\n"
          ]
        }
      ],
      "source": [
        "instructions = []\n",
        "for obj_name, obj_text in instruction_objectives.items():\n",
        "    for mod_data in format_length_modifiers.values():\n",
        "        for mod_obj in mod_data[\"objectives\"]:\n",
        "            if mod_obj == obj_name:\n",
        "                instruction = {\n",
        "                        \"instruction\": f\"{obj_text} {mod_data['text']}\",\n",
        "                        \"eval_metadata\": mod_data[\"eval_metadata\"],\n",
        "                        \"objective\": obj_name,\n",
        "                    }\n",
        "                instructions.append(instruction)\n",
        "\n",
        "# View the first two instructions\n",
        "print(json.dumps(instructions[:2], indent=4))"
      ]
    },
    {
      "cell_type": "markdown",
      "metadata": {
        "id": "1MeNfW-m13wr"
      },
      "source": [
        "Finally, let's build the final prompts by semi-randomly pairing the instructions with transcripts from the QMSum dataset."
      ]
    },
    {
      "cell_type": "code",
      "execution_count": null,
      "metadata": {
        "id": "LYTMTFAm13wr"
      },
      "outputs": [],
      "source": [
        "data = pd.DataFrame(instructions)\n",
        "\n",
        "# Randomly shuffle the top 25% of transcripts by length, then assign them to the data\n",
        "transcripts = sorted(transcripts, key=lambda x: len(x), reverse=True)[:int(len(transcripts) * 0.25)]\n",
        "random.seed(42)\n",
        "random.shuffle(transcripts)\n",
        "data[\"transcript\"] = transcripts[:len(data)]\n",
        "\n",
        "# Build the prompt\n",
        "data[\"prompt\"] = data.apply(lambda x: prompt_template.format(transcript=x[\"transcript\"], instructions=x[\"instruction\"]), axis=1)"
      ]
    },
    {
      "cell_type": "code",
      "execution_count": null,
      "metadata": {
        "id": "igP0-oHN13wr"
      },
      "outputs": [],
      "source": [
        "# (Optional) Let's also check the token lengths of our prompts.\n",
        "data[\"transcript_token_len\"] = [len(x) for x in co.batch_tokenize(data[\"transcript\"].tolist(), model=co_model)]"
      ]
    },
    {
      "cell_type": "code",
      "execution_count": null,
      "metadata": {
        "colab": {
          "base_uri": "https://localhost:8080/"
        },
        "id": "CbPVxiuV13wr",
        "outputId": "bc9e9cf6-31c0-4404-f43f-fdfb5679cd56"
      },
      "outputs": [
        {
          "name": "stdout",
          "output_type": "stream",
          "text": [
            "## meeting transcript\n",
            "PhD F: As opposed to the rest of us \n",
            "PhD D: Well comment OK I I remind that me my first objective eh in the project is to to study difference parameters to to find a a good solution to detect eh the overlapping zone in eh speech recorded But eh tsk comment ehhh comment In that way comment I I I begin to to study and to analyze the ehn the recorded speech eh the different session to to find and to locate and to mark eh the the different overlapping zone And eh so eh I was eh I am transcribing the the first session and I I have found eh eh one thousand acoustic events eh besides the overlapping zones eh I I I mean the eh breaths eh aspiration eh eh talk eh eh clap eh comment I do not know what is the different names eh you use to to name the the pause n speech \n",
            "Grad G: Oh I do not think we ve been doing it at that level of detail So \n",
            "PhD D: Eh I I I do I do not need to to to mmm to m to label the the different acoustic but I prefer because eh I would like to to study if eh I I will find eh eh a good eh parameters eh to detect overlapping I would like to to to test these parameters eh with the another eh eh acoustic events to nnn to eh to find what is the ehm the false eh the false eh hypothesis eh nnn which eh are produced when we use the the ehm this eh parameter eh I mean pitch eh eh difference eh feature \n",
            "PhD A: You know I think some of these that are the nonspeech overlapping events may be difficult even for humans to tell that there s two there I mean if it s a tapping sound you would not necessarily or you know something like that it would be it might be hard to know that it was two separate events \n",
            "Grad G: Well You were not talking about just overlaps were you ? You were just talking about acoustic events \n",
            "PhD D: I I I I t I t I talk eh about eh acoustic events in general but eh my my objective eh will be eh to study eh overlapping zone Eh ? comment n Eh in twelve minutes I found eh eh one thousand acoustic events \n",
            "Professor E: How many overlaps were there in it ? No no how many of them were the overlaps of speech though ? \n",
            "PhD D: How many ? Eh almost eh three hundred eh in one session in five eh in forty five minutes Alm Three hundred overlapping zone With the overlapping zone overlapping speech speech what eh different duration \n",
            "Postdoc B: Does this ? So if you had an overlap involving three people how many times was that counted ? \n",
            "PhD D: three people two people Eh I would like to consider eh one people with difference noise eh in the background be \n",
            "Professor E: No no but I think what she s asking is pause if at some particular for some particular stretch you had three people talking instead of two did you call that one event ? \n",
            "PhD D: Oh Oh I consider one event eh for th for that eh for all the zone This th I I I con I consider I consider eh an acoustic event the overlapping zone the period where three speaker or eh are talking together \n",
            "Grad G: So let s say me and Jane are talking at the same time and then Liz starts talking also over all of us How many events would that be ? \n",
            "PhD D: So I do not understand \n",
            "Grad G: So two people are talking comment and then a third person starts talking Is there an event right here ? \n",
            "PhD D: Eh no No no For me is the overlapping zone because because you you have s you have more one eh more one voice eh eh produced in a in in a moment \n",
            "Grad G: So i if two or more people are talking \n",
            "Professor E: OK So I think We just wanted to understand how you are defining it So then in the region between since there there is some continuous region in between regions where there is only one person speaking And one contiguous region like that you are calling an event Is it Are you calling the beginning or the end of it the event or are you calling the entire length of it the event ? \n",
            "PhD D: I consider the the nnn the nnn nnn eh the entirety eh eh all all the time there were the voice has overlapped This is the idea But eh I I do not distinguish between the the numbers of eh speaker I m not considering eh the the ehm eh the fact of eh eh for example what did you say ? Eh at first eh eh two talkers are eh speaking and eh eh a third person eh join to to that For me it s eh it s eh all overlap zone with eh several numbers of speakers is eh eh the same acoustic event Wi but without any mark between the zone of the overlapping zone with two speakers eh speaking together and the zone with the three speakers \n",
            "Postdoc B: That would j just be one \n",
            "PhD D: Eh with eh a beginning mark and the ending mark Because eh for me is the is the zone with eh some kind of eh distortion the spectral I do not mind By the moment by the moment \n",
            "Grad G: Well but But you could imagine that three people talking has a different spectral characteristic than two \n",
            "PhD D: I I do not but eh but eh I have to study comment What will happen in a general way \n",
            "Grad G: So You had to start somewhere \n",
            "PhD C: So there s a lot of overlap \n",
            "PhD D: I I do not know what eh will will happen with the \n",
            "Grad G: That s a lot of overlap \n",
            "Professor E: So again that s that s three three hundred in forty five minutes that are that are speakers just speakers \n",
            "Postdoc B: But a a a th \n",
            "Professor E: So that s about eight per minute \n",
            "Postdoc B: But a thousand events in twelve minutes that s \n",
            "PhD C: But that can include taps \n",
            "Postdoc B: Well but a thousand taps in eight minutes is a l in twelve minutes is a lot \n",
            "PhD D: I I con I consider I consider acoustic events eh the silent too \n",
            "Grad G: Silence starting or silence ending \n",
            "PhD D: silent ground to bec to detect eh because I consider acoustic event all the things are not eh speech In ge in in in a general point of view \n",
            "Professor E: OK so how many of those thousand were silence ? \n",
            "PhD F: Not speech not speech or too much speech \n",
            "Professor E: Right So how many of those thousand were silence silent sections ? \n",
            "PhD D: silent I I I I do not I I have not the eh I I would like to to do a stylistic study\n",
            "\n",
            "## instructions\n",
            "Summarize the meeting based on the transcript. In paragraph form, output your response. Use at least 10 words and at most 50 words in total.\n"
          ]
        }
      ],
      "source": [
        "# Let's examine one of the prompts\n",
        "print(data[\"prompt\"][0])"
      ]
    },
    {
      "cell_type": "markdown",
      "metadata": {
        "id": "tDamVDyP13wr"
      },
      "source": [
        "<a id=\"eval-framework\"></a>\n",
        "<a name=\"eval-framework\"></a>\n",
        "# Build the evaluation framework\n",
        "\n",
        "We now setup the tools we will use for evaluation.\n",
        "\n",
        "We use three criteria that are graded using LLMs:\n",
        "- Completeness: checks if the summary includes all the important information from the original text that it should include\n",
        "- Correctness: checks if there are any hallucinations or factual inaccuracies in the summary\n",
        "- Conciseness: checks if the summary includes any unnecessary information or wordiness\n",
        "\n",
        "In this cookbook, we will use Command-R to grade the completions. However, note that in practice, we typically use an ensemble of multiple LLM evaluators to reduce any bias."
      ]
    },
    {
      "cell_type": "code",
      "execution_count": null,
      "metadata": {
        "id": "KGQQp2Yd13wr"
      },
      "outputs": [],
      "source": [
        "# LLM evaluation uses an LLM to grade the completion. We pass the original prompt, completion, and a\n",
        "# criteria to the LLM, and it returns a score between 1 and 5. We will use the following template as\n",
        "# the grading prompt.\n",
        "\n",
        "grading_prompt_template = \"\"\"You are an AI grader that given a prompt, a completion, and a criterion, grades the completion based on the prompt and criterion. Below is a prompt, a completion, and a criterion with which to grade the completion. You need to respond according to the criterion instructions.\n",
        "\n",
        "PROMPT:\n",
        "{prompt}\n",
        "\n",
        "COMPLETION:\n",
        "{completion}\n",
        "\n",
        "CRITERION:\n",
        "{criteria}\n",
        "\n",
        "Do not provide an explanation or respond with additional text. Only respond with the final score in the format SCORE: <final_score>\n",
        "\n",
        "SCORE:\"\"\"\n",
        "\n",
        "\n",
        "criteria_completeness = \"\"\"Please judge the above completion on whether or not all the completion fully addresses the task posed in the prompt. The completion should contain all the information that is asked for by the prompt while also upholding the constraints mentioned in the prompt. Please return a grade between 1 and 5, where 1 means the completion does not address the prompt at all, 2 means the completion mostly does not address the prompt, 3 is neutral, 4 means the completion mostly addresses the prompt, and 5 means the completion fully addresses the prompt.\"\"\"\n",
        "\n",
        "criteria_correctness = \"\"\"Please judge the above completion on whether or not all information was derived from the prompt and that no information is false. Return a grade between 1 and 5, where 1 means the answers are entirely untruthful relative to the prompt, 2 means the answers are somewhat untruthful relative to the prompt, 3 means neutral, 4 means the answers are somewhat truthful relative to the prompt, and 5 means the answers are entirely truthful relative to the prompt. Evaluate only the truthfulness of the answers, not whether or not they capture all the relevant information in the prompt.\"\"\"\n",
        "\n",
        "criteria_conciseness = \"\"\"Please judge the above completion on whether or not the completion contains any unnecessary information or wordiness that does not help answer the specific instruction given in the prompt. Return a grade between 1 and 5, where 1 means the completion contains many unnecessary details and wordiness that do not answer the specific instruction given in the prompt, 2 means the completion contains some unnecessary details or wordiness, 3 means neutral, 4 means the completion contains few unnecessary details or wordiness, and 5 means the completion contains only necessary details that answer the specific instruction given in the prompt.\"\"\"\n",
        "\n",
        "\n",
        "def score_llm(prompt: str, completion: str, criteria: str) -> int:\n",
        "    \"\"\"\n",
        "    Score a completion based on a prompt and a criterion using LLM Because we\n",
        "    grade all completions on a scale of 1-5, we will normalize the scores by 5 so that the final score\n",
        "    is between 0 and 1.\n",
        "    \"\"\"\n",
        "    grading_prompt = grading_prompt_template.format(\n",
        "        prompt=prompt, completion=completion, criteria=criteria\n",
        "    )\n",
        "    # Use Cohere to grade the completion\n",
        "    completion = co.chat(message=grading_prompt, model=co_model, temperature=0.2).text\n",
        "\n",
        "    ### Alternatively, use OpenAI to grade the completion (requires key)\n",
        "    # import openai\n",
        "    # completion = openai.OpenAI(api_key=\"INSERT OPENAI KEY HERE\").chat.completions.create(\n",
        "    #     model=\"gpt-4\",\n",
        "    #     messages=[{\"role\": \"user\", \"content\": grading_prompt}],\n",
        "    #     temperature=0.2,\n",
        "    # ).choices[0].message.content\n",
        "\n",
        "    # Extract the score from the completion\n",
        "    score = float(re.search(r\"[12345]\", completion).group()) / 5\n",
        "    return score"
      ]
    },
    {
      "cell_type": "markdown",
      "metadata": {
        "id": "22dEEsXt13wr"
      },
      "source": [
        "In addition, we have two criteria that are graded programmatically:\n",
        "- Format: checks if the summary follows the format (e.g. bullets) that was requested in the prompt\n",
        "- Length: checks if the summary follows the length that was requested in the prompt."
      ]
    },
    {
      "cell_type": "code",
      "execution_count": null,
      "metadata": {
        "id": "i1niSoI-13wr"
      },
      "outputs": [],
      "source": [
        "# Non-LLM checks\n",
        "\n",
        "def score_format(completion: str, format_type: str) -> int:\n",
        "    \"\"\"\n",
        "    Returns 1 if the completion is in the correct format, 0 otherwise.\n",
        "    \"\"\"\n",
        "    if format_type == \"paragraphs\":\n",
        "        return int(_is_only_paragraphs(completion))\n",
        "    elif format_type == \"bullets\":\n",
        "        return int(_is_only_bullets(completion))\n",
        "    return 0\n",
        "\n",
        "def score_length(\n",
        "    completion: str,\n",
        "    format_type: str,\n",
        "    min_val: int,\n",
        "    max_val: int,\n",
        "    number: Optional[int] = None\n",
        ") -> int:\n",
        "    \"\"\"\n",
        "    Returns 1 if the completion has the correct length for the given format, 0 otherwise. This\n",
        "    includes both word count and number of items (optional).\n",
        "    \"\"\"\n",
        "    # Split into items (each bullet for bullets or each paragraph for paragraphs)\n",
        "    if format_type == \"bullets\":\n",
        "        items = _extract_markdown_bullets(completion, include_bullet=False)\n",
        "    elif format_type == \"paragraphs\":\n",
        "        items = completion.split(\"\\n\")\n",
        "\n",
        "    # Strip whitespace and remove empty items\n",
        "    items = [item for item in items if item.strip() != \"\"]\n",
        "\n",
        "    # Check number of items if provided\n",
        "    if number is not None and len(items) != number:\n",
        "        return 0\n",
        "\n",
        "    # Check length of each item\n",
        "    for item in items:\n",
        "        num_words = item.strip().split()\n",
        "        if min_val is None and len(num_words) > max_val:\n",
        "            return 0\n",
        "        elif max_val is None and len(num_words) < min_val:\n",
        "            return 0\n",
        "        elif not min_val <= len(num_words) <= max_val:\n",
        "            return 0\n",
        "    return 1\n",
        "\n",
        "\n",
        "def _is_only_bullets(text: str) -> bool:\n",
        "    \"\"\"\n",
        "    Returns True if text is only markdown bullets.\n",
        "    \"\"\"\n",
        "    bullets = _extract_markdown_bullets(text, include_bullet=True)\n",
        "\n",
        "    for bullet in bullets:\n",
        "        text = text.replace(bullet, \"\")\n",
        "\n",
        "    return text.strip() == \"\"\n",
        "\n",
        "\n",
        "def _is_only_paragraphs(text: str) -> bool:\n",
        "    \"\"\"\n",
        "    Returns True if text is only paragraphs (no bullets).\n",
        "    \"\"\"\n",
        "    bullets = _extract_markdown_bullets(text, include_bullet=True)\n",
        "\n",
        "    return len(bullets) == 0\n",
        "\n",
        "\n",
        "def _extract_markdown_bullets(text: str, include_bullet: bool = False) -> List[str]:\n",
        "    \"\"\"\n",
        "    Extracts markdown bullets from text as a list. If include_bullet is True, the bullet will be\n",
        "    included in the output. The list of accepted bullets is: -, *, +, •, and any number followed by\n",
        "    a period.\n",
        "    \"\"\"\n",
        "    if include_bullet:\n",
        "        return re.findall(r\"^[ \\t]*(?:[-*+•]|[\\d]+\\.).*\\w+.*$\", text, flags=re.MULTILINE)\n",
        "    return re.findall(r\"^[ \\t]*(?:[-*+•]|[\\d]+\\.)(.*\\w+.*)$\", text, flags=re.MULTILINE)\n"
      ]
    },
    {
      "cell_type": "markdown",
      "metadata": {
        "id": "kBpk-GTe13ws"
      },
      "source": [
        "<a id=\"run-evals\"></a>\n",
        "<a name=\"run-evals\"></a>\n",
        "# Run evaluations\n",
        "\n",
        "Now that we have our evaluation dataset and defined our evaluation functions, let's run evaluations!\n",
        "\n",
        "First, we generate completions to be graded. We will use Cohere's [Command-R](https://huggingface.co/CohereForAI/c4ai-command-r-v01) model, boasting a context length of 128K."
      ]
    },
    {
      "cell_type": "code",
      "execution_count": null,
      "metadata": {
        "id": "HzbOQmWE13ws"
      },
      "outputs": [],
      "source": [
        "completions = []\n",
        "for prompt in data[\"prompt\"]:\n",
        "    completion = co.chat(message=prompt, model=\"command-r\", temperature=0.2).text\n",
        "    completions.append(completion)\n",
        "\n",
        "data[\"completion\"] = completions"
      ]
    },
    {
      "cell_type": "code",
      "execution_count": null,
      "metadata": {
        "colab": {
          "base_uri": "https://localhost:8080/"
        },
        "id": "JbVA8_Xr13ws",
        "outputId": "cebab3f2-4b02-4044-978e-3ae3ae2efa2d"
      },
      "outputs": [
        {
          "name": "stdout",
          "output_type": "stream",
          "text": [
            "PhD student D presented their method for detecting and counting acoustic events in recorded speech sessions, including speech overlaps and silence. The team sought clarification on D's definitions and counted events, discussing the challenges of distinguishing between different types of events.\n"
          ]
        }
      ],
      "source": [
        "# Let's look at the completion for the example prompt we showed earlier\n",
        "print(data[\"completion\"][0])"
      ]
    },
    {
      "cell_type": "markdown",
      "metadata": {
        "id": "6fWjuruK13ws"
      },
      "source": [
        "Let's grade the completions using our LLM and non-LLM checks."
      ]
    },
    {
      "cell_type": "code",
      "execution_count": null,
      "metadata": {
        "id": "6XesZHCN13ws"
      },
      "outputs": [],
      "source": [
        "# Score format\n",
        "data[\"format_score\"] = data.apply(\n",
        "    lambda x: score_format(x[\"completion\"], x[\"eval_metadata\"][\"format\"]), axis=1\n",
        ")\n",
        "\n",
        "# Score length\n",
        "data[\"length_score\"] = data.apply(\n",
        "    lambda x: score_length(\n",
        "        x[\"completion\"],\n",
        "        x[\"eval_metadata\"][\"format\"],\n",
        "        x[\"eval_metadata\"].get(\"min_length\"),\n",
        "        x[\"eval_metadata\"].get(\"max_length\"),\n",
        "    ),\n",
        "    axis=1,\n",
        ")\n",
        "\n",
        "# Score completeness\n",
        "data[\"completeness_score\"] = data.apply(\n",
        "    lambda x: score_llm(x[\"prompt\"], x[\"completion\"], criteria_completeness), axis=1\n",
        ")\n",
        "\n",
        "# Score correctness\n",
        "data[\"correctness_score\"] = data.apply(\n",
        "    lambda x: score_llm(x[\"prompt\"], x[\"completion\"], criteria_correctness), axis=1\n",
        ")\n",
        "\n",
        "# Score conciseness\n",
        "data[\"conciseness_score\"] = data.apply(\n",
        "    lambda x: score_llm(x[\"prompt\"], x[\"completion\"], criteria_conciseness), axis=1\n",
        ")"
      ]
    },
    {
      "cell_type": "code",
      "execution_count": null,
      "metadata": {
        "colab": {
          "base_uri": "https://localhost:8080/",
          "height": 657
        },
        "id": "4gJypAVI13ws",
        "outputId": "67aae9c3-02eb-4a1f-efcb-ba6c4781d18c"
      },
      "outputs": [
        {
          "data": {
            "application/vnd.google.colaboratory.intrinsic+json": {
              "summary": "{\n  \"name\": \"data\",\n  \"rows\": 6,\n  \"fields\": [\n    {\n      \"column\": \"instruction\",\n      \"properties\": {\n        \"dtype\": \"string\",\n        \"num_unique_values\": 6,\n        \"samples\": [\n          \"Summarize the meeting based on the transcript. In paragraph form, output your response. Use at least 10 words and at most 50 words in total.\",\n          \"Summarize the meeting based on the transcript. Return the answer in the form of paragraphs. Make sure your answer is between 50 and 200 words long.\",\n          \"What are the follow-up items based on the meeting transcript? In bullets, output your response. Make sure to use exactly 2 bullets. Make sure each bullet is between 20 and 80 words long.\"\n        ],\n        \"semantic_type\": \"\",\n        \"description\": \"\"\n      }\n    },\n    {\n      \"column\": \"eval_metadata\",\n      \"properties\": {\n        \"dtype\": \"object\",\n        \"semantic_type\": \"\",\n        \"description\": \"\"\n      }\n    },\n    {\n      \"column\": \"objective\",\n      \"properties\": {\n        \"dtype\": \"category\",\n        \"num_unique_values\": 2,\n        \"samples\": [\n          \"action_items\",\n          \"general_summarization\"\n        ],\n        \"semantic_type\": \"\",\n        \"description\": \"\"\n      }\n    },\n    {\n      \"column\": \"transcript\",\n      \"properties\": {\n        \"dtype\": \"string\",\n        \"num_unique_values\": 6,\n        \"samples\": [\n          \"PhD F: As opposed to the rest of us \\nPhD D: Well comment OK I I remind that me my first objective eh in the project is to to study difference parameters to to find a a good solution to detect eh the overlapping zone in eh speech recorded But eh tsk comment ehhh comment In that way comment I I I begin to to study and to analyze the ehn the recorded speech eh the different session to to find and to locate and to mark eh the the different overlapping zone And eh so eh I was eh I am transcribing the the first session and I I have found eh eh one thousand acoustic events eh besides the overlapping zones eh I I I mean the eh breaths eh aspiration eh eh talk eh eh clap eh comment I do not know what is the different names eh you use to to name the the pause n speech \\nGrad G: Oh I do not think we ve been doing it at that level of detail So \\nPhD D: Eh I I I do I do not need to to to mmm to m to label the the different acoustic but I prefer because eh I would like to to study if eh I I will find eh eh a good eh parameters eh to detect overlapping I would like to to to test these parameters eh with the another eh eh acoustic events to nnn to eh to find what is the ehm the false eh the false eh hypothesis eh nnn which eh are produced when we use the the ehm this eh parameter eh I mean pitch eh eh difference eh feature \\nPhD A: You know I think some of these that are the nonspeech overlapping events may be difficult even for humans to tell that there s two there I mean if it s a tapping sound you would not necessarily or you know something like that it would be it might be hard to know that it was two separate events \\nGrad G: Well You were not talking about just overlaps were you ? You were just talking about acoustic events \\nPhD D: I I I I t I t I talk eh about eh acoustic events in general but eh my my objective eh will be eh to study eh overlapping zone Eh ? comment n Eh in twelve minutes I found eh eh one thousand acoustic events \\nProfessor E: How many overlaps were there in it ? No no how many of them were the overlaps of speech though ? \\nPhD D: How many ? Eh almost eh three hundred eh in one session in five eh in forty five minutes Alm Three hundred overlapping zone With the overlapping zone overlapping speech speech what eh different duration \\nPostdoc B: Does this ? So if you had an overlap involving three people how many times was that counted ? \\nPhD D: three people two people Eh I would like to consider eh one people with difference noise eh in the background be \\nProfessor E: No no but I think what she s asking is pause if at some particular for some particular stretch you had three people talking instead of two did you call that one event ? \\nPhD D: Oh Oh I consider one event eh for th for that eh for all the zone This th I I I con I consider I consider eh an acoustic event the overlapping zone the period where three speaker or eh are talking together \\nGrad G: So let s say me and Jane are talking at the same time and then Liz starts talking also over all of us How many events would that be ? \\nPhD D: So I do not understand \\nGrad G: So two people are talking comment and then a third person starts talking Is there an event right here ? \\nPhD D: Eh no No no For me is the overlapping zone because because you you have s you have more one eh more one voice eh eh produced in a in in a moment \\nGrad G: So i if two or more people are talking \\nProfessor E: OK So I think We just wanted to understand how you are defining it So then in the region between since there there is some continuous region in between regions where there is only one person speaking And one contiguous region like that you are calling an event Is it Are you calling the beginning or the end of it the event or are you calling the entire length of it the event ? \\nPhD D: I consider the the nnn the nnn nnn eh the entirety eh eh all all the time there were the voice has overlapped This is the idea But eh I I do not distinguish between the the numbers of eh speaker I m not considering eh the the ehm eh the fact of eh eh for example what did you say ? Eh at first eh eh two talkers are eh speaking and eh eh a third person eh join to to that For me it s eh it s eh all overlap zone with eh several numbers of speakers is eh eh the same acoustic event Wi but without any mark between the zone of the overlapping zone with two speakers eh speaking together and the zone with the three speakers \\nPostdoc B: That would j just be one \\nPhD D: Eh with eh a beginning mark and the ending mark Because eh for me is the is the zone with eh some kind of eh distortion the spectral I do not mind By the moment by the moment \\nGrad G: Well but But you could imagine that three people talking has a different spectral characteristic than two \\nPhD D: I I do not but eh but eh I have to study comment What will happen in a general way \\nGrad G: So You had to start somewhere \\nPhD C: So there s a lot of overlap \\nPhD D: I I do not know what eh will will happen with the \\nGrad G: That s a lot of overlap \\nProfessor E: So again that s that s three three hundred in forty five minutes that are that are speakers just speakers \\nPostdoc B: But a a a th \\nProfessor E: So that s about eight per minute \\nPostdoc B: But a thousand events in twelve minutes that s \\nPhD C: But that can include taps \\nPostdoc B: Well but a thousand taps in eight minutes is a l in twelve minutes is a lot \\nPhD D: I I con I consider I consider acoustic events eh the silent too \\nGrad G: Silence starting or silence ending \\nPhD D: silent ground to bec to detect eh because I consider acoustic event all the things are not eh speech In ge in in in a general point of view \\nProfessor E: OK so how many of those thousand were silence ? \\nPhD F: Not speech not speech or too much speech \\nProfessor E: Right So how many of those thousand were silence silent sections ? \\nPhD D: silent I I I I do not I I have not the eh I I would like to to do a stylistic study\",\n          \"Lynne Neagle AM: Thank you very much And the next questions then are from Suzy Davies \\nSuzy Davies AM: Thank you Chair I just wanted to have a quick answer from probably the Minister I think about the primary legislation and the regulations that followed about which childrens rights impact assessments have been done Have any been done and can they be shared with the committee if they have ? Sorry Deputy Minister\\u2014my mistake \\nJulie Morgan AM: Well it is been a very difficult time as you appreciate in terms of having to make legislation very quickly and it has not been possible to do the impact assessments that we would normally do However I am very pleased to say that we are actually launching a survey of children We are going to be launching it next week And this is to try to get from children their views of what is happened what we have been doing and their views on the whole COVID19 situation So we are doing this in conjunction with the childrens commissioner and with Young Wales and with the Youth Parliament So this is an online survey that we hope will be going out to thousands of children and we will get their response in terms of what are the important issues that have arisen for them what they feel about what is happened during this period what they feel about the way that we have dealt with the schools the way that they have had to cope in not going school and being at home for so long And so we are trying to get feedback from young people So I am very pleased that we are doing that but in terms of an impact assessment it has been very difficult as I am sure you can imagine to be able to do those at these times I think that Albert wants to come in on that \\nSuzy Davies AM: Yes because I will pursue that in a sec \\nAlbert Heaney: Thank you Thank you Chair and I think Nicola indicated before me so apologies Nicola Just to say for the committee really importantly that we have not introduced any easements in relation to childrens services legislation I think that is really quite crucial So from a Welsh context the standards that are in place do remain so therefore there would not have been a necessity for us to do a childrens rights impact assessment in relation to the primary legislation I think that is particularly a strong point to us in Wales both in terms of safeguarding arrangements but also ensuring that childrens rights are protected at a crucial time \\nNicola Edwards: Thanks In terms of childcare and education we are obviously looking at the provisions under the coronavirus Act to allow us to maybe ease some of the statutory requirements and we are going to be undertaking a full suite of impact assessments on those Obviously the coronavirus Act itself was UK Government legislation and they ran their own impact assessments but in terms of how we implement it in the childcare and education space\\u2014and I think Albert was just saying the same thing\\u2014we definitely will be looking at those impacts in terms of going forward \\nSuzy Davies AM: Well just to come back on that then are you saying to me that as a result of the various coronavirus regulations that we have had no assessments for childrens needs have been postponed cancelled or done very quickly online rather than in person ? \\nJulie Morgan AM: Well I think as Albert said that there was no relaxation of regulation for childrens social care You know that is\\u2014there have not been any in Wales \\nSuzy Davies AM: No but that is what\\u2014 There is no relaxation but what is happening in practice ? We are down on staff across all our councils and in our third sectors\\u2014who is doing the childrens needs assessments particularly for young carers ? \\nJulie Morgan AM: Well I\\u2014 Albert can you answer that ? \\nAlbert Heaney: I think the first thing to say to the committee is that going back we took a very strong line at the beginning that we were not going to introduce easements in requirements to childrens social services Of course through the way that practitioners and social work practitioners have to operate they are having to operate through a different time So assessments are still taking place for child protection and safeguarding concerns assessments are still taking place and especially in relation to\\u2014as you mentioned\\u2014young carers to support their needs So arrangements\\u2014Inaudible But they are having to be slightly differently done\\u2014so some of the technology and keeping in contact and keeping those visits So we have used for example the St Davids Day fund to make sure that care leavers are well supported in terms of having contact and are accessible and able to engage as well So we are having to be a little bit more\\u2014and social services departments are having to be a little bit more\\u2014innovative in the use of technology in the way that they have engaged as well But personal visits are taking place and visits especially as the Minister mentioned earlier on\\u2014they actually individually assess each case to determine the frequency of visits to make sure that those contacts are maintained with children at a critical time \\nSuzy Davies AM: Thank you I do not want to take this much further but personal visits and social distancing could be slightly problematic I just want to finish with this one question if I may We have had recommendations from the Carers Trust or Carers Trust Wales Have they been accepted by Government and is it those that are driving the agenda of the task and finish group that you announced the other day Deputy Minister ? \\nJulie Morgan AM: Well those will certainly be considered by the task and finish group I have had a letter from the Carers Trust about those issues and we are setting up this group as you know and we will be looking at those issues in the group \\nSuzy Davies AM: Thank you Any steal on when that might report ? \\nJulie Morgan AM: I do not have that at the moment \\nLynne Neagle AM: Maybe we could have a note on that Deputy Minister Can I just say we are running short of time ? We did start late so if the Ministers are happy we will carry on until 210 pm\\u2014310 pm\\u2014if that is And the next questions are from Si\\u00e2n Gwenllian Hold on a sec Si\\u00e2n we have lost translation again Can we just see what can be done to get the translation back ? Sorry Si\\u00e2n Is there anyone who can help with the translation ? There you go Si\\u00e2n Thank you \\nSian Gwenllian AM: You will know Deputy Minister\\u2014because we have discussed this in private session\\u2014my major concerns with regard to the childcare sector and what kind of childcare sector we will have at the end of this crisis as families start to return to the workplace There are still some childcare providers who are falling between the cracks and are not receiving financial support Do you agree\\u2014are there people who are still not being supported and why is not the Welsh Government able to provide that support for everyone in the childcare sector ? \\nJulie Morgan AM: Thank you Si\\u00e2n for that question And I know that we have had a discussion about this before Basically we are aware that there are some sectors in the childcare sector that do fall through some of the loops We have guaranteed that we will pay the money for the childcare offer for three months So that is guaranteed to them and they are able to take advantage of the Governments job retainer scheme but that does mean that there is a problem as I think we have discussed before of the double funding issue and that is something that we have been trying to resolve and there have been discussions with the Treasury in Whitehall about ways forward on this I am going to ask Nicola to come in in a minute because she is much more up to date with the discussions about that but so far I do not think very much progress has been made on that But we are looking to see if there are any other ways that we can get help to the childcare sector and I am actually following this meeting with a meeting with the Deputy Minister for equality and chief whip who is responsible for the voluntary sector because obviously many of the groups that we are talking about would come under the voluntary sector because they have voluntary committees but they fall between many stools because they rent premises rather than own premises and they do not have high turnovers that would qualify them for some of these grants So perhaps I could ask Nicola to come in to expand on that\"\n        ],\n        \"semantic_type\": \"\",\n        \"description\": \"\"\n      }\n    },\n    {\n      \"column\": \"prompt\",\n      \"properties\": {\n        \"dtype\": \"string\",\n        \"num_unique_values\": 6,\n        \"samples\": [\n          \"## meeting transcript\\nPhD F: As opposed to the rest of us \\nPhD D: Well comment OK I I remind that me my first objective eh in the project is to to study difference parameters to to find a a good solution to detect eh the overlapping zone in eh speech recorded But eh tsk comment ehhh comment In that way comment I I I begin to to study and to analyze the ehn the recorded speech eh the different session to to find and to locate and to mark eh the the different overlapping zone And eh so eh I was eh I am transcribing the the first session and I I have found eh eh one thousand acoustic events eh besides the overlapping zones eh I I I mean the eh breaths eh aspiration eh eh talk eh eh clap eh comment I do not know what is the different names eh you use to to name the the pause n speech \\nGrad G: Oh I do not think we ve been doing it at that level of detail So \\nPhD D: Eh I I I do I do not need to to to mmm to m to label the the different acoustic but I prefer because eh I would like to to study if eh I I will find eh eh a good eh parameters eh to detect overlapping I would like to to to test these parameters eh with the another eh eh acoustic events to nnn to eh to find what is the ehm the false eh the false eh hypothesis eh nnn which eh are produced when we use the the ehm this eh parameter eh I mean pitch eh eh difference eh feature \\nPhD A: You know I think some of these that are the nonspeech overlapping events may be difficult even for humans to tell that there s two there I mean if it s a tapping sound you would not necessarily or you know something like that it would be it might be hard to know that it was two separate events \\nGrad G: Well You were not talking about just overlaps were you ? You were just talking about acoustic events \\nPhD D: I I I I t I t I talk eh about eh acoustic events in general but eh my my objective eh will be eh to study eh overlapping zone Eh ? comment n Eh in twelve minutes I found eh eh one thousand acoustic events \\nProfessor E: How many overlaps were there in it ? No no how many of them were the overlaps of speech though ? \\nPhD D: How many ? Eh almost eh three hundred eh in one session in five eh in forty five minutes Alm Three hundred overlapping zone With the overlapping zone overlapping speech speech what eh different duration \\nPostdoc B: Does this ? So if you had an overlap involving three people how many times was that counted ? \\nPhD D: three people two people Eh I would like to consider eh one people with difference noise eh in the background be \\nProfessor E: No no but I think what she s asking is pause if at some particular for some particular stretch you had three people talking instead of two did you call that one event ? \\nPhD D: Oh Oh I consider one event eh for th for that eh for all the zone This th I I I con I consider I consider eh an acoustic event the overlapping zone the period where three speaker or eh are talking together \\nGrad G: So let s say me and Jane are talking at the same time and then Liz starts talking also over all of us How many events would that be ? \\nPhD D: So I do not understand \\nGrad G: So two people are talking comment and then a third person starts talking Is there an event right here ? \\nPhD D: Eh no No no For me is the overlapping zone because because you you have s you have more one eh more one voice eh eh produced in a in in a moment \\nGrad G: So i if two or more people are talking \\nProfessor E: OK So I think We just wanted to understand how you are defining it So then in the region between since there there is some continuous region in between regions where there is only one person speaking And one contiguous region like that you are calling an event Is it Are you calling the beginning or the end of it the event or are you calling the entire length of it the event ? \\nPhD D: I consider the the nnn the nnn nnn eh the entirety eh eh all all the time there were the voice has overlapped This is the idea But eh I I do not distinguish between the the numbers of eh speaker I m not considering eh the the ehm eh the fact of eh eh for example what did you say ? Eh at first eh eh two talkers are eh speaking and eh eh a third person eh join to to that For me it s eh it s eh all overlap zone with eh several numbers of speakers is eh eh the same acoustic event Wi but without any mark between the zone of the overlapping zone with two speakers eh speaking together and the zone with the three speakers \\nPostdoc B: That would j just be one \\nPhD D: Eh with eh a beginning mark and the ending mark Because eh for me is the is the zone with eh some kind of eh distortion the spectral I do not mind By the moment by the moment \\nGrad G: Well but But you could imagine that three people talking has a different spectral characteristic than two \\nPhD D: I I do not but eh but eh I have to study comment What will happen in a general way \\nGrad G: So You had to start somewhere \\nPhD C: So there s a lot of overlap \\nPhD D: I I do not know what eh will will happen with the \\nGrad G: That s a lot of overlap \\nProfessor E: So again that s that s three three hundred in forty five minutes that are that are speakers just speakers \\nPostdoc B: But a a a th \\nProfessor E: So that s about eight per minute \\nPostdoc B: But a thousand events in twelve minutes that s \\nPhD C: But that can include taps \\nPostdoc B: Well but a thousand taps in eight minutes is a l in twelve minutes is a lot \\nPhD D: I I con I consider I consider acoustic events eh the silent too \\nGrad G: Silence starting or silence ending \\nPhD D: silent ground to bec to detect eh because I consider acoustic event all the things are not eh speech In ge in in in a general point of view \\nProfessor E: OK so how many of those thousand were silence ? \\nPhD F: Not speech not speech or too much speech \\nProfessor E: Right So how many of those thousand were silence silent sections ? \\nPhD D: silent I I I I do not I I have not the eh I I would like to to do a stylistic study\\n\\n## instructions\\nSummarize the meeting based on the transcript. In paragraph form, output your response. Use at least 10 words and at most 50 words in total.\",\n          \"## meeting transcript\\nLynne Neagle AM: Thank you very much And the next questions then are from Suzy Davies \\nSuzy Davies AM: Thank you Chair I just wanted to have a quick answer from probably the Minister I think about the primary legislation and the regulations that followed about which childrens rights impact assessments have been done Have any been done and can they be shared with the committee if they have ? Sorry Deputy Minister\\u2014my mistake \\nJulie Morgan AM: Well it is been a very difficult time as you appreciate in terms of having to make legislation very quickly and it has not been possible to do the impact assessments that we would normally do However I am very pleased to say that we are actually launching a survey of children We are going to be launching it next week And this is to try to get from children their views of what is happened what we have been doing and their views on the whole COVID19 situation So we are doing this in conjunction with the childrens commissioner and with Young Wales and with the Youth Parliament So this is an online survey that we hope will be going out to thousands of children and we will get their response in terms of what are the important issues that have arisen for them what they feel about what is happened during this period what they feel about the way that we have dealt with the schools the way that they have had to cope in not going school and being at home for so long And so we are trying to get feedback from young people So I am very pleased that we are doing that but in terms of an impact assessment it has been very difficult as I am sure you can imagine to be able to do those at these times I think that Albert wants to come in on that \\nSuzy Davies AM: Yes because I will pursue that in a sec \\nAlbert Heaney: Thank you Thank you Chair and I think Nicola indicated before me so apologies Nicola Just to say for the committee really importantly that we have not introduced any easements in relation to childrens services legislation I think that is really quite crucial So from a Welsh context the standards that are in place do remain so therefore there would not have been a necessity for us to do a childrens rights impact assessment in relation to the primary legislation I think that is particularly a strong point to us in Wales both in terms of safeguarding arrangements but also ensuring that childrens rights are protected at a crucial time \\nNicola Edwards: Thanks In terms of childcare and education we are obviously looking at the provisions under the coronavirus Act to allow us to maybe ease some of the statutory requirements and we are going to be undertaking a full suite of impact assessments on those Obviously the coronavirus Act itself was UK Government legislation and they ran their own impact assessments but in terms of how we implement it in the childcare and education space\\u2014and I think Albert was just saying the same thing\\u2014we definitely will be looking at those impacts in terms of going forward \\nSuzy Davies AM: Well just to come back on that then are you saying to me that as a result of the various coronavirus regulations that we have had no assessments for childrens needs have been postponed cancelled or done very quickly online rather than in person ? \\nJulie Morgan AM: Well I think as Albert said that there was no relaxation of regulation for childrens social care You know that is\\u2014there have not been any in Wales \\nSuzy Davies AM: No but that is what\\u2014 There is no relaxation but what is happening in practice ? We are down on staff across all our councils and in our third sectors\\u2014who is doing the childrens needs assessments particularly for young carers ? \\nJulie Morgan AM: Well I\\u2014 Albert can you answer that ? \\nAlbert Heaney: I think the first thing to say to the committee is that going back we took a very strong line at the beginning that we were not going to introduce easements in requirements to childrens social services Of course through the way that practitioners and social work practitioners have to operate they are having to operate through a different time So assessments are still taking place for child protection and safeguarding concerns assessments are still taking place and especially in relation to\\u2014as you mentioned\\u2014young carers to support their needs So arrangements\\u2014Inaudible But they are having to be slightly differently done\\u2014so some of the technology and keeping in contact and keeping those visits So we have used for example the St Davids Day fund to make sure that care leavers are well supported in terms of having contact and are accessible and able to engage as well So we are having to be a little bit more\\u2014and social services departments are having to be a little bit more\\u2014innovative in the use of technology in the way that they have engaged as well But personal visits are taking place and visits especially as the Minister mentioned earlier on\\u2014they actually individually assess each case to determine the frequency of visits to make sure that those contacts are maintained with children at a critical time \\nSuzy Davies AM: Thank you I do not want to take this much further but personal visits and social distancing could be slightly problematic I just want to finish with this one question if I may We have had recommendations from the Carers Trust or Carers Trust Wales Have they been accepted by Government and is it those that are driving the agenda of the task and finish group that you announced the other day Deputy Minister ? \\nJulie Morgan AM: Well those will certainly be considered by the task and finish group I have had a letter from the Carers Trust about those issues and we are setting up this group as you know and we will be looking at those issues in the group \\nSuzy Davies AM: Thank you Any steal on when that might report ? \\nJulie Morgan AM: I do not have that at the moment \\nLynne Neagle AM: Maybe we could have a note on that Deputy Minister Can I just say we are running short of time ? We did start late so if the Ministers are happy we will carry on until 210 pm\\u2014310 pm\\u2014if that is And the next questions are from Si\\u00e2n Gwenllian Hold on a sec Si\\u00e2n we have lost translation again Can we just see what can be done to get the translation back ? Sorry Si\\u00e2n Is there anyone who can help with the translation ? There you go Si\\u00e2n Thank you \\nSian Gwenllian AM: You will know Deputy Minister\\u2014because we have discussed this in private session\\u2014my major concerns with regard to the childcare sector and what kind of childcare sector we will have at the end of this crisis as families start to return to the workplace There are still some childcare providers who are falling between the cracks and are not receiving financial support Do you agree\\u2014are there people who are still not being supported and why is not the Welsh Government able to provide that support for everyone in the childcare sector ? \\nJulie Morgan AM: Thank you Si\\u00e2n for that question And I know that we have had a discussion about this before Basically we are aware that there are some sectors in the childcare sector that do fall through some of the loops We have guaranteed that we will pay the money for the childcare offer for three months So that is guaranteed to them and they are able to take advantage of the Governments job retainer scheme but that does mean that there is a problem as I think we have discussed before of the double funding issue and that is something that we have been trying to resolve and there have been discussions with the Treasury in Whitehall about ways forward on this I am going to ask Nicola to come in in a minute because she is much more up to date with the discussions about that but so far I do not think very much progress has been made on that But we are looking to see if there are any other ways that we can get help to the childcare sector and I am actually following this meeting with a meeting with the Deputy Minister for equality and chief whip who is responsible for the voluntary sector because obviously many of the groups that we are talking about would come under the voluntary sector because they have voluntary committees but they fall between many stools because they rent premises rather than own premises and they do not have high turnovers that would qualify them for some of these grants So perhaps I could ask Nicola to come in to expand on that\\n\\n## instructions\\nSummarize the meeting based on the transcript. Return the answer in the form of paragraphs. Make sure your answer is between 50 and 200 words long.\"\n        ],\n        \"semantic_type\": \"\",\n        \"description\": \"\"\n      }\n    },\n    {\n      \"column\": \"transcript_token_len\",\n      \"properties\": {\n        \"dtype\": \"number\",\n        \"std\": 568,\n        \"min\": 1100,\n        \"max\": 2618,\n        \"num_unique_values\": 6,\n        \"samples\": [\n          1378,\n          1649\n        ],\n        \"semantic_type\": \"\",\n        \"description\": \"\"\n      }\n    },\n    {\n      \"column\": \"completion\",\n      \"properties\": {\n        \"dtype\": \"string\",\n        \"num_unique_values\": 6,\n        \"samples\": [\n          \"PhD student D presented their method for detecting and counting acoustic events in recorded speech sessions, including speech overlaps and silence. The team sought clarification on D's definitions and counted events, discussing the challenges of distinguishing between different types of events.\",\n          \"The meeting between Welsh politicians and officials centered around the impact of the coronavirus legislation on children's rights and the childcare sector in Wales. Julie Morgan, the AM, explained that a survey would be launched to gather the views of children on the pandemic situation, as it had been challenging to conduct children's rights impact assessments during these fast-paced times. \\n\\nAlbert Heaney emphasized that there had been no relaxation of children's social care regulations in Wales, but that the methods of assessment had to be adapted due to the pandemic. In response to Sian Gwenllian's concerns, Julie Morgan acknowledged that some childcare providers were struggling financially due to the pandemic. She assured that the government was trying to support them, but the complexity of the issue had hindered progress, especially regarding the double funding problem.\"\n        ],\n        \"semantic_type\": \"\",\n        \"description\": \"\"\n      }\n    },\n    {\n      \"column\": \"format_score\",\n      \"properties\": {\n        \"dtype\": \"number\",\n        \"std\": 0,\n        \"min\": 1,\n        \"max\": 1,\n        \"num_unique_values\": 1,\n        \"samples\": [\n          1\n        ],\n        \"semantic_type\": \"\",\n        \"description\": \"\"\n      }\n    },\n    {\n      \"column\": \"length_score\",\n      \"properties\": {\n        \"dtype\": \"number\",\n        \"std\": 0,\n        \"min\": 0,\n        \"max\": 1,\n        \"num_unique_values\": 2,\n        \"samples\": [\n          0\n        ],\n        \"semantic_type\": \"\",\n        \"description\": \"\"\n      }\n    },\n    {\n      \"column\": \"completeness_score\",\n      \"properties\": {\n        \"dtype\": \"number\",\n        \"std\": 1.2161883888976234e-16,\n        \"min\": 0.8,\n        \"max\": 0.8,\n        \"num_unique_values\": 1,\n        \"samples\": [\n          0.8\n        ],\n        \"semantic_type\": \"\",\n        \"description\": \"\"\n      }\n    },\n    {\n      \"column\": \"correctness_score\",\n      \"properties\": {\n        \"dtype\": \"number\",\n        \"std\": 0.0,\n        \"min\": 1.0,\n        \"max\": 1.0,\n        \"num_unique_values\": 1,\n        \"samples\": [\n          1.0\n        ],\n        \"semantic_type\": \"\",\n        \"description\": \"\"\n      }\n    },\n    {\n      \"column\": \"conciseness_score\",\n      \"properties\": {\n        \"dtype\": \"number\",\n        \"std\": 1.2161883888976234e-16,\n        \"min\": 0.8,\n        \"max\": 0.8,\n        \"num_unique_values\": 1,\n        \"samples\": [\n          0.8\n        ],\n        \"semantic_type\": \"\",\n        \"description\": \"\"\n      }\n    }\n  ]\n}",
              "type": "dataframe",
              "variable_name": "data"
            },
            "text/html": [
              "\n",
              "  <div id=\"df-0bf386c2-7304-4a6e-a3ba-1fe955197e82\" class=\"colab-df-container\">\n",
              "    <div>\n",
              "<style scoped>\n",
              "    .dataframe tbody tr th:only-of-type {\n",
              "        vertical-align: middle;\n",
              "    }\n",
              "\n",
              "    .dataframe tbody tr th {\n",
              "        vertical-align: top;\n",
              "    }\n",
              "\n",
              "    .dataframe thead th {\n",
              "        text-align: right;\n",
              "    }\n",
              "</style>\n",
              "<table border=\"1\" class=\"dataframe\">\n",
              "  <thead>\n",
              "    <tr style=\"text-align: right;\">\n",
              "      <th></th>\n",
              "      <th>instruction</th>\n",
              "      <th>eval_metadata</th>\n",
              "      <th>objective</th>\n",
              "      <th>transcript</th>\n",
              "      <th>prompt</th>\n",
              "      <th>transcript_token_len</th>\n",
              "      <th>completion</th>\n",
              "      <th>format_score</th>\n",
              "      <th>length_score</th>\n",
              "      <th>completeness_score</th>\n",
              "      <th>correctness_score</th>\n",
              "      <th>conciseness_score</th>\n",
              "    </tr>\n",
              "  </thead>\n",
              "  <tbody>\n",
              "    <tr>\n",
              "      <th>0</th>\n",
              "      <td>Summarize the meeting based on the transcript....</td>\n",
              "      <td>{'format': 'paragraphs', 'min_length': 10, 'ma...</td>\n",
              "      <td>general_summarization</td>\n",
              "      <td>PhD F: As opposed to the rest of us \\nPhD D: W...</td>\n",
              "      <td>## meeting transcript\\nPhD F: As opposed to th...</td>\n",
              "      <td>1378</td>\n",
              "      <td>PhD student D presented their method for detec...</td>\n",
              "      <td>1</td>\n",
              "      <td>1</td>\n",
              "      <td>0.8</td>\n",
              "      <td>1.0</td>\n",
              "      <td>0.8</td>\n",
              "    </tr>\n",
              "    <tr>\n",
              "      <th>1</th>\n",
              "      <td>Summarize the meeting based on the transcript....</td>\n",
              "      <td>{'format': 'paragraphs', 'min_length': 50, 'ma...</td>\n",
              "      <td>general_summarization</td>\n",
              "      <td>Lynne Neagle AM: Thank you very much And the n...</td>\n",
              "      <td>## meeting transcript\\nLynne Neagle AM: Thank ...</td>\n",
              "      <td>1649</td>\n",
              "      <td>The meeting between Welsh politicians and offi...</td>\n",
              "      <td>1</td>\n",
              "      <td>1</td>\n",
              "      <td>0.8</td>\n",
              "      <td>1.0</td>\n",
              "      <td>0.8</td>\n",
              "    </tr>\n",
              "    <tr>\n",
              "      <th>2</th>\n",
              "      <td>Summarize the meeting based on the transcript....</td>\n",
              "      <td>{'format': 'bullets', 'number': 3, 'min_length...</td>\n",
              "      <td>general_summarization</td>\n",
              "      <td>Industrial Designer: Yep So we are to mainly d...</td>\n",
              "      <td>## meeting transcript\\nIndustrial Designer: Ye...</td>\n",
              "      <td>1100</td>\n",
              "      <td>- The team discusses the design of a remote co...</td>\n",
              "      <td>1</td>\n",
              "      <td>0</td>\n",
              "      <td>0.8</td>\n",
              "      <td>1.0</td>\n",
              "      <td>0.8</td>\n",
              "    </tr>\n",
              "    <tr>\n",
              "      <th>3</th>\n",
              "      <td>Summarize the meeting based on the transcript....</td>\n",
              "      <td>{'format': 'bullets', 'number': 2, 'min_length...</td>\n",
              "      <td>general_summarization</td>\n",
              "      <td>Industrial Designer: Mm I think one of the ver...</td>\n",
              "      <td>## meeting transcript\\nIndustrial Designer: Mm...</td>\n",
              "      <td>2618</td>\n",
              "      <td>- The team discusses the target demographic fo...</td>\n",
              "      <td>1</td>\n",
              "      <td>1</td>\n",
              "      <td>0.8</td>\n",
              "      <td>1.0</td>\n",
              "      <td>0.8</td>\n",
              "    </tr>\n",
              "    <tr>\n",
              "      <th>4</th>\n",
              "      <td>What are the follow-up items based on the meet...</td>\n",
              "      <td>{'format': 'bullets', 'number': 3, 'min_length...</td>\n",
              "      <td>action_items</td>\n",
              "      <td>Marketing: so a lot of people have to be able ...</td>\n",
              "      <td>## meeting transcript\\nMarketing: so a lot of ...</td>\n",
              "      <td>2286</td>\n",
              "      <td>- Investigate remote's compatibility with vari...</td>\n",
              "      <td>1</td>\n",
              "      <td>1</td>\n",
              "      <td>0.8</td>\n",
              "      <td>1.0</td>\n",
              "      <td>0.8</td>\n",
              "    </tr>\n",
              "    <tr>\n",
              "      <th>5</th>\n",
              "      <td>What are the follow-up items based on the meet...</td>\n",
              "      <td>{'format': 'bullets', 'number': 2, 'min_length...</td>\n",
              "      <td>action_items</td>\n",
              "      <td>Project Manager: Alright So finance And we wil...</td>\n",
              "      <td>## meeting transcript\\nProject Manager: Alrigh...</td>\n",
              "      <td>1965</td>\n",
              "      <td>- The project manager will send the updated de...</td>\n",
              "      <td>1</td>\n",
              "      <td>1</td>\n",
              "      <td>0.8</td>\n",
              "      <td>1.0</td>\n",
              "      <td>0.8</td>\n",
              "    </tr>\n",
              "  </tbody>\n",
              "</table>\n",
              "</div>\n",
              "    <div class=\"colab-df-buttons\">\n",
              "\n",
              "  <div class=\"colab-df-container\">\n",
              "    <button class=\"colab-df-convert\" onclick=\"convertToInteractive('df-0bf386c2-7304-4a6e-a3ba-1fe955197e82')\"\n",
              "            title=\"Convert this dataframe to an interactive table.\"\n",
              "            style=\"display:none;\">\n",
              "\n",
              "  <svg xmlns=\"http://www.w3.org/2000/svg\" height=\"24px\" viewBox=\"0 -960 960 960\">\n",
              "    <path d=\"M120-120v-720h720v720H120Zm60-500h600v-160H180v160Zm220 220h160v-160H400v160Zm0 220h160v-160H400v160ZM180-400h160v-160H180v160Zm440 0h160v-160H620v160ZM180-180h160v-160H180v160Zm440 0h160v-160H620v160Z\"/>\n",
              "  </svg>\n",
              "    </button>\n",
              "\n",
              "  <style>\n",
              "    .colab-df-container {\n",
              "      display:flex;\n",
              "      gap: 12px;\n",
              "    }\n",
              "\n",
              "    .colab-df-convert {\n",
              "      background-color: #E8F0FE;\n",
              "      border: none;\n",
              "      border-radius: 50%;\n",
              "      cursor: pointer;\n",
              "      display: none;\n",
              "      fill: #1967D2;\n",
              "      height: 32px;\n",
              "      padding: 0 0 0 0;\n",
              "      width: 32px;\n",
              "    }\n",
              "\n",
              "    .colab-df-convert:hover {\n",
              "      background-color: #E2EBFA;\n",
              "      box-shadow: 0px 1px 2px rgba(60, 64, 67, 0.3), 0px 1px 3px 1px rgba(60, 64, 67, 0.15);\n",
              "      fill: #174EA6;\n",
              "    }\n",
              "\n",
              "    .colab-df-buttons div {\n",
              "      margin-bottom: 4px;\n",
              "    }\n",
              "\n",
              "    [theme=dark] .colab-df-convert {\n",
              "      background-color: #3B4455;\n",
              "      fill: #D2E3FC;\n",
              "    }\n",
              "\n",
              "    [theme=dark] .colab-df-convert:hover {\n",
              "      background-color: #434B5C;\n",
              "      box-shadow: 0px 1px 3px 1px rgba(0, 0, 0, 0.15);\n",
              "      filter: drop-shadow(0px 1px 2px rgba(0, 0, 0, 0.3));\n",
              "      fill: #FFFFFF;\n",
              "    }\n",
              "  </style>\n",
              "\n",
              "    <script>\n",
              "      const buttonEl =\n",
              "        document.querySelector('#df-0bf386c2-7304-4a6e-a3ba-1fe955197e82 button.colab-df-convert');\n",
              "      buttonEl.style.display =\n",
              "        google.colab.kernel.accessAllowed ? 'block' : 'none';\n",
              "\n",
              "      async function convertToInteractive(key) {\n",
              "        const element = document.querySelector('#df-0bf386c2-7304-4a6e-a3ba-1fe955197e82');\n",
              "        const dataTable =\n",
              "          await google.colab.kernel.invokeFunction('convertToInteractive',\n",
              "                                                    [key], {});\n",
              "        if (!dataTable) return;\n",
              "\n",
              "        const docLinkHtml = 'Like what you see? Visit the ' +\n",
              "          '<a target=\"_blank\" href=https://colab.research.google.com/notebooks/data_table.ipynb>data table notebook</a>'\n",
              "          + ' to learn more about interactive tables.';\n",
              "        element.innerHTML = '';\n",
              "        dataTable['output_type'] = 'display_data';\n",
              "        await google.colab.output.renderOutput(dataTable, element);\n",
              "        const docLink = document.createElement('div');\n",
              "        docLink.innerHTML = docLinkHtml;\n",
              "        element.appendChild(docLink);\n",
              "      }\n",
              "    </script>\n",
              "  </div>\n",
              "\n",
              "\n",
              "<div id=\"df-c1880cbe-ec93-49b7-939e-947e33f06133\">\n",
              "  <button class=\"colab-df-quickchart\" onclick=\"quickchart('df-c1880cbe-ec93-49b7-939e-947e33f06133')\"\n",
              "            title=\"Suggest charts\"\n",
              "            style=\"display:none;\">\n",
              "\n",
              "<svg xmlns=\"http://www.w3.org/2000/svg\" height=\"24px\"viewBox=\"0 0 24 24\"\n",
              "     width=\"24px\">\n",
              "    <g>\n",
              "        <path d=\"M19 3H5c-1.1 0-2 .9-2 2v14c0 1.1.9 2 2 2h14c1.1 0 2-.9 2-2V5c0-1.1-.9-2-2-2zM9 17H7v-7h2v7zm4 0h-2V7h2v10zm4 0h-2v-4h2v4z\"/>\n",
              "    </g>\n",
              "</svg>\n",
              "  </button>\n",
              "\n",
              "<style>\n",
              "  .colab-df-quickchart {\n",
              "      --bg-color: #E8F0FE;\n",
              "      --fill-color: #1967D2;\n",
              "      --hover-bg-color: #E2EBFA;\n",
              "      --hover-fill-color: #174EA6;\n",
              "      --disabled-fill-color: #AAA;\n",
              "      --disabled-bg-color: #DDD;\n",
              "  }\n",
              "\n",
              "  [theme=dark] .colab-df-quickchart {\n",
              "      --bg-color: #3B4455;\n",
              "      --fill-color: #D2E3FC;\n",
              "      --hover-bg-color: #434B5C;\n",
              "      --hover-fill-color: #FFFFFF;\n",
              "      --disabled-bg-color: #3B4455;\n",
              "      --disabled-fill-color: #666;\n",
              "  }\n",
              "\n",
              "  .colab-df-quickchart {\n",
              "    background-color: var(--bg-color);\n",
              "    border: none;\n",
              "    border-radius: 50%;\n",
              "    cursor: pointer;\n",
              "    display: none;\n",
              "    fill: var(--fill-color);\n",
              "    height: 32px;\n",
              "    padding: 0;\n",
              "    width: 32px;\n",
              "  }\n",
              "\n",
              "  .colab-df-quickchart:hover {\n",
              "    background-color: var(--hover-bg-color);\n",
              "    box-shadow: 0 1px 2px rgba(60, 64, 67, 0.3), 0 1px 3px 1px rgba(60, 64, 67, 0.15);\n",
              "    fill: var(--button-hover-fill-color);\n",
              "  }\n",
              "\n",
              "  .colab-df-quickchart-complete:disabled,\n",
              "  .colab-df-quickchart-complete:disabled:hover {\n",
              "    background-color: var(--disabled-bg-color);\n",
              "    fill: var(--disabled-fill-color);\n",
              "    box-shadow: none;\n",
              "  }\n",
              "\n",
              "  .colab-df-spinner {\n",
              "    border: 2px solid var(--fill-color);\n",
              "    border-color: transparent;\n",
              "    border-bottom-color: var(--fill-color);\n",
              "    animation:\n",
              "      spin 1s steps(1) infinite;\n",
              "  }\n",
              "\n",
              "  @keyframes spin {\n",
              "    0% {\n",
              "      border-color: transparent;\n",
              "      border-bottom-color: var(--fill-color);\n",
              "      border-left-color: var(--fill-color);\n",
              "    }\n",
              "    20% {\n",
              "      border-color: transparent;\n",
              "      border-left-color: var(--fill-color);\n",
              "      border-top-color: var(--fill-color);\n",
              "    }\n",
              "    30% {\n",
              "      border-color: transparent;\n",
              "      border-left-color: var(--fill-color);\n",
              "      border-top-color: var(--fill-color);\n",
              "      border-right-color: var(--fill-color);\n",
              "    }\n",
              "    40% {\n",
              "      border-color: transparent;\n",
              "      border-right-color: var(--fill-color);\n",
              "      border-top-color: var(--fill-color);\n",
              "    }\n",
              "    60% {\n",
              "      border-color: transparent;\n",
              "      border-right-color: var(--fill-color);\n",
              "    }\n",
              "    80% {\n",
              "      border-color: transparent;\n",
              "      border-right-color: var(--fill-color);\n",
              "      border-bottom-color: var(--fill-color);\n",
              "    }\n",
              "    90% {\n",
              "      border-color: transparent;\n",
              "      border-bottom-color: var(--fill-color);\n",
              "    }\n",
              "  }\n",
              "</style>\n",
              "\n",
              "  <script>\n",
              "    async function quickchart(key) {\n",
              "      const quickchartButtonEl =\n",
              "        document.querySelector('#' + key + ' button');\n",
              "      quickchartButtonEl.disabled = true;  // To prevent multiple clicks.\n",
              "      quickchartButtonEl.classList.add('colab-df-spinner');\n",
              "      try {\n",
              "        const charts = await google.colab.kernel.invokeFunction(\n",
              "            'suggestCharts', [key], {});\n",
              "      } catch (error) {\n",
              "        console.error('Error during call to suggestCharts:', error);\n",
              "      }\n",
              "      quickchartButtonEl.classList.remove('colab-df-spinner');\n",
              "      quickchartButtonEl.classList.add('colab-df-quickchart-complete');\n",
              "    }\n",
              "    (() => {\n",
              "      let quickchartButtonEl =\n",
              "        document.querySelector('#df-c1880cbe-ec93-49b7-939e-947e33f06133 button');\n",
              "      quickchartButtonEl.style.display =\n",
              "        google.colab.kernel.accessAllowed ? 'block' : 'none';\n",
              "    })();\n",
              "  </script>\n",
              "</div>\n",
              "    </div>\n",
              "  </div>\n"
            ],
            "text/plain": [
              "                                         instruction  \\\n",
              "0  Summarize the meeting based on the transcript....   \n",
              "1  Summarize the meeting based on the transcript....   \n",
              "2  Summarize the meeting based on the transcript....   \n",
              "3  Summarize the meeting based on the transcript....   \n",
              "4  What are the follow-up items based on the meet...   \n",
              "5  What are the follow-up items based on the meet...   \n",
              "\n",
              "                                       eval_metadata              objective  \\\n",
              "0  {'format': 'paragraphs', 'min_length': 10, 'ma...  general_summarization   \n",
              "1  {'format': 'paragraphs', 'min_length': 50, 'ma...  general_summarization   \n",
              "2  {'format': 'bullets', 'number': 3, 'min_length...  general_summarization   \n",
              "3  {'format': 'bullets', 'number': 2, 'min_length...  general_summarization   \n",
              "4  {'format': 'bullets', 'number': 3, 'min_length...           action_items   \n",
              "5  {'format': 'bullets', 'number': 2, 'min_length...           action_items   \n",
              "\n",
              "                                          transcript  \\\n",
              "0  PhD F: As opposed to the rest of us \\nPhD D: W...   \n",
              "1  Lynne Neagle AM: Thank you very much And the n...   \n",
              "2  Industrial Designer: Yep So we are to mainly d...   \n",
              "3  Industrial Designer: Mm I think one of the ver...   \n",
              "4  Marketing: so a lot of people have to be able ...   \n",
              "5  Project Manager: Alright So finance And we wil...   \n",
              "\n",
              "                                              prompt  transcript_token_len  \\\n",
              "0  ## meeting transcript\\nPhD F: As opposed to th...                  1378   \n",
              "1  ## meeting transcript\\nLynne Neagle AM: Thank ...                  1649   \n",
              "2  ## meeting transcript\\nIndustrial Designer: Ye...                  1100   \n",
              "3  ## meeting transcript\\nIndustrial Designer: Mm...                  2618   \n",
              "4  ## meeting transcript\\nMarketing: so a lot of ...                  2286   \n",
              "5  ## meeting transcript\\nProject Manager: Alrigh...                  1965   \n",
              "\n",
              "                                          completion  format_score  \\\n",
              "0  PhD student D presented their method for detec...             1   \n",
              "1  The meeting between Welsh politicians and offi...             1   \n",
              "2  - The team discusses the design of a remote co...             1   \n",
              "3  - The team discusses the target demographic fo...             1   \n",
              "4  - Investigate remote's compatibility with vari...             1   \n",
              "5  - The project manager will send the updated de...             1   \n",
              "\n",
              "   length_score  completeness_score  correctness_score  conciseness_score  \n",
              "0             1                 0.8                1.0                0.8  \n",
              "1             1                 0.8                1.0                0.8  \n",
              "2             0                 0.8                1.0                0.8  \n",
              "3             1                 0.8                1.0                0.8  \n",
              "4             1                 0.8                1.0                0.8  \n",
              "5             1                 0.8                1.0                0.8  "
            ]
          },
          "execution_count": 36,
          "metadata": {},
          "output_type": "execute_result"
        }
      ],
      "source": [
        "# Let's examine the final evaluation results\n",
        "data"
      ]
    },
    {
      "cell_type": "markdown",
      "metadata": {
        "id": "9bOUjcce13ws"
      },
      "source": [
        "Finally, let's plot the average scores per critiera."
      ]
    },
    {
      "cell_type": "code",
      "execution_count": null,
      "metadata": {
        "colab": {
          "base_uri": "https://localhost:8080/",
          "height": 598
        },
        "id": "J_MeQOWX13ws",
        "outputId": "8cedc547-6311-4700-c873-5dbbcbc6f52d"
      },
      "outputs": [
        {
          "data": {
            "image/png": "[encoded data removed]",
            "text/plain": [
              "<Figure size 640x480 with 1 Axes>"
            ]
          },
          "metadata": {},
          "output_type": "display_data"
        }
      ],
      "source": [
        "avg_scores = data[[\"format_score\", \"length_score\", \"completeness_score\", \"correctness_score\", \"conciseness_score\"]].mean()\n",
        "ax = avg_scores.plot.bar(title=\"Average Scores\", xlabel=\"Criteria\", ylabel=\"Score\")"
      ]
    }
  ],
  "metadata": {
    "colab": {
      "provenance": []
    },
    "kernelspec": {
      "display_name": "Python 3",
      "name": "python3"
    },
    "language_info": {
      "codemirror_mode": {
        "name": "ipython",
        "version": 3
      },
      "file_extension": ".py",
      "mimetype": "text/x-python",
      "name": "python",
      "nbconvert_exporter": "python",
      "pygments_lexer": "ipython3",
      "version": "3.10.11"
    }
  },
  "nbformat": 4,
  "nbformat_minor": 0
}
