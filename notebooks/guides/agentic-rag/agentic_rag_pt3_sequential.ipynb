{
 "cells": [
  {
   "cell_type": "markdown",
   "metadata": {},
   "source": [
    "<a target=\"_blank\" href=\"https://colab.research.google.com/github/cohere-ai/cohere-developer-experience/blob/main/notebooks/guides/agentic-rag/agentic_rag_pt3_sequential.ipynb\">\n",
    "  <img src=\"https://colab.research.google.com/assets/colab-badge.svg\" alt=\"Open In Colab\"/>\n",
    "</a>"
   ]
  },
  {
   "cell_type": "markdown",
   "metadata": {},
   "source": [
    "# Performing Tasks Sequentially"
   ]
  },
  {
   "cell_type": "markdown",
   "metadata": {},
   "source": [
    "Compare two user queries to a RAG chatbot, \"What was Apple's revenue in 2023?\" and \"What was the revenue of the most valuable company in the US in 2023?\".\n",
    "\n",
    "While the first query is straightforward to handle, the second query requires breaking down into two steps:\n",
    "1. Identify the most valuable company in the US in 2023\n",
    "2. Get the revenue of the company in 2023\n",
    "\n",
    "These steps need to happen in a sequence rather than all at once. This is because the information retrieved from the first step is required to inform the second step.\n",
    "\n",
    "This is an example of sequential reasoning. In this tutorial, we'll learn how agentic RAG with Cohere handles sequential reasoning, and in particular:\n",
    "- Multi-step tool calling\n",
    "- Multi-step, parallel tool calling\n",
    "- Self-correction\n",
    "\n",
    "We'll learn these by building an agent that answers questions about using Cohere."
   ]
  },
  {
   "cell_type": "markdown",
   "metadata": {},
   "source": [
    "## Setup\n",
    "\n",
    "To get started, first we need to install the `cohere` library and create a Cohere client.\n",
    "\n",
    "We also need to import the tool definitions that we'll use in this tutorial.\n",
    "\n",
    "**IMPORTANT:**\n",
    "\n",
    "The source code for tool definitions can be [found here](https://github.com/cohere-ai/cohere-developer-experience/blob/main/notebooks/guides/agentic-rag/tool_def.py). Make sure to have the `tool_def.py` file in the same directory as this notebook for the imports to work correctly."
   ]
  },
  {
   "cell_type": "code",
   "execution_count": null,
   "metadata": {},
   "outputs": [],
   "source": [
    "! pip install cohere langchain langchain-community pydantic -qq"
   ]
  },
  {
   "cell_type": "code",
   "execution_count": 1,
   "metadata": {},
   "outputs": [],
   "source": [
    "import json\n",
    "import os\n",
    "import cohere\n",
    "\n",
    "from tool_def import (\n",
    "    search_developer_docs,\n",
    "    search_developer_docs_tool,\n",
    "    search_internet,\n",
    "    search_internet_tool,\n",
    "    search_code_examples,\n",
    "    search_code_examples_tool,\n",
    ")\n",
    "\n",
    "co = cohere.ClientV2(\"COHERE_API_KEY\") # Get your free API key: https://dashboard.cohere.com/api-keys\n",
    "\n",
    "os.environ[\"TAVILY_API_KEY\"] = \"TAVILY_API_KEY\" # We'll need the Tavily API key to perform internet search. Get your API key: https://app.tavily.com/home"
   ]
  },
  {
   "cell_type": "markdown",
   "metadata": {},
   "source": [
    "## Setting up the tools"
   ]
  },
  {
   "cell_type": "markdown",
   "metadata": {},
   "source": [
    "We set up the same set of tools as in Part 1. If you want further details on how to set up the tools, check out Part 1."
   ]
  },
  {
   "cell_type": "code",
   "execution_count": 3,
   "metadata": {},
   "outputs": [],
   "source": [
    "functions_map = {\n",
    "    \"search_developer_docs\": search_developer_docs,\n",
    "    \"search_internet\": search_internet,\n",
    "    \"search_code_examples\": search_code_examples,\n",
    "}"
   ]
  },
  {
   "cell_type": "markdown",
   "metadata": {},
   "source": [
    "## Running an agentic RAG workflow"
   ]
  },
  {
   "cell_type": "markdown",
   "metadata": {},
   "source": [
    "We create a `run_agent` function to run the agentic RAG workflow, the same as in Part 1. If you want further details on how to set up the tools, check out Part 1."
   ]
  },
  {
   "cell_type": "code",
   "execution_count": 4,
   "metadata": {},
   "outputs": [],
   "source": [
    "tools = [\n",
    "    search_developer_docs_tool,\n",
    "    search_internet_tool,\n",
    "    search_code_examples_tool\n",
    "]"
   ]
  },
  {
   "cell_type": "code",
   "execution_count": 5,
   "metadata": {},
   "outputs": [],
   "source": [
    "system_message=\"\"\"## Task and Context\n",
    "You are an assistant who helps developers use Cohere. You are equipped with a number of tools that can provide different types of information. If you can't find the information you need from one tool, you should try other tools if there is a possibility that they could provide the information you need.\"\"\""
   ]
  },
  {
   "cell_type": "code",
   "execution_count": 6,
   "metadata": {},
   "outputs": [],
   "source": [
    "model = \"command-a-03-2025\"\n",
    "\n",
    "def run_agent(query, messages=None):\n",
    "    if messages is None:\n",
    "        messages = []\n",
    "        \n",
    "    if \"system\" not in {m.get(\"role\") for m in messages}:\n",
    "        messages.append({\"role\": \"system\", \"content\": system_message})\n",
    "    \n",
    "    # Step 1: get user message\n",
    "    print(f\"QUESTION:\\n{query}\")\n",
    "    print(\"=\"*50)\n",
    "    \n",
    "    messages.append({\"role\": \"user\", \"content\": query})\n",
    "\n",
    "    # Step 2: Generate tool calls (if any)\n",
    "    response = co.chat(\n",
    "        model=model,\n",
    "        messages=messages,\n",
    "        tools=tools,\n",
    "        temperature=0.3\n",
    "    )\n",
    "\n",
    "    while response.message.tool_calls:\n",
    "        \n",
    "        print(\"TOOL PLAN:\")\n",
    "        print(response.message.tool_plan,\"\\n\")\n",
    "        print(\"TOOL CALLS:\")\n",
    "        for tc in response.message.tool_calls:\n",
    "            print(f\"Tool name: {tc.function.name} | Parameters: {tc.function.arguments}\")\n",
    "        print(\"=\"*50)\n",
    "\n",
    "        messages.append({\"role\": \"assistant\", \"tool_calls\": response.message.tool_calls, \"tool_plan\": response.message.tool_plan})        \n",
    "        \n",
    "        # Step 3: Get tool results\n",
    "        for tc in response.message.tool_calls:\n",
    "            tool_result = functions_map[tc.function.name](**json.loads(tc.function.arguments))\n",
    "            tool_content = []\n",
    "            for data in tool_result:\n",
    "                tool_content.append({\"type\": \"document\", \"document\": {\"data\": json.dumps(data)}})\n",
    "                # Optional: add an \"id\" field in the \"document\" object, otherwise IDs are auto-generated\n",
    "            messages.append({\"role\": \"tool\", \"tool_call_id\": tc.id, \"content\": tool_content})\n",
    "        \n",
    "        # Step 4: Generate response and citations \n",
    "        response = co.chat(\n",
    "            model=model,\n",
    "            messages=messages,\n",
    "            tools=tools,\n",
    "            temperature=0.3\n",
    "        )\n",
    "    \n",
    "    messages.append({\"role\": \"assistant\", \"content\": response.message.content[0].text})\n",
    "        \n",
    "    # Print final response\n",
    "    print(\"RESPONSE:\")\n",
    "    print(response.message.content[0].text)\n",
    "    print(\"=\"*50)\n",
    "    \n",
    "    # Print citations (if any)\n",
    "    verbose_source = False # Change to True to display the contents of a source\n",
    "    if response.message.citations:\n",
    "        print(\"CITATIONS:\\n\")\n",
    "        for citation in response.message.citations:\n",
    "            print(f\"Start: {citation.start}| End:{citation.end}| Text:'{citation.text}' \")\n",
    "            print(\"Sources:\")\n",
    "            for idx, source in enumerate(citation.sources):\n",
    "                print(f\"{idx+1}. {source.id}\")\n",
    "                if verbose_source:\n",
    "                    print(f\"{source.tool_output}\")\n",
    "            print(\"\\n\")\n",
    "                    \n",
    "    return messages"
   ]
  },
  {
   "cell_type": "markdown",
   "metadata": {},
   "source": [
    "## Multi-step tool calling"
   ]
  },
  {
   "cell_type": "markdown",
   "metadata": {},
   "source": [
    "Let's ask the agent a few questions, starting with this one about a specific feature. The user is asking about two things: a feature to reorder search results and code examples for that feature.\n",
    "\n",
    "In this case, the agent first needs to identify what that feature is before it can answer the second part of the question.\n",
    "\n",
    "This is reflected in the agent's tool plan, which describes the steps it will take to answer the question.\n",
    "\n",
    "So, it first calls the `search_developer_docs` tool to find the feature. \n",
    "\n",
    "It then discovers that the feature is Rerank. Using this information, it calls the `search_code_examples` tool to find code examples for that feature.\n",
    "\n",
    "Finally, it uses the retrieved information to answer both parts of the user's question."
   ]
  },
  {
   "cell_type": "code",
   "execution_count": 7,
   "metadata": {},
   "outputs": [
    {
     "name": "stdout",
     "output_type": "stream",
     "text": [
      "QUESTION:\n",
      "What's the Cohere feature to reorder search results? Do you have any code examples on that?\n",
      "==================================================\n",
      "TOOL PLAN:\n",
      "I will search for the Cohere feature to reorder search results. Then I will search for code examples on that. \n",
      "\n",
      "TOOL CALLS:\n",
      "Tool name: search_developer_docs | Parameters: {\"query\":\"reorder search results\"}\n",
      "==================================================\n",
      "TOOL PLAN:\n",
      "I found that the Rerank endpoint is the feature that reorders search results. I will now search for code examples on that. \n",
      "\n",
      "TOOL CALLS:\n",
      "Tool name: search_code_examples | Parameters: {\"query\":\"rerank endpoint\"}\n",
      "==================================================\n",
      "RESPONSE:\n",
      "The Rerank endpoint is the feature that reorders search results. Unfortunately, I could not find any code examples on that.\n",
      "==================================================\n",
      "CITATIONS:\n",
      "\n",
      "Start: 4| End:19| Text:'Rerank endpoint' \n",
      "Sources:\n",
      "1. search_developer_docs_53tfk9zgwgzt:0\n",
      "\n",
      "\n"
     ]
    }
   ],
   "source": [
    "messages = run_agent(\"What's the Cohere feature to reorder search results? Do you have any code examples on that?\")"
   ]
  },
  {
   "cell_type": "markdown",
   "metadata": {},
   "source": [
    "## Multi-step, parallel tool calling"
   ]
  },
  {
   "cell_type": "markdown",
   "metadata": {},
   "source": [
    "In Part 2, we saw how the Cohere API supports parallel tool calling, and in this tutorial, we looked at sequential tool calling. That also means that both scenarios can happen at the same time.\n",
    "\n",
    "Here's an example. Suppose we ask the agent to find the CEOs of the companies with the top 3 highest market capitalization.\n",
    "\n",
    "In the first step, it searches the Internet for information about the 3 companies with the highest market capitalization.\n",
    "\n",
    "And in the second step, it performs parallel searches for the CEOs of the 3 identified companies."
   ]
  },
  {
   "cell_type": "code",
   "execution_count": 18,
   "metadata": {},
   "outputs": [
    {
     "name": "stdout",
     "output_type": "stream",
     "text": [
      "QUESTION:\n",
      "Who are the CEOs of the companies with the top 3 highest market capitalization.\n",
      "==================================================\n",
      "TOOL PLAN:\n",
      "I will search for the top 3 companies with the highest market capitalization. Then, I will search for the CEOs of those companies. \n",
      "\n",
      "TOOL CALLS:\n",
      "Tool name: search_internet | Parameters: {\"query\":\"top 3 companies with highest market capitalization\"}\n",
      "==================================================\n",
      "TOOL PLAN:\n",
      "The top 3 companies with the highest market capitalization are Apple, Microsoft, and Nvidia. I will now search for the CEOs of these companies. \n",
      "\n",
      "TOOL CALLS:\n",
      "Tool name: search_internet | Parameters: {\"query\":\"Apple CEO\"}\n",
      "Tool name: search_internet | Parameters: {\"query\":\"Microsoft CEO\"}\n",
      "Tool name: search_internet | Parameters: {\"query\":\"Nvidia CEO\"}\n",
      "==================================================\n",
      "RESPONSE:\n",
      "The CEOs of the top 3 companies with the highest market capitalization are:\n",
      "1. Tim Cook of Apple\n",
      "2. Satya Nadella of Microsoft\n",
      "3. Jensen Huang of Nvidia\n",
      "==================================================\n",
      "CITATIONS:\n",
      "\n",
      "Start: 79| End:87| Text:'Tim Cook' \n",
      "Sources:\n",
      "1. search_internet_0f8wyxfc3hmn:0\n",
      "2. search_internet_0f8wyxfc3hmn:1\n",
      "3. search_internet_0f8wyxfc3hmn:2\n",
      "\n",
      "\n",
      "Start: 91| End:96| Text:'Apple' \n",
      "Sources:\n",
      "1. search_internet_kb9qgs1ps69e:0\n",
      "\n",
      "\n",
      "Start: 100| End:113| Text:'Satya Nadella' \n",
      "Sources:\n",
      "1. search_internet_wy4mn7286a88:0\n",
      "2. search_internet_wy4mn7286a88:1\n",
      "3. search_internet_wy4mn7286a88:2\n",
      "\n",
      "\n",
      "Start: 117| End:126| Text:'Microsoft' \n",
      "Sources:\n",
      "1. search_internet_kb9qgs1ps69e:0\n",
      "\n",
      "\n",
      "Start: 130| End:142| Text:'Jensen Huang' \n",
      "Sources:\n",
      "1. search_internet_q9ahz81npfqz:0\n",
      "2. search_internet_q9ahz81npfqz:1\n",
      "3. search_internet_q9ahz81npfqz:2\n",
      "4. search_internet_q9ahz81npfqz:3\n",
      "\n",
      "\n",
      "Start: 146| End:152| Text:'Nvidia' \n",
      "Sources:\n",
      "1. search_internet_kb9qgs1ps69e:0\n",
      "\n",
      "\n"
     ]
    }
   ],
   "source": [
    "messages = run_agent(\"Who are the CEOs of the companies with the top 3 highest market capitalization.\")"
   ]
  },
  {
   "cell_type": "markdown",
   "metadata": {},
   "source": [
    "## Self-correction"
   ]
  },
  {
   "cell_type": "markdown",
   "metadata": {},
   "source": [
    "The concept of sequential reasoning is useful in a broader sense, particularly where the agent needs to adapt and change its plan midway in a task. \n",
    "\n",
    "In other words, it allows the agent to self-correct.\n",
    "\n",
    "To illustrate this, let's look at an example. Here, the user is asking about the authors of the sentence BERT paper.\n",
    "\n",
    "The agent attempted to find required information via the `search_developer_docs` tool.\n",
    "\n",
    "However, we know that the tool doesn't contain this information because we have only added a small sample of documents.\n",
    "\n",
    "As a result, the agent, having received the documents back without any relevant information, decides to search the internet instead. This is also helped by the fact that we have added specific instructions in the `search_internet` tool to search the internet for information not found in the developer documentation.\n",
    "\n",
    "It finally has the information it needs, and uses it to answer the user's question.\n",
    "\n",
    "This highlights another important aspect of agentic RAG, which allows a RAG system to be flexible. This is achieved by powering the retrieval component with an LLM.\n",
    "\n",
    "On the other hand, a standard RAG system would typically hand-engineer this, and hence, is more rigid."
   ]
  },
  {
   "cell_type": "code",
   "execution_count": 21,
   "metadata": {},
   "outputs": [
    {
     "name": "stdout",
     "output_type": "stream",
     "text": [
      "QUESTION:\n",
      "Who are the authors of the sentence BERT paper?\n",
      "==================================================\n",
      "TOOL PLAN:\n",
      "I will search for the authors of the sentence BERT paper. \n",
      "\n",
      "TOOL CALLS:\n",
      "Tool name: search_developer_docs | Parameters: {\"query\":\"authors of the sentence BERT paper\"}\n",
      "==================================================\n",
      "TOOL PLAN:\n",
      "I was unable to find any information about the authors of the sentence BERT paper. I will now search for 'sentence BERT paper authors'. \n",
      "\n",
      "TOOL CALLS:\n",
      "Tool name: search_internet | Parameters: {\"query\":\"sentence BERT paper authors\"}\n",
      "==================================================\n",
      "RESPONSE:\n",
      "The authors of the Sentence-BERT paper are Nils Reimers and Iryna Gurevych.\n",
      "==================================================\n",
      "CITATIONS:\n",
      "\n",
      "Start: 43| End:55| Text:'Nils Reimers' \n",
      "Sources:\n",
      "1. search_internet_z8t19852my9q:0\n",
      "2. search_internet_z8t19852my9q:1\n",
      "3. search_internet_z8t19852my9q:2\n",
      "4. search_internet_z8t19852my9q:3\n",
      "5. search_internet_z8t19852my9q:4\n",
      "\n",
      "\n",
      "Start: 60| End:75| Text:'Iryna Gurevych.' \n",
      "Sources:\n",
      "1. search_internet_z8t19852my9q:0\n",
      "2. search_internet_z8t19852my9q:1\n",
      "3. search_internet_z8t19852my9q:2\n",
      "4. search_internet_z8t19852my9q:3\n",
      "5. search_internet_z8t19852my9q:4\n",
      "\n",
      "\n"
     ]
    }
   ],
   "source": [
    "messages = run_agent(\"Who are the authors of the sentence BERT paper?\")"
   ]
  },
  {
   "cell_type": "markdown",
   "metadata": {},
   "source": [
    "## Summary\n",
    "\n",
    "In this tutorial, we learned about:\n",
    "- How multi-step tool calling works\n",
    "- How multi-step, parallel tool calling works\n",
    "- How multi-step tool calling enables an agent to self-correct, and hence, be more flexible\n",
    "\n",
    "However, up until now, we have only worked with purely unstructured data, the type of data we typically encounter in a standard RAG system.\n",
    "\n",
    "In the coming chapters, we'll add another complexity to the agentic RAG system – working with semi-structured and structured data. This adds another dimension to the agent's flexibility, which is dealing with a more diverse set of data sources.\n",
    "\n",
    "In Part 4, we'll learn how to build an agent that can perform faceted queries over semi-structured data."
   ]
  },
  {
   "cell_type": "code",
   "execution_count": null,
   "metadata": {},
   "outputs": [],
   "source": []
  }
 ],
 "metadata": {
  "kernelspec": {
   "display_name": "base",
   "language": "python",
   "name": "base"
  },
  "language_info": {
   "codemirror_mode": {
    "name": "ipython",
    "version": 3
   },
   "file_extension": ".py",
   "mimetype": "text/x-python",
   "name": "python",
   "nbconvert_exporter": "python",
   "pygments_lexer": "ipython3",
   "version": "3.11.4"
  }
 },
 "nbformat": 4,
 "nbformat_minor": 2
}
