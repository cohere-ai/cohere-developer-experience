{
 "cells": [
  {
   "cell_type": "markdown",
   "id": "382b2cd9",
   "metadata": {},
   "source": [
    "Automated translation from one language to another is one of the oldest applications of machine learning. Today's LLMs have proven remarkably effective for these kinds of tasks, and Command A Translate is Cohere’s state of the art entry into the machine translation field. It delivers industry-leading performance on a variety of translation tasks across 23 languages, while offering enterprises full control of their data through private deployment options.\n",
    "\n",
    "This cookbook will walk you through how to utilize Command A Translate; for more information, you can check out our [dedicated documentation](https://docs.cohere.com/docs/command-a-translate)."
   ]
  },
  {
   "cell_type": "markdown",
   "id": "dfc0a15e",
   "metadata": {},
   "source": [
    "## Getting Set up"
   ]
  },
  {
   "cell_type": "markdown",
   "id": "83c9b38a",
   "metadata": {},
   "source": [
    "First, let's install (or upgrade) the Cohere client."
   ]
  },
  {
   "cell_type": "code",
   "execution_count": null,
   "id": "74b7b979",
   "metadata": {},
   "outputs": [],
   "source": [
    "#!pip install --upgrade cohere"
   ]
  },
  {
   "cell_type": "markdown",
   "id": "be00195e",
   "metadata": {},
   "source": [
    "## Translating a Message"
   ]
  },
  {
   "cell_type": "markdown",
   "id": "0ee8a07c",
   "metadata": {},
   "source": [
    "Next, we'll set up Command A Translate to complete a standard translation task."
   ]
  },
  {
   "cell_type": "code",
   "execution_count": null,
   "id": "fa2bfbc2",
   "metadata": {},
   "outputs": [
    {
     "name": "stdout",
     "output_type": "stream",
     "text": [
      "Las empresas dependen de la traducción para algunos de sus documentos más confidenciales y esenciales para su actividad, y no puede arriesgarse a que se produzcan fugas de datos, incumplimientos de la normativa o malentendidos. Los documentos mal traducidos pueden reducir la confianza y tienen consecuencias estratégicas.\n"
     ]
    }
   ],
   "source": [
    "# 1. Set up your Cohere client, translation prompt and maximum words per chunk \n",
    "import cohere\n",
    "\n",
    "co = cohere.ClientV2(\"<YOUR API KEY>\")\n",
    "model = \"command-a-translate-08-2025\"\n",
    "\n",
    "target_language = \"Spanish\"\n",
    "prompt_template = \"Translate everything that follows into {target_language}:\\n\\n\"\n",
    "max_words = 15  # Set your desired maximum number of words per chunk\n",
    "\n",
    "# 2. Your source text\n",
    "text = (\n",
    "    \"Enterprises rely on translation for some of their most sensitive and business-critical documents and cannot risk data leakage, compliance violations, or misunderstandings. Mistranslated documents can reduce trust and have strategic implications.\"\n",
    ")\n",
    "\n",
    "\n",
    "# 3. Define the chunk_split function (from earlier in your notebook)\n",
    "def chunk_split(text, max_words, threshold=0.8):\n",
    "\n",
    "    words = text.split()  # Turn the text into a list of words\n",
    "    chunks = []  # Initialize an empty list to store our chunks\n",
    "    start = 0  # Starting index for slicing the words list\n",
    "\n",
    "    while start < len(words):\n",
    "        # Determine the end index for the current chunk\n",
    "        end = min(start + max_words, len(words))\n",
    "        chunk_words = words[start:end]\n",
    "        chunk_text = \" \".join(chunk_words)  # Combine words back into a string\n",
    "\n",
    "        # If we're at the end of the text or the chunk is too short, add it as is\n",
    "        if end == len(words) or len(chunk_words) < max_words * threshold:\n",
    "            chunks.append(chunk_text.strip())\n",
    "            break\n",
    "\n",
    "        # Try to find a natural breaking point within the chunk\n",
    "        split_point = None\n",
    "        for separator in [\"\\n\", \".\", \")\", \" \"]:\n",
    "            idx = chunk_text.rfind(separator)\n",
    "            if idx != -1 and idx >= len(chunk_text) * threshold:\n",
    "                split_point = idx + 1  # Position after the separator\n",
    "                break\n",
    "\n",
    "        if split_point:\n",
    "            # If a good split point is found, add the chunk up to that point\n",
    "            chunks.append(chunk_text[:split_point].strip())\n",
    "            # Move the start index forward by the number of words consumed\n",
    "            consumed = len(chunk_text[:split_point].split())\n",
    "            start += consumed\n",
    "        else:\n",
    "            # If no good split point is found, add the entire chunk\n",
    "            chunks.append(chunk_text.strip())\n",
    "            start = end  # Move to the next chunk\n",
    "\n",
    "    return chunks\n",
    "\n",
    "# 4. Split the text into chunks using chunk_split\n",
    "chunks = chunk_split(text, max_words=max_words)\n",
    "\n",
    "# 5. Translate each chunk and collect results\n",
    "translated_chunks = []\n",
    "for chunk in chunks:\n",
    "    prompt = prompt_template.format(target_language=target_language) + chunk\n",
    "    response = co.chat(\n",
    "        model=model,\n",
    "        messages=[{\"role\": \"user\", \"content\": prompt}],\n",
    "    )\n",
    "    translated = response.message.content[0].text\n",
    "    translated_chunks.append(translated)\n",
    "\n",
    "# 6. Merge the translated chunks back together\n",
    "translated_text = \" \".join(translated_chunks)\n",
    "\n",
    "# 7. Output the final translation\n",
    "print(translated_text)\n"
   ]
  },
  {
   "cell_type": "markdown",
   "id": "8ace1e73",
   "metadata": {},
   "source": [
    "## Conclusion \n",
    "\n",
    "To learn more, check out our dedicated [Command A Translate](/docs/command-a-translate) documentation."
   ]
  },
  {
   "cell_type": "markdown",
   "id": "ed0418f1",
   "metadata": {},
   "source": []
  }
 ],
 "metadata": {
  "kernelspec": {
   "display_name": "Python 3",
   "language": "python",
   "name": "python3"
  },
  "language_info": {
   "codemirror_mode": {
    "name": "ipython",
    "version": 3
   },
   "file_extension": ".py",
   "mimetype": "text/x-python",
   "name": "python",
   "nbconvert_exporter": "python",
   "pygments_lexer": "ipython3",
   "version": "3.12.1"
  }
 },
 "nbformat": 4,
 "nbformat_minor": 5
}
