{
  "cells": [
    {
      "cell_type": "markdown",
      "metadata": {},
      "source": [
        "<a target=\"_blank\" href=\"https://colab.research.google.com/github/cohere-ai/notebooks/blob/main/notebooks/guides/Cohere_RAG_Inline_Citation_Markdown_Generator.ipynb\">\n",
        "  <img src=\"https://colab.research.google.com/assets/colab-badge.svg\" alt=\"Open In Colab\"/>\n",
        "</a>"
      ]
    },
    {
      "cell_type": "code",
      "execution_count": null,
      "metadata": {
        "id": "wHnR_V_p4Cwz"
      },
      "outputs": [],
      "source": [
        "pip install --quiet cohere"
      ]
    },
    {
      "cell_type": "markdown",
      "metadata": {
        "id": "cMsPZiQO75Ae"
      },
      "source": [
        "# Cohere RAG Inline Citation Markdown Generator\n",
        "\n",
        "This helper function generates a formatted response with citations in both markdown and HTML formats. The function can be customized to change the look and feel of the output."
      ]
    },
    {
      "cell_type": "markdown",
      "metadata": {
        "id": "BGoWF1otnpu3"
      },
      "source": [
        "### Parameters:\n",
        "\n",
        "non_cited_response (str): The response text without citations.\n",
        "citations (list): List of citation objects. Each citation object should have the attributes start, end, text, and document_ids.\n",
        "doc_url_mapping (dict): A dictionary mapping document IDs to their URLs.\n",
        "text_color (str, optional): The color for the cited text. Default is \"SkyBlue\".\n",
        "link_color (str, optional): The color for the links. Default is \"green\".\n",
        "font_family (str, optional): The font family for the response text. Default is \"Arial\".\n",
        "line_height (str, optional): The line height for the response text. Default is \"1.6\".\n",
        "Returns:\n",
        "\n",
        "A tuple containing:\n",
        "markdown_response (str): The response formatted as markdown.\n",
        "html_response (str): The response formatted as HTML.\n",
        "Markdown Formatting:\n",
        "\n",
        "Cited Text: Cited text within the response is styled using <span> tags with the specified text_color.\n",
        "Links: Links to the cited documents are created using <a> tags with the specified link_color.\n",
        "Bullet Points: Bullet points are preserved by converting them to <li> tags.\n",
        "Line Breaks: Line breaks are preserved by converting \\n characters to <br> tags."
      ]
    },
    {
      "cell_type": "code",
      "execution_count": null,
      "metadata": {
        "id": "oeUTHF2EczwG"
      },
      "outputs": [],
      "source": [
        "import re\n",
        "def generate_response(non_cited_response, citations, doc_url_mapping, text_color=\"SkyBlue\", link_color=\"green\", font_family=\"Arial\", line_height=\"1.6\"):\n",
        "    \"\"\"\n",
        "    Generate a formatted response with citations in markdown and HTML.\n",
        "\n",
        "    Parameters:\n",
        "    non_cited_response (str): The response text without citations.\n",
        "    citations (list): List of citation objects with start, end, text, and document_ids attributes.\n",
        "    doc_url_mapping (dict): Mapping of document IDs to URLs.\n",
        "    text_color (str, optional): Color for the cited text. Default is \"SkyBlue\".\n",
        "    link_color (str, optional): Color for the links. Default is \"green\".\n",
        "    font_family (str, optional): Font family for the response text. Default is \"Arial\".\n",
        "    line_height (str, optional): Line height for the response text. Default is \"1.6\".\n",
        "\n",
        "    Returns:\n",
        "    tuple: A tuple containing the markdown response and the HTML response.\n",
        "    \"\"\"\n",
        "    markdown_response = non_cited_response\n",
        "    offset = 0\n",
        "    for citation in citations:\n",
        "        start = citation.start + offset\n",
        "        end = citation.end + offset\n",
        "        text = citation.text\n",
        "        doc_links = \", \".join([f'<a href=\"{doc_url_mapping[doc_id.split(\"_\")[1]]}\" target=\"_blank\" style=\"color: {link_color}; text-decoration: none;\">{int(doc_id.split(\"_\")[1])}</a>' for doc_id in citation.document_ids])\n",
        "        replacement = f'<span style=\"color:{text_color}; font-weight: normal;\">{text}</span> [{doc_links}]'\n",
        "        markdown_response = markdown_response[:start] + replacement + markdown_response[end:]\n",
        "        offset += len(replacement) - len(text)\n",
        "\n",
        "    # Ensure markdown elements like bullet points and new lines are preserved\n",
        "    markdown_response = markdown_response.replace(\"\\n\", \"<br>\")\n",
        "    bullet_points = re.findall(r'(\\s*[-*]\\s.*)', markdown_response)\n",
        "    for point in bullet_points:\n",
        "        markdown_response = markdown_response.replace(point, f\"<li>{point.strip('-* ')}</li>\")\n",
        "\n",
        "    html_response = f\"\"\"\n",
        "    <style>\n",
        "        p {{\n",
        "            font-family: {font_family};\n",
        "            line-height: {line_height};\n",
        "        }}\n",
        "        a {{\n",
        "            text-decoration: none;\n",
        "            color: {link_color};\n",
        "        }}\n",
        "        span {{\n",
        "            color: {text_color};\n",
        "            font-weight: bold;\n",
        "        }}\n",
        "    </style>\n",
        "    <p>{markdown_response}</p>\n",
        "    \"\"\"\n",
        "\n",
        "    return markdown_response, html_response"
      ]
    },
    {
      "cell_type": "markdown",
      "metadata": {
        "id": "2-voPNnsdeWA"
      },
      "source": [
        "# Initiate Cohere Stream Chat with Web Connector\n",
        "\n",
        "Try it out by running the cell below."
      ]
    },
    {
      "cell_type": "code",
      "execution_count": null,
      "metadata": {
        "colab": {
          "base_uri": "https://localhost:8080/",
          "height": 332
        },
        "id": "wj28uewb2xII",
        "outputId": "f866ce11-c84a-4605-f37c-432392451bbd"
      },
      "outputs": [
        {
          "name": "stdout",
          "output_type": "stream",
          "text": [
            "Streamed chat response:\n",
            "Photosynthesis is the process by which plants, algae, and some types of bacteria use sunlight, water, and carbon dioxide to create oxygen and energy in the form of sugar. \n",
            "\n",
            "During photosynthesis, plants take in carbon dioxide and water from the air and soil. Within the plant cell, the water is oxidised, meaning it loses electrons, while the carbon dioxide is reduced, meaning it gains electrons. This transforms the water into oxygen and the carbon dioxide into glucose. The plant then releases the oxygen back into the air and stores energy within the glucose molecules.\n",
            "\n",
            "The process can be broken down into two stages: light-dependent reactions and light-independent reactions. Light-dependent reactions take place within the thylakoid membrane and require a steady stream of sunlight. The light-independent stage, also known as the Calvin cycle, takes place in the stroma and does not require light.Markdown Response:\n"
          ]
        },
        {
          "data": {
            "text/html": [
              "\n",
              "    <style>\n",
              "        p {\n",
              "            font-family: Arial;\n",
              "            line-height: 1.6;\n",
              "        }\n",
              "        a {\n",
              "            text-decoration: none;\n",
              "            color: green;\n",
              "        }\n",
              "        span {\n",
              "            color: SkyBlue;\n",
              "            font-weight: bold;\n",
              "        }\n",
              "    </style>\n",
              "    <p>Photosynthesis is the process by which <span style=\"color:SkyBlue; font-weight: normal;\">plants</span> [<a href=\"https://education.nationalgeographic.org/resource/photosynthesis/\" target=\"_blank\" style=\"color: green; text-decoration: none;\">0</a>, <a href=\"https://www.britannica.com/science/photosynthesis\" target=\"_blank\" style=\"color: green; text-decoration: none;\">1</a>, <a href=\"https://ssec.si.edu/stemvisions-blog/what-photosynthesis\" target=\"_blank\" style=\"color: green; text-decoration: none;\">2</a>, <a href=\"https://www.khanacademy.org/science/ap-biology/cellular-energetics/photosynthesis/a/intro-to-photosynthesis\" target=\"_blank\" style=\"color: green; text-decoration: none;\">3</a>, <a href=\"https://en.wikipedia.org/wiki/Photosynthesis\" target=\"_blank\" style=\"color: green; text-decoration: none;\">4</a>, <a href=\"https://byjus.com/biology/photosynthesis/\" target=\"_blank\" style=\"color: green; text-decoration: none;\">5</a>], <span style=\"color:SkyBlue; font-weight: normal;\">algae</span> [<a href=\"https://education.nationalgeographic.org/resource/photosynthesis/\" target=\"_blank\" style=\"color: green; text-decoration: none;\">0</a>, <a href=\"https://www.britannica.com/science/photosynthesis\" target=\"_blank\" style=\"color: green; text-decoration: none;\">1</a>, <a href=\"https://ssec.si.edu/stemvisions-blog/what-photosynthesis\" target=\"_blank\" style=\"color: green; text-decoration: none;\">2</a>, <a href=\"https://www.khanacademy.org/science/ap-biology/cellular-energetics/photosynthesis/a/intro-to-photosynthesis\" target=\"_blank\" style=\"color: green; text-decoration: none;\">3</a>, <a href=\"https://en.wikipedia.org/wiki/Photosynthesis\" target=\"_blank\" style=\"color: green; text-decoration: none;\">4</a>, <a href=\"https://byjus.com/biology/photosynthesis/\" target=\"_blank\" style=\"color: green; text-decoration: none;\">5</a>], and <span style=\"color:SkyBlue; font-weight: normal;\">some types of bacteria</span> [<a href=\"https://education.nationalgeographic.org/resource/photosynthesis/\" target=\"_blank\" style=\"color: green; text-decoration: none;\">0</a>, <a href=\"https://www.britannica.com/science/photosynthesis\" target=\"_blank\" style=\"color: green; text-decoration: none;\">1</a>, <a href=\"https://ssec.si.edu/stemvisions-blog/what-photosynthesis\" target=\"_blank\" style=\"color: green; text-decoration: none;\">2</a>, <a href=\"https://www.khanacademy.org/science/ap-biology/cellular-energetics/photosynthesis/a/intro-to-photosynthesis\" target=\"_blank\" style=\"color: green; text-decoration: none;\">3</a>, <a href=\"https://en.wikipedia.org/wiki/Photosynthesis\" target=\"_blank\" style=\"color: green; text-decoration: none;\">4</a>] use <span style=\"color:SkyBlue; font-weight: normal;\">sunlight</span> [<a href=\"https://education.nationalgeographic.org/resource/photosynthesis/\" target=\"_blank\" style=\"color: green; text-decoration: none;\">0</a>, <a href=\"https://ssec.si.edu/stemvisions-blog/what-photosynthesis\" target=\"_blank\" style=\"color: green; text-decoration: none;\">2</a>, <a href=\"https://www.khanacademy.org/science/ap-biology/cellular-energetics/photosynthesis/a/intro-to-photosynthesis\" target=\"_blank\" style=\"color: green; text-decoration: none;\">3</a>, <a href=\"https://en.wikipedia.org/wiki/Photosynthesis\" target=\"_blank\" style=\"color: green; text-decoration: none;\">4</a>, <a href=\"https://byjus.com/biology/photosynthesis/\" target=\"_blank\" style=\"color: green; text-decoration: none;\">5</a>], <span style=\"color:SkyBlue; font-weight: normal;\">water</span> [<a href=\"https://education.nationalgeographic.org/resource/photosynthesis/\" target=\"_blank\" style=\"color: green; text-decoration: none;\">0</a>, <a href=\"https://www.britannica.com/science/photosynthesis\" target=\"_blank\" style=\"color: green; text-decoration: none;\">1</a>, <a href=\"https://ssec.si.edu/stemvisions-blog/what-photosynthesis\" target=\"_blank\" style=\"color: green; text-decoration: none;\">2</a>, <a href=\"https://www.khanacademy.org/science/ap-biology/cellular-energetics/photosynthesis/a/intro-to-photosynthesis\" target=\"_blank\" style=\"color: green; text-decoration: none;\">3</a>, <a href=\"https://byjus.com/biology/photosynthesis/\" target=\"_blank\" style=\"color: green; text-decoration: none;\">5</a>], and <span style=\"color:SkyBlue; font-weight: normal;\">carbon dioxide</span> [<a href=\"https://education.nationalgeographic.org/resource/photosynthesis/\" target=\"_blank\" style=\"color: green; text-decoration: none;\">0</a>, <a href=\"https://www.britannica.com/science/photosynthesis\" target=\"_blank\" style=\"color: green; text-decoration: none;\">1</a>, <a href=\"https://ssec.si.edu/stemvisions-blog/what-photosynthesis\" target=\"_blank\" style=\"color: green; text-decoration: none;\">2</a>, <a href=\"https://www.khanacademy.org/science/ap-biology/cellular-energetics/photosynthesis/a/intro-to-photosynthesis\" target=\"_blank\" style=\"color: green; text-decoration: none;\">3</a>, <a href=\"https://byjus.com/biology/photosynthesis/\" target=\"_blank\" style=\"color: green; text-decoration: none;\">5</a>] to create <span style=\"color:SkyBlue; font-weight: normal;\">oxygen</span> [<a href=\"https://education.nationalgeographic.org/resource/photosynthesis/\" target=\"_blank\" style=\"color: green; text-decoration: none;\">0</a>, <a href=\"https://www.britannica.com/science/photosynthesis\" target=\"_blank\" style=\"color: green; text-decoration: none;\">1</a>, <a href=\"https://ssec.si.edu/stemvisions-blog/what-photosynthesis\" target=\"_blank\" style=\"color: green; text-decoration: none;\">2</a>, <a href=\"https://www.khanacademy.org/science/ap-biology/cellular-energetics/photosynthesis/a/intro-to-photosynthesis\" target=\"_blank\" style=\"color: green; text-decoration: none;\">3</a>, <a href=\"https://en.wikipedia.org/wiki/Photosynthesis\" target=\"_blank\" style=\"color: green; text-decoration: none;\">4</a>, <a href=\"https://byjus.com/biology/photosynthesis/\" target=\"_blank\" style=\"color: green; text-decoration: none;\">5</a>] and <span style=\"color:SkyBlue; font-weight: normal;\">energy</span> [<a href=\"https://education.nationalgeographic.org/resource/photosynthesis/\" target=\"_blank\" style=\"color: green; text-decoration: none;\">0</a>, <a href=\"https://www.britannica.com/science/photosynthesis\" target=\"_blank\" style=\"color: green; text-decoration: none;\">1</a>, <a href=\"https://ssec.si.edu/stemvisions-blog/what-photosynthesis\" target=\"_blank\" style=\"color: green; text-decoration: none;\">2</a>, <a href=\"https://www.khanacademy.org/science/ap-biology/cellular-energetics/photosynthesis/a/intro-to-photosynthesis\" target=\"_blank\" style=\"color: green; text-decoration: none;\">3</a>, <a href=\"https://en.wikipedia.org/wiki/Photosynthesis\" target=\"_blank\" style=\"color: green; text-decoration: none;\">4</a>, <a href=\"https://byjus.com/biology/photosynthesis/\" target=\"_blank\" style=\"color: green; text-decoration: none;\">5</a>] in the form of <span style=\"color:SkyBlue; font-weight: normal;\">sugar.</span> [<a href=\"https://education.nationalgeographic.org/resource/photosynthesis/\" target=\"_blank\" style=\"color: green; text-decoration: none;\">0</a>, <a href=\"https://www.britannica.com/science/photosynthesis\" target=\"_blank\" style=\"color: green; text-decoration: none;\">1</a>, <a href=\"https://ssec.si.edu/stemvisions-blog/what-photosynthesis\" target=\"_blank\" style=\"color: green; text-decoration: none;\">2</a>, <a href=\"https://www.khanacademy.org/science/ap-biology/cellular-energetics/photosynthesis/a/intro-to-photosynthesis\" target=\"_blank\" style=\"color: green; text-decoration: none;\">3</a>, <a href=\"https://en.wikipedia.org/wiki/Photosynthesis\" target=\"_blank\" style=\"color: green; text-decoration: none;\">4</a>, <a href=\"https://byjus.com/biology/photosynthesis/\" target=\"_blank\" style=\"color: green; text-decoration: none;\">5</a>] <br><br>During photosynthesis, plants take in <span style=\"color:SkyBlue; font-weight: normal;\">carbon dioxide</span> [<a href=\"https://education.nationalgeographic.org/resource/photosynthesis/\" target=\"_blank\" style=\"color: green; text-decoration: none;\">0</a>, <a href=\"https://www.britannica.com/science/photosynthesis\" target=\"_blank\" style=\"color: green; text-decoration: none;\">1</a>, <a href=\"https://ssec.si.edu/stemvisions-blog/what-photosynthesis\" target=\"_blank\" style=\"color: green; text-decoration: none;\">2</a>, <a href=\"https://www.khanacademy.org/science/ap-biology/cellular-energetics/photosynthesis/a/intro-to-photosynthesis\" target=\"_blank\" style=\"color: green; text-decoration: none;\">3</a>, <a href=\"https://byjus.com/biology/photosynthesis/\" target=\"_blank\" style=\"color: green; text-decoration: none;\">5</a>] and <span style=\"color:SkyBlue; font-weight: normal;\">water</span> [<a href=\"https://education.nationalgeographic.org/resource/photosynthesis/\" target=\"_blank\" style=\"color: green; text-decoration: none;\">0</a>, <a href=\"https://www.britannica.com/science/photosynthesis\" target=\"_blank\" style=\"color: green; text-decoration: none;\">1</a>, <a href=\"https://ssec.si.edu/stemvisions-blog/what-photosynthesis\" target=\"_blank\" style=\"color: green; text-decoration: none;\">2</a>, <a href=\"https://www.khanacademy.org/science/ap-biology/cellular-energetics/photosynthesis/a/intro-to-photosynthesis\" target=\"_blank\" style=\"color: green; text-decoration: none;\">3</a>, <a href=\"https://byjus.com/biology/photosynthesis/\" target=\"_blank\" style=\"color: green; text-decoration: none;\">5</a>] from the <span style=\"color:SkyBlue; font-weight: normal;\">air and soil.</span> [<a href=\"https://education.nationalgeographic.org/resource/photosynthesis/\" target=\"_blank\" style=\"color: green; text-decoration: none;\">0</a>, <a href=\"https://ssec.si.edu/stemvisions-blog/what-photosynthesis\" target=\"_blank\" style=\"color: green; text-decoration: none;\">2</a>] Within the plant cell, the <span style=\"color:SkyBlue; font-weight: normal;\">water is oxidised</span> [<a href=\"https://education.nationalgeographic.org/resource/photosynthesis/\" target=\"_blank\" style=\"color: green; text-decoration: none;\">0</a>, <a href=\"https://www.britannica.com/science/photosynthesis\" target=\"_blank\" style=\"color: green; text-decoration: none;\">1</a>], meaning it <span style=\"color:SkyBlue; font-weight: normal;\">loses electrons</span> [<a href=\"https://education.nationalgeographic.org/resource/photosynthesis/\" target=\"_blank\" style=\"color: green; text-decoration: none;\">0</a>, <a href=\"https://www.britannica.com/science/photosynthesis\" target=\"_blank\" style=\"color: green; text-decoration: none;\">1</a>], while the <span style=\"color:SkyBlue; font-weight: normal;\">carbon dioxide is reduced</span> [<a href=\"https://education.nationalgeographic.org/resource/photosynthesis/\" target=\"_blank\" style=\"color: green; text-decoration: none;\">0</a>, <a href=\"https://www.britannica.com/science/photosynthesis\" target=\"_blank\" style=\"color: green; text-decoration: none;\">1</a>], meaning it <span style=\"color:SkyBlue; font-weight: normal;\">gains electrons.</span> [<a href=\"https://education.nationalgeographic.org/resource/photosynthesis/\" target=\"_blank\" style=\"color: green; text-decoration: none;\">0</a>, <a href=\"https://www.britannica.com/science/photosynthesis\" target=\"_blank\" style=\"color: green; text-decoration: none;\">1</a>] This transforms the water into <span style=\"color:SkyBlue; font-weight: normal;\">oxygen</span> [<a href=\"https://education.nationalgeographic.org/resource/photosynthesis/\" target=\"_blank\" style=\"color: green; text-decoration: none;\">0</a>, <a href=\"https://www.britannica.com/science/photosynthesis\" target=\"_blank\" style=\"color: green; text-decoration: none;\">1</a>, <a href=\"https://ssec.si.edu/stemvisions-blog/what-photosynthesis\" target=\"_blank\" style=\"color: green; text-decoration: none;\">2</a>, <a href=\"https://www.khanacademy.org/science/ap-biology/cellular-energetics/photosynthesis/a/intro-to-photosynthesis\" target=\"_blank\" style=\"color: green; text-decoration: none;\">3</a>, <a href=\"https://byjus.com/biology/photosynthesis/\" target=\"_blank\" style=\"color: green; text-decoration: none;\">5</a>] and the carbon dioxide into <span style=\"color:SkyBlue; font-weight: normal;\">glucose.</span> [<a href=\"https://education.nationalgeographic.org/resource/photosynthesis/\" target=\"_blank\" style=\"color: green; text-decoration: none;\">0</a>, <a href=\"https://www.britannica.com/science/photosynthesis\" target=\"_blank\" style=\"color: green; text-decoration: none;\">1</a>, <a href=\"https://ssec.si.edu/stemvisions-blog/what-photosynthesis\" target=\"_blank\" style=\"color: green; text-decoration: none;\">2</a>, <a href=\"https://www.khanacademy.org/science/ap-biology/cellular-energetics/photosynthesis/a/intro-to-photosynthesis\" target=\"_blank\" style=\"color: green; text-decoration: none;\">3</a>, <a href=\"https://byjus.com/biology/photosynthesis/\" target=\"_blank\" style=\"color: green; text-decoration: none;\">5</a>] The plant then <span style=\"color:SkyBlue; font-weight: normal;\">releases the oxygen back into the air</span> [<a href=\"https://education.nationalgeographic.org/resource/photosynthesis/\" target=\"_blank\" style=\"color: green; text-decoration: none;\">0</a>, <a href=\"https://ssec.si.edu/stemvisions-blog/what-photosynthesis\" target=\"_blank\" style=\"color: green; text-decoration: none;\">2</a>] and <span style=\"color:SkyBlue; font-weight: normal;\">stores energy within the glucose molecules.</span> [<a href=\"https://education.nationalgeographic.org/resource/photosynthesis/\" target=\"_blank\" style=\"color: green; text-decoration: none;\">0</a>, <a href=\"https://www.britannica.com/science/photosynthesis\" target=\"_blank\" style=\"color: green; text-decoration: none;\">1</a>, <a href=\"https://ssec.si.edu/stemvisions-blog/what-photosynthesis\" target=\"_blank\" style=\"color: green; text-decoration: none;\">2</a>]<br><br>The process can be broken down into two stages: <span style=\"color:SkyBlue; font-weight: normal;\">light-dependent reactions</span> [<a href=\"https://education.nationalgeographic.org/resource/photosynthesis/\" target=\"_blank\" style=\"color: green; text-decoration: none;\">0</a>, <a href=\"https://www.britannica.com/science/photosynthesis\" target=\"_blank\" style=\"color: green; text-decoration: none;\">1</a>, <a href=\"https://www.khanacademy.org/science/ap-biology/cellular-energetics/photosynthesis/a/intro-to-photosynthesis\" target=\"_blank\" style=\"color: green; text-decoration: none;\">3</a>, <a href=\"https://en.wikipedia.org/wiki/Photosynthesis\" target=\"_blank\" style=\"color: green; text-decoration: none;\">4</a>, <a href=\"https://byjus.com/biology/photosynthesis/\" target=\"_blank\" style=\"color: green; text-decoration: none;\">5</a>] and <span style=\"color:SkyBlue; font-weight: normal;\">light-independent reactions.</span> [<a href=\"https://education.nationalgeographic.org/resource/photosynthesis/\" target=\"_blank\" style=\"color: green; text-decoration: none;\">0</a>, <a href=\"https://www.britannica.com/science/photosynthesis\" target=\"_blank\" style=\"color: green; text-decoration: none;\">1</a>, <a href=\"https://www.khanacademy.org/science/ap-biology/cellular-energetics/photosynthesis/a/intro-to-photosynthesis\" target=\"_blank\" style=\"color: green; text-decoration: none;\">3</a>, <a href=\"https://en.wikipedia.org/wiki/Photosynthesis\" target=\"_blank\" style=\"color: green; text-decoration: none;\">4</a>, <a href=\"https://byjus.com/biology/photosynthesis/\" target=\"_blank\" style=\"color: green; text-decoration: none;\">5</a>] Light-dependent reactions take place within the <span style=\"color:SkyBlue; font-weight: normal;\">thylakoid membrane</span> [<a href=\"https://education.nationalgeographic.org/resource/photosynthesis/\" target=\"_blank\" style=\"color: green; text-decoration: none;\">0</a>, <a href=\"https://www.khanacademy.org/science/ap-biology/cellular-energetics/photosynthesis/a/intro-to-photosynthesis\" target=\"_blank\" style=\"color: green; text-decoration: none;\">3</a>, <a href=\"https://en.wikipedia.org/wiki/Photosynthesis\" target=\"_blank\" style=\"color: green; text-decoration: none;\">4</a>, <a href=\"https://byjus.com/biology/photosynthesis/\" target=\"_blank\" style=\"color: green; text-decoration: none;\">5</a>] and require a <span style=\"color:SkyBlue; font-weight: normal;\">steady stream of sunlight.</span> [<a href=\"https://education.nationalgeographic.org/resource/photosynthesis/\" target=\"_blank\" style=\"color: green; text-decoration: none;\">0</a>] The light-independent stage, also known as the <span style=\"color:SkyBlue; font-weight: normal;\">Calvin cycle</span> [<a href=\"https://education.nationalgeographic.org/resource/photosynthesis/\" target=\"_blank\" style=\"color: green; text-decoration: none;\">0</a>, <a href=\"https://www.britannica.com/science/photosynthesis\" target=\"_blank\" style=\"color: green; text-decoration: none;\">1</a>, <a href=\"https://www.khanacademy.org/science/ap-biology/cellular-energetics/photosynthesis/a/intro-to-photosynthesis\" target=\"_blank\" style=\"color: green; text-decoration: none;\">3</a>, <a href=\"https://en.wikipedia.org/wiki/Photosynthesis\" target=\"_blank\" style=\"color: green; text-decoration: none;\">4</a>, <a href=\"https://byjus.com/biology/photosynthesis/\" target=\"_blank\" style=\"color: green; text-decoration: none;\">5</a>], takes place in the <span style=\"color:SkyBlue; font-weight: normal;\">stroma</span> [<a href=\"https://education.nationalgeographic.org/resource/photosynthesis/\" target=\"_blank\" style=\"color: green; text-decoration: none;\">0</a>, <a href=\"https://www.khanacademy.org/science/ap-biology/cellular-energetics/photosynthesis/a/intro-to-photosynthesis\" target=\"_blank\" style=\"color: green; text-decoration: none;\">3</a>, <a href=\"https://en.wikipedia.org/wiki/Photosynthesis\" target=\"_blank\" style=\"color: green; text-decoration: none;\">4</a>, <a href=\"https://byjus.com/biology/photosynthesis/\" target=\"_blank\" style=\"color: green; text-decoration: none;\">5</a>] and <span style=\"color:SkyBlue; font-weight: normal;\">does not require light.</span> [<a href=\"https://education.nationalgeographic.org/resource/photosynthesis/\" target=\"_blank\" style=\"color: green; text-decoration: none;\">0</a>, <a href=\"https://www.britannica.com/science/photosynthesis\" target=\"_blank\" style=\"color: green; text-decoration: none;\">1</a>]</p>\n",
              "    "
            ],
            "text/plain": [
              "<IPython.core.display.HTML object>"
            ]
          },
          "metadata": {},
          "output_type": "display_data"
        }
      ],
      "source": [
        "import cohere\n",
        "from IPython.display import HTML, display\n",
        "from google.colab import userdata\n",
        "COHERE_API_KEY = userdata.get('COHERE_API_KEY')\n",
        "\n",
        "\n",
        "# Initialize Cohere client\n",
        "co = cohere.Client(api_key=COHERE_API_KEY)\n",
        "\n",
        "query = \"Explain the process of photosynthesis\"\n",
        "\n",
        "# Call Cohere Chat with Streamed Response\n",
        "stream = co.chat_stream(\n",
        "    model='command-r-plus',\n",
        "    message=query,\n",
        "    temperature=0,\n",
        "    chat_history=[],\n",
        "    prompt_truncation='AUTO',\n",
        "    connectors=[{\"id\":\"web-search\"}]\n",
        ")\n",
        "\n",
        "non_cited_response = \"\"\n",
        "citations = []\n",
        "documents = []\n",
        "\n",
        "print(\"Streamed chat response:\")\n",
        "for event in stream:\n",
        "    # Handle event types\n",
        "    if event.event_type == \"text-generation\":\n",
        "        non_cited_response += event.text\n",
        "        print(event.text, end='')\n",
        "    if event.event_type == \"citation-generation\":\n",
        "        citations.extend(event.citations)\n",
        "    if event.event_type == \"stream-end\":\n",
        "        documents = event.response.documents\n",
        "\n",
        "doc_url_mapping = {doc['id'].split(\"_\")[1]: doc['url'] for doc in documents}\n",
        "\n",
        "# Call helper function\n",
        "markdown_response, html_response = generate_response(non_cited_response, citations, doc_url_mapping)\n",
        "\n",
        "# Save markdown file\n",
        "with open(\"response.md\", \"w\") as file:\n",
        "    file.write(markdown_response)\n",
        "\n",
        "print(\"Markdown Response:\")\n",
        "\n",
        "# Display the generated HTML response\n",
        "display(HTML(html_response))"
      ]
    }
  ],
  "metadata": {
    "colab": {
      "collapsed_sections": [
        "cMsPZiQO75Ae"
      ],
      "provenance": []
    },
    "kernelspec": {
      "display_name": "Python 3",
      "name": "python3"
    },
    "language_info": {
      "name": "python"
    }
  },
  "nbformat": 4,
  "nbformat_minor": 0
}
