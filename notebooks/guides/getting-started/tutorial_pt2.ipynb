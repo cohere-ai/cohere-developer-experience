{
 "cells": [
  {
   "cell_type": "markdown",
   "metadata": {},
   "source": [
    "<a target=\"_blank\" href=\"https://colab.research.google.com/github/cohere-ai/notebooks/blob/main/notebooks/guides/getting-started/tutorial_pt2.ipynb\">\n",
    "  <img src=\"https://colab.research.google.com/assets/colab-badge.svg\" alt=\"Open In Colab\"/>\n",
    "</a>"
   ]
  },
  {
   "cell_type": "markdown",
   "metadata": {},
   "source": [
    "# Text Generation"
   ]
  },
  {
   "cell_type": "markdown",
   "metadata": {},
   "source": [
    "Command is Cohere’s flagship LLM. It generates a response based on a user message or prompt. It is trained to follow user commands and to be instantly useful in practical business applications, like summarization, copywriting, extraction, and question-answering.\n",
    "\n",
    "Command R and Command R+ are the most recent models in the Command family. They are the market-leading models that balance high efficiency with strong accuracy to enable enterprises to move from proof of concept into production-grade AI.\n",
    "\n",
    "You'll use Chat, the Cohere endpoint for accessing the Command models.\n",
    "\n",
    "In this tutorial, you'll learn about:\n",
    "- Basic text generation\n",
    "- Prompt engineering\n",
    "- Parameters for controlling output\n",
    "- Structured output generation\n",
    "- Streamed output\n",
    "\n",
    "You'll learn these by building an onboarding assistant for new hires."
   ]
  },
  {
   "cell_type": "markdown",
   "metadata": {},
   "source": [
    "## Setup\n",
    "\n",
    "To get started, first we need to install the `cohere` library and create a Cohere client."
   ]
  },
  {
   "cell_type": "code",
   "execution_count": 1,
   "metadata": {},
   "outputs": [],
   "source": [
    "\n",
    "# pip install cohere\n",
    "\n",
    "import cohere\n",
    "\n",
    "co = cohere.Client(\"COHERE_API_KEY\") # Get your API key: https://dashboard.cohere.com/api-keys"
   ]
  },
  {
   "cell_type": "markdown",
   "metadata": {},
   "source": [
    "## Basic text generation"
   ]
  },
  {
   "cell_type": "markdown",
   "metadata": {},
   "source": [
    "To get started with Chat, we just need to pass one parameter, `message`, representing the user message. We then call the Chat endpoint through the client we created earlier.\n",
    "\n",
    "The response contains several objects. For simplicity, what we want right now is the `text` object.\n",
    "\n",
    "Here's an example of the assistant responding to a new hire's query asking for help to make introductions."
   ]
  },
  {
   "cell_type": "code",
   "execution_count": 2,
   "metadata": {},
   "outputs": [
    {
     "name": "stdout",
     "output_type": "stream",
     "text": [
      "Sure! Here is a short introduction message:\n",
      "\n",
      "\"Hi everyone! My name is [Your Name] and I am excited to join the Co1t team today. I am passionate about [relevant experience or skills] and look forward to contributing my skills and ideas to the team. In my free time, I enjoy [hobbies or interests]. Feel free to reach out to me directly if you want to chat or collaborate. Let's work together to make Co1t a success!\"\n"
     ]
    }
   ],
   "source": [
    "# Add the user message\n",
    "message = \"I'm joining a new startup called Co1t today. Could you help me write a short introduction message to my teammates.\"\n",
    "\n",
    "# Generate the response\n",
    "response = co.chat(message=message)\n",
    "\n",
    "print(response.text)"
   ]
  },
  {
   "cell_type": "markdown",
   "metadata": {},
   "source": [
    "Further reading:\n",
    "- [Chat endpoint API reference](https://docs.cohere.com/reference/chat)\n",
    "- [Documentation on Chat fine-tuning](https://docs.cohere.com/docs/chat-fine-tuning)\n",
    "- [Documentation on Command R+](https://docs.cohere.com/docs/command-r-plus)\n",
    "- [LLM University module on text generation](https://cohere.com/llmu#text-generation)\n"
   ]
  },
  {
   "cell_type": "markdown",
   "metadata": {},
   "source": [
    "## Prompt engineering"
   ]
  },
  {
   "cell_type": "markdown",
   "metadata": {},
   "source": [
    "Prompting is at the heart of working with LLMs. The prompt provides context for the text that we want the model to generate. The prompts we create can be anything from simple instructions to more complex pieces of text, and they are used to encourage the model to produce a specific type of output.\n",
    "\n",
    "In this section, we'll look at a couple of prompting techniques.\n",
    "\n",
    "The first is to add more specific instructions to the prompt. The more instructions you provide in the prompt, the closer you can get to the response you need.\n",
    "\n",
    "The limit of how long a prompt can be is dependent on the maximum context length that a model can support (in the case Command R/R+, it's 128k tokens).\n",
    "\n",
    "Below, we'll add one additional instruction to the earlier prompt: the length we need the response to be."
   ]
  },
  {
   "cell_type": "code",
   "execution_count": 3,
   "metadata": {},
   "outputs": [
    {
     "name": "stdout",
     "output_type": "stream",
     "text": [
      "Here's a potential introduction message:\n",
      "\n",
      "\"Hi everyone, my name is [Your Name] and I'm thrilled to join Co1t today as part of the team, and I look forward to contributing my skills and ideas to drive innovation and success!\"\n",
      "\n",
      "This message expresses your excitement about joining the company and highlights your commitment to contributing to the team's success.\n"
     ]
    }
   ],
   "source": [
    "# Add the user message\n",
    "message = \"I'm joining a new startup called Co1t today. Could you help me write a one-sentence introduction message to my teammates.\"\n",
    "\n",
    "# Generate the response\n",
    "response = co.chat(message=message)\n",
    "\n",
    "print(response.text)"
   ]
  },
  {
   "cell_type": "markdown",
   "metadata": {},
   "source": [
    "All our prompts so far use what is called zero-shot prompting, which means that provide instruction without any example. But in many cases, it is extremely helpful to provide examples to the model to guide its response. This is called few-shot prompting.\n",
    "\n",
    "Few-shot prompting is especially useful when we want the model response to follow a particular style or format. Also, it is sometimes hard to explain what you want in an instruction, and easier to show examples.\n",
    "\n",
    "Below, we want the response to be similar in style and length to the convention, as we show in the examples."
   ]
  },
  {
   "cell_type": "code",
   "execution_count": 4,
   "metadata": {},
   "outputs": [
    {
     "name": "stdout",
     "output_type": "stream",
     "text": [
      "Server Access Issues\n"
     ]
    }
   ],
   "source": [
    "# Add the user message\n",
    "user_input = \"Why can't I access the server? Is it a permissions issue?\"\n",
    "\n",
    "# Create a prompt containing example outputs\n",
    "message=f\"\"\"Write a ticket title for the following user request:\n",
    "\n",
    "User request: Where are the usual storage places for project files?\n",
    "Ticket title: Project File Storage Location\n",
    "\n",
    "User request: Emails won't send. What could be the issue?\n",
    "Ticket title: Email Sending Issues\n",
    "\n",
    "User request: How can I set up a connection to the office printer?\n",
    "Ticket title: Printer Connection Setup\n",
    "\n",
    "User request: {user_input}\n",
    "Ticket title:\"\"\"\n",
    "\n",
    "# Generate the response\n",
    "response = co.chat(message=message)\n",
    "\n",
    "print(response.text)"
   ]
  },
  {
   "cell_type": "markdown",
   "metadata": {},
   "source": [
    "Further reading:\n",
    "- [Documentation on prompt engineering](https://docs.cohere.com/docs/crafting-effective-prompts)\n",
    "- [LLM University module on prompt engineering](https://cohere.com/llmu#prompt-engineering)"
   ]
  },
  {
   "cell_type": "markdown",
   "metadata": {},
   "source": [
    "## Parameters for controlling output"
   ]
  },
  {
   "cell_type": "markdown",
   "metadata": {},
   "source": [
    "The Chat endpoint provides developers with an array of options and parameters.\n",
    "\n",
    "For example, you can choose from several variations of the Command model. Different models produce different output profiles, such as quality and latency."
   ]
  },
  {
   "cell_type": "code",
   "execution_count": 3,
   "metadata": {},
   "outputs": [
    {
     "name": "stdout",
     "output_type": "stream",
     "text": [
      "Hello, my name is [Your Name] and I'm thrilled to join the Co1t team today as the new kid in town!\n"
     ]
    }
   ],
   "source": [
    "# Add the user message\n",
    "message = \"I'm joining a new startup called Co1t today. Could you help me write a one-sentence introduction message to my teammates.\"\n",
    "\n",
    "# Generate the response by specifying a model\n",
    "response = co.chat(message=message, model=\"command-r\")\n",
    "\n",
    "print(response.text)"
   ]
  },
  {
   "cell_type": "markdown",
   "metadata": {},
   "source": [
    "Often, you’ll need to control the level of randomness of the output. You can control this using a few parameters.\n",
    "\n",
    "The most commonly used parameter is `temperature`, which is a number used to tune the degree of randomness. You can enter values between 0.0 to 1.0.\n",
    "\n",
    "A lower temperature gives more predictable outputs, and a higher temperature gives more \"creative\" outputs.\n",
    "\n",
    "Here's an example of setting `temperature` to 0."
   ]
  },
  {
   "cell_type": "code",
   "execution_count": 11,
   "metadata": {},
   "outputs": [
    {
     "name": "stdout",
     "output_type": "stream",
     "text": [
      "1: Curious Historian.\n",
      "\n",
      "2: Curious Historian.\n",
      "\n",
      "3: Curious Historian.\n",
      "\n"
     ]
    }
   ],
   "source": [
    "# Add the user message\n",
    "message = \"I like learning about the industrial revolution and how it shapes the modern world. How can I introduce myself in two words.\"\n",
    "\n",
    "# Generate the response multiple times by specifying a low temperature value\n",
    "for idx in range(3):\n",
    "    response = co.chat(message=message, temperature=0)\n",
    "    print(f\"{idx+1}: {response.text}\\n\")"
   ]
  },
  {
   "cell_type": "markdown",
   "metadata": {},
   "source": [
    "And here's an example of setting `temperature` to 1."
   ]
  },
  {
   "cell_type": "code",
   "execution_count": 12,
   "metadata": {},
   "outputs": [
    {
     "name": "stdout",
     "output_type": "stream",
     "text": [
      "1: Sure! Here are two words that can describe you: \n",
      "\n",
      "1. Industry Enthusiast \n",
      "2. Revolution Aficionado \n",
      "\n",
      "These words combine your passion for learning about the Industrial Revolution with a modern twist, showcasing your enthusiasm and knowledge in a concise manner.\n",
      "\n",
      "2: \"Revolution Fan\"\n",
      "\n",
      "3: History Enthusiast!\n",
      "\n"
     ]
    }
   ],
   "source": [
    "# Add the user message\n",
    "message = \"I like learning about the industrial revolution and how it shapes the modern world. How can I introduce myself in two words.\"\n",
    "\n",
    "# Generate the response multiple times by specifying a high temperature value\n",
    "for idx in range(3):\n",
    "    response = co.chat(message=message, temperature=1)\n",
    "    print(f\"{idx+1}: {response.text}\\n\")"
   ]
  },
  {
   "cell_type": "markdown",
   "metadata": {},
   "source": [
    "Further reading:\n",
    "- [Available models for the Chat endpoint](https://docs.cohere.com/docs/models#command)\n",
    "- [Documentation on predictable outputs](https://docs.cohere.com/docs/predictable-outputs)\n",
    "- [Documentation on advanced generation parameters](https://docs.cohere.com/docs/advanced-generation-hyperparameters)\n"
   ]
  },
  {
   "cell_type": "markdown",
   "metadata": {},
   "source": [
    "## Structured output generation"
   ]
  },
  {
   "cell_type": "markdown",
   "metadata": {},
   "source": [
    "By adding the `response_format` parameter, you can get the model to generate the output as a JSON object. By generating JSON objects, you can structure and organize the model's responses in a way that can be used in downstream applications.\n",
    "\n",
    "The `response_format` parameter allows you to specify the schema the JSON object must follow. It takes the following parameters:\n",
    "- `message`: The user message\n",
    "- `response_format`: The schema of the JSON object"
   ]
  },
  {
   "cell_type": "code",
   "execution_count": 5,
   "metadata": {},
   "outputs": [
    {
     "name": "stdout",
     "output_type": "stream",
     "text": [
      "{'title': 'User Unable to Access Server', 'category': 'access', 'status': 'open'}\n"
     ]
    }
   ],
   "source": [
    "# Add the user message\n",
    "user_input = \"Why can't I access the server? Is it a permissions issue?\"\n",
    "\n",
    "# Generate the response multiple times by adding the JSON schema\n",
    "response = co.chat(\n",
    "  model=\"command-r-plus\",\n",
    "  message=f\"\"\"Create an IT ticket for the following user request. Generate a JSON object.\n",
    "  {user_input}\"\"\",\n",
    "  response_format={\n",
    "    \"type\": \"json_object\",\n",
    "    \"schema\": {\n",
    "      \"type\": \"object\",\n",
    "      \"required\": [\"title\", \"category\", \"status\"],\n",
    "      \"properties\": {\n",
    "        \"title\": { \"type\": \"string\"},\n",
    "        \"category\": { \"type\" : \"string\", \"enum\" : [\"access\", \"software\"]},\n",
    "        \"status\": { \"type\" : \"string\" , \"enum\" : [\"open\", \"closed\"]}\n",
    "      }\n",
    "    }\n",
    "  },\n",
    ")\n",
    "\n",
    "import json\n",
    "json_object = json.loads(response.text)\n",
    "\n",
    "print(json_object)"
   ]
  },
  {
   "cell_type": "markdown",
   "metadata": {},
   "source": [
    "Further reading:\n",
    "- [Documentation on Structured Generations (JSON)](https://docs.cohere.com/docs/structured-outputs-json)"
   ]
  },
  {
   "cell_type": "markdown",
   "metadata": {},
   "source": [
    "## Streaming responses"
   ]
  },
  {
   "cell_type": "markdown",
   "metadata": {},
   "source": [
    "All the previous examples above generate responses in a non-streamed manner. This means that the endpoint would return a response object only after the model has generated the text in full.\n",
    "\n",
    "The Chat endpoint also provides streaming support. In a streamed response, the endpoint would return a response object for each token as it is being generated. This means you can display the text incrementally without having to wait for the full completion.\n",
    "\n",
    "To activate it, use `co.chat_stream()` instead of `co.chat()`.\n",
    "\n",
    "In streaming mode, the endpoint will generate a series of objects. To get the actual text contents, we take objects whose `event_type` is `text-generation`."
   ]
  },
  {
   "cell_type": "code",
   "execution_count": 26,
   "metadata": {},
   "outputs": [
    {
     "name": "stdout",
     "output_type": "stream",
     "text": [
      "Here's a potential introduction message:\n",
      "\n",
      "\"Hi everyone, my name is [Your Name] and I'm thrilled to join Co1t today as the newest [Your Role], and I look forward to contributing my skills and expertise to the team and driving innovative solutions for our customers.\""
     ]
    }
   ],
   "source": [
    "# Add the user message\n",
    "message = \"I'm joining a new startup called Co1t today. Could you help me write a one-sentence introduction message to my teammates.\"\n",
    "\n",
    "# Generate the response by streaming it\n",
    "response = co.chat_stream(\n",
    "            message=message)\n",
    "\n",
    "for event in response:\n",
    "    if event.event_type == \"text-generation\":\n",
    "        print(event.text, end=\"\")"
   ]
  },
  {
   "cell_type": "markdown",
   "metadata": {},
   "source": [
    "Further reading:\n",
    "- [Documentation on streaming responses](https://docs.cohere.com/docs/streaming)"
   ]
  },
  {
   "cell_type": "markdown",
   "metadata": {},
   "source": [
    "## Conclusion"
   ]
  },
  {
   "cell_type": "markdown",
   "metadata": {},
   "source": [
    "In this tutorial, you learned about:\n",
    "- How to get started with a basic text generation\n",
    "- How to improve outputs with prompt engineering\n",
    "- How to control outputs using parameter changes\n",
    "- How to generate structured outputs\n",
    "- How to stream text generation outputs\n",
    "\n",
    "However, we have only done all this using direct text generations. As its name implies, the Chat endpoint can also support building chatbots, which require features to support multi-turn conversations and maintain the conversation state. \n",
    "\n",
    "In Part 3, you'll learn how to build chatbots with the Chat endpoint."
   ]
  }
 ],
 "metadata": {
  "kernelspec": {
   "display_name": "base",
   "language": "python",
   "name": "base"
  },
  "language_info": {
   "codemirror_mode": {
    "name": "ipython",
    "version": 3
   },
   "file_extension": ".py",
   "mimetype": "text/x-python",
   "name": "python",
   "nbconvert_exporter": "python",
   "pygments_lexer": "ipython3",
   "version": "3.11.4"
  }
 },
 "nbformat": 4,
 "nbformat_minor": 2
}
