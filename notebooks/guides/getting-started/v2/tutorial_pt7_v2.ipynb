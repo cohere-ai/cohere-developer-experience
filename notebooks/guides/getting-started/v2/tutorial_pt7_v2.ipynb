{
 "cells": [
  {
   "cell_type": "markdown",
   "metadata": {},
   "source": [
    "<a target=\"_blank\" href=\"https://colab.research.google.com/github/cohere-ai/cohere-developer-experience/blob/main/notebooks/guides/getting-started/v2/tutorial_pt7_v2.ipynb\">\n",
    "  <img src=\"https://colab.research.google.com/assets/colab-badge.svg\" alt=\"Open In Colab\"/>\n",
    "</a>"
   ]
  },
  {
   "cell_type": "markdown",
   "metadata": {},
   "source": [
    "# Agents with Tool Use"
   ]
  },
  {
   "cell_type": "markdown",
   "metadata": {},
   "source": [
    "Tool use extends the ideas from RAG, where external systems are used to guide the response of an LLM, but by leveraging a much bigger set of tools than what’s possible with RAG. The concept of tool use leverages LLMs' useful feature of being able to act as a reasoning and decision-making engine.\n",
    "\n",
    "While RAG enables applications that can *answer questions*, tool use enables those that can *automate tasks*.\n",
    "\n",
    "Tool use also enables developers to build agentic applications that can take actions, that is, doing both read and write operations on an external system.\n",
    "\n",
    "In this tutorial, you'll learn about:\n",
    "- Creating tools\n",
    "- Tool planning and calling\n",
    "- Tool execution\n",
    "- Response and citation generation\n",
    "- Multi-step tool use\n",
    "\n",
    "You'll learn these by building an onboarding assistant for new hires."
   ]
  },
  {
   "cell_type": "markdown",
   "metadata": {},
   "source": [
    "## Setup\n",
    "\n",
    "To get started, first we need to install the `cohere` library and create a Cohere client."
   ]
  },
  {
   "cell_type": "code",
   "execution_count": 1,
   "metadata": {},
   "outputs": [],
   "source": [
    "\n",
    "# pip install cohere\n",
    "\n",
    "import cohere\n",
    "import json\n",
    "import os\n",
    "\n",
    "co = cohere.ClientV2(api_key=\"COHERE_API_KEY\") # Get your free API key: https://dashboard.cohere.com/api-keys"
   ]
  },
  {
   "cell_type": "markdown",
   "metadata": {},
   "source": [
    "## Creating tools"
   ]
  },
  {
   "cell_type": "markdown",
   "metadata": {},
   "source": [
    "The pre-requisite, before we can run a tool use workflow, is to set up the tools. Let's create three tools:\n",
    "- `search_faqs`: A tool for searching the FAQs. For simplicity, we'll not implement any retrieval logic, but we'll simply pass a list of pre-defined documents, which are the FAQ documents we had used in the Text Embeddings section.\n",
    "- `search_emails`: A tool for searching the emails. Same as above, we'll simply pass a list of pre-defined emails from the Reranking section.\n",
    "- `create_calendar_event`: A tool for creating new calendar events. Again, for simplicity, we'll not implement actual event bookings, but will return a mock success event. In practice, we can connect to a calendar service API and implement all the necessary logic here.\n",
    "\n",
    "Here, we are defining a Python function for each tool, but more broadly, the tool can be any function or service that can receive and send objects."
   ]
  },
  {
   "cell_type": "code",
   "execution_count": 8,
   "metadata": {},
   "outputs": [],
   "source": [
    "# Create the tools\n",
    "def search_faqs(query):\n",
    "    faqs = [\n",
    "        {\n",
    "            \"text\": \"Reimbursing Travel Expenses: Easily manage your travel expenses by submitting them through our finance tool. Approvals are prompt and straightforward.\"\n",
    "        },\n",
    "        {\n",
    "            \"text\": \"Working from Abroad: Working remotely from another country is possible. Simply coordinate with your manager and ensure your availability during core hours.\"\n",
    "        },\n",
    "    ]\n",
    "    return faqs\n",
    "\n",
    "\n",
    "def search_emails(query):\n",
    "    emails = [\n",
    "        {\n",
    "            \"from\": \"it@co1t.com\",\n",
    "            \"to\": \"david@co1t.com\",\n",
    "            \"date\": \"2024-06-24\",\n",
    "            \"subject\": \"Setting Up Your IT Needs\",\n",
    "            \"text\": \"Greetings! To ensure a seamless start, please refer to the attached comprehensive guide, which will assist you in setting up all your work accounts.\",\n",
    "        },\n",
    "        {\n",
    "            \"from\": \"john@co1t.com\",\n",
    "            \"to\": \"david@co1t.com\",\n",
    "            \"date\": \"2024-06-24\",\n",
    "            \"subject\": \"First Week Check-In\",\n",
    "            \"text\": \"Hello! I hope you're settling in well. Let's connect briefly tomorrow to discuss how your first week has been going. Also, make sure to join us for a welcoming lunch this Thursday at noon—it's a great opportunity to get to know your colleagues!\",\n",
    "        },\n",
    "    ]\n",
    "    return emails\n",
    "\n",
    "\n",
    "def create_calendar_event(date: str, time: str, duration: int):\n",
    "    # You can implement any logic here\n",
    "    return {\n",
    "        \"is_success\": True,\n",
    "        \"message\": f\"Created a {duration} hour long event at {time} on {date}\",\n",
    "    }\n",
    "\n",
    "\n",
    "functions_map = {\n",
    "    \"search_faqs\": search_faqs,\n",
    "    \"search_emails\": search_emails,\n",
    "    \"create_calendar_event\": create_calendar_event,\n",
    "}"
   ]
  },
  {
   "cell_type": "markdown",
   "metadata": {},
   "source": [
    "The second and final setup step is to define the tool schemas in a format that can be passed to the Chat endpoint. The schema must contain the following fields: `name`, `description`, and `parameters` in the format shown below. \n",
    "\n",
    "This schema informs the LLM about what the tool does, and the LLM decides whether to use a particular tool based on it. Therefore, the more descriptive and specific the schema, the more likely the LLM will make the right tool call decisions."
   ]
  },
  {
   "cell_type": "markdown",
   "metadata": {},
   "source": [
    "Further reading:\n",
    "- [Documentation on parameter types in tool use](https://docs.cohere.com/v2/docs/parameter-types-in-tool-use)"
   ]
  },
  {
   "cell_type": "code",
   "execution_count": 9,
   "metadata": {},
   "outputs": [],
   "source": [
    "# Define the tools\n",
    "tools = [\n",
    "    {\n",
    "        \"type\": \"function\",\n",
    "        \"function\": {\n",
    "            \"name\": \"search_faqs\",\n",
    "            \"description\": \"Given a user query, searches a company's frequently asked questions (FAQs) list and returns the most relevant matches to the query.\",\n",
    "            \"parameters\": {\n",
    "                \"type\": \"object\",\n",
    "                \"properties\": {\n",
    "                    \"query\": {\n",
    "                        \"type\": \"string\",\n",
    "                        \"description\": \"The query from the user\",\n",
    "                    }\n",
    "                },\n",
    "                \"required\": [\"query\"],\n",
    "            },\n",
    "        },\n",
    "    },\n",
    "    {\n",
    "        \"type\": \"function\",\n",
    "        \"function\": {\n",
    "            \"name\": \"search_emails\",\n",
    "            \"description\": \"Given a user query, searches a person's emails and returns the most relevant matches to the query.\",\n",
    "            \"parameters\": {\n",
    "                \"type\": \"object\",\n",
    "                \"properties\": {\n",
    "                    \"query\": {\n",
    "                        \"type\": \"string\",\n",
    "                        \"description\": \"The query from the user\",\n",
    "                    }\n",
    "                },\n",
    "                \"required\": [\"query\"],\n",
    "            },\n",
    "        },\n",
    "    },\n",
    "    {\n",
    "        \"type\": \"function\",\n",
    "        \"function\": {\n",
    "            \"name\": \"create_calendar_event\",\n",
    "            \"description\": \"Creates a new calendar event of the specified duration at the specified time and date. A new event cannot be created on the same time as an existing event.\",\n",
    "            \"parameters\": {\n",
    "                \"type\": \"object\",\n",
    "                \"properties\": {\n",
    "                    \"date\": {\n",
    "                        \"type\": \"string\",\n",
    "                        \"description\": \"the date on which the event starts, formatted as mm/dd/yy\",\n",
    "                    },\n",
    "                    \"time\": {\n",
    "                        \"type\": \"string\",\n",
    "                        \"description\": \"the time of the event, formatted using 24h military time formatting\",\n",
    "                    },\n",
    "                    \"duration\": {\n",
    "                        \"type\": \"number\",\n",
    "                        \"description\": \"the number of hours the event lasts for\",\n",
    "                    },\n",
    "                },\n",
    "                \"required\": [\"date\", \"time\", \"duration\"],\n",
    "            },\n",
    "        },\n",
    "    },\n",
    "]"
   ]
  },
  {
   "cell_type": "markdown",
   "metadata": {},
   "source": [
    "## Tool planning and calling"
   ]
  },
  {
   "cell_type": "markdown",
   "metadata": {},
   "source": [
    "We can now run the tool use workflow. We can think of a tool use system as consisting of four components:\n",
    "- The user\n",
    "- The application\n",
    "- The LLM\n",
    "- The tools\n",
    "\n",
    "At its most basic, these four components interact in a workflow through four steps:\n",
    "- **Step 1: Get user message** – The LLM gets the user message (via the application)\n",
    "- **Step 2: Tool planning and calling** – The LLM makes a decision on the tools to call (if any) and generates - the tool calls\n",
    "- **Step 3: Tool execution** - The application executes the tools and the results are sent to the LLM\n",
    "- **Step 4: Response and citation generation** – The LLM generates the response and citations to back to the user"
   ]
  },
  {
   "cell_type": "code",
   "execution_count": 10,
   "metadata": {},
   "outputs": [
    {
     "name": "stdout",
     "output_type": "stream",
     "text": [
      "Tool plan:\n",
      "I will search the emails for 'IT setup' to find out if there is any message about getting set up with IT. \n",
      "\n",
      "Tool calls:\n",
      "Tool name: search_emails | Parameters: {\"query\":\"IT setup\"}\n"
     ]
    }
   ],
   "source": [
    "# Create custom system message\n",
    "system_message = \"\"\"## Task and Context\n",
    "You are an assistant who assist new employees of Co1t with their first week. You respond to their questions and assist them with their needs. Today is Monday, June 24, 2024\"\"\"\n",
    "\n",
    "\n",
    "# Step 1: Get user message\n",
    "message = \"Is there any message about getting setup with IT?\"\n",
    "\n",
    "# Add the system and user messages to the chat history\n",
    "messages = [\n",
    "    {\"role\": \"system\", \"content\": system_message},\n",
    "    {\"role\": \"user\", \"content\": message},\n",
    "]\n",
    "\n",
    "# Step 2: Tool planning and calling\n",
    "response = co.chat(model=\"command-a-03-2025\", messages=messages, tools=tools)\n",
    "\n",
    "if response.message.tool_calls:\n",
    "    print(\"Tool plan:\")\n",
    "    print(response.message.tool_plan, \"\\n\")\n",
    "    print(\"Tool calls:\")\n",
    "    for tc in response.message.tool_calls:\n",
    "        print(f\"Tool name: {tc.function.name} | Parameters: {tc.function.arguments}\")\n",
    "\n",
    "    # Append tool calling details to the chat history\n",
    "    messages.append(response.message)"
   ]
  },
  {
   "cell_type": "markdown",
   "metadata": {},
   "source": [
    "Given three tools to choose from, the model is able to pick the right tool (in this case, `search_emails`) based on what the user is asking for.\n",
    "\n",
    "Also, notice that the model first generates a plan about what it should do (\"I will do ...\") before actually generating the tool call(s)."
   ]
  },
  {
   "cell_type": "markdown",
   "metadata": {},
   "source": [
    "# Tool execution"
   ]
  },
  {
   "cell_type": "code",
   "execution_count": 11,
   "metadata": {},
   "outputs": [
    {
     "name": "stdout",
     "output_type": "stream",
     "text": [
      "Tool results:\n",
      "{'type': 'document', 'document': {'data': '{\"from\": \"it@co1t.com\", \"to\": \"david@co1t.com\", \"date\": \"2024-06-24\", \"subject\": \"Setting Up Your IT Needs\", \"text\": \"Greetings! To ensure a seamless start, please refer to the attached comprehensive guide, which will assist you in setting up all your work accounts.\"}'}}\n",
      "{'type': 'document', 'document': {'data': '{\"from\": \"john@co1t.com\", \"to\": \"david@co1t.com\", \"date\": \"2024-06-24\", \"subject\": \"First Week Check-In\", \"text\": \"Hello! I hope you\\'re settling in well. Let\\'s connect briefly tomorrow to discuss how your first week has been going. Also, make sure to join us for a welcoming lunch this Thursday at noon\\\\u2014it\\'s a great opportunity to get to know your colleagues!\"}'}}\n"
     ]
    }
   ],
   "source": [
    "# Step 3: Tool execution\n",
    "for tc in response.message.tool_calls:\n",
    "    tool_result = functions_map[tc.function.name](**json.loads(tc.function.arguments))\n",
    "    tool_content = []\n",
    "    for idx, data in enumerate(tool_result):\n",
    "        tool_content.append(\n",
    "            {\"type\": \"document\", \"document\": {\"data\": json.dumps(data)}}\n",
    "        )\n",
    "        # Optional: add an \"id\" field in the \"document\" object, otherwise IDs are auto-generated\n",
    "    # Append tool results to the chat history\n",
    "    messages.append({\"role\": \"tool\", \"tool_call_id\": tc.id, \"content\": tool_content})\n",
    "\n",
    "print(\"Tool results:\")\n",
    "for result in tool_content:\n",
    "    print(result)"
   ]
  },
  {
   "cell_type": "markdown",
   "metadata": {},
   "source": [
    "## Response and citation generation"
   ]
  },
  {
   "cell_type": "code",
   "execution_count": 12,
   "metadata": {},
   "outputs": [
    {
     "name": "stdout",
     "output_type": "stream",
     "text": [
      "Response:\n",
      "Yes, I found an email from the IT department with the subject 'Setting Up Your IT Needs'. It contains a comprehensive guide to help you set up all your work accounts.\n",
      "==================================================\n",
      "\n",
      "CITATIONS:\n",
      "start=13 end=44 text='an email from the IT department' sources=[ToolSource(type='tool', id='search_emails_j10wmwt8pbrz:0', tool_output={'date': '2024-06-24', 'from': 'it@co1t.com', 'subject': 'Setting Up Your IT Needs', 'text': 'Greetings! To ensure a seamless start, please refer to the attached comprehensive guide, which will assist you in setting up all your work accounts.', 'to': 'david@co1t.com'})] content_index=None type='TEXT_CONTENT' \n",
      "\n",
      "start=62 end=88 text=\"'Setting Up Your IT Needs'\" sources=[ToolSource(type='tool', id='search_emails_j10wmwt8pbrz:0', tool_output={'date': '2024-06-24', 'from': 'it@co1t.com', 'subject': 'Setting Up Your IT Needs', 'text': 'Greetings! To ensure a seamless start, please refer to the attached comprehensive guide, which will assist you in setting up all your work accounts.', 'to': 'david@co1t.com'})] content_index=None type='TEXT_CONTENT' \n",
      "\n",
      "start=102 end=166 text='a comprehensive guide to help you set up all your work accounts.' sources=[ToolSource(type='tool', id='search_emails_j10wmwt8pbrz:0', tool_output={'date': '2024-06-24', 'from': 'it@co1t.com', 'subject': 'Setting Up Your IT Needs', 'text': 'Greetings! To ensure a seamless start, please refer to the attached comprehensive guide, which will assist you in setting up all your work accounts.', 'to': 'david@co1t.com'})] content_index=None type='TEXT_CONTENT' \n",
      "\n"
     ]
    }
   ],
   "source": [
    "# Step 4: Response and citation generation\n",
    "response = co.chat(model=\"command-a-03-2025\", messages=messages, tools=tools)\n",
    "\n",
    "# Append assistant response to the chat history\n",
    "messages.append({\"role\": \"assistant\", \"content\": response.message.content[0].text})\n",
    "\n",
    "# Print final response\n",
    "print(\"Response:\")\n",
    "print(response.message.content[0].text)\n",
    "print(\"=\" * 50)\n",
    "\n",
    "# Print citations (if any)\n",
    "if response.message.citations:\n",
    "    print(\"\\nCITATIONS:\")\n",
    "    for citation in response.message.citations:\n",
    "        print(citation, \"\\n\")"
   ]
  },
  {
   "cell_type": "markdown",
   "metadata": {},
   "source": [
    "# Agents"
   ]
  },
  {
   "cell_type": "markdown",
   "metadata": {},
   "source": [
    "The model can execute more complex tasks in tool use – tasks that require tool calls to happen in a sequence. Agents typically run in this manner.\n",
    "\n",
    "Let's create a function to called `run_assistant` to implement these steps, and along the way, print out the key events and messages. Optionally, this function also accepts the chat history as an argument to keep the state in a multi-turn conversation. "
   ]
  },
  {
   "cell_type": "code",
   "execution_count": 13,
   "metadata": {},
   "outputs": [],
   "source": [
    "model = \"command-a-03-2025\"\n",
    "\n",
    "system_message = \"\"\"## Task and Context\n",
    "You are an assistant who assists new employees of Co1t with their first week. You respond to their questions and assist them with their needs. Today is Monday, June 24, 2024\"\"\"\n",
    "\n",
    "def run_agent(query, messages=None):\n",
    "    if messages is None:\n",
    "        messages = []\n",
    "\n",
    "    if \"system\" not in {m.get(\"role\") for m in messages}:\n",
    "        messages.append({\"role\": \"system\", \"content\": system_message})\n",
    "\n",
    "    # Step 1: get user message\n",
    "    print(f\"QUESTION:\\n{query}\")\n",
    "    print(\"=\" * 50)\n",
    "\n",
    "    messages.append({\"role\": \"user\", \"content\": query})\n",
    "\n",
    "    step = 0\n",
    "    max_steps = 10\n",
    "    while step < max_steps:\n",
    "\n",
    "        # Step 2/4: Generate tool calls / response and citations\n",
    "        response = co.chat(model=model, messages=messages, tools=tools, temperature=0.1)\n",
    "        \n",
    "        messages.append(response.message)\n",
    "\n",
    "        if response.message.tool_calls:\n",
    "            print(\"TOOL PLAN:\")\n",
    "            print(response.message.tool_plan, \"\\n\")\n",
    "            print(\"TOOL CALLS:\")\n",
    "            for tc in response.message.tool_calls:\n",
    "                print(\n",
    "                    f\"Tool name: {tc.function.name} | Parameters: {tc.function.arguments}\"\n",
    "                )\n",
    "            print(\"=\" * 50)\n",
    "\n",
    "            # Step 3: Perform tool calls and get back tool results\n",
    "            for tc in response.message.tool_calls:\n",
    "                tool_result = functions_map[tc.function.name](\n",
    "                    **json.loads(tc.function.arguments)\n",
    "                )\n",
    "                tool_content = []\n",
    "                for data in tool_result:\n",
    "                    tool_content.append(\n",
    "                        {\"type\": \"document\", \"document\": {\"data\": json.dumps(data)}}\n",
    "                    )\n",
    "                messages.append(\n",
    "                    {\n",
    "                        \"role\": \"tool\", \n",
    "                        \"tool_call_id\": tc.id, \n",
    "                        \"content\": tool_content\n",
    "                     }\n",
    "                )\n",
    "            step += 1\n",
    "        else:            \n",
    "            print(\"RESPONSE:\")\n",
    "            print(response.message.content[0].text)\n",
    "\n",
    "            # Print citations (if any)\n",
    "            if response.message.citations:\n",
    "                print(\"\\n\\nCITATIONS:\")\n",
    "                for citation in response.message.citations:\n",
    "                    print(citation)\n",
    "\n",
    "            return messages\n",
    "\n",
    "    return \"Max steps reached\""
   ]
  },
  {
   "cell_type": "markdown",
   "metadata": {},
   "source": [
    "To illustrate the concept of multi-step tool user, let's ask the assistant to block time for any lunch invites received in the email.\n",
    "\n",
    "This requires tasks to happen over multiple steps in a sequence. Here, we see the assistant running these steps:\n",
    "- First, it calls the `search_emails` tool to find any lunch invites, which it found one.\n",
    "- Next, it calls the `create_calendar_event` tool to create an event to block the person's calendar on the day mentioned by the email.\n",
    "\n",
    "This is also an example of tool use enabling a write operation instead of just a read operation that we saw with RAG."
   ]
  },
  {
   "cell_type": "code",
   "execution_count": 15,
   "metadata": {},
   "outputs": [
    {
     "name": "stdout",
     "output_type": "stream",
     "text": [
      "QUESTION:\n",
      "Can you check if there are any lunch invites, and for those days, create a one-hour event on my calendar at 12PM.\n",
      "==================================================\n",
      "TOOL PLAN:\n",
      "I will search for lunch invites in the user's emails. Then, I will create a one-hour event on their calendar at 12PM for each day that has a lunch invite. \n",
      "\n",
      "TOOL CALLS:\n",
      "Tool name: search_emails | Parameters: {\"query\":\"lunch invites\"}\n",
      "==================================================\n",
      "TOOL PLAN:\n",
      "I found a lunch invite for Thursday. I will now create a one-hour event on the user's calendar at 12PM for Thursday. \n",
      "\n",
      "TOOL CALLS:\n",
      "Tool name: create_calendar_event | Parameters: {\"date\":\"06/27/24\",\"time\":\"12:00\",\"duration\":1.0}\n",
      "==================================================\n",
      "RESPONSE:\n",
      "I found a lunch invite for Thursday, and have created a one-hour event on your calendar at 12PM for that day.\n",
      "\n",
      "\n",
      "CITATIONS:\n",
      "start=27 end=35 text='Thursday' sources=[ToolSource(type='tool', id='search_emails_9rgb5xp8qqcy:1', tool_output={'date': '2024-06-24', 'from': 'john@co1t.com', 'subject': 'First Week Check-In', 'text': \"Hello! I hope you're settling in well. Let's connect briefly tomorrow to discuss how your first week has been going. Also, make sure to join us for a welcoming lunch this Thursday at noon—it's a great opportunity to get to know your colleagues!\", 'to': 'david@co1t.com'})] content_index=None type='TEXT_CONTENT'\n"
     ]
    }
   ],
   "source": [
    "messages = run_agent(\"Can you check if there are any lunch invites, and for those days, create a one-hour event on my calendar at 12PM.\")"
   ]
  },
  {
   "cell_type": "markdown",
   "metadata": {},
   "source": [
    "In this tutorial, you learned about:\n",
    "- How to create tools\n",
    "- How tool planning and calling happens\n",
    "- How tool execution happens\n",
    "- How to generate the response and citations\n",
    "- How to run tool use in a multi-step scenario\n",
    "\n",
    "And that concludes our 7-part Cohere tutorial. We hope that they have provided you with a foundational understanding of the Cohere API, the available models and endpoints, and the types of use cases that you can build with them.\n",
    "\n",
    "To continue your learning, check out:\n",
    "- [LLM University - A range of courses and step-by-step guides to help you start building](https://cohere.com/llmu)\n",
    "- [Cookbooks - A collection of basic to advanced example applications](https://docs.cohere.com/page/cookbooks)\n",
    "- [Cohere's documentation](https://docs.cohere.com/docs/the-cohere-platform)\n",
    "- [The Cohere API reference](https://docs.cohere.com/reference/about)"
   ]
  }
 ],
 "metadata": {
  "kernelspec": {
   "display_name": "base",
   "language": "python",
   "name": "base"
  },
  "language_info": {
   "codemirror_mode": {
    "name": "ipython",
    "version": 3
   },
   "file_extension": ".py",
   "mimetype": "text/x-python",
   "name": "python",
   "nbconvert_exporter": "python",
   "pygments_lexer": "ipython3",
   "version": "3.11.4"
  }
 },
 "nbformat": 4,
 "nbformat_minor": 2
}
