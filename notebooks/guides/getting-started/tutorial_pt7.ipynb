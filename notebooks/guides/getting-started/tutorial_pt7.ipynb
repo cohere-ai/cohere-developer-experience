{
 "cells": [
  {
   "cell_type": "markdown",
   "metadata": {},
   "source": [
    "<a target=\"_blank\" href=\"https://colab.research.google.com/github/cohere-ai/notebooks/blob/main/notebooks/guides/getting-started/tutorial_pt7.ipynb\">\n",
    "  <img src=\"https://colab.research.google.com/assets/colab-badge.svg\" alt=\"Open In Colab\"/>\n",
    "</a>"
   ]
  },
  {
   "cell_type": "markdown",
   "metadata": {},
   "source": [
    "# Agents with Tool Use"
   ]
  },
  {
   "cell_type": "markdown",
   "metadata": {},
   "source": [
    "Tool use extends the ideas from RAG, where external systems are used to guide the response of an LLM, but by leveraging a much bigger set of tools than what’s possible with RAG. The concept of tool use leverages LLMs' useful feature of being able to act as a reasoning and decision-making engine.\n",
    "\n",
    "While RAG enables applications that can *answer questions*, tool use enables those that can *automate tasks*.\n",
    "\n",
    "Tool use also enables developers to build agentic applications that can take actions, that is, doing both read and write operations on an external system.\n",
    "\n",
    "In this tutorial, you'll learn about:\n",
    "- Creating tools\n",
    "- Tool planning and calling\n",
    "- Tool execution\n",
    "- Response and citation generation\n",
    "- Multi-step tool use\n",
    "\n",
    "You'll learn these by building an onboarding assistant for new hires."
   ]
  },
  {
   "cell_type": "markdown",
   "metadata": {},
   "source": [
    "## Setup\n",
    "\n",
    "To get started, first we need to install the `cohere` library and create a Cohere client."
   ]
  },
  {
   "cell_type": "code",
   "execution_count": null,
   "metadata": {},
   "outputs": [],
   "source": [
    "# pip install cohere numpy\n",
    "\n",
    "import numpy as np\n",
    "import cohere\n",
    "\n",
    "co = cohere.Client(\"COHERE_API_KEY\") # Get your API key: https://dashboard.cohere.com/api-keys"
   ]
  },
  {
   "cell_type": "markdown",
   "metadata": {},
   "source": [
    "## Creating tools"
   ]
  },
  {
   "cell_type": "markdown",
   "metadata": {},
   "source": [
    "The pre-requisite, before we can run a tool use workflow, is to set up the tools. Let's create three tools:\n",
    "- `search_faqs`: A tool for searching the FAQs. For simplicity, we'll not implement any retrieval logic, but we'll simply pass a list of pre-defined documents, which are the FAQ documents we had used in the Text Embeddings section.\n",
    "- `search_emails`: A tool for searching the emails. Same as above, we'll simply pass a list of pre-defined emails from the Reranking section.\n",
    "- `create_calendar_event`: A tool for creating new calendar events. Again, for simplicity, we'll not implement actual event bookings, but will return a mock success event. In practice, we can connect to a calendar service API and implement all the necessary logic here.\n",
    "\n",
    "Here, we are defining a Python function for each tool, but more broadly, the tool can be any function or service that can receive and send objects."
   ]
  },
  {
   "cell_type": "code",
   "execution_count": 5,
   "metadata": {},
   "outputs": [],
   "source": [
    "# Create the tools\n",
    "def search_faqs(query):\n",
    "    faqs = [\n",
    "        {\"text\": \"Reimbursing Travel Expenses: Easily manage your travel expenses by submitting them through our finance tool. Approvals are prompt and straightforward.\"},\n",
    "        {\"text\": \"Working from Abroad: Working remotely from another country is possible. Simply coordinate with your manager and ensure your availability during core hours.\"}\n",
    "    ]\n",
    "    return  {\"faqs\" : faqs}\n",
    "\n",
    "def search_emails(query):\n",
    "    emails = [\n",
    "        {\"from\": \"it@co1t.com\", \"to\": \"david@co1t.com\", \"date\": \"2024-06-24\", \"subject\": \"Setting Up Your IT Needs\", \"text\": \"Greetings! To ensure a seamless start, please refer to the attached comprehensive guide, which will assist you in setting up all your work accounts.\"},\n",
    "        {\"from\": \"john@co1t.com\", \"to\": \"david@co1t.com\", \"date\": \"2024-06-24\", \"subject\": \"First Week Check-In\", \"text\": \"Hello! I hope you're settling in well. Let's connect briefly tomorrow to discuss how your first week has been going. Also, make sure to join us for a welcoming lunch this Thursday at noon—it's a great opportunity to get to know your colleagues!\"}\n",
    "    ]\n",
    "    return  {\"emails\" : emails}\n",
    "    \n",
    "def create_calendar_event(date: str, time: str, duration: int):\n",
    "    # You can implement any logic here\n",
    "    return {\"is_success\": True,\n",
    "            \"message\": f\"Created a {duration} hour long event at {time} on {date}\"}\n",
    "    \n",
    "functions_map = {\n",
    "    \"search_faqs\": search_faqs,\n",
    "    \"search_emails\": search_emails,\n",
    "    \"create_calendar_event\": create_calendar_event\n",
    "}"
   ]
  },
  {
   "cell_type": "markdown",
   "metadata": {},
   "source": [
    "The second and final setup step is to define the tool schemas in a format that can be passed to the Chat endpoint. The schema must contain the following fields: `name`, `description`, and `parameter_definitions` in the format shown below. \n",
    "\n",
    "This schema informs the LLM about what the tool does, and the LLM decides whether to use a particular tool based on it. Therefore, the more descriptive and specific the schema, the more likely the LLM will make the right tool call decisions."
   ]
  },
  {
   "cell_type": "code",
   "execution_count": 6,
   "metadata": {},
   "outputs": [],
   "source": [
    "# Define the tools\n",
    "tools = [\n",
    "    {\n",
    "      \"name\": \"search_faqs\",\n",
    "      \"description\": \"Given a user query, searches a company's frequently asked questions (FAQs) list and returns the most relevant matches to the query.\",\n",
    "      \"parameter_definitions\": {\n",
    "        \"query\": {\n",
    "          \"description\": \"The query from the user\",\n",
    "          \"type\": \"str\",\n",
    "          \"required\": True\n",
    "        }\n",
    "      }\n",
    "    }, \n",
    "    {\n",
    "      \"name\": \"search_emails\",\n",
    "      \"description\": \"Given a user query, searches a person's emails and returns the most relevant matches to the query.\",\n",
    "      \"parameter_definitions\": {\n",
    "        \"query\": {\n",
    "          \"description\": \"The query from the user\",\n",
    "          \"type\": \"str\",\n",
    "          \"required\": True\n",
    "        }\n",
    "      }\n",
    "    }, \n",
    "    {\n",
    "      \"name\": \"create_calendar_event\",\n",
    "      \"description\": \"Creates a new calendar event of the specified duration at the specified time and date. A new event cannot be created on the same time as an existing event.\",\n",
    "      \"parameter_definitions\": {\n",
    "        \"date\": {\n",
    "          \"description\": \"the date on which the event starts, formatted as mm/dd/yy\",\n",
    "          \"type\": \"str\",\n",
    "          \"required\": True\n",
    "        },\n",
    "        \"time\": {\n",
    "          \"description\": \"the time of the event, formatted using 24h military time formatting\",\n",
    "          \"type\": \"str\",\n",
    "          \"required\": True\n",
    "        },\n",
    "        \"duration\": {\n",
    "          \"description\": \"the number of hours the event lasts for\",\n",
    "          \"type\": \"float\",\n",
    "          \"required\": True\n",
    "        }\n",
    "      }\n",
    "    }\n",
    "]"
   ]
  },
  {
   "cell_type": "markdown",
   "metadata": {},
   "source": [
    "## Tool planning and calling"
   ]
  },
  {
   "cell_type": "markdown",
   "metadata": {},
   "source": [
    "We can now run the tool use workflow. We can think of a tool use system as consisting of four components:\n",
    "- The user\n",
    "- The application\n",
    "- The LLM\n",
    "- The tools\n",
    "\n",
    "At its most basic, these four components interact in a workflow through four steps:\n",
    "- **Step 1: Get user message** – The LLM gets the user message (via the application)\n",
    "- **Step 2: Tool planning and calling** – The LLM makes a decision on the tools to call (if any) and generates - the tool calls\n",
    "- **Step 3: Tool execution** - The application executes the tools and the results are sent to the LLM\n",
    "- **Step 4: Response and citation generation** – The LLM generates the response and citations to back to the user"
   ]
  },
  {
   "cell_type": "code",
   "execution_count": 15,
   "metadata": {},
   "outputs": [
    {
     "name": "stdout",
     "output_type": "stream",
     "text": [
      "Tool plan:\n",
      "I will search the user's emails for any messages about getting set up with IT. \n",
      "\n",
      "Tool calls:\n",
      "Tool name: search_emails | Parameters: {'query': 'IT setup'}\n"
     ]
    }
   ],
   "source": [
    "# Step 1: Get user message\n",
    "message = \"Any messages about getting setup with IT?\"\n",
    "\n",
    "preamble=\"\"\"## Task & Context\n",
    "You are an assistant who assist new employees of Co1t with their first week. You respond to their questions and assist them with their needs. Today is Monday, June 24, 2024\"\"\"\n",
    "\n",
    "# Step 2: Tool planning and calling\n",
    "response = co.chat(\n",
    "    message=message,\n",
    "    preamble=preamble,\n",
    "    tools=tools)\n",
    "\n",
    "if response.tool_calls:\n",
    "    print(\"Tool plan:\")\n",
    "    print(response.text,\"\\n\")\n",
    "        \n",
    "    print(\"Tool calls:\")\n",
    "    for call in response.tool_calls:\n",
    "        print(f\"Tool name: {call.name} | Parameters: {call.parameters}\")"
   ]
  },
  {
   "cell_type": "markdown",
   "metadata": {},
   "source": [
    "Given three tools to choose from, the model is able to pick the right tool (in this case, `search_emails`) based on what the user is asking for.\n",
    "\n",
    "Also, notice that the model first generates a plan about what it should do (\"I will do ...\") before actually generating the tool call(s)."
   ]
  },
  {
   "cell_type": "markdown",
   "metadata": {},
   "source": [
    "# Tool execution"
   ]
  },
  {
   "cell_type": "code",
   "execution_count": 12,
   "metadata": {},
   "outputs": [
    {
     "name": "stdout",
     "output_type": "stream",
     "text": [
      "Tool results:\n",
      "{'call': {'name': 'search_emails', 'parameters': {'query': 'IT setup'}}, 'outputs': [{'emails': [{'from': 'it@co1t.com', 'to': 'david@co1t.com', 'date': '2024-06-24', 'subject': 'Setting Up Your IT Needs', 'text': 'Greetings! To ensure a seamless start, please refer to the attached comprehensive guide, which will assist you in setting up all your work accounts.'}, {'from': 'john@co1t.com', 'to': 'david@co1t.com', 'date': '2024-06-24', 'subject': 'First Week Check-In', 'text': \"Hello! I hope you're settling in well. Let's connect briefly tomorrow to discuss how your first week has been going. Also, make sure to join us for a welcoming lunch this Thursday at noon—it's a great opportunity to get to know your colleagues!\"}]}]}\n"
     ]
    }
   ],
   "source": [
    "# Step 3: Tool execution\n",
    "tool_results = []\n",
    "for tc in response.tool_calls:\n",
    "    tool_call = {\"name\": tc.name, \"parameters\": tc.parameters}\n",
    "    tool_output = functions_map[tc.name](**tc.parameters)\n",
    "    tool_results.append({\"call\": tool_call, \"outputs\": [tool_output]})\n",
    "\n",
    "print(\"Tool results:\") \n",
    "for result in tool_results:\n",
    "    print(result)"
   ]
  },
  {
   "cell_type": "markdown",
   "metadata": {},
   "source": [
    "## Response and citation generation"
   ]
  },
  {
   "cell_type": "code",
   "execution_count": 16,
   "metadata": {},
   "outputs": [
    {
     "name": "stdout",
     "output_type": "stream",
     "text": [
      "Final response:\n",
      "You have an email from IT with a comprehensive guide attached to help you set up your work accounts.\n",
      "==================================================\n",
      "\n",
      "CITATIONS:\n",
      "start=12 end=25 text='email from IT' document_ids=['search_emails:0:2:0']\n",
      "start=33 end=61 text='comprehensive guide attached' document_ids=['search_emails:0:2:0']\n",
      "start=74 end=99 text='set up your work accounts' document_ids=['search_emails:0:2:0']\n",
      "\n",
      "CITED REFERENCES:\n",
      "{'emails': '[{\"date\":\"2024-06-24\",\"from\":\"it@co1t.com\",\"subject\":\"Setting Up Your IT Needs\",\"text\":\"Greetings! To ensure a seamless start, please refer to the attached comprehensive guide, which will assist you in setting up all your work accounts.\",\"to\":\"david@co1t.com\"},{\"date\":\"2024-06-24\",\"from\":\"john@co1t.com\",\"subject\":\"First Week Check-In\",\"text\":\"Hello! I hope you\\'re settling in well. Let\\'s connect briefly tomorrow to discuss how your first week has been going. Also, make sure to join us for a welcoming lunch this Thursday at noon—it\\'s a great opportunity to get to know your colleagues!\",\"to\":\"david@co1t.com\"}]', 'id': 'search_emails:0:2:0', 'tool_name': 'search_emails'}\n"
     ]
    }
   ],
   "source": [
    "# Step 4: Response and citation generation\n",
    "response = co.chat(\n",
    "    message=\"\", # In response generation, we set the message as empty\n",
    "    preamble=preamble,\n",
    "    tools=tools,\n",
    "    tool_results=tool_results,\n",
    "    chat_history=response.chat_history\n",
    ")\n",
    "\n",
    "# Print final response\n",
    "print(\"Final response:\")\n",
    "print(response.text)\n",
    "print(\"=\"*50)\n",
    "\n",
    "# Print citations (if any)\n",
    "if response.citations:\n",
    "    print(\"\\nCITATIONS:\")\n",
    "    for citation in response.citations:\n",
    "        print(citation)\n",
    "\n",
    "    print(\"\\nCITED REFERENCES:\")\n",
    "    for document in response.documents:\n",
    "        print(document)"
   ]
  },
  {
   "cell_type": "markdown",
   "metadata": {},
   "source": [
    "# Multi-step tool use"
   ]
  },
  {
   "cell_type": "markdown",
   "metadata": {},
   "source": [
    "The model can execute more complex tasks in tool use – tasks that require tool calls to happen in a sequence. This is referred to as \"multi-step\" tool use. \n",
    "\n",
    "Let's create a function to called `run_assistant` to implement these steps, and along the way, print out the key events and messages. Optionally, this function also accepts the chat history as an argument to keep the state in a multi-turn conversation. "
   ]
  },
  {
   "cell_type": "code",
   "execution_count": 18,
   "metadata": {},
   "outputs": [],
   "source": [
    "model = \"command-r-plus\"\n",
    "\n",
    "preamble=\"\"\"## Task & Context\n",
    "You are an assistant who assists new employees of Co1t with their first week. You respond to their questions and assist them with their needs. Today is Monday, June 24, 2024\"\"\"\n",
    "\n",
    "# A function that runs multi-step tool use\n",
    "def run_assistant(message, chat_history=None):\n",
    "    \n",
    "    if chat_history is None:\n",
    "        chat_history = []\n",
    "        \n",
    "    # Step 1: get user message\n",
    "    print(f\"Question:\\n{message}\")\n",
    "    print(\"=\"*50)\n",
    "\n",
    "    # Step 2: Generate tool calls (if any)    \n",
    "    response = co.chat(\n",
    "        message=message,\n",
    "        model=model,\n",
    "        preamble=preamble,\n",
    "        tools=tools,\n",
    "        chat_history=chat_history\n",
    "    )\n",
    "\n",
    "    # Tool execution loop\n",
    "    while response.tool_calls:\n",
    "        tool_calls = response.tool_calls\n",
    "        \n",
    "        if response.text:\n",
    "            print(\"Intermediate response:\")\n",
    "            print(response.text,\"\\n\")\n",
    "        print(\"Tool calls:\")\n",
    "        for call in tool_calls:\n",
    "            print(f\"Tool name: {call.name} | Parameters: {call.parameters}\")\n",
    "        print(\"=\"*50)\n",
    "        \n",
    "        # Step 3: Get tool results\n",
    "        tool_results = []\n",
    "        for tc in tool_calls:\n",
    "            tool_call = {\"name\": tc.name, \"parameters\": tc.parameters}\n",
    "            tool_output = functions_map[tc.name](**tc.parameters)\n",
    "            tool_results.append({\"call\": tool_call, \"outputs\": [tool_output]})\n",
    "        \n",
    "        # Step 4: Generate response and citations                \n",
    "        response = co.chat(\n",
    "            message=\"\",\n",
    "            model=model,\n",
    "            preamble=preamble,\n",
    "            tools=tools,\n",
    "            tool_results=tool_results,\n",
    "            chat_history=response.chat_history\n",
    "        )\n",
    "\n",
    "        chat_history = response.chat_history\n",
    "        \n",
    "    # Print final response\n",
    "    print(\"Final response:\")\n",
    "    print(response.text)\n",
    "    print(\"=\"*50)\n",
    "    \n",
    "    # Print citations (if any)\n",
    "    if response.citations:\n",
    "        print(\"\\nCITATIONS:\")\n",
    "        for citation in response.citations:\n",
    "            print(citation)\n",
    "\n",
    "        print(\"\\nCITED REFERENCES:\")\n",
    "        for document in response.documents:\n",
    "            print(document)\n",
    "                \n",
    "    return chat_history"
   ]
  },
  {
   "cell_type": "markdown",
   "metadata": {},
   "source": [
    "To illustrate the concept of multi-step tool user, let's ask the assistant to block time for any lunch invites received in the email.\n",
    "\n",
    "This requires tasks to happen over multiple steps in a sequence. Here, we see the assistant running these steps:\n",
    "- First, it calls the `search_emails` tool to find any lunch invites, which it found one.\n",
    "- Next, it calls the `create_calendar_event` tool to create an event to block the person's calendar on the day mentioned by the email.\n",
    "\n",
    "This is also an example of tool use enabling a write operation instead of just a read operation that we saw with RAG."
   ]
  },
  {
   "cell_type": "code",
   "execution_count": 19,
   "metadata": {},
   "outputs": [
    {
     "name": "stdout",
     "output_type": "stream",
     "text": [
      "Question:\n",
      "Can you check if there are any lunch invites, and for those days, block an hour on my calendar from 12-1PM.\n",
      "==================================================\n",
      "Intermediate response:\n",
      "I will search the user's emails for lunch invites, and then create calendar events for the dates and times of those invites. \n",
      "\n",
      "Tool calls:\n",
      "Tool name: search_emails | Parameters: {'query': 'lunch invite'}\n",
      "==================================================\n",
      "Intermediate response:\n",
      "I have found one lunch invite for Thursday 27 June at noon. I will now create a calendar event for this. \n",
      "\n",
      "Tool calls:\n",
      "Tool name: create_calendar_event | Parameters: {'date': '06/27/24', 'duration': 1, 'time': '12:00'}\n",
      "==================================================\n",
      "Final response:\n",
      "I found one lunch invite for Thursday 27 June at noon. I have created a calendar event for this.\n",
      "==================================================\n",
      "\n",
      "CITATIONS:\n",
      "start=29 end=53 text='Thursday 27 June at noon' document_ids=['search_emails:0:2:0']\n",
      "start=62 end=95 text='created a calendar event for this' document_ids=['create_calendar_event:0:4:0']\n",
      "\n",
      "CITED REFERENCES:\n",
      "{'emails': '[{\"date\":\"2024-06-24\",\"from\":\"it@co1t.com\",\"subject\":\"Setting Up Your IT Needs\",\"text\":\"Greetings! To ensure a seamless start, please refer to the attached comprehensive guide, which will assist you in setting up all your work accounts.\",\"to\":\"david@co1t.com\"},{\"date\":\"2024-06-24\",\"from\":\"john@co1t.com\",\"subject\":\"First Week Check-In\",\"text\":\"Hello! I hope you\\'re settling in well. Let\\'s connect briefly tomorrow to discuss how your first week has been going. Also, make sure to join us for a welcoming lunch this Thursday at noon—it\\'s a great opportunity to get to know your colleagues!\",\"to\":\"david@co1t.com\"}]', 'id': 'search_emails:0:2:0', 'tool_name': 'search_emails'}\n",
      "{'id': 'create_calendar_event:0:4:0', 'is_success': 'true', 'message': 'Created a 1 hour long event at 12:00 on 06/27/24', 'tool_name': 'create_calendar_event'}\n"
     ]
    }
   ],
   "source": [
    "chat_history = run_assistant(\"Can you check if there are any lunch invites, and for those days, block an hour on my calendar from 12-1PM.\")"
   ]
  },
  {
   "cell_type": "markdown",
   "metadata": {},
   "source": [
    "In this tutorial, you learned about:\n",
    "- How to create tools\n",
    "- How tool planning and calling happens\n",
    "- How tool execution happens\n",
    "- How to generate the response and citations\n",
    "- How to run tool use in a multi-step scenario\n",
    "\n",
    "And that concludes our 7-part Cohere tutorial. We hope that they have provided you with a foundational understanding of the Cohere API, the available models and endpoints, and the types of use cases that you can build with them.\n",
    "\n",
    "To continue your learning, check out:\n",
    "- [LLM University - A range of courses and step-by-step guides to help you start building](https://cohere.com/llmu)\n",
    "- [Cookbooks - A collection of basic to advanced example applications](https://docs.cohere.com/page/cookbooks)\n",
    "- [Cohere's documentation](https://docs.cohere.com/docs/the-cohere-platform)\n",
    "- [The Cohere API reference](https://docs.cohere.com/reference/about)"
   ]
  }
 ],
 "metadata": {
  "kernelspec": {
   "display_name": "base",
   "language": "python",
   "name": "base"
  },
  "language_info": {
   "codemirror_mode": {
    "name": "ipython",
    "version": 3
   },
   "file_extension": ".py",
   "mimetype": "text/x-python",
   "name": "python",
   "nbconvert_exporter": "python",
   "pygments_lexer": "ipython3",
   "version": "3.11.4"
  }
 },
 "nbformat": 4,
 "nbformat_minor": 2
}
