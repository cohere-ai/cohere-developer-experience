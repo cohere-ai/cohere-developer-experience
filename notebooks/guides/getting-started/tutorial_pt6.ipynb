{
 "cells": [
  {
   "cell_type": "markdown",
   "metadata": {},
   "source": [
    "<a target=\"_blank\" href=\"https://colab.research.google.com/github/cohere-ai/notebooks/blob/main/notebooks/guides/getting-started/tutorial_pt6.ipynb\">\n",
    "  <img src=\"https://colab.research.google.com/assets/colab-badge.svg\" alt=\"Open In Colab\"/>\n",
    "</a>"
   ]
  },
  {
   "cell_type": "markdown",
   "metadata": {},
   "source": [
    "# RAG"
   ]
  },
  {
   "cell_type": "markdown",
   "metadata": {},
   "source": [
    "The Chat endpoint provides comprehensive support for various text generation use cases, including retrieval-augmented generation (RAG). \n",
    "\n",
    "While LLMs are good at maintaining the context of the conversation and generating responses, they can be prone to hallucinate and include factually incorrect or incomplete information in their responses.\n",
    "\n",
    "RAG enables a model to access and utilize supplementary information from external documents, thereby improving the accuracy of its responses.\n",
    "\n",
    "When using RAG with the Chat endpoint, these responses are backed by fine-grained citations linking to the source documents. This makes the responses easily verifiable.\n",
    "\n",
    "In this tutorial, you'll learn about:\n",
    "- Basic RAG\n",
    "- Search query generation\n",
    "- Retrieval with Embed\n",
    "- Reranking with Rerank\n",
    "- Response and citation generation\n",
    "\n",
    "You'll learn these by building an onboarding assistant for new hires."
   ]
  },
  {
   "cell_type": "markdown",
   "metadata": {},
   "source": [
    "## Setup\n",
    "\n",
    "To get started, first we need to install the `cohere` library and create a Cohere client."
   ]
  },
  {
   "cell_type": "code",
   "execution_count": 1,
   "metadata": {},
   "outputs": [],
   "source": [
    "# pip install cohere numpy\n",
    "\n",
    "import numpy as np\n",
    "import cohere\n",
    "\n",
    "co = cohere.Client(\"COHERE_API_KEY\") # Get your API key: https://dashboard.cohere.com/api-keys"
   ]
  },
  {
   "cell_type": "markdown",
   "metadata": {},
   "source": [
    "## Basic RAG"
   ]
  },
  {
   "cell_type": "markdown",
   "metadata": {},
   "source": [
    "To see how RAG works, let's define the documents that the application has access to. We'll use a short list of documents consisting of internal FAQs about the fictitious company Co1t (in production, these documents are massive).\n",
    "\n",
    "In this example, each document is a dictionary with one field, `text`. But we can define any number of fields we want, depending on the nature of the documents. For example, emails could contain `title` and `text` fields."
   ]
  },
  {
   "cell_type": "code",
   "execution_count": 2,
   "metadata": {},
   "outputs": [],
   "source": [
    "# Define the documents\n",
    "faqs_short = [\n",
    "    {\"text\": \"Reimbursing Travel Expenses: Easily manage your travel expenses by submitting them through our finance tool. Approvals are prompt and straightforward.\"},\n",
    "    {\"text\": \"Working from Abroad: Working remotely from another country is possible. Simply coordinate with your manager and ensure your availability during core hours.\"},\n",
    "    {\"text\": \"Health and Wellness Benefits: We care about your well-being and offer gym memberships, on-site yoga classes, and comprehensive health insurance.\"},\n",
    "    {\"text\": \"Performance Reviews Frequency: We conduct informal check-ins every quarter and formal performance reviews twice a year.\"}\n",
    "]"
   ]
  },
  {
   "cell_type": "markdown",
   "metadata": {},
   "source": [
    "To use these documents, we pass them to the `documents` parameter in the Chat endpoint call. This tells the model to run in RAG-mode and use these documents in its response.\n",
    "\n",
    "Let's create a query asking about the company's support for personal well-being, which is not going to be available to the model based on the data its trained on. It will need to use external documents.\n",
    "\n",
    "RAG introduces additional objects in the Chat response. Here we display two:\n",
    "- `citations`: indicate the specific text spans from the retrieved documents on which the response is grounded.\n",
    "- `documents`: the IDs of the documents referenced in the citations."
   ]
  },
  {
   "cell_type": "code",
   "execution_count": 4,
   "metadata": {},
   "outputs": [
    {
     "name": "stdout",
     "output_type": "stream",
     "text": [
      "Yes, we offer health and wellness benefits, including gym memberships, on-site yoga classes, and comprehensive health insurance.\n",
      "\n",
      "CITATIONS:\n",
      "start=14 end=42 text='health and wellness benefits' document_ids=['doc_2']\n",
      "start=54 end=69 text='gym memberships' document_ids=['doc_2']\n",
      "start=71 end=91 text='on-site yoga classes' document_ids=['doc_2']\n",
      "start=97 end=128 text='comprehensive health insurance.' document_ids=['doc_2']\n",
      "\n",
      "DOCUMENTS:\n",
      "{'id': 'doc_2', 'text': 'Health and Wellness Benefits: We care about your well-being and offer gym memberships, on-site yoga classes, and comprehensive health insurance.'}\n"
     ]
    }
   ],
   "source": [
    "# Add the user query\n",
    "query = \"Are there fitness-related perks?\"\n",
    "\n",
    "# Generate the response\n",
    "response = co.chat(\n",
    "                message=query,\n",
    "                model=\"command-r-plus\",\n",
    "                documents=faqs_short)\n",
    "\n",
    "# Display the response\n",
    "print(response.text)\n",
    "\n",
    "# Display the citations and source documents\n",
    "if response.citations:\n",
    "  print(\"\\nCITATIONS:\")\n",
    "  for citation in response.citations:\n",
    "    print(citation)\n",
    "\n",
    "  print(\"\\nDOCUMENTS:\")\n",
    "  for document in response.documents:\n",
    "    print(document)"
   ]
  },
  {
   "cell_type": "markdown",
   "metadata": {},
   "source": [
    "Further reading:\n",
    "- [Chat endpoint API reference](https://docs.cohere.com/reference/chat)\n",
    "- [Documentation on RAG](https://docs.cohere.com/docs/retrieval-augmented-generation-rag)\n",
    "- [LLM University module on RAG](https://cohere.com/llmu#rag)"
   ]
  },
  {
   "cell_type": "markdown",
   "metadata": {},
   "source": [
    "# Search query generation"
   ]
  },
  {
   "cell_type": "markdown",
   "metadata": {},
   "source": [
    "The previous example showed how to get started with RAG, and in particular, the augmented generation portion of RAG. But as its name implies, RAG consists of other steps, such as retrieval. \n",
    "\n",
    "In a basic RAG application, the steps involved are:\n",
    "- Transforming the user message into search queries\n",
    "- Retrieving relevant documents for a given search query\n",
    "- Generating the response and citations\n",
    "\n",
    "Let's now look at the first step—search query generation. The chatbot needs to generate an optimal set of search queries to use for retrieval. \n",
    "\n",
    "The Chat endpoint has a feature that handles this for us automatically. This is done by adding the `search_queries_only=True` parameter to the Chat endpoint call.\n",
    "\n",
    "It will generate a list of search queries based on a user message. Depending on the message, it can be one or more queries.\n",
    "\n",
    "In the example below, the resulting queries breaks down the user message into two separate queries."
   ]
  },
  {
   "cell_type": "code",
   "execution_count": 3,
   "metadata": {},
   "outputs": [
    {
     "name": "stdout",
     "output_type": "stream",
     "text": [
      "['staying connected with the company', 'team events']\n"
     ]
    }
   ],
   "source": [
    "# Add the user query\n",
    "query = \"How to stay connected with the company and do you organize team events?\"\n",
    "\n",
    "# Generate the search queries\n",
    "response = co.chat(message=query,\n",
    "                  search_queries_only=True)\n",
    "\n",
    "queries = []\n",
    "for r in response.search_queries:\n",
    "    queries.append(r.text)\n",
    "    \n",
    "print(queries)"
   ]
  },
  {
   "cell_type": "markdown",
   "metadata": {},
   "source": [
    "And in the example below, the model decides that one query is sufficient."
   ]
  },
  {
   "cell_type": "code",
   "execution_count": 4,
   "metadata": {},
   "outputs": [
    {
     "name": "stdout",
     "output_type": "stream",
     "text": [
      "['working hours flexibility']\n"
     ]
    }
   ],
   "source": [
    "# Add the user query\n",
    "query = \"How flexible are the working hours\"\n",
    "\n",
    "# Generate the search queries\n",
    "response = co.chat(message=query,\n",
    "                  search_queries_only=True)\n",
    "\n",
    "queries = []\n",
    "for r in response.search_queries:\n",
    "    queries.append(r.text)\n",
    "    \n",
    "print(queries)"
   ]
  },
  {
   "cell_type": "markdown",
   "metadata": {},
   "source": [
    "# Retrieval with Embed"
   ]
  },
  {
   "cell_type": "markdown",
   "metadata": {},
   "source": [
    "Given the search query, we need a way to retrieve the most relevant documents from a large collection of documents.\n",
    "\n",
    "This is where we can leverage text embeddings through the Embed endpoint. It enables semantic search, which lets us to compare the semantic meaning of the documents and the query. It solves the problem faced by the more traditional approach of lexical search, which is great at finding keyword matches, but struggles at capturing the context or meaning of a piece of text.\n",
    "\n",
    "The Embed endpoint takes in texts as input and returns embeddings as output.\n",
    "\n",
    "First, we need to embed the documents to search from. We call the Embed endpoint using `co.embed()` and pass the following arguments:\n",
    "- `model`: Here we choose `embed-english-v3.0`, which generates embeddings of size 1024\n",
    "- `input_type`: We choose `search_document` to ensure the model treats these as the documents (instead of the query) for search\n",
    "- `texts`: The list of texts (the FAQs)"
   ]
  },
  {
   "cell_type": "code",
   "execution_count": 5,
   "metadata": {},
   "outputs": [],
   "source": [
    "# Define the documents\n",
    "faqs_long = [\n",
    "    {\"text\": \"Joining Slack Channels: You will receive an invite via email. Be sure to join relevant channels to stay informed and engaged.\"},\n",
    "    {\"text\": \"Finding Coffee Spots: For your caffeine fix, head to the break room's coffee machine or cross the street to the café for artisan coffee.\"},\n",
    "    {\"text\": \"Team-Building Activities: We foster team spirit with monthly outings and weekly game nights. Feel free to suggest new activity ideas anytime!\"},\n",
    "    {\"text\": \"Working Hours Flexibility: We prioritize work-life balance. While our core hours are 9 AM to 5 PM, we offer flexibility to adjust as needed.\"},\n",
    "    {\"text\": \"Side Projects Policy: We encourage you to pursue your passions. Just be mindful of any potential conflicts of interest with our business.\"},\n",
    "    {\"text\": \"Reimbursing Travel Expenses: Easily manage your travel expenses by submitting them through our finance tool. Approvals are prompt and straightforward.\"},\n",
    "    {\"text\": \"Working from Abroad: Working remotely from another country is possible. Simply coordinate with your manager and ensure your availability during core hours.\"},\n",
    "    {\"text\": \"Health and Wellness Benefits: We care about your well-being and offer gym memberships, on-site yoga classes, and comprehensive health insurance.\"},\n",
    "    {\"text\": \"Performance Reviews Frequency: We conduct informal check-ins every quarter and formal performance reviews twice a year.\"},\n",
    "    {\"text\": \"Proposing New Ideas: Innovation is welcomed! Share your brilliant ideas at our weekly team meetings or directly with your team lead.\"},\n",
    "]\n",
    "\n",
    "# Embed the documents\n",
    "doc_emb = co.embed(\n",
    "            model=\"embed-english-v3.0\",\n",
    "            input_type=\"search_document\",\n",
    "            texts=[doc['text'] for doc in faqs_long]).embeddings"
   ]
  },
  {
   "cell_type": "markdown",
   "metadata": {},
   "source": [
    "Next, we add a query, which asks about how to get to know the team.\n",
    "\n",
    "We choose `search_query` as the `input_type` to ensure the model treats this as the query (instead of the documents) for search."
   ]
  },
  {
   "cell_type": "code",
   "execution_count": 6,
   "metadata": {},
   "outputs": [],
   "source": [
    "# Add the user query\n",
    "query = \"How to get to know my teammates\"\n",
    "\n",
    "# Generate the search query\n",
    "response = co.chat(message=query,\n",
    "                  search_queries_only=True)\n",
    "query_optimized = response.search_queries[0].text\n",
    "\n",
    "# Embed the search query\n",
    "query_emb = co.embed(\n",
    "    model=\"embed-english-v3.0\",\n",
    "    input_type=\"search_query\",\n",
    "    texts=[query_optimized]).embeddings"
   ]
  },
  {
   "cell_type": "markdown",
   "metadata": {},
   "source": [
    "Now, we want to search for the most relevant documents to the query. For this, we make use of the `numpy` library to compute the similarity between each query-document pair using the dot product approach.\n",
    "\n",
    "Each query-document pair returns a score, which represents how similar the pair are. We then sort these scores in descending order and select the top most similar pairs, which we choose 5 (this is an arbitrary choice, you can choose any number).\n",
    "\n",
    "Here, we show the most relevant documents with their similarity scores."
   ]
  },
  {
   "cell_type": "code",
   "execution_count": 7,
   "metadata": {},
   "outputs": [
    {
     "name": "stdout",
     "output_type": "stream",
     "text": [
      "Rank: 1\n",
      "Score: 0.32675385963873044\n",
      "Document: {'text': 'Team-Building Activities: We foster team spirit with monthly outings and weekly game nights. Feel free to suggest new activity ideas anytime!'}\n",
      "\n",
      "Rank: 2\n",
      "Score: 0.2683516879250747\n",
      "Document: {'text': 'Proposing New Ideas: Innovation is welcomed! Share your brilliant ideas at our weekly team meetings or directly with your team lead.'}\n",
      "\n",
      "Rank: 3\n",
      "Score: 0.25784017142593213\n",
      "Document: {'text': 'Joining Slack Channels: You will receive an invite via email. Be sure to join relevant channels to stay informed and engaged.'}\n",
      "\n",
      "Rank: 4\n",
      "Score: 0.18610347850687634\n",
      "Document: {'text': \"Finding Coffee Spots: For your caffeine fix, head to the break room's coffee machine or cross the street to the café for artisan coffee.\"}\n",
      "\n",
      "Rank: 5\n",
      "Score: 0.12958686394309055\n",
      "Document: {'text': 'Health and Wellness Benefits: We care about your well-being and offer gym memberships, on-site yoga classes, and comprehensive health insurance.'}\n",
      "\n"
     ]
    }
   ],
   "source": [
    "# Compute dot product similarity and display results\n",
    "n = 5\n",
    "scores = np.dot(query_emb, np.transpose(doc_emb))[0]\n",
    "scores_sorted = sorted(enumerate(scores), key=lambda x: x[1], reverse=True)[:n]\n",
    "\n",
    "retrieved_documents = [faqs_long[item[0]] for item in scores_sorted]\n",
    "\n",
    "for idx, item in enumerate(scores_sorted):\n",
    "    print(f\"Rank: {idx+1}\")\n",
    "    print(f\"Score: {item[1]}\")\n",
    "    print(f\"Document: {faqs_long[item[0]]}\\n\")"
   ]
  },
  {
   "cell_type": "markdown",
   "metadata": {},
   "source": [
    "Further reading:\n",
    "- [Embed endpoint API reference](https://docs.cohere.com/reference/embed)\n",
    "- [Documentation on the Embed endpoint](https://docs.cohere.com/docs/embeddings)\n",
    "- [Documentation on the models available on the Embed endpoint](https://docs.cohere.com/docs/cohere-embed)"
   ]
  },
  {
   "cell_type": "markdown",
   "metadata": {},
   "source": [
    "# Reranking with Rerank\n"
   ]
  },
  {
   "cell_type": "markdown",
   "metadata": {},
   "source": [
    "Reranking can boost the results from semantic or lexical search further. The Rerank endpoint takes a list of search results and reranks them according to the most relevant documents to a query. This requires just a single line of code to implement.\n",
    "\n",
    "We call the endpoint using `co.rerank()` and pass the following arguments:\n",
    "- `query`: The user query\n",
    "- `documents`: The list of documents we get from the semantic search results\n",
    "- `top_n`: The top reranked documents to select\n",
    "- `model`: We choose Rerank English 3\n",
    "\n",
    "Looking at the results, we see that the given a query about getting to know the team, the document that talks about joining Slack channels is now ranked higher (1st) compared to earlier (3rd).\n",
    "\n",
    "Here we select `top_n` to be 2, which will be the documents we will pass next for response generation."
   ]
  },
  {
   "cell_type": "code",
   "execution_count": 8,
   "metadata": {},
   "outputs": [
    {
     "name": "stdout",
     "output_type": "stream",
     "text": [
      "Rank: 1\n",
      "Score: 0.0040072887\n",
      "Document: {'text': 'Joining Slack Channels: You will receive an invite via email. Be sure to join relevant channels to stay informed and engaged.'}\n",
      "\n",
      "Rank: 2\n",
      "Score: 0.0020829707\n",
      "Document: {'text': 'Team-Building Activities: We foster team spirit with monthly outings and weekly game nights. Feel free to suggest new activity ideas anytime!'}\n",
      "\n"
     ]
    }
   ],
   "source": [
    "# Rerank the documents\n",
    "results = co.rerank(query=query_optimized,\n",
    "                    documents=retrieved_documents,\n",
    "                    top_n=2,\n",
    "                    model='rerank-english-v3.0')\n",
    "\n",
    "# Display the reranking results\n",
    "for idx, result in enumerate(results.results):\n",
    "    print(f\"Rank: {idx+1}\") \n",
    "    print(f\"Score: {result.relevance_score}\")\n",
    "    print(f\"Document: {retrieved_documents[result.index]}\\n\")\n",
    "    \n",
    "reranked_documents = [retrieved_documents[result.index] for result in results.results]"
   ]
  },
  {
   "cell_type": "markdown",
   "metadata": {},
   "source": [
    "Further reading:\n",
    "- [Rerank endpoint API reference](https://docs.cohere.com/reference/rerank)\n",
    "- [Documentation on Rerank](https://docs.cohere.com/docs/overview)\n",
    "- [Documentation on Rerank fine-tuning](https://docs.cohere.com/docs/rerank-fine-tuning)\n",
    "- [Documentation on Rerank best practices](https://docs.cohere.com/docs/reranking-best-practices)"
   ]
  },
  {
   "cell_type": "markdown",
   "metadata": {},
   "source": [
    "# Response and citation generation"
   ]
  },
  {
   "cell_type": "markdown",
   "metadata": {},
   "source": [
    "Finally we reach the step that we saw in the earlier `Basic RAG` section. Here, the response is generated based on the the query and the documents retrieved.\n",
    "\n",
    "RAG introduces additional objects in the Chat response. Here we display two:\n",
    "- `citations`: indicate the specific spans of text from the retrieved documents on which the response is grounded.\n",
    "- `documents`: the IDs of the documents being referenced in the citations."
   ]
  },
  {
   "cell_type": "code",
   "execution_count": 45,
   "metadata": {},
   "outputs": [
    {
     "name": "stdout",
     "output_type": "stream",
     "text": [
      "There are a few ways to get to know your teammates. You could join your company's Slack channels to stay informed and connected. You could also take part in team-building activities, such as outings and game nights.\n",
      "\n",
      "CITATIONS:\n",
      "start=62 end=96 text=\"join your company's Slack channels\" document_ids=['doc_0']\n",
      "start=100 end=128 text='stay informed and connected.' document_ids=['doc_0']\n",
      "start=157 end=181 text='team-building activities' document_ids=['doc_1']\n",
      "start=191 end=215 text='outings and game nights.' document_ids=['doc_1']\n",
      "\n",
      "DOCUMENTS:\n",
      "{'id': 'doc_0', 'text': 'Joining Slack Channels: You will receive an invite via email. Be sure to join relevant channels to stay informed and engaged.'}\n",
      "{'id': 'doc_1', 'text': 'Team-Building Activities: We foster team spirit with monthly outings and weekly game nights. Feel free to suggest new activity ideas anytime!'}\n"
     ]
    }
   ],
   "source": [
    "# Generate the response\n",
    "response = co.chat(\n",
    "                message=query_optimized,\n",
    "                model=\"command-r-plus\",\n",
    "                documents=reranked_documents)\n",
    "\n",
    "# Display the response\n",
    "print(response.text)\n",
    "\n",
    "# Display the citations and source documents\n",
    "if response.citations:\n",
    "  print(\"\\nCITATIONS:\")\n",
    "  for citation in response.citations:\n",
    "    print(citation)\n",
    "\n",
    "  print(\"\\nDOCUMENTS:\")\n",
    "  for document in response.documents:\n",
    "    print(document)"
   ]
  },
  {
   "cell_type": "markdown",
   "metadata": {},
   "source": [
    "## Conclusion"
   ]
  },
  {
   "cell_type": "markdown",
   "metadata": {},
   "source": [
    "In this tutorial, you learned about:\n",
    "- How to get started with RAG\n",
    "- How to generate search queries\n",
    "- How to perform retrieval with Embed\n",
    "- How to perform reranking with Rerank\n",
    "- How to generate response and citations\n",
    "\n",
    "RAG is great for building applications that can *answer questions* by grounding the response in external documents. But you can unlock the ability to not just answer questions, but also *automate tasks*. This can be done using a technique called tool use.\n",
    "\n",
    "In Part 7, you will learn how to leverage tool use to automate tasks and workflows."
   ]
  }
 ],
 "metadata": {
  "kernelspec": {
   "display_name": "base",
   "language": "python",
   "name": "base"
  },
  "language_info": {
   "codemirror_mode": {
    "name": "ipython",
    "version": 3
   },
   "file_extension": ".py",
   "mimetype": "text/x-python",
   "name": "python",
   "nbconvert_exporter": "python",
   "pygments_lexer": "ipython3",
   "version": "3.11.4"
  }
 },
 "nbformat": 4,
 "nbformat_minor": 2
}
