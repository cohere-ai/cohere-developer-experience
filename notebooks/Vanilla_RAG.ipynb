{
  "cells": [
    {
      "cell_type": "markdown",
      "metadata": {
        "id": "mz33G3t6gbOl"
      },
      "source": [
        "# RAG\n",
        "\n",
        "Retrieval-Augmented Generation (RAG) is a technique that combines the strengths of pre-trained language models with the ability to retrieve information from a large corpus of documents. RAG **enables the language model to produce more informed, accurate, and contextually relevant answers** than by relying on its pre-trained knowledge alone.\n",
        "\n",
        "At Cohere, all RAG calls come with... **precise citations**! 🎉\n",
        "The model cites which groups of words, in the RAG chunks, were used to generate the final answer.  \n",
        "These citations make it easy to check where the model’s generated response claims are coming from and they help users gain visibility into the model reasoning.  \n",
        "\n",
        "RAG consists of 3 steps:\n",
        "- Step 1: Indexing and given a user query, retrieve the relevant chunks from the index\n",
        "- Step 2: Optionally, rerank the retrieved chunks\n",
        "- Step 3: Generate the model final answer with **precise citations**, given the retrieved and reranked chunks\n",
        "\n",
        "\n"
      ]
    },
    {
      "cell_type": "markdown",
      "metadata": {
        "id": "nSB0pnt0gbOo"
      },
      "source": [
        "## Step 0 - Imports & Getting some data\n",
        "\n",
        "In this example, we'll use a recent piece of text, that wasn't in the training data: the Wikipedia page of the movie \"Dune 2\".   \n",
        "\n",
        "In practice, you would typically do RAG on much longer text, that doesn't fit in the context window of the model."
      ]
    },
    {
      "cell_type": "code",
      "execution_count": null,
      "metadata": {
        "colab": {
          "base_uri": "https://localhost:8080/"
        },
        "id": "H787BXXYvD0a",
        "outputId": "04ef5e04-7760-4d40-deeb-663536b38f20"
      },
      "outputs": [],
      "source": [
        "# we'll use Cohere to cover all building blocks of RAG\n",
        "%pip install cohere wikipedia langchain-text-splitters numpy --quiet"
      ]
    },
    {
      "cell_type": "code",
      "execution_count": null,
      "metadata": {
        "id": "rACbepFGgbOo"
      },
      "outputs": [],
      "source": [
        "import cohere\n",
        "API_KEY = \"...\" # fill in your Cohere API key here\n",
        "co = cohere.ClientV2(API_KEY)"
      ]
    },
    {
      "cell_type": "code",
      "execution_count": null,
      "metadata": {
        "colab": {
          "base_uri": "https://localhost:8080/"
        },
        "id": "QdvbqfFrgbOq",
        "outputId": "3882c95c-46bf-4dcc-99a2-453b3c2fc7c4"
      },
      "outputs": [
        {
          "name": "stdout",
          "output_type": "stream",
          "text": [
            "  Preparing metadata (setup.py) ... \u001b[?25l\u001b[?25hdone\n",
            "  Building wheel for wikipedia (setup.py) ... \u001b[?25l\u001b[?25hdone\n"
          ]
        }
      ],
      "source": [
        "# we'll get some wikipedia data\n",
        "import wikipedia"
      ]
    },
    {
      "cell_type": "code",
      "execution_count": 3,
      "metadata": {
        "colab": {
          "base_uri": "https://localhost:8080/"
        },
        "id": "xP-bWt9XgbOq",
        "outputId": "72276fb2-0d6b-415d-af74-452a013ae84b"
      },
      "outputs": [
        {
          "name": "stdout",
          "output_type": "stream",
          "text": [
            "The text has roughly 6176 words.\n"
          ]
        }
      ],
      "source": [
        "# let's get the wikipedia article about Dune Part Two\n",
        "article = wikipedia.page('Dune Part Two')\n",
        "text = article.content\n",
        "print(f\"The text has roughly {len(text.split())} words.\")"
      ]
    },
    {
      "cell_type": "markdown",
      "metadata": {
        "id": "-1aJ7hKGgbOr"
      },
      "source": [
        "## Step 1 - Indexing and given a user query, retrieve the relevant chunks from the index\n",
        "\n",
        "We index the document in a vector database. This requires getting the documents, chunking them, embedding, and indexing them in a vector database. Then we retrieved relevant results based on the users' query.\n",
        "\n",
        "### We split the document into chunks of roughly 512 words"
      ]
    },
    {
      "cell_type": "code",
      "execution_count": 9,
      "metadata": {
        "colab": {
          "base_uri": "https://localhost:8080/"
        },
        "id": "uhXW7iHC1-Q6",
        "outputId": "d68ac348-4b73-4c6a-a445-6c510bdb0881"
      },
      "outputs": [
        {
          "name": "stdout",
          "output_type": "stream",
          "text": [
            "The text has been broken down in 62 chunks.\n"
          ]
        }
      ],
      "source": [
        "# For chunking let's use langchain to help us split the text\n",
        "from langchain_text_splitters import RecursiveCharacterTextSplitter\n",
        "\n",
        "# Create basic configurations to chunk the text\n",
        "text_splitter = RecursiveCharacterTextSplitter(\n",
        "    chunk_size=1000,\n",
        "    chunk_overlap=50,\n",
        "    length_function=len,\n",
        "    is_separator_regex=False,\n",
        ")\n",
        "\n",
        "# Split the text into chunks with some overlap\n",
        "chunks_ = text_splitter.create_documents([text])\n",
        "chunks = [c.page_content for c in chunks_]\n",
        "print(f\"The text has been broken down in {len(chunks)} chunks.\")"
      ]
    },
    {
      "cell_type": "markdown",
      "metadata": {
        "id": "P8g0sE2hgbOs"
      },
      "source": [
        "### Embed every text chunk\n",
        "\n",
        "Cohere embeddings are state-of-the-art."
      ]
    },
    {
      "cell_type": "code",
      "execution_count": 27,
      "metadata": {
        "colab": {
          "base_uri": "https://localhost:8080/"
        },
        "id": "KEarMPEqgbOs",
        "outputId": "7da0e06d-f637-4470-8e01-6de8249be64b"
      },
      "outputs": [
        {
          "name": "stdout",
          "output_type": "stream",
          "text": [
            "We just computed 62 embeddings.\n"
          ]
        }
      ],
      "source": [
        "# Because the texts being embedded are the chunks we are searching over, we set the input type as search_doc\n",
        "model=\"embed-v4.0\"\n",
        "response = co.embed(\n",
        "    texts= chunks,\n",
        "    model=model,\n",
        "    input_type=\"search_document\",\n",
        "    embedding_types=['float']\n",
        ")\n",
        "embeddings = response.embeddings.float\n",
        "print(f\"We just computed {len(embeddings)} embeddings.\")"
      ]
    },
    {
      "cell_type": "markdown",
      "metadata": {
        "id": "HM6vKeypgbOs"
      },
      "source": [
        "### Store the embeddings in a vector database\n",
        "\n",
        "We use the simplest vector database ever: a python dictionary using `np.array()`."
      ]
    },
    {
      "cell_type": "code",
      "execution_count": 28,
      "metadata": {
        "id": "H2srFH-IgbOs"
      },
      "outputs": [],
      "source": [
        "import numpy as np\n",
        "vector_database = {i: np.array(embedding) for i, embedding in enumerate(embeddings)}\n",
        "# { 0: array([...]), 1: array([...]), 2: array([...]), ..., 10: array([...]) }"
      ]
    },
    {
      "cell_type": "markdown",
      "metadata": {
        "id": "q6NGVurZgbOs"
      },
      "source": [
        "## Given a user query, retrieve the relevant chunks from the vector database\n"
      ]
    },
    {
      "cell_type": "markdown",
      "metadata": {
        "id": "eC05yJQ7jlek"
      },
      "source": [
        "### Define the user question"
      ]
    },
    {
      "cell_type": "code",
      "execution_count": 29,
      "metadata": {
        "id": "Y2HTxspKgbOs"
      },
      "outputs": [],
      "source": [
        "query = \"Name everyone involved in writing the script, directing, and producing 'Dune: Part Two'?\"\n",
        "\n",
        "# Note: the relevant passage in the wikipedia page we're looking for is:\n",
        "# \"[...] Dune: Part Two was originally scheduled to be released on October 20, 2023, but was delayed to November 17, 2023, before moving forward two weeks to November 3, 2023, to adjust to changes in release schedules from other studios. It was later postponed by over four months to March 15, 2024, due to the 2023 Hollywood labor disputes. After the strikes were resolved, the film moved once more up two weeks to March 1, 2024. [...]\""
      ]
    },
    {
      "cell_type": "markdown",
      "metadata": {
        "id": "9oULg1tOjjOW"
      },
      "source": [
        "### Embed the user question\n",
        "\n",
        "Cohere embeddings are state-of-the-art."
      ]
    },
    {
      "cell_type": "code",
      "execution_count": 30,
      "metadata": {
        "colab": {
          "base_uri": "https://localhost:8080/"
        },
        "id": "yrUuS6vXgbOs",
        "outputId": "0c64a930-f817-43c2-d775-1d9145cb304e"
      },
      "outputs": [
        {
          "name": "stdout",
          "output_type": "stream",
          "text": [
            "query_embedding:  [-0.023803711, -0.028808594, 0.018066406, 0.012268066, -0.009521484, 0.022949219, 0.038085938, 0.033447266, 0.015991211, 0.0064086914]\n"
          ]
        }
      ],
      "source": [
        "# Because the text being embedded is the search query, we set the input type as search_query\n",
        "response = co.embed(\n",
        "    texts=[query],\n",
        "    model=model,\n",
        "    input_type=\"search_query\",\n",
        "    embedding_types=['float']\n",
        ")\n",
        "query_embedding = response.embeddings.float[0]\n",
        "print(\"query_embedding: \", query_embedding[:10])"
      ]
    },
    {
      "cell_type": "markdown",
      "metadata": {
        "id": "8K8B87CGgbOt"
      },
      "source": [
        "### Retrieve the most relevant chunks from the vector database\n",
        "\n",
        "We use cosine similarity to find the most similar chunks"
      ]
    },
    {
      "cell_type": "code",
      "execution_count": 31,
      "metadata": {
        "colab": {
          "base_uri": "https://localhost:8080/"
        },
        "id": "nik3es32gbOt",
        "outputId": "a1c30024-52e1-42c7-8836-a2c590559aca"
      },
      "outputs": [
        {
          "name": "stdout",
          "output_type": "stream",
          "text": [
            "similarity scores:  [0.6070260825128435, 0.5140547777123434, 0.42276385151343643, 0.28035129853148966, 0.20180335682083902, 0.25183678122910574, 0.23397640817042245, 0.2673734065011327, 0.21428148439455227, 0.20698629739367122, 0.4150179771636488, 0.538982626941801, 0.6267072584453173, 0.4112358089123656, 0.4762826442445846, 0.4714897693633498, 0.2554095067904586, 0.5817763339823819, 0.5788585497112232, 0.37655487716645936, 0.14689359077625935, 0.35183246804848367, 0.11725405844010406, 0.31685145158260436, 0.28882406044618497, 0.27159075832387597, 0.26903592158523926, 0.26794129674743183, 0.3413542633893929, 0.30656099542756354, 0.30766449569756626, 0.3502721685581503, 0.2936397021231952, 0.1912671991188178, 0.30932880683142283, 0.41415755024626105, 0.39932520587047315, 0.39052764095992465, 0.31656485158504816, 0.4305749659813553, 0.34508970777140285, 0.15024401342226973, 0.39083739804819345, 0.1786214943259148, 0.4270237616027157, 0.38720173099104577, 0.1740796633933721, 0.3721134470105752, 0.40487033296628083, 0.20447888902818193, 0.17702221882434058, 0.3810416310792203, 0.40878922304762716, 0.4993566559167212, 0.4066921872177094, 0.24881543089420274, 0.272349222282374, 0.17931540407198868, 0.15656750535435654, 0.4128093595939199, 0.4258746381063176, 0.42393705340919974]\n",
            "Here are the indices of the top 10 chunks after retrieval:  [12  0 17 18 11  1 53 14 15 39]\n",
            "Here are the top 10 chunks after retrieval: \n",
            "== Dune: Part Two was produced by Villeneuve, Mary Parent, and Cale Boyter, with Tanya Lapointe, Brian Herbert, Byron Merritt, Kim Herbert, Thomas Tull, Jon Spaihts, Richard P. Rubinstein, John Harrison, and Herbert W. Gain serving as executive producers and Kevin J. Anderson as creative consultant. Legendary CEO Joshua Grode confirmed in April 2019 that they plan to make a sequel, adding that \"there's a logical place to stop the [first] movie before the book is over\".\n",
            "== Dune: Part Two is a 2024 American epic space opera film directed by Denis Villeneuve, who co-wrote the screenplay with Jon Spaihts. The sequel to Dune (2021), it is the second of a two-part adaptation of the 1965 novel Dune by Frank Herbert. It follows Paul Atreides as he unites with the Fremen people of the desert planet Arrakis to wage war against House Harkonnen. Timothée Chalamet, Zendaya, Rebecca Ferguson, Josh Brolin, Stellan Skarsgård, Dave Bautista, Charlotte Rampling, and Javier Bardem reprise their roles from the first film, with Austin Butler, Florence Pugh, Christopher Walken, and Léa Seydoux joining the cast.\n",
            "== Eric Roth was hired to co-write the screenplay in April 2017 for the Dune films, and Jon Spaihts was later confirmed to be co-writing the script alongside Roth and Villeneuve. Game of Thrones language creator David Peterson was confirmed to be developing languages for the film in April 2019. Villeneuve and Peterson had created the Chakobsa language, which was used by actors on set. In November 2019, Spaihts stepped down as show-runner for Dune: Prophecy to focus on Dune: Part Two. In June 2020, Greig Fraser said, \"It's a fully formed story in itself with places to go. It's a fully standalone epic film that people will get a lot out of when they see it\".\n",
            "== Between the release of Dune and the confirmation of Dune: Part Two, Villeneuve started working the script in a way that production could begin immediately once the film was greenlit. By February 2021, Roth created a full treatment for the sequel, with writing beginning that August. He confirmed that Feyd-Rautha would appear in the film, and stated he will be a \"very important character\". In March 2022, Villeneuve had mostly finished writing the screenplay. Craig Mazin and Roth wrote additional literary material for the film.\n",
            "== In November 2016, Legendary Pictures obtained the film and TV rights for the Dune franchise, based on the eponymous 1965 novel by Frank Herbert. Vice chair of worldwide production for Legendary Mary Parent began discussing with Denis Villeneuve about directing a film adaptation, quickly hiring him after realizing his passion for Dune. In February 2018, Villeneuve was confirmed to be hired as director, and intended to adapt the novel as a two-part film series. Villeneuve ultimately secured a two-film deal with Warner Bros. Pictures, in the same style as the two-part adaption of Stephen King's It in 2017 and 2019. In January 2019, Joe Walker was confirmed as the film's editor. Other crew included Brad Riker as supervising art director, Patrice Vermette as production designer, Paul Lambert as visual effects supervisor, Gerd Nefzer as special effects supervisor, and Thomas Struthers as stunt coordinator.\n",
            "== Development began after Legendary Entertainment acquired film and television rights for the Dune franchise in 2016. Villeneuve signed on as director in 2017, intending to make a two-part adaptation of the novel due to its complexity. Production contracts were only secured for the first film before the second film was greenlit by Legendary in October 2021, subject to the success of the first. Principal photography took place in Budapest, Italy, Jordan, and Abu Dhabi between July and December 2022.\n",
            "== Richard Roeper, writing for the Chicago Sun-Times, gave the film three stars out of four, praising the technical and narrative aspects, writing, \"Even as we marvel at the stunning and immersive and Oscar-level cinematography, editing, score, visual effects, production design and sound in Denis Villeneuve's Dune: Part Two, we're reminded at every turn that this is an absolutely bat-bleep [sic] crazy story.\"\n",
            "== On October 26, 2021, Legendary officially greenlit Dune: Part Two, with a spokesperson for the company stating, \"We would not have gotten to this point without the extraordinary vision of Denis and the amazing work of his talented crew, the writers, our stellar cast, our partners at Warner Bros., and of course the fans! Here's to more Dune.\" Production work had occurred back-to-back with the first film, as Villeneuve and his wife Lapointe immediately took a flight to Budapest in order to begin pre-production work. A key point of negotiation prior to greenlighting the sequel was assuring that the sequel would have an exclusive window where it would only be shown theatrically, with Legendary and Warner Bros. agreeing to give Dune: Part Two a 45-day window before it would be available through other channels. Villeneuve said this theatrical exclusivity was a \"non-negotiable condition\", and that \"the theatrical experience is at the very heart of the cinematic language for me\". With Dune:\n",
            "== of the cinematic language for me\". With Dune: Part Two being greenlit, Villeneuve said that his primary concern was to complete the filming as soon as possible, with the earliest he expected to start in the last quarter of 2022. He noted that production would be expedited by the work already done for the first film.\n",
            "== Promotion in Japan also included a collaboration with Mobile Suit Gundam SEED – specifically, their Freedom film. The collaboration featured an alternate version of Dune: Part Two's movie poster featuring Lacus Clyne (voiced by Rie Tanaka in the original and Stephanie Sheh in the English dubbed version) and Kira Yamato (Sōichirō Hoshi / Max Mittelman) in place of Chani and Paul respectively.\n"
          ]
        }
      ],
      "source": [
        "def cosine_similarity(a, b):\n",
        "    return np.dot(a, b) / (np.linalg.norm(a) * np.linalg.norm(b))\n",
        "\n",
        "# Calculate similarity between the user question & each chunk\n",
        "similarities = [cosine_similarity(query_embedding, chunk) for chunk in embeddings]\n",
        "print(\"similarity scores: \", similarities)\n",
        "\n",
        "# Get indices of the top 10 most similar chunks\n",
        "sorted_indices = np.argsort(similarities)[::-1]\n",
        "\n",
        "# Keep only the top 10 indices\n",
        "top_indices = sorted_indices[:10]\n",
        "print(\"Here are the indices of the top 10 chunks after retrieval: \", top_indices)\n",
        "\n",
        "# Retrieve the top 10 most similar chunks\n",
        "top_chunks_after_retrieval = [chunks[i] for i in top_indices]\n",
        "print(\"Here are the top 10 chunks after retrieval: \")\n",
        "for t in top_chunks_after_retrieval:\n",
        "    print(\"== \" + t)"
      ]
    },
    {
      "cell_type": "markdown",
      "metadata": {
        "id": "qzcpds3VgbOt"
      },
      "source": [
        "## Step 2 - Rerank the chunks retrieved from the vector database\n",
        "\n",
        "We rerank the 10 chunks retrieved from the vector database. Reranking boosts retrieval accuracy.\n",
        "\n",
        "Reranking lets us go from 10 chunks retrieved from the vector database, to the 3 most relevant chunks."
      ]
    },
    {
      "cell_type": "code",
      "execution_count": 32,
      "metadata": {
        "colab": {
          "base_uri": "https://localhost:8080/"
        },
        "id": "2J4LywVygbOt",
        "outputId": "7a4c89bf-fc5e-409f-9304-fce006b9d8bf"
      },
      "outputs": [
        {
          "name": "stdout",
          "output_type": "stream",
          "text": [
            "Here are the top 3 chunks after rerank: \n",
            "== Dune: Part Two is a 2024 American epic space opera film directed by Denis Villeneuve, who co-wrote the screenplay with Jon Spaihts. The sequel to Dune (2021), it is the second of a two-part adaptation of the 1965 novel Dune by Frank Herbert. It follows Paul Atreides as he unites with the Fremen people of the desert planet Arrakis to wage war against House Harkonnen. Timothée Chalamet, Zendaya, Rebecca Ferguson, Josh Brolin, Stellan Skarsgård, Dave Bautista, Charlotte Rampling, and Javier Bardem reprise their roles from the first film, with Austin Butler, Florence Pugh, Christopher Walken, and Léa Seydoux joining the cast.\n",
            "== Dune: Part Two was produced by Villeneuve, Mary Parent, and Cale Boyter, with Tanya Lapointe, Brian Herbert, Byron Merritt, Kim Herbert, Thomas Tull, Jon Spaihts, Richard P. Rubinstein, John Harrison, and Herbert W. Gain serving as executive producers and Kevin J. Anderson as creative consultant. Legendary CEO Joshua Grode confirmed in April 2019 that they plan to make a sequel, adding that \"there's a logical place to stop the [first] movie before the book is over\".\n",
            "== In November 2016, Legendary Pictures obtained the film and TV rights for the Dune franchise, based on the eponymous 1965 novel by Frank Herbert. Vice chair of worldwide production for Legendary Mary Parent began discussing with Denis Villeneuve about directing a film adaptation, quickly hiring him after realizing his passion for Dune. In February 2018, Villeneuve was confirmed to be hired as director, and intended to adapt the novel as a two-part film series. Villeneuve ultimately secured a two-film deal with Warner Bros. Pictures, in the same style as the two-part adaption of Stephen King's It in 2017 and 2019. In January 2019, Joe Walker was confirmed as the film's editor. Other crew included Brad Riker as supervising art director, Patrice Vermette as production designer, Paul Lambert as visual effects supervisor, Gerd Nefzer as special effects supervisor, and Thomas Struthers as stunt coordinator.\n"
          ]
        }
      ],
      "source": [
        "response = co.rerank(\n",
        "    query=query,\n",
        "    documents=top_chunks_after_retrieval,\n",
        "    top_n=3,\n",
        "    model=\"rerank-v3.5\",\n",
        ")\n",
        "\n",
        "top_chunks_after_rerank = [top_chunks_after_retrieval[result.index] for result in response.results]\n",
        "print(\"Here are the top 3 chunks after rerank: \")\n",
        "for t in top_chunks_after_rerank:\n",
        "    print(\"== \" + t)"
      ]
    },
    {
      "cell_type": "markdown",
      "metadata": {
        "id": "KuPL0VUXgbOt"
      },
      "source": [
        "## Step 3 - Generate the model final answer, given the retrieved and reranked chunks"
      ]
    },
    {
      "cell_type": "code",
      "execution_count": 33,
      "metadata": {
        "id": "oCNXWH8GgbOt"
      },
      "outputs": [],
      "source": [
        "# preamble containing instructions about the task and the desired style for the output.\n",
        "preamble = \"\"\"\n",
        "## Task & Context\n",
        "You help people answer their questions and other requests interactively. You will be asked a very wide array of requests on all kinds of topics. You will be equipped with a wide range of search engines or similar tools to help you, which you use to research your answer. You should focus on serving the user's needs as best you can, which will be wide-ranging.\n",
        "\n",
        "## Style Guide\n",
        "Unless the user asks for a different style of answer, you should answer in full sentences, using proper grammar and spelling.\n",
        "\"\"\""
      ]
    },
    {
      "cell_type": "code",
      "execution_count": 34,
      "metadata": {},
      "outputs": [
        {
          "name": "stdout",
          "output_type": "stream",
          "text": [
            "Final answer:\n",
            "Denis Villeneuve directed and co-wrote the script for *Dune: Part Two* with Jon Spaihts.\n",
            "\n",
            "Villeneuve, Mary Parent, and Cale Boyter produced the film, with Tanya Lapointe, Brian Herbert, Byron Merritt, Kim Herbert, Thomas Tull, Jon Spaihts, Richard P. Rubinstein, John Harrison, and Herbert W. Gain serving as executive producers and Kevin J. Anderson as creative consultant.\n"
          ]
        }
      ],
      "source": [
        "# Define documents for RAG\n",
        "# Each document is passed as context to the model\n",
        "documents = [\n",
        "    {\"data\": {\"text\": top_chunks_after_rerank[0], \"title\": \"chunk 0\"}},\n",
        "    {\"data\": {\"text\": top_chunks_after_rerank[1], \"title\": \"chunk 1\"}},\n",
        "    {\"data\": {\"text\": top_chunks_after_rerank[2], \"title\": \"chunk 2\"}},\n",
        "]\n",
        "\n",
        "# Generate the response using RAG\n",
        "response = co.chat(\n",
        "    model=\"command-a-03-2025\",\n",
        "    messages=[\n",
        "        {\"role\": \"system\", \"content\": preamble},\n",
        "        {\"role\": \"user\", \"content\": query}\n",
        "    ],\n",
        "    documents=documents,\n",
        "    temperature=0.3\n",
        ")\n",
        "\n",
        "print(\"Final answer:\")\n",
        "print(response.message.content[0].text)"
      ]
    },
    {
      "cell_type": "markdown",
      "metadata": {
        "id": "20wcn-EjlXZd"
      },
      "source": [
        "Note: this is indeed the answer you'd expect, and here was the passage of text in wikipedia explaining it!\n",
        "\n",
        "\" [...] Dune: Part Two was originally scheduled to be released on October 20, 2023, but was delayed to November 17, 2023, before moving forward two weeks to November 3, 2023, to adjust to changes in release schedules from other studios. It was later postponed by over four months to March 15, 2024, due to the 2023 Hollywood labor disputes. After the strikes were resolved, the film moved once more up two weeks to March 1, 2024. [...]\""
      ]
    },
    {
      "cell_type": "markdown",
      "metadata": {
        "id": "RoSVDXSsgbOt"
      },
      "source": [
        "## Bonus: Citations come for free with Cohere! 🎉\n",
        "\n",
        "At Cohere, all RAG calls come with... precise citations! 🎉\n",
        "The model cites which groups of words, in the RAG chunks, were used to generate the final answer.  \n",
        "These citations make it easy to check where the model’s generated response claims are coming from.  \n",
        "They help users gain visibility into the model reasoning, and sanity check the final model generation.  \n",
        "These citations are optional — you can decide to ignore them.\n"
      ]
    },
    {
      "cell_type": "code",
      "execution_count": 35,
      "metadata": {
        "colab": {
          "base_uri": "https://localhost:8080/"
        },
        "id": "BVTuQdmDgbOt",
        "outputId": "f843b262-d8bb-45ba-cbfb-9915da104eda"
      },
      "outputs": [
        {
          "name": "stdout",
          "output_type": "stream",
          "text": [
            "Citations that support the final answer:\n",
            "start=0 end=16 text='Denis Villeneuve' sources=[DocumentSource(type='document', id='doc:0', document={'id': 'doc:0', 'text': 'Dune: Part Two is a 2024 American epic space opera film directed by Denis Villeneuve, who co-wrote the screenplay with Jon Spaihts. The sequel to Dune (2021), it is the second of a two-part adaptation of the 1965 novel Dune by Frank Herbert. It follows Paul Atreides as he unites with the Fremen people of the desert planet Arrakis to wage war against House Harkonnen. Timothée Chalamet, Zendaya, Rebecca Ferguson, Josh Brolin, Stellan Skarsgård, Dave Bautista, Charlotte Rampling, and Javier Bardem reprise their roles from the first film, with Austin Butler, Florence Pugh, Christopher Walken, and Léa Seydoux joining the cast.', 'title': 'chunk 0'}), DocumentSource(type='document', id='doc:1', document={'id': 'doc:1', 'text': 'Dune: Part Two was produced by Villeneuve, Mary Parent, and Cale Boyter, with Tanya Lapointe, Brian Herbert, Byron Merritt, Kim Herbert, Thomas Tull, Jon Spaihts, Richard P. Rubinstein, John Harrison, and Herbert W. Gain serving as executive producers and Kevin J. Anderson as creative consultant. Legendary CEO Joshua Grode confirmed in April 2019 that they plan to make a sequel, adding that \"there\\'s a logical place to stop the [first] movie before the book is over\".', 'title': 'chunk 1'}), DocumentSource(type='document', id='doc:2', document={'id': 'doc:2', 'text': \"In November 2016, Legendary Pictures obtained the film and TV rights for the Dune franchise, based on the eponymous 1965 novel by Frank Herbert. Vice chair of worldwide production for Legendary Mary Parent began discussing with Denis Villeneuve about directing a film adaptation, quickly hiring him after realizing his passion for Dune. In February 2018, Villeneuve was confirmed to be hired as director, and intended to adapt the novel as a two-part film series. Villeneuve ultimately secured a two-film deal with Warner Bros. Pictures, in the same style as the two-part adaption of Stephen King's It in 2017 and 2019. In January 2019, Joe Walker was confirmed as the film's editor. Other crew included Brad Riker as supervising art director, Patrice Vermette as production designer, Paul Lambert as visual effects supervisor, Gerd Nefzer as special effects supervisor, and Thomas Struthers as stunt coordinator.\", 'title': 'chunk 2'})] type='TEXT_CONTENT'\n",
            "start=17 end=25 text='directed' sources=[DocumentSource(type='document', id='doc:0', document={'id': 'doc:0', 'text': 'Dune: Part Two is a 2024 American epic space opera film directed by Denis Villeneuve, who co-wrote the screenplay with Jon Spaihts. The sequel to Dune (2021), it is the second of a two-part adaptation of the 1965 novel Dune by Frank Herbert. It follows Paul Atreides as he unites with the Fremen people of the desert planet Arrakis to wage war against House Harkonnen. Timothée Chalamet, Zendaya, Rebecca Ferguson, Josh Brolin, Stellan Skarsgård, Dave Bautista, Charlotte Rampling, and Javier Bardem reprise their roles from the first film, with Austin Butler, Florence Pugh, Christopher Walken, and Léa Seydoux joining the cast.', 'title': 'chunk 0'}), DocumentSource(type='document', id='doc:2', document={'id': 'doc:2', 'text': \"In November 2016, Legendary Pictures obtained the film and TV rights for the Dune franchise, based on the eponymous 1965 novel by Frank Herbert. Vice chair of worldwide production for Legendary Mary Parent began discussing with Denis Villeneuve about directing a film adaptation, quickly hiring him after realizing his passion for Dune. In February 2018, Villeneuve was confirmed to be hired as director, and intended to adapt the novel as a two-part film series. Villeneuve ultimately secured a two-film deal with Warner Bros. Pictures, in the same style as the two-part adaption of Stephen King's It in 2017 and 2019. In January 2019, Joe Walker was confirmed as the film's editor. Other crew included Brad Riker as supervising art director, Patrice Vermette as production designer, Paul Lambert as visual effects supervisor, Gerd Nefzer as special effects supervisor, and Thomas Struthers as stunt coordinator.\", 'title': 'chunk 2'})] type='TEXT_CONTENT'\n",
            "start=30 end=38 text='co-wrote' sources=[DocumentSource(type='document', id='doc:0', document={'id': 'doc:0', 'text': 'Dune: Part Two is a 2024 American epic space opera film directed by Denis Villeneuve, who co-wrote the screenplay with Jon Spaihts. The sequel to Dune (2021), it is the second of a two-part adaptation of the 1965 novel Dune by Frank Herbert. It follows Paul Atreides as he unites with the Fremen people of the desert planet Arrakis to wage war against House Harkonnen. Timothée Chalamet, Zendaya, Rebecca Ferguson, Josh Brolin, Stellan Skarsgård, Dave Bautista, Charlotte Rampling, and Javier Bardem reprise their roles from the first film, with Austin Butler, Florence Pugh, Christopher Walken, and Léa Seydoux joining the cast.', 'title': 'chunk 0'})] type='TEXT_CONTENT'\n",
            "start=76 end=88 text='Jon Spaihts.' sources=[DocumentSource(type='document', id='doc:0', document={'id': 'doc:0', 'text': 'Dune: Part Two is a 2024 American epic space opera film directed by Denis Villeneuve, who co-wrote the screenplay with Jon Spaihts. The sequel to Dune (2021), it is the second of a two-part adaptation of the 1965 novel Dune by Frank Herbert. It follows Paul Atreides as he unites with the Fremen people of the desert planet Arrakis to wage war against House Harkonnen. Timothée Chalamet, Zendaya, Rebecca Ferguson, Josh Brolin, Stellan Skarsgård, Dave Bautista, Charlotte Rampling, and Javier Bardem reprise their roles from the first film, with Austin Butler, Florence Pugh, Christopher Walken, and Léa Seydoux joining the cast.', 'title': 'chunk 0'}), DocumentSource(type='document', id='doc:1', document={'id': 'doc:1', 'text': 'Dune: Part Two was produced by Villeneuve, Mary Parent, and Cale Boyter, with Tanya Lapointe, Brian Herbert, Byron Merritt, Kim Herbert, Thomas Tull, Jon Spaihts, Richard P. Rubinstein, John Harrison, and Herbert W. Gain serving as executive producers and Kevin J. Anderson as creative consultant. Legendary CEO Joshua Grode confirmed in April 2019 that they plan to make a sequel, adding that \"there\\'s a logical place to stop the [first] movie before the book is over\".', 'title': 'chunk 1'})] type='TEXT_CONTENT'\n",
            "start=90 end=100 text='Villeneuve' sources=[DocumentSource(type='document', id='doc:1', document={'id': 'doc:1', 'text': 'Dune: Part Two was produced by Villeneuve, Mary Parent, and Cale Boyter, with Tanya Lapointe, Brian Herbert, Byron Merritt, Kim Herbert, Thomas Tull, Jon Spaihts, Richard P. Rubinstein, John Harrison, and Herbert W. Gain serving as executive producers and Kevin J. Anderson as creative consultant. Legendary CEO Joshua Grode confirmed in April 2019 that they plan to make a sequel, adding that \"there\\'s a logical place to stop the [first] movie before the book is over\".', 'title': 'chunk 1'})] type='TEXT_CONTENT'\n",
            "start=102 end=113 text='Mary Parent' sources=[DocumentSource(type='document', id='doc:1', document={'id': 'doc:1', 'text': 'Dune: Part Two was produced by Villeneuve, Mary Parent, and Cale Boyter, with Tanya Lapointe, Brian Herbert, Byron Merritt, Kim Herbert, Thomas Tull, Jon Spaihts, Richard P. Rubinstein, John Harrison, and Herbert W. Gain serving as executive producers and Kevin J. Anderson as creative consultant. Legendary CEO Joshua Grode confirmed in April 2019 that they plan to make a sequel, adding that \"there\\'s a logical place to stop the [first] movie before the book is over\".', 'title': 'chunk 1'}), DocumentSource(type='document', id='doc:2', document={'id': 'doc:2', 'text': \"In November 2016, Legendary Pictures obtained the film and TV rights for the Dune franchise, based on the eponymous 1965 novel by Frank Herbert. Vice chair of worldwide production for Legendary Mary Parent began discussing with Denis Villeneuve about directing a film adaptation, quickly hiring him after realizing his passion for Dune. In February 2018, Villeneuve was confirmed to be hired as director, and intended to adapt the novel as a two-part film series. Villeneuve ultimately secured a two-film deal with Warner Bros. Pictures, in the same style as the two-part adaption of Stephen King's It in 2017 and 2019. In January 2019, Joe Walker was confirmed as the film's editor. Other crew included Brad Riker as supervising art director, Patrice Vermette as production designer, Paul Lambert as visual effects supervisor, Gerd Nefzer as special effects supervisor, and Thomas Struthers as stunt coordinator.\", 'title': 'chunk 2'})] type='TEXT_CONTENT'\n",
            "start=119 end=130 text='Cale Boyter' sources=[DocumentSource(type='document', id='doc:1', document={'id': 'doc:1', 'text': 'Dune: Part Two was produced by Villeneuve, Mary Parent, and Cale Boyter, with Tanya Lapointe, Brian Herbert, Byron Merritt, Kim Herbert, Thomas Tull, Jon Spaihts, Richard P. Rubinstein, John Harrison, and Herbert W. Gain serving as executive producers and Kevin J. Anderson as creative consultant. Legendary CEO Joshua Grode confirmed in April 2019 that they plan to make a sequel, adding that \"there\\'s a logical place to stop the [first] movie before the book is over\".', 'title': 'chunk 1'})] type='TEXT_CONTENT'\n",
            "start=131 end=139 text='produced' sources=[DocumentSource(type='document', id='doc:1', document={'id': 'doc:1', 'text': 'Dune: Part Two was produced by Villeneuve, Mary Parent, and Cale Boyter, with Tanya Lapointe, Brian Herbert, Byron Merritt, Kim Herbert, Thomas Tull, Jon Spaihts, Richard P. Rubinstein, John Harrison, and Herbert W. Gain serving as executive producers and Kevin J. Anderson as creative consultant. Legendary CEO Joshua Grode confirmed in April 2019 that they plan to make a sequel, adding that \"there\\'s a logical place to stop the [first] movie before the book is over\".', 'title': 'chunk 1'})] type='TEXT_CONTENT'\n",
            "start=155 end=169 text='Tanya Lapointe' sources=[DocumentSource(type='document', id='doc:1', document={'id': 'doc:1', 'text': 'Dune: Part Two was produced by Villeneuve, Mary Parent, and Cale Boyter, with Tanya Lapointe, Brian Herbert, Byron Merritt, Kim Herbert, Thomas Tull, Jon Spaihts, Richard P. Rubinstein, John Harrison, and Herbert W. Gain serving as executive producers and Kevin J. Anderson as creative consultant. Legendary CEO Joshua Grode confirmed in April 2019 that they plan to make a sequel, adding that \"there\\'s a logical place to stop the [first] movie before the book is over\".', 'title': 'chunk 1'})] type='TEXT_CONTENT'\n",
            "start=171 end=184 text='Brian Herbert' sources=[DocumentSource(type='document', id='doc:1', document={'id': 'doc:1', 'text': 'Dune: Part Two was produced by Villeneuve, Mary Parent, and Cale Boyter, with Tanya Lapointe, Brian Herbert, Byron Merritt, Kim Herbert, Thomas Tull, Jon Spaihts, Richard P. Rubinstein, John Harrison, and Herbert W. Gain serving as executive producers and Kevin J. Anderson as creative consultant. Legendary CEO Joshua Grode confirmed in April 2019 that they plan to make a sequel, adding that \"there\\'s a logical place to stop the [first] movie before the book is over\".', 'title': 'chunk 1'})] type='TEXT_CONTENT'\n",
            "start=186 end=199 text='Byron Merritt' sources=[DocumentSource(type='document', id='doc:1', document={'id': 'doc:1', 'text': 'Dune: Part Two was produced by Villeneuve, Mary Parent, and Cale Boyter, with Tanya Lapointe, Brian Herbert, Byron Merritt, Kim Herbert, Thomas Tull, Jon Spaihts, Richard P. Rubinstein, John Harrison, and Herbert W. Gain serving as executive producers and Kevin J. Anderson as creative consultant. Legendary CEO Joshua Grode confirmed in April 2019 that they plan to make a sequel, adding that \"there\\'s a logical place to stop the [first] movie before the book is over\".', 'title': 'chunk 1'})] type='TEXT_CONTENT'\n",
            "start=201 end=212 text='Kim Herbert' sources=[DocumentSource(type='document', id='doc:1', document={'id': 'doc:1', 'text': 'Dune: Part Two was produced by Villeneuve, Mary Parent, and Cale Boyter, with Tanya Lapointe, Brian Herbert, Byron Merritt, Kim Herbert, Thomas Tull, Jon Spaihts, Richard P. Rubinstein, John Harrison, and Herbert W. Gain serving as executive producers and Kevin J. Anderson as creative consultant. Legendary CEO Joshua Grode confirmed in April 2019 that they plan to make a sequel, adding that \"there\\'s a logical place to stop the [first] movie before the book is over\".', 'title': 'chunk 1'})] type='TEXT_CONTENT'\n",
            "start=214 end=225 text='Thomas Tull' sources=[DocumentSource(type='document', id='doc:1', document={'id': 'doc:1', 'text': 'Dune: Part Two was produced by Villeneuve, Mary Parent, and Cale Boyter, with Tanya Lapointe, Brian Herbert, Byron Merritt, Kim Herbert, Thomas Tull, Jon Spaihts, Richard P. Rubinstein, John Harrison, and Herbert W. Gain serving as executive producers and Kevin J. Anderson as creative consultant. Legendary CEO Joshua Grode confirmed in April 2019 that they plan to make a sequel, adding that \"there\\'s a logical place to stop the [first] movie before the book is over\".', 'title': 'chunk 1'})] type='TEXT_CONTENT'\n",
            "start=227 end=238 text='Jon Spaihts' sources=[DocumentSource(type='document', id='doc:1', document={'id': 'doc:1', 'text': 'Dune: Part Two was produced by Villeneuve, Mary Parent, and Cale Boyter, with Tanya Lapointe, Brian Herbert, Byron Merritt, Kim Herbert, Thomas Tull, Jon Spaihts, Richard P. Rubinstein, John Harrison, and Herbert W. Gain serving as executive producers and Kevin J. Anderson as creative consultant. Legendary CEO Joshua Grode confirmed in April 2019 that they plan to make a sequel, adding that \"there\\'s a logical place to stop the [first] movie before the book is over\".', 'title': 'chunk 1'})] type='TEXT_CONTENT'\n",
            "start=240 end=261 text='Richard P. Rubinstein' sources=[DocumentSource(type='document', id='doc:1', document={'id': 'doc:1', 'text': 'Dune: Part Two was produced by Villeneuve, Mary Parent, and Cale Boyter, with Tanya Lapointe, Brian Herbert, Byron Merritt, Kim Herbert, Thomas Tull, Jon Spaihts, Richard P. Rubinstein, John Harrison, and Herbert W. Gain serving as executive producers and Kevin J. Anderson as creative consultant. Legendary CEO Joshua Grode confirmed in April 2019 that they plan to make a sequel, adding that \"there\\'s a logical place to stop the [first] movie before the book is over\".', 'title': 'chunk 1'})] type='TEXT_CONTENT'\n",
            "start=263 end=276 text='John Harrison' sources=[DocumentSource(type='document', id='doc:1', document={'id': 'doc:1', 'text': 'Dune: Part Two was produced by Villeneuve, Mary Parent, and Cale Boyter, with Tanya Lapointe, Brian Herbert, Byron Merritt, Kim Herbert, Thomas Tull, Jon Spaihts, Richard P. Rubinstein, John Harrison, and Herbert W. Gain serving as executive producers and Kevin J. Anderson as creative consultant. Legendary CEO Joshua Grode confirmed in April 2019 that they plan to make a sequel, adding that \"there\\'s a logical place to stop the [first] movie before the book is over\".', 'title': 'chunk 1'})] type='TEXT_CONTENT'\n",
            "start=282 end=297 text='Herbert W. Gain' sources=[DocumentSource(type='document', id='doc:1', document={'id': 'doc:1', 'text': 'Dune: Part Two was produced by Villeneuve, Mary Parent, and Cale Boyter, with Tanya Lapointe, Brian Herbert, Byron Merritt, Kim Herbert, Thomas Tull, Jon Spaihts, Richard P. Rubinstein, John Harrison, and Herbert W. Gain serving as executive producers and Kevin J. Anderson as creative consultant. Legendary CEO Joshua Grode confirmed in April 2019 that they plan to make a sequel, adding that \"there\\'s a logical place to stop the [first] movie before the book is over\".', 'title': 'chunk 1'})] type='TEXT_CONTENT'\n",
            "start=309 end=328 text='executive producers' sources=[DocumentSource(type='document', id='doc:1', document={'id': 'doc:1', 'text': 'Dune: Part Two was produced by Villeneuve, Mary Parent, and Cale Boyter, with Tanya Lapointe, Brian Herbert, Byron Merritt, Kim Herbert, Thomas Tull, Jon Spaihts, Richard P. Rubinstein, John Harrison, and Herbert W. Gain serving as executive producers and Kevin J. Anderson as creative consultant. Legendary CEO Joshua Grode confirmed in April 2019 that they plan to make a sequel, adding that \"there\\'s a logical place to stop the [first] movie before the book is over\".', 'title': 'chunk 1'})] type='TEXT_CONTENT'\n",
            "start=333 end=350 text='Kevin J. Anderson' sources=[DocumentSource(type='document', id='doc:1', document={'id': 'doc:1', 'text': 'Dune: Part Two was produced by Villeneuve, Mary Parent, and Cale Boyter, with Tanya Lapointe, Brian Herbert, Byron Merritt, Kim Herbert, Thomas Tull, Jon Spaihts, Richard P. Rubinstein, John Harrison, and Herbert W. Gain serving as executive producers and Kevin J. Anderson as creative consultant. Legendary CEO Joshua Grode confirmed in April 2019 that they plan to make a sequel, adding that \"there\\'s a logical place to stop the [first] movie before the book is over\".', 'title': 'chunk 1'})] type='TEXT_CONTENT'\n",
            "start=354 end=374 text='creative consultant.' sources=[DocumentSource(type='document', id='doc:1', document={'id': 'doc:1', 'text': 'Dune: Part Two was produced by Villeneuve, Mary Parent, and Cale Boyter, with Tanya Lapointe, Brian Herbert, Byron Merritt, Kim Herbert, Thomas Tull, Jon Spaihts, Richard P. Rubinstein, John Harrison, and Herbert W. Gain serving as executive producers and Kevin J. Anderson as creative consultant. Legendary CEO Joshua Grode confirmed in April 2019 that they plan to make a sequel, adding that \"there\\'s a logical place to stop the [first] movie before the book is over\".', 'title': 'chunk 1'})] type='TEXT_CONTENT'\n"
          ]
        }
      ],
      "source": [
        "print(\"Citations that support the final answer:\")\n",
        "for cite in response.message.citations:\n",
        "  print(cite)"
      ]
    },
    {
      "cell_type": "code",
      "execution_count": 36,
      "metadata": {
        "colab": {
          "base_uri": "https://localhost:8080/"
        },
        "id": "IueXaIJggbOu",
        "outputId": "c816af51-74be-42c9-e94e-9820bbf95f79"
      },
      "outputs": [
        {
          "name": "stdout",
          "output_type": "stream",
          "text": [
            "**Denis Villeneuve**[1][2][3] **directed**[1][3] and **co-wrote**[1] the script for *Dune: Part Two* with **Jon Spaihts.**[1][2]\n",
            "\n",
            "**Villeneuve**[2], **Mary Parent**[2][3], and **Cale Boyter**[2] **produced**[2] the film, with **Tanya Lapointe**[2], **Brian Herbert**[2], **Byron Merritt**[2], **Kim Herbert**[2], **Thomas Tull**[2], **Jon Spaihts**[2], **Richard P. Rubinstein**[2], **John Harrison**[2], and **Herbert W. Gain**[2] serving as **executive producers**[2] and **Kevin J. Anderson**[2] as **creative consultant.**[2]\n",
            "\n",
            "[1] source: \"Dune: Part Two is a 2024 American epic space opera film directed by Denis Villeneuve, who co-wrote t...\"\n",
            "[2] source: \"Dune: Part Two was produced by Villeneuve, Mary Parent, and Cale Boyter, with Tanya Lapointe, Brian ...\"\n",
            "[3] source: \"In November 2016, Legendary Pictures obtained the film and TV rights for the Dune franchise, based o...\"\n"
          ]
        }
      ],
      "source": [
        "def insert_citations_in_order(text, citations):\n",
        "    \"\"\"\n",
        "    A helper function to pretty print citations.\n",
        "    \"\"\"\n",
        "    offset = 0\n",
        "    document_id_to_number = {}\n",
        "    citation_number = 0\n",
        "    modified_citations = []\n",
        "\n",
        "    # Process citations, assigning numbers based on unique document sources\n",
        "    for citation in citations:\n",
        "        citation_numbers = []\n",
        "        for source in citation.sources:\n",
        "            doc_id = source.id\n",
        "            if doc_id not in document_id_to_number:\n",
        "                citation_number += 1  # Increment for a new document_id\n",
        "                document_id_to_number[doc_id] = citation_number\n",
        "            citation_numbers.append(document_id_to_number[doc_id])\n",
        "\n",
        "        # Adjust start/end with offset\n",
        "        start, end = citation.start + offset, citation.end + offset\n",
        "        placeholder = ''.join([f'[{number}]' for number in citation_numbers])\n",
        "        # Bold the cited text and append the placeholder\n",
        "        modification = f'**{text[start:end]}**{placeholder}'\n",
        "        # Replace the cited text with its bolded version + placeholder\n",
        "        text = text[:start] + modification + text[end:]\n",
        "        # Update the offset for subsequent replacements\n",
        "        offset += len(modification) - (end - start)\n",
        "\n",
        "    # Prepare citations for listing at the bottom, ensuring unique document_ids are listed once\n",
        "    unique_citations = {doc_id: number for doc_id, number in document_id_to_number.items()}\n",
        "    citation_list = '\\n'.join([f'[{number}] source: \"{documents[int(doc_id.split(\":\")[-1])][\"data\"][\"text\"][:100]}...\"' \n",
        "                              for doc_id, number in sorted(unique_citations.items(), key=lambda item: item[1])])\n",
        "    text_with_citations = f'{text}\\n\\n{citation_list}'\n",
        "\n",
        "    return text_with_citations\n",
        "\n",
        "\n",
        "print(insert_citations_in_order(response.message.content[0].text, response.message.citations))\n"
      ]
    },
    {
      "cell_type": "code",
      "execution_count": null,
      "metadata": {
        "id": "Kp4c_HkYIEn_"
      },
      "outputs": [],
      "source": []
    }
  ],
  "metadata": {
    "colab": {
      "provenance": []
    },
    "kernelspec": {
      "display_name": "base",
      "language": "python",
      "name": "base"
    },
    "language_info": {
      "codemirror_mode": {
        "name": "ipython",
        "version": 3
      },
      "file_extension": ".py",
      "mimetype": "text/x-python",
      "name": "python",
      "nbconvert_exporter": "python",
      "pygments_lexer": "ipython3",
      "version": "3.11.4"
    }
  },
  "nbformat": 4,
  "nbformat_minor": 0
}
