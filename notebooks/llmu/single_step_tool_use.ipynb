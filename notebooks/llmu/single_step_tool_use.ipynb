{
 "cells": [
  {
   "cell_type": "markdown",
   "metadata": {},
   "source": [
    "# Single-Step Tool Use"
   ]
  },
  {
   "cell_type": "markdown",
   "metadata": {},
   "source": [
    "<a target=\"_blank\" href=\"https://colab.research.google.com/github/cohere-ai/notebooks/blob/main/notebooks/llmu/single_step_tool_use.ipynb\">\n",
    "  <img src=\"https://colab.research.google.com/assets/colab-badge.svg\" alt=\"Open In Colab\"/>\n",
    "</a>"
   ]
  },
  {
   "cell_type": "markdown",
   "metadata": {},
   "source": [
    "*Read the accompanying [article here](https://cohere.ai/blog/single-step-tool-use/).*\n",
    "\n",
    "With Cohere, you can tool use in two different modes: single-step and multi-step.\n",
    "\n",
    "In a single-step tool use scenario, an LLM calls a single tool or many tools in parallel. The tools then return the results, and the LLM uses the results to generate its response.\n",
    "\n",
    "In this notebook, we look at single-step tool use and see how tool use works in the following scenarios:\n",
    "-  Multiple tools: What if the model had multiple tools at its disposal? How does the model reason over which tools to use at a particular time?\n",
    "- Parallel tool calls: What does it look like if more than one tool call is required?\n",
    "- When not to use tools: What if a question can, and should, be answered directly by a model without needing a tool?\n",
    "- Tool use in a chat setting: What if the user had follow-up questions, i.e., how does an assistant maintain the context of a conversation in a multi-turn chat setting?"
   ]
  },
  {
   "cell_type": "markdown",
   "metadata": {},
   "source": [
    "First, let’s install the Cohere Python SDK and set up the Cohere client."
   ]
  },
  {
   "cell_type": "code",
   "execution_count": null,
   "metadata": {},
   "outputs": [],
   "source": [
    "! pip install cohere -q"
   ]
  },
  {
   "cell_type": "code",
   "execution_count": 40,
   "metadata": {},
   "outputs": [],
   "source": [
    "import cohere\n",
    "import json\n",
    "co = cohere.Client(\"COHERE_API_KEY\") # Get your API key: https://dashboard.cohere.com/api-keys"
   ]
  },
  {
   "cell_type": "markdown",
   "metadata": {},
   "source": [
    "# Single step, parallel tool use"
   ]
  },
  {
   "cell_type": "markdown",
   "metadata": {},
   "source": [
    "Let’s now create two tools:\n",
    "- A function to query the sales database called `query_daily_sales_report`, which includes a mock sales database\n",
    "- A function to query the product catalog called `query_product_catalog`, which includes a mock product catalog"
   ]
  },
  {
   "cell_type": "code",
   "execution_count": 41,
   "metadata": {},
   "outputs": [],
   "source": [
    "def daily_sales_report(day: str) -> dict:\n",
    "    \"\"\"\n",
    "    Function to retrieve the sales report for the given day\n",
    "    \"\"\"\n",
    "    # Mock database containing daily sales reports\n",
    "    sales_database = {\n",
    "    '2023-09-28': {'total_sales_amount': 5000,'total_units_sold': 100},\n",
    "    '2023-09-29': {'total_sales_amount': 10000,'total_units_sold': 250},\n",
    "    '2023-09-30': {'total_sales_amount': 8000,'total_units_sold': 200}\n",
    "    }\n",
    "    \n",
    "    report = sales_database.get(day, {})\n",
    "    \n",
    "    if report:\n",
    "        return {\n",
    "            'date': day,\n",
    "            'summary': f\"Total Sales Amount: {report['total_sales_amount']}, Total Units Sold: {report['total_units_sold']}\"\n",
    "        }\n",
    "    else:\n",
    "        return {'date': day, 'summary': 'No sales data available for this day.'}\n",
    "    \n",
    "\n",
    "def product_database(category: str) -> dict:\n",
    "    \"\"\"\n",
    "    Function to retrieve products for the given category\n",
    "    \"\"\"\n",
    "    \n",
    "    # Mock product catalog\n",
    "    product_catalog = {\n",
    "        'Electronics': [\n",
    "            {'product_id': 'E1001', 'name': 'Smartphone', 'price': 500, 'stock_level': 20},\n",
    "            {'product_id': 'E1002', 'name': 'Laptop', 'price': 1000, 'stock_level': 15},\n",
    "            {'product_id': 'E1003', 'name': 'Tablet', 'price': 300, 'stock_level': 25},\n",
    "        ],\n",
    "        'Clothing': [\n",
    "            {'product_id': 'C1001', 'name': 'T-Shirt', 'price': 20, 'stock_level': 100},\n",
    "            {'product_id': 'C1002', 'name': 'Jeans', 'price': 50, 'stock_level': 80},\n",
    "            {'product_id': 'C1003', 'name': 'Jacket', 'price': 100, 'stock_level': 40},\n",
    "        ]\n",
    "    }\n",
    "    \n",
    "    products = product_catalog.get(category, [])\n",
    "    return {\n",
    "        'category': category,\n",
    "        'products': products\n",
    "    }\n",
    "\n",
    "\n",
    "functions_map = {\n",
    "    \"daily_sales_report\": daily_sales_report,\n",
    "    \"product_database\": product_database\n",
    "}"
   ]
  },
  {
   "cell_type": "markdown",
   "metadata": {},
   "source": [
    "Next, we define the tool schema for the two tools. Both functions accept one parameter, `day` and `category` respectively."
   ]
  },
  {
   "cell_type": "code",
   "execution_count": 42,
   "metadata": {},
   "outputs": [],
   "source": [
    "tools = [\n",
    "    {\n",
    "        \"name\": \"daily_sales_report\",\n",
    "        \"description\": \"Connects to a database to retrieve overall sales volumes and sales information for a given day.\",\n",
    "        \"parameter_definitions\": {\n",
    "            \"day\": {\n",
    "                \"description\": \"Retrieves sales data for this day, formatted as YYYY-MM-DD.\",\n",
    "                \"type\": \"str\",\n",
    "                \"required\": True\n",
    "            }\n",
    "        }\n",
    "    },\n",
    "    {\n",
    "        \"name\": \"product_database\",\n",
    "        \"description\": \"A database that contains information about all the products of this company, including categories, prices, and stock levels.\",\n",
    "        \"parameter_definitions\": {\n",
    "            \"category\": {\n",
    "                \"description\": \"Retrieves product information data for all products in this category.\",\n",
    "                \"type\": \"str\",\n",
    "                \"required\": True\n",
    "            }\n",
    "        }\n",
    "    }\n",
    "]"
   ]
  },
  {
   "cell_type": "markdown",
   "metadata": {},
   "source": [
    "Next, we define a preamble (optional)."
   ]
  },
  {
   "cell_type": "code",
   "execution_count": 43,
   "metadata": {},
   "outputs": [],
   "source": [
    "preamble = \"\"\"## Task & Context\n",
    "You are an assistant for an e-commerce company. You will be asked a very wide array of requests on all kinds of topics. You will be equipped with a set of tools, which you use to get your answer. You should focus on serving the user's needs as best you can, which will be wide-ranging.\n",
    "\n",
    "## Style Guide\n",
    "Unless the user asks for a different style of answer, you should answer in full sentences, using proper grammar and spelling.\n",
    "\"\"\""
   ]
  },
  {
   "cell_type": "markdown",
   "metadata": {},
   "source": [
    "# Create a function to run the assistant"
   ]
  },
  {
   "cell_type": "markdown",
   "metadata": {},
   "source": [
    "Let's create a function called `run_assistant` which does the following:\n",
    "- Gets the user message (Step 1)\n",
    "- Calls the Chat endpoint for tool call generation (Step 2)\n",
    "- If the response contains at least one tool call, executes the tool call(s) and gets the tool results (Step 3)\n",
    "- Generates the final response with citations (Step 4)\n",
    "\n",
    "We put Steps 2 and 3 in a loop, checking if the model’s response contains tool calls. This allows the assistant to handle any number of tool call steps (zero, one, or multiple) for a given user message.\n",
    "\n",
    "We are also enabling the assistant to retain the state (or memory) of a conversation, which allows it to handle multi-turn chat scenarios. We do this by having the run_assistant function accept the chat history from the previous turns as an argument and return the updated chat history.\n"
   ]
  },
  {
   "cell_type": "code",
   "execution_count": 44,
   "metadata": {},
   "outputs": [],
   "source": [
    "model = \"command-r-plus\"\n",
    "\n",
    "def run_assistant(message, chat_history=None):\n",
    "    if chat_history is None:\n",
    "        chat_history = []\n",
    "\n",
    "    # Step 1: Get user message\n",
    "    print(f\"Question:\\n{message}\")\n",
    "    print(\"=\"*50)\n",
    "\n",
    "    # Step 2: Generate tool calls (if any)    \n",
    "    response = co.chat(\n",
    "        message=message,\n",
    "        model=model,\n",
    "        preamble=preamble,\n",
    "        tools=tools,\n",
    "        chat_history=chat_history,\n",
    "        force_single_step=True\n",
    "    )\n",
    "\n",
    "    while response.tool_calls:\n",
    "        tool_calls = response.tool_calls\n",
    "        \n",
    "        if response.text:\n",
    "            print(\"Tool plan:\")\n",
    "            print(response.text,\"\\n\")\n",
    "        print(\"Tool calls:\")\n",
    "        for call in tool_calls:\n",
    "            print(f\"Tool name: {call.name} | Parameters: {call.parameters}\")\n",
    "        print(\"=\"*50)\n",
    "        \n",
    "        # Step 3: Get tool results\n",
    "        tool_results = []\n",
    "        for tc in tool_calls:\n",
    "            tool_call = {\"name\": tc.name, \"parameters\": tc.parameters}\n",
    "            tool_output = functions_map[tc.name](**tc.parameters)\n",
    "            tool_results.append({\"call\": tool_call, \"outputs\": [tool_output]})\n",
    "        \n",
    "        # Step 4: Generate response and citations                \n",
    "        response = co.chat(\n",
    "            message=\"\",\n",
    "            model=model,\n",
    "            preamble=preamble,\n",
    "            tools=tools,\n",
    "            tool_results=tool_results,\n",
    "            chat_history=response.chat_history\n",
    "        )\n",
    "\n",
    "        # Append the current chat turn to the chat history\n",
    "        chat_history = response.chat_history\n",
    "        \n",
    "    # Print final response\n",
    "    print(\"Final response:\")\n",
    "    print(response.text)\n",
    "    print(\"=\"*50)\n",
    "    \n",
    "    # Print citations (if any)\n",
    "    if response.citations:\n",
    "        print(\"Citations:\")\n",
    "        for citation in response.citations:\n",
    "            print(citation)\n",
    "        print(\"\\nCited Documents:\")\n",
    "        for document in response.documents:\n",
    "            print(document)\n",
    "        print(\"=\"*50)\n",
    "    \n",
    "    return chat_history"
   ]
  },
  {
   "cell_type": "markdown",
   "metadata": {},
   "source": [
    "## Single-step"
   ]
  },
  {
   "cell_type": "markdown",
   "metadata": {},
   "source": [
    "Let’s now ask the first question to the assistant with a simple example.\n",
    "\n",
    "The assistant correctly identifies that, out of the two tools available, `query_daily_sales_report` is sufficient to answer the question. And it answers the question correctly."
   ]
  },
  {
   "cell_type": "code",
   "execution_count": 45,
   "metadata": {},
   "outputs": [
    {
     "name": "stdout",
     "output_type": "stream",
     "text": [
      "Question:\n",
      "Can you provide a sales summary for 29th September 2023?\n",
      "==================================================\n",
      "Tool calls:\n",
      "Tool name: daily_sales_report | Parameters: {'day': '2023-09-29'}\n",
      "==================================================\n",
      "Final response:\n",
      "On 29 September 2023, we sold 250 units, totalling a sales amount of 10,000.\n",
      "==================================================\n",
      "Citations:\n",
      "start=30 end=39 text='250 units' document_ids=['daily_sales_report:0:2:0']\n",
      "start=53 end=75 text='sales amount of 10,000' document_ids=['daily_sales_report:0:2:0']\n",
      "\n",
      "Cited Documents:\n",
      "{'date': '2023-09-29', 'id': 'daily_sales_report:0:2:0', 'summary': 'Total Sales Amount: 10000, Total Units Sold: 250', 'tool_name': 'daily_sales_report'}\n",
      "==================================================\n"
     ]
    }
   ],
   "source": [
    "chat_history = run_assistant(\"Can you provide a sales summary for 29th September 2023?\")"
   ]
  },
  {
   "cell_type": "code",
   "execution_count": 46,
   "metadata": {},
   "outputs": [
    {
     "name": "stdout",
     "output_type": "stream",
     "text": [
      "message='Can you provide a sales summary for 29th September 2023?' tool_calls=None role='USER' \n",
      "\n",
      "message=None tool_calls=[ToolCall(name='daily_sales_report', parameters={'day': '2023-09-29'})] role='CHATBOT' \n",
      "\n",
      "tool_results=[ToolResult(call=ToolCall(name='daily_sales_report', parameters={'day': '2023-09-29'}), outputs=[{'date': '2023-09-29', 'summary': 'Total Sales Amount: 10000, Total Units Sold: 250'}])] role='TOOL' \n",
      "\n",
      "message='On 29 September 2023, we sold 250 units, totalling a sales amount of 10,000.' tool_calls=None role='CHATBOT' \n",
      "\n"
     ]
    }
   ],
   "source": [
    "# Print chat history\n",
    "for turn in chat_history:\n",
    "    print(turn,\"\\n\")"
   ]
  },
  {
   "cell_type": "markdown",
   "metadata": {},
   "source": [
    "## Single-step, parallel"
   ]
  },
  {
   "cell_type": "markdown",
   "metadata": {},
   "source": [
    "The model can decide that more than one tool is required to provide a response. This means calling multiple tools in parallel within the same step. This can either be:\n",
    "- Calling different tools in parallel\n",
    "- Calling the same tool multiple times in parallel\n",
    "- A combination of both\n",
    "\n",
    "To illustrate this, let’s try to ask the model another question. Let’s ask about the sales summary of two different dates and also about the stock level information of a product category.\n",
    "\n",
    "This time, the model generates three tool calls in parallel:\n",
    "- Two queries to the sales database, one for each date\n",
    "- One query to the product catalog\n",
    "\n",
    "These are exactly what are needed to answer the question. And it correctly answers the question.\n"
   ]
  },
  {
   "cell_type": "code",
   "execution_count": 31,
   "metadata": {},
   "outputs": [
    {
     "name": "stdout",
     "output_type": "stream",
     "text": [
      "Question:\n",
      "Can you provide a sales summary for 28th and 29th September 2023 as well as the stock level of the products in the 'Electronics' category?\n",
      "==================================================\n",
      "Tool calls:\n",
      "Tool name: daily_sales_report | Parameters: {'day': '2023-09-28'}\n",
      "Tool name: daily_sales_report | Parameters: {'day': '2023-09-29'}\n",
      "Tool name: product_database | Parameters: {'category': 'Electronics'}\n",
      "==================================================\n",
      "Final response:\n",
      "On 28 September 2023, the total sales amount was 5000, with 100 units sold. The following day, 29 September 2023, the total sales amount was 10000, with 250 units sold. \n",
      "\n",
      "Here is the stock level of the products in the 'Electronics' category:\n",
      "- Smartphone (E1001) - 20\n",
      "- Laptop (E1002) - 15\n",
      "- Tablet (E1003) - 25\n",
      "==================================================\n",
      "Citations:\n",
      "start=3 end=20 text='28 September 2023' document_ids=['daily_sales_report:0:2:0']\n",
      "start=26 end=53 text='total sales amount was 5000' document_ids=['daily_sales_report:0:2:0']\n",
      "start=60 end=74 text='100 units sold' document_ids=['daily_sales_report:0:2:0']\n",
      "start=95 end=112 text='29 September 2023' document_ids=['daily_sales_report:1:2:0']\n",
      "start=118 end=146 text='total sales amount was 10000' document_ids=['daily_sales_report:1:2:0']\n",
      "start=153 end=167 text='250 units sold' document_ids=['daily_sales_report:1:2:0']\n",
      "start=244 end=267 text='Smartphone (E1001) - 20' document_ids=['product_database:2:2:0']\n",
      "start=270 end=289 text='Laptop (E1002) - 15' document_ids=['product_database:2:2:0']\n",
      "start=292 end=311 text='Tablet (E1003) - 25' document_ids=['product_database:2:2:0']\n",
      "\n",
      "Cited Documents:\n",
      "{'date': '2023-09-28', 'id': 'daily_sales_report:0:2:0', 'summary': 'Total Sales Amount: 5000, Total Units Sold: 100', 'tool_name': 'daily_sales_report'}\n",
      "{'date': '2023-09-29', 'id': 'daily_sales_report:1:2:0', 'summary': 'Total Sales Amount: 10000, Total Units Sold: 250', 'tool_name': 'daily_sales_report'}\n",
      "{'category': 'Electronics', 'id': 'product_database:2:2:0', 'products': '[{\"name\":\"Smartphone\",\"price\":500,\"product_id\":\"E1001\",\"stock_level\":20},{\"name\":\"Laptop\",\"price\":1000,\"product_id\":\"E1002\",\"stock_level\":15},{\"name\":\"Tablet\",\"price\":300,\"product_id\":\"E1003\",\"stock_level\":25}]', 'tool_name': 'product_database'}\n",
      "==================================================\n"
     ]
    }
   ],
   "source": [
    "chat_history = run_assistant(\"Can you provide a sales summary for 28th and 29th September 2023 as well as the stock level of the products in the 'Electronics' category?\")"
   ]
  },
  {
   "cell_type": "markdown",
   "metadata": {},
   "source": [
    "## Directly answering"
   ]
  },
  {
   "cell_type": "markdown",
   "metadata": {},
   "source": [
    "A key attribute of tool use systems is the model’s ability to choose the right tools for a task. And that also includes the ability to decide to not use any tool, and instead, to respond to a user message directly."
   ]
  },
  {
   "cell_type": "markdown",
   "metadata": {},
   "source": [
    "### Questions that don't require tools"
   ]
  },
  {
   "cell_type": "markdown",
   "metadata": {},
   "source": [
    "Let’s look at the first scenario. The question below asks about building a great company. This is a rather general question that a good LLM would be able to answer directly without needing any additional help.\n",
    "\n",
    "Notice that the model doesn’t trigger any tool calls, but instead goes directly to answering the question."
   ]
  },
  {
   "cell_type": "code",
   "execution_count": 33,
   "metadata": {},
   "outputs": [
    {
     "name": "stdout",
     "output_type": "stream",
     "text": [
      "Question:\n",
      "Give me 3 concise tips on how to build a great company\n",
      "==================================================\n",
      "Final response:\n",
      "1. Start with a strong foundation: Build a solid business plan, secure adequate funding, and establish a clear mission and vision. \n",
      "\n",
      "2. Focus on people: Hire and retain talented employees by creating a positive company culture and offering competitive benefits. \n",
      "\n",
      "3. Stay agile: Adapt to market changes and be open to innovation. Stay connected to your customers' needs and wants and be willing to pivot when necessary.\n",
      "==================================================\n"
     ]
    }
   ],
   "source": [
    "chat_history = run_assistant(\"Give me 3 concise tips on how to build a great company\")"
   ]
  },
  {
   "cell_type": "markdown",
   "metadata": {},
   "source": [
    "### Questions that require tools but tools not available"
   ]
  },
  {
   "cell_type": "markdown",
   "metadata": {},
   "source": [
    "Let’s look at the other scenario. The question below is about the company's employee count, which is a specific piece of information that an LLM would not possess and requires context from an external tool.\n",
    "\n",
    "But because none of the available tools can provide this information, the model doesn’t attempt any tool call. Instead, it responds directly to the user question mentioning that it doesn’t have the information needed to answer the question."
   ]
  },
  {
   "cell_type": "code",
   "execution_count": 34,
   "metadata": {},
   "outputs": [
    {
     "name": "stdout",
     "output_type": "stream",
     "text": [
      "Question:\n",
      "How many employees does this company have?\n",
      "==================================================\n",
      "Final response:\n",
      "I don't have any information about the company's number of employees. Is there anything else I can help you with?\n",
      "==================================================\n"
     ]
    }
   ],
   "source": [
    "chat_history = run_assistant(\"How many employees does this company have?\")"
   ]
  },
  {
   "cell_type": "markdown",
   "metadata": {},
   "source": [
    "## State management (memory)"
   ]
  },
  {
   "cell_type": "markdown",
   "metadata": {},
   "source": [
    "The `run_assistant` function is already enabled to handle multi-turn chat scenarios. The function represents one turn of a conversation. For each turn, it accepts the latest chat history of a conversation and returns the updated one once the turn has been completed.\n",
    "\n",
    "This can continue for any number of turns, the limit being the model’s maximum context length (with Command R/R+, that’s 128k tokens).\n",
    "\n",
    "The chat history for each turn consists of:\n",
    "- The USER message\n",
    "- Followed by the CHATBOT message with the list of tool calls\n",
    "- Followed the TOOL message with the list of tool results\n",
    "- Finally, followed by the CHATBOT message with the final response to the user\n",
    "\n",
    "Let’s try it out, starting with the same question about the sales summary.\n"
   ]
  },
  {
   "cell_type": "code",
   "execution_count": 35,
   "metadata": {},
   "outputs": [
    {
     "name": "stdout",
     "output_type": "stream",
     "text": [
      "Question:\n",
      "Can you provide a sales summary for 29th September 2023?\n",
      "==================================================\n",
      "Tool calls:\n",
      "Tool name: daily_sales_report | Parameters: {'day': '2023-09-29'}\n",
      "==================================================\n",
      "Final response:\n",
      "On 29 September 2023, the total sales amount was 10,000 and the total number of units sold was 250.\n",
      "==================================================\n",
      "Citations:\n",
      "start=26 end=55 text='total sales amount was 10,000' document_ids=['daily_sales_report:0:2:0']\n",
      "start=64 end=98 text='total number of units sold was 250' document_ids=['daily_sales_report:0:2:0']\n",
      "\n",
      "Cited Documents:\n",
      "{'date': '2023-09-29', 'id': 'daily_sales_report:0:2:0', 'summary': 'Total Sales Amount: 10000, Total Units Sold: 250', 'tool_name': 'daily_sales_report'}\n",
      "==================================================\n"
     ]
    }
   ],
   "source": [
    "chat_history = run_assistant(\"Can you provide a sales summary for 29th September 2023?\")"
   ]
  },
  {
   "cell_type": "markdown",
   "metadata": {},
   "source": [
    "Let’s now ask a follow-up question, a rather vague question that a model would not be able to answer without the context of the previous turn. Here we pass the first turn’s chat history to the `run_assistant` function.\n",
    "\n",
    "The model is able to infer that “the 28th” is likely referring to September 28th 2023, because of what was asked in the previous turn. "
   ]
  },
  {
   "cell_type": "code",
   "execution_count": 36,
   "metadata": {},
   "outputs": [
    {
     "name": "stdout",
     "output_type": "stream",
     "text": [
      "Question:\n",
      "What about the 28th?\n",
      "==================================================\n",
      "Tool calls:\n",
      "Tool name: daily_sales_report | Parameters: {'day': '2023-09-28'}\n",
      "==================================================\n",
      "Final response:\n",
      "On 28 September 2023, the total sales amount was 5,000 and the total number of units sold was 100.\n",
      "==================================================\n",
      "Citations:\n",
      "start=26 end=54 text='total sales amount was 5,000' document_ids=['daily_sales_report:0:6:0']\n",
      "start=63 end=97 text='total number of units sold was 100' document_ids=['daily_sales_report:0:6:0']\n",
      "\n",
      "Cited Documents:\n",
      "{'date': '2023-09-28', 'id': 'daily_sales_report:0:6:0', 'summary': 'Total Sales Amount: 5000, Total Units Sold: 100', 'tool_name': 'daily_sales_report'}\n",
      "==================================================\n"
     ]
    }
   ],
   "source": [
    "chat_history = run_assistant(\"What about the 28th?\", chat_history)"
   ]
  },
  {
   "cell_type": "markdown",
   "metadata": {},
   "source": [
    "Let’s continue the conversation.\n",
    "\n",
    "Again, the model is able to infer what “both days” are from the chat context."
   ]
  },
  {
   "cell_type": "code",
   "execution_count": 37,
   "metadata": {},
   "outputs": [
    {
     "name": "stdout",
     "output_type": "stream",
     "text": [
      "Question:\n",
      "How many units were sold over both days\n",
      "==================================================\n",
      "Tool calls:\n",
      "Tool name: daily_sales_report | Parameters: {'day': '2023-09-29'}\n",
      "Tool name: daily_sales_report | Parameters: {'day': '2023-09-28'}\n",
      "==================================================\n",
      "Final response:\n",
      "Combined, 28 and 29 September 2023 saw 350 units sold.\n",
      "==================================================\n",
      "Citations:\n",
      "start=39 end=53 text='350 units sold' document_ids=['daily_sales_report:0:10:0', 'daily_sales_report:1:10:0']\n",
      "\n",
      "Cited Documents:\n",
      "{'date': '2023-09-29', 'id': 'daily_sales_report:0:10:0', 'summary': 'Total Sales Amount: 10000, Total Units Sold: 250', 'tool_name': 'daily_sales_report'}\n",
      "{'date': '2023-09-28', 'id': 'daily_sales_report:1:10:0', 'summary': 'Total Sales Amount: 5000, Total Units Sold: 100', 'tool_name': 'daily_sales_report'}\n",
      "==================================================\n"
     ]
    }
   ],
   "source": [
    "chat_history = run_assistant(\"How many units were sold over both days\", chat_history)"
   ]
  },
  {
   "cell_type": "markdown",
   "metadata": {},
   "source": [
    "Here’s a look at the chat history. It consists of a set of USER, CHATBOT, and TOOL messages appended in the right sequence of turns, providing the model with the right context each time it generates a new response."
   ]
  },
  {
   "cell_type": "code",
   "execution_count": 39,
   "metadata": {},
   "outputs": [
    {
     "name": "stdout",
     "output_type": "stream",
     "text": [
      "message='Can you provide a sales summary for 29th September 2023?' tool_calls=None role='USER' \n",
      "\n",
      "message=None tool_calls=[ToolCall(name='daily_sales_report', parameters={'day': '2023-09-29'})] role='CHATBOT' \n",
      "\n",
      "tool_results=[ToolResult(call=ToolCall(name='daily_sales_report', parameters={'day': '2023-09-29'}), outputs=[{'date': '2023-09-29', 'summary': 'Total Sales Amount: 10000, Total Units Sold: 250'}])] role='TOOL' \n",
      "\n",
      "message='On 29 September 2023, the total sales amount was 10,000 and the total number of units sold was 250.' tool_calls=None role='CHATBOT' \n",
      "\n",
      "message='What about the 28th?' tool_calls=None role='USER' \n",
      "\n",
      "message=None tool_calls=[ToolCall(name='daily_sales_report', parameters={'day': '2023-09-28'})] role='CHATBOT' \n",
      "\n",
      "tool_results=[ToolResult(call=ToolCall(name='daily_sales_report', parameters={'day': '2023-09-28'}), outputs=[{'date': '2023-09-28', 'summary': 'Total Sales Amount: 5000, Total Units Sold: 100'}])] role='TOOL' \n",
      "\n",
      "message='On 28 September 2023, the total sales amount was 5,000 and the total number of units sold was 100.' tool_calls=None role='CHATBOT' \n",
      "\n",
      "message='How many units were sold over both days' tool_calls=None role='USER' \n",
      "\n",
      "message=None tool_calls=[ToolCall(name='daily_sales_report', parameters={'day': '2023-09-29'}), ToolCall(name='daily_sales_report', parameters={'day': '2023-09-28'})] role='CHATBOT' \n",
      "\n",
      "tool_results=[ToolResult(call=ToolCall(name='daily_sales_report', parameters={'day': '2023-09-29'}), outputs=[{'date': '2023-09-29', 'summary': 'Total Sales Amount: 10000, Total Units Sold: 250'}]), ToolResult(call=ToolCall(name='daily_sales_report', parameters={'day': '2023-09-28'}), outputs=[{'date': '2023-09-28', 'summary': 'Total Sales Amount: 5000, Total Units Sold: 100'}])] role='TOOL' \n",
      "\n",
      "message='Combined, 28 and 29 September 2023 saw 350 units sold.' tool_calls=None role='CHATBOT' \n",
      "\n"
     ]
    }
   ],
   "source": [
    "# Print chat history\n",
    "for turn in chat_history:\n",
    "    print(turn,\"\\n\")"
   ]
  }
 ],
 "metadata": {
  "kernelspec": {
   "display_name": "base",
   "language": "python",
   "name": "base"
  },
  "language_info": {
   "codemirror_mode": {
    "name": "ipython",
    "version": 3
   },
   "file_extension": ".py",
   "mimetype": "text/x-python",
   "name": "python",
   "nbconvert_exporter": "python",
   "pygments_lexer": "ipython3",
   "version": "3.11.4"
  }
 },
 "nbformat": 4,
 "nbformat_minor": 2
}
