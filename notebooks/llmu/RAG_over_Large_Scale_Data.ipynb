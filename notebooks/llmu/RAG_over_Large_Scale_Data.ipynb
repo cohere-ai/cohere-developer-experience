{
  "cells": [
    {
      "cell_type": "markdown",
      "metadata": {
        "id": "CSKXot1mf3-B"
      },
      "source": [
        "<a target=\"_blank\" href=\"https://colab.research.google.com/github/cohere-ai/notebooks/blob/main/notebooks/llmu/RAG_over_Large_Scale_Data.ipynb\">\n",
        "  <img src=\"https://colab.research.google.com/assets/colab-badge.svg\" alt=\"Open In Colab\"/>\n",
        "</a>"
      ]
    },
    {
      "cell_type": "markdown",
      "metadata": {
        "id": "oBA2WphukTFx"
      },
      "source": [
        "# RAG over Large Scale Data"
      ]
    },
    {
      "cell_type": "markdown",
      "metadata": {
        "id": "TSkzr2WGmeQe"
      },
      "source": [
        "*Note: To run the notebook, you must first deploy your own Google Drive connector as a web-based REST API (the steps are outlined in [this article](https://txt.cohere.com/rag-quickstart-connectors/#build-and-deploy-the-connector)).*"
      ]
    },
    {
      "cell_type": "markdown",
      "metadata": {
        "id": "yOv1E6lBg_Qj"
      },
      "source": [
        "This notebook shows how to build a RAG-powered chatbot with Cohere's Chat endpoint using connectors.\n",
        "\n",
        "Read the accompanying [article here](https://txt.cohere.com/rag-large-scale-data/).\n",
        "\n",
        "In particular, this notebook shows how to use connectors at scale, such as connecting to multiple datastores, working with large volumes of documents, and handling long documents. Enterprises need a RAG system that can efficiently handle vast amounts of data from diverse sources, and in this chapter, you’ll learn about how this can be automated with the Chat endpoint.\n",
        "\n",
        "\n",
        "The diagram below provides an overview of what we’ll build."
      ]
    },
    {
      "cell_type": "markdown",
      "metadata": {},
      "source": [
        "![Workflow](../images/llmu/rag/rag-workflow-5.png)"
      ]
    },
    {
      "cell_type": "markdown",
      "metadata": {
        "id": "3Pq-XH3AkU7e"
      },
      "source": [
        "# Setup"
      ]
    },
    {
      "cell_type": "code",
      "execution_count": null,
      "metadata": {
        "colab": {
          "base_uri": "https://localhost:8080/"
        },
        "id": "ZWaYUe_0kYDx",
        "outputId": "278aa6d9-b784-49e6-d867-ababb7357da9"
      },
      "outputs": [
        {
          "name": "stdout",
          "output_type": "stream",
          "text": [
            "\u001b[2K     \u001b[90m━━━━━━━━━━━━━━━━━━━━━━━━━━━━━━━━━━━━━━━━\u001b[0m \u001b[32m117.2/117.2 kB\u001b[0m \u001b[31m1.2 MB/s\u001b[0m eta \u001b[36m0:00:00\u001b[0m\n",
            "\u001b[2K     \u001b[90m━━━━━━━━━━━━━━━━━━━━━━━━━━━━━━━━━━━━━━━━\u001b[0m \u001b[32m75.6/75.6 kB\u001b[0m \u001b[31m5.4 MB/s\u001b[0m eta \u001b[36m0:00:00\u001b[0m\n",
            "\u001b[2K     \u001b[90m━━━━━━━━━━━━━━━━━━━━━━━━━━━━━━━━━━━━━━━━\u001b[0m \u001b[32m77.8/77.8 kB\u001b[0m \u001b[31m5.3 MB/s\u001b[0m eta \u001b[36m0:00:00\u001b[0m\n",
            "\u001b[2K     \u001b[90m━━━━━━━━━━━━━━━━━━━━━━━━━━━━━━━━━━━━━━━━\u001b[0m \u001b[32m58.3/58.3 kB\u001b[0m \u001b[31m5.2 MB/s\u001b[0m eta \u001b[36m0:00:00\u001b[0m\n",
            "\u001b[?25h"
          ]
        }
      ],
      "source": [
        "! pip install cohere -q"
      ]
    },
    {
      "cell_type": "code",
      "execution_count": 1,
      "metadata": {
        "colab": {
          "base_uri": "https://localhost:8080/",
          "height": 17
        },
        "id": "hmAgCSbGklDC",
        "outputId": "f5435191-a7cd-41b4-c780-f3aebebb38fb"
      },
      "outputs": [],
      "source": [
        "import cohere\n",
        "from cohere import ChatConnector\n",
        "import uuid\n",
        "from typing import List, Dict\n",
        "\n",
        "co = cohere.Client(\"COHERE_API_KEY\") # Get your API key here: https://dashboard.cohere.com/api-keys"
      ]
    },
    {
      "cell_type": "code",
      "execution_count": null,
      "metadata": {},
      "outputs": [],
      "source": [
        "#@title Enable text wrapping in Google Colab\n",
        "\n",
        "from IPython.display import HTML, display\n",
        "\n",
        "def set_css():\n",
        "  display(HTML('''\n",
        "  <style>\n",
        "    pre {\n",
        "        white-space: pre-wrap;\n",
        "    }\n",
        "  </style>\n",
        "  '''))\n",
        "get_ipython().events.register('pre_run_cell', set_css)"
      ]
    },
    {
      "cell_type": "markdown",
      "metadata": {
        "id": "nWu4Im8qkzPL"
      },
      "source": [
        "# Create a chatbot"
      ]
    },
    {
      "cell_type": "markdown",
      "metadata": {
        "id": "UTy19Cknl7VC"
      },
      "source": [
        "The Chatbot class below handles the interaction between the user and chatbot. We define the connector for the chatbot to use with the attribute self.connectors.\n",
        "\n",
        "The run() method contains the logic for getting the user message, displaying the chatbot response with citations, along with a way for the user to end the conversation."
      ]
    },
    {
      "cell_type": "code",
      "execution_count": 5,
      "metadata": {
        "colab": {
          "base_uri": "https://localhost:8080/",
          "height": 17
        },
        "id": "CC6cSdhnkpS-",
        "outputId": "ac6dc379-e0d6-4683-9b49-0d9fcdafd8c2"
      },
      "outputs": [],
      "source": [
        "class Chatbot:\n",
        "    def __init__(self, connectors: List[str]):\n",
        "        \"\"\"\n",
        "        Initializes an instance of the Chatbot class.\n",
        "\n",
        "        \"\"\"\n",
        "        self.conversation_id = str(uuid.uuid4())\n",
        "        self.connectors = [ChatConnector(id=connector) for connector in connectors]\n",
        "\n",
        "    def run(self):\n",
        "        \"\"\"\n",
        "        Runs the chatbot application.\n",
        "\n",
        "        \"\"\"\n",
        "        while True:\n",
        "            # Get the user message\n",
        "            message = input(\"User: \")\n",
        "\n",
        "            # Typing \"quit\" ends the conversation\n",
        "            if message.lower() == \"quit\":\n",
        "                print(\"Ending chat.\")\n",
        "                break\n",
        "            else:                       # If using Google Colab, remove this line to avoid printing the same thing twice\n",
        "              print(f\"User: {message}\") # If using Google Colab, remove this line to avoid printing the same thing twice\n",
        "\n",
        "            # Generate response\n",
        "            response = co.chat_stream(\n",
        "                    message=message,\n",
        "                    model=\"command-r-plus\",\n",
        "                    conversation_id=self.conversation_id,\n",
        "                    connectors=self.connectors,\n",
        "            )\n",
        "\n",
        "            # Print the chatbot response, citations, and documents\n",
        "            print(\"\\nChatbot:\")\n",
        "            citations = []\n",
        "            cited_documents = []\n",
        "\n",
        "            # Display response\n",
        "            for event in response:\n",
        "                if event.event_type == \"text-generation\":\n",
        "                    print(event.text, end=\"\")\n",
        "                elif event.event_type == \"citation-generation\":\n",
        "                    citations.extend(event.citations)\n",
        "                elif event.event_type == \"stream-end\":\n",
        "                    cited_documents = event.response.documents\n",
        "\n",
        "            # Display citations and source documents\n",
        "            if citations:\n",
        "              print(\"\\n\\nCITATIONS:\")\n",
        "              for citation in citations:\n",
        "                print(citation)\n",
        "\n",
        "              print(\"\\nDOCUMENTS:\")\n",
        "              for document in cited_documents:\n",
        "                print({'id': document['id'],\n",
        "                      'text': document.get('text', document.get('snippet', ''))[:50] + '...'}) # \"text\" for Gdrive, \"snippet\" for web search\n",
        "\n",
        "            print(f\"\\n{'-'*100}\\n\")"
      ]
    },
    {
      "cell_type": "markdown",
      "metadata": {
        "id": "oc3dJwGnmLBu"
      },
      "source": [
        "# Run the chatbot"
      ]
    },
    {
      "cell_type": "markdown",
      "metadata": {
        "id": "AAULHBu3mMtj"
      },
      "source": [
        "We can now run the chatbot.  For this, we create the instance of `Chatbot` using Cohere's managed web-search connector.  Then we run the chatbot by invoking the `run()` method.\n",
        "\n",
        "The format of each citation is:\n",
        "- `start`: The starting point of a span where one or more documents are referenced\n",
        "- `end`: The ending point of a span where one or more documents are referenced\n",
        "- `text`: The text representing this span\n",
        "- `document_ids`: The IDs of the documents being referenced (`doc_0` being the ID of the first document passed to the `documents` creating parameter in the endpoint call, and so on)"
      ]
    },
    {
      "cell_type": "markdown",
      "metadata": {
        "id": "mxxGVMpxoc6K"
      },
      "source": [
        "The Chat endpoint can accept multiple connectors and retrieve information from all the defined connectors."
      ]
    },
    {
      "cell_type": "code",
      "execution_count": 6,
      "metadata": {
        "colab": {
          "base_uri": "https://localhost:8080/",
          "height": 1000
        },
        "id": "4AbIxRVkk9B6",
        "outputId": "49da15ac-7606-48c6-dca6-b3d462a13361"
      },
      "outputs": [
        {
          "name": "stdout",
          "output_type": "stream",
          "text": [
            "User: What is chain of thought prompting\n",
            "\n",
            "Chatbot:\n",
            "Chain-of-Thought (CoT) prompting is a technique used to guide Large Language Models (LLMs) to follow a reasoning process when dealing with complex problems. This is done by providing the model with a few examples where the step-by-step reasoning is clearly laid out. The model is then expected to follow that \"chain of thought\" reasoning to get to the correct answer.\n",
            "\n",
            "CoT prompting is a prompt engineering technique that aims to improve language models' performance on tasks requiring logic, calculation and decision-making by structuring the input prompt in a way that mimics human reasoning.\n",
            "\n",
            "To construct a chain-of-thought prompt, a user typically appends an instruction such as \"Describe your reasoning in steps\" or \"Let's think step by step\" to the end of their query to a large language model (LLM). This encourages the model to generate intermediate steps before providing a final answer.\n",
            "\n",
            "CITATIONS:\n",
            "start=17 end=22 text='(CoT)' document_ids=['web-search_0', 'web-search_1', 'web-search_2', 'web-search_3', 'web-search_5', 'web-search_7', 'web-search_8', 'demo-conn-gdrive-6bfrp6_11', 'demo-conn-gdrive-6bfrp6_12']\n",
            "start=56 end=61 text='guide' document_ids=['web-search_3', 'web-search_4', 'web-search_7']\n",
            "start=62 end=83 text='Large Language Models' document_ids=['web-search_0', 'web-search_2', 'web-search_3', 'web-search_4', 'web-search_5', 'web-search_7', 'demo-conn-gdrive-6bfrp6_11']\n",
            "start=84 end=90 text='(LLMs)' document_ids=['web-search_0', 'web-search_2', 'web-search_3', 'web-search_4', 'web-search_5', 'web-search_7', 'demo-conn-gdrive-6bfrp6_11']\n",
            "start=94 end=120 text='follow a reasoning process' document_ids=['web-search_1', 'web-search_3', 'web-search_4', 'web-search_7']\n",
            "start=139 end=156 text='complex problems.' document_ids=['web-search_3', 'web-search_5', 'web-search_7']\n",
            "start=200 end=212 text='few examples' document_ids=['web-search_1', 'web-search_3', 'web-search_5', 'web-search_7', 'demo-conn-gdrive-6bfrp6_11']\n",
            "start=223 end=266 text='step-by-step reasoning is clearly laid out.' document_ids=['web-search_1', 'web-search_3', 'web-search_4', 'web-search_5', 'web-search_7', 'demo-conn-gdrive-6bfrp6_11']\n",
            "start=297 end=337 text='follow that \"chain of thought\" reasoning' document_ids=['web-search_3', 'web-search_5']\n",
            "start=341 end=367 text='get to the correct answer.' document_ids=['web-search_3', 'web-search_4', 'web-search_5']\n",
            "start=388 end=416 text='prompt engineering technique' document_ids=['web-search_4', 'web-search_5']\n",
            "start=430 end=466 text=\"improve language models' performance\" document_ids=['web-search_4']\n",
            "start=486 end=524 text='logic, calculation and decision-making' document_ids=['web-search_4']\n",
            "start=528 end=556 text='structuring the input prompt' document_ids=['web-search_4']\n",
            "start=571 end=594 text='mimics human reasoning.' document_ids=['web-search_4']\n",
            "start=684 end=718 text='\"Describe your reasoning in steps\"' document_ids=['web-search_4', 'demo-conn-gdrive-6bfrp6_11']\n",
            "start=722 end=748 text='\"Let\\'s think step by step\"' document_ids=['web-search_1', 'web-search_3', 'web-search_5', 'web-search_8', 'demo-conn-gdrive-6bfrp6_11', 'demo-conn-gdrive-6bfrp6_12']\n",
            "start=846 end=864 text='intermediate steps' document_ids=['web-search_0', 'web-search_1', 'web-search_2', 'web-search_3', 'web-search_4', 'web-search_5', 'web-search_7', 'demo-conn-gdrive-6bfrp6_11']\n",
            "\n",
            "DOCUMENTS:\n",
            "{'id': 'web-search_0', 'text': 'Skip to main content\\n\\nWe gratefully acknowledge su...'}\n",
            "{'id': 'web-search_1', 'text': 'General Tips for Designing Prompts\\n\\nChain-of-Thoug...'}\n",
            "{'id': 'web-search_2', 'text': 'BlogDocsCommunityHackAPrompt Playground\\n\\nLanguage ...'}\n",
            "{'id': 'web-search_3', 'text': 'We now support using Microsoft Azure hosted OpenAI...'}\n",
            "{'id': 'web-search_5', 'text': 'Comprehensive Guide to Chain-of-Thought Prompting\\n...'}\n",
            "{'id': 'web-search_7', 'text': 'ResourcesArticleChain-of-Thought Prompting: Helpin...'}\n",
            "{'id': 'web-search_8', 'text': 'Skip to main content\\n\\nScan this QR code to downloa...'}\n",
            "{'id': 'demo-conn-gdrive-6bfrp6_11', 'text': \"\\ufeffConstructing Prompts\\r\\nIn this chapter, you'll lea...\"}\n",
            "{'id': 'demo-conn-gdrive-6bfrp6_12', 'text': \"\\ufeffUse Case Patterns\\r\\nIn this chapter, you'll learn ...\"}\n",
            "{'id': 'web-search_4', 'text': 'Tech Accelerator What is generative AI? Everything...'}\n",
            "\n",
            "----------------------------------------------------------------------------------------------------\n",
            "\n",
            "Ending chat.\n"
          ]
        }
      ],
      "source": [
        "# Define connectors\n",
        "connectors = [\"demo-conn-gdrive-6bfrp6\", \"web-search\"]\n",
        "\n",
        "# Create an instance of the Chatbot class\n",
        "chatbot = Chatbot(connectors)\n",
        "\n",
        "# Run the chatbot\n",
        "chatbot.run()"
      ]
    },
    {
      "cell_type": "markdown",
      "metadata": {
        "id": "13NYOYrOo6Sq"
      },
      "source": [
        "With all these documents coming from various connectors, you may be asking a couple of questions:\n",
        "\n",
        "- **How to handle long documents?** Connecting to multiple connectors means having to deal with various APIs, each with its own way of providing documents. Some may return a complete document with tens or hundreds of pages. There are a couple of problems with this. First, stuffing a long document into an LLM prompt means its context limit will be reached, resulting in an error. Second, even if the context limit is not reached, the LLM response will likely not be very good because it is getting a lot of irrelevant information from a long document instead of specific chunks from the document that are the most relevant.\n",
        "\n",
        "- **How to handle multiple documents from multiple connectors and queries?** For a specific connector, the retrieval and reranking implementation is within the developer’s control. But with multiple connectors, that is not possible because these documents are aggregated at the Chat endpoint. As the number of connectors increases, this becomes a bigger problem because we don’t have control over the relevancy of the documents sent to the LLM prompt. And then there is the same problem of possible context limits being reached. Furthermore, if more than one query is generated, the number of documents retrieved will multiply with the same number.\n",
        "\n",
        "The Chat endpoint solves these problems with its automated chunking and reranking process.\n",
        "\n",
        "Note that for this to happen, the `prompt_truncation` parameter should be set as `AUTO` (default) and not `OFF`."
      ]
    },
    {
      "cell_type": "markdown",
      "metadata": {
        "id": "XPiSsvTtpxuD"
      },
      "source": [
        "# Handling Long and Large Volume of Documents"
      ]
    },
    {
      "cell_type": "markdown",
      "metadata": {
        "id": "IyoETRmZpKIu"
      },
      "source": [
        "### Chunking\n",
        "\n",
        "The command-r family of models supports a large context length (128k tokens), offering ample room for retrieved documents. However, in the scenario where this context length is exceeded, the automated chunking feature will be activated. \n",
        "\n",
        "With every document sent by the connectors, the first step is to split it into smaller chunks. Each chunk is between 100 and 400 words, and sentences are kept intact where possible.\n"
      ]
    },
    {
      "cell_type": "markdown",
      "metadata": {
        "id": "fLtLQE5WpQfv"
      },
      "source": [
        "### Reranking\n",
        "\n",
        "The Chat endpoint then uses the Rerank endpoint to take all the chunked documents from all connectors and rerank them based on contextual relevance to the query."
      ]
    },
    {
      "cell_type": "markdown",
      "metadata": {
        "id": "gBY-iIqGpUl9"
      },
      "source": [
        "### Interleaving\n",
        "\n",
        "The reranked documents from the different lists are then interleaved into one list."
      ]
    },
    {
      "cell_type": "markdown",
      "metadata": {
        "id": "tliT_nBMpbMX"
      },
      "source": [
        "### Prompt building\n",
        "By setting the `prompt_truncation` parameter by setting it to `AUTO`, some elements from chat_history and documents will be dropped in an attempt to construct a prompt that fits within the model's context length limit.\n",
        "Documents and chat history will be iteratively added until the prompt is too long. This prompt will be passed to the Command model for response generation.\n"
      ]
    },
    {
      "cell_type": "code",
      "execution_count": null,
      "metadata": {
        "id": "usAY26Q-pJKr"
      },
      "outputs": [],
      "source": []
    }
  ],
  "metadata": {
    "colab": {
      "provenance": []
    },
    "kernelspec": {
      "display_name": "Python 3",
      "name": "python3"
    },
    "language_info": {
      "codemirror_mode": {
        "name": "ipython",
        "version": 3
      },
      "file_extension": ".py",
      "mimetype": "text/x-python",
      "name": "python",
      "nbconvert_exporter": "python",
      "pygments_lexer": "ipython3",
      "version": "3.11.4"
    }
  },
  "nbformat": 4,
  "nbformat_minor": 0
}
