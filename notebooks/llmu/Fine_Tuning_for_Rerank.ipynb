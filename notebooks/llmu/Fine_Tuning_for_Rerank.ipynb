{
 "cells": [
  {
   "cell_type": "markdown",
   "id": "060191b1",
   "metadata": {
    "id": "060191b1"
   },
   "source": [
    "# Fine-Tuning for Rerank\n",
    "\n",
    "Cohere's Rerank endpoint is a sophisticated semantic relevance scoring and ranking system that optimizes search results by evaluating the contextual relationship between queries and passages.\n",
    "\n",
    "However, complex domains are a special challenge due to their intricate terminology, context, and domain-specific knowledge requirements. These domains include legal documents, medical research papers, scientific literature, technical manuals, developer documentation, code, financial reports, and other fields that demand a deep understanding of specific jargon and intricate concepts. These domains often necessitate fine-tuning on custom data to ensure the models capture the nuances and expertise essential for accurate comprehension.\n",
    "\n",
    "To understand the importance of domain-specific training, we will work with a code example utilizing a dataset in the legal domain. You'll see how fine-tuning can dramatically increase model accuracy."
   ]
  },
  {
   "cell_type": "markdown",
   "id": "09d21f23",
   "metadata": {
    "id": "09d21f23"
   },
   "source": [
    "## Overview\n",
    "\n",
    "We'll do the following steps:\n",
    "- **Step 1: Prepare the Dataset** - Download the dataset, select a subset, and prepare it for the Rerank endpoint.\n",
    "- **Step 2: Assess the Pre-Trained Model** - Calculate the test accuracy of the pre-trained model.\n",
    "- **Step 3: Fine-Tune the Model** - Kick off a fine-tuning job, and confirm when the model has completed training.\n",
    "- **Step 4: Evaluate the Fine-Tuned Model** - Evaluate the fine-tuned model's performance on the test dataset.\n",
    "\n",
    "## Setup\n",
    "\n",
    "We'll start by installing the tools we'll need and then importing them."
   ]
  },
  {
   "cell_type": "code",
   "execution_count": 1,
   "id": "2d454a21",
   "metadata": {
    "colab": {
     "base_uri": "https://localhost:8080/"
    },
    "id": "2d454a21",
    "outputId": "e1e55d7a-ba32-4456-d0eb-0ee301ee808c"
   },
   "outputs": [],
   "source": [
    "! pip install cohere jsonlines datasets -q"
   ]
  },
  {
   "cell_type": "code",
   "execution_count": 2,
   "id": "58778a78",
   "metadata": {
    "id": "58778a78"
   },
   "outputs": [],
   "source": [
    "import os\n",
    "import cohere\n",
    "import json\n",
    "import jsonlines\n",
    "import pandas as pd\n",
    "from sklearn.model_selection import train_test_split\n",
    "from datasets import load_dataset"
   ]
  },
  {
   "cell_type": "markdown",
   "id": "53fef793",
   "metadata": {
    "id": "53fef793"
   },
   "source": [
    "Fill in your Cohere API key in the next cell. To do this, begin by [signing up to Cohere](https://os.cohere.ai/) (for free!) if you haven't yet. Then get your API key [here](https://dashboard.cohere.com/api-keys)."
   ]
  },
  {
   "cell_type": "code",
   "execution_count": 3,
   "id": "1e511ab6",
   "metadata": {
    "id": "1e511ab6"
   },
   "outputs": [],
   "source": [
    "# Paste your API key here. Remember to not share publicly\n",
    "co = cohere.Client(\"COHERE_API_KEY\")"
   ]
  },
  {
   "cell_type": "markdown",
   "id": "6188f278",
   "metadata": {
    "id": "6188f278"
   },
   "source": [
    "## Step 1: Prepare the Dataset\n",
    "\n",
    "We begin by downloading [the CaseHOLD dataset](https://huggingface.co/datasets/casehold/casehold) from Hugging Face. CaseHOLD is a multiple choice Q&A task consisting of legal decisions referencing other decisions as precedents, called a holding statement. It's a challenging task that demands specialized legal expertise to solve.\n",
    "\n",
    "<img src=\"https://cohere.com/_next/image?url=https%3A%2F%2Fcohere-ai.ghost.io%2Fcontent%2Fimages%2F2023%2F09%2FUntitled.png&w=3840&q=75\">\n",
    "\n",
    "We define it as an [IterableDataset](https://huggingface.co/docs/datasets/en/about_mapstyle_vs_iterable) to load only a small fraction of examples at a time and avoid loading the entire dataset in memory."
   ]
  },
  {
   "cell_type": "code",
   "execution_count": 4,
   "id": "45c7f8e0",
   "metadata": {
    "id": "45c7f8e0"
   },
   "outputs": [],
   "source": [
    "iterable_dataset = load_dataset(\"casehold/casehold\", split=\"train\", streaming=True, trust_remote_code=True)"
   ]
  },
  {
   "cell_type": "markdown",
   "id": "cdc0f31d",
   "metadata": {
    "id": "cdc0f31d"
   },
   "source": [
    "For this example, we'll use a subset of only 420 data points, to be split across training, validation and test sets.\n",
    "\n",
    "The data is stored in a Pandas DataFrame `df` with 5 columns:\n",
    "- `\"query\"` - The search query or question (in the image above, this corresponds to the \"citing text\" or \"prompt\")\n",
    "- `\"docs\"` - A list of five documents, where only one correctly answers the query (in the image above, all five \"holding statements\")\n",
    "- `\"label\"` - The index of the document that correctly answers the query (in the example in the image above, would be \"0\", corresponding to holding statement 0)\n",
    "- `\"relevant_passages\"` - The document that correctly answers the query\n",
    "- `\"hard_negatives\"`- The four documents that don't correctly answer the query"
   ]
  },
  {
   "cell_type": "code",
   "execution_count": 5,
   "id": "ad4f4077",
   "metadata": {
    "colab": {
     "base_uri": "https://localhost:8080/",
     "height": 293
    },
    "id": "ad4f4077",
    "outputId": "05f55617-e671-4220-e4d1-50c7125309ff"
   },
   "outputs": [
    {
     "data": {
      "text/html": [
       "<div>\n",
       "<style scoped>\n",
       "    .dataframe tbody tr th:only-of-type {\n",
       "        vertical-align: middle;\n",
       "    }\n",
       "\n",
       "    .dataframe tbody tr th {\n",
       "        vertical-align: top;\n",
       "    }\n",
       "\n",
       "    .dataframe thead th {\n",
       "        text-align: right;\n",
       "    }\n",
       "</style>\n",
       "<table border=\"1\" class=\"dataframe\">\n",
       "  <thead>\n",
       "    <tr style=\"text-align: right;\">\n",
       "      <th></th>\n",
       "      <th>query</th>\n",
       "      <th>docs</th>\n",
       "      <th>label</th>\n",
       "      <th>relevant_passages</th>\n",
       "      <th>hard_negatives</th>\n",
       "    </tr>\n",
       "  </thead>\n",
       "  <tbody>\n",
       "    <tr>\n",
       "      <th>0</th>\n",
       "      <td>Drapeau’s cohorts, the cohort would be a “vict...</td>\n",
       "      <td>[holding that possession of a pipe bomb is a c...</td>\n",
       "      <td>0</td>\n",
       "      <td>[holding that possession of a pipe bomb is a c...</td>\n",
       "      <td>[holding that bank robbery by force and violen...</td>\n",
       "    </tr>\n",
       "    <tr>\n",
       "      <th>1</th>\n",
       "      <td>Colameta used customer information that he too...</td>\n",
       "      <td>[recognizing that even if a plaintiff claims c...</td>\n",
       "      <td>1</td>\n",
       "      <td>[holding that included among trade secrets emp...</td>\n",
       "      <td>[recognizing that even if a plaintiff claims c...</td>\n",
       "    </tr>\n",
       "    <tr>\n",
       "      <th>2</th>\n",
       "      <td>property tax sale. In reviewing section 6323(b...</td>\n",
       "      <td>[holding that where there is a conflict betwee...</td>\n",
       "      <td>4</td>\n",
       "      <td>[holding that a specific statutory provision p...</td>\n",
       "      <td>[holding that where there is a conflict betwee...</td>\n",
       "    </tr>\n",
       "    <tr>\n",
       "      <th>3</th>\n",
       "      <td>They also rely on Oswego Laborers’ Local 214 P...</td>\n",
       "      <td>[holding that plaintiff stated a  349 claim wh...</td>\n",
       "      <td>0</td>\n",
       "      <td>[holding that plaintiff stated a  349 claim wh...</td>\n",
       "      <td>[holding that plaintiff stated a claim for bre...</td>\n",
       "    </tr>\n",
       "    <tr>\n",
       "      <th>4</th>\n",
       "      <td>did not affect the defendant’s guideline range...</td>\n",
       "      <td>[holding that united states v booker 543 us 22...</td>\n",
       "      <td>3</td>\n",
       "      <td>[holding that united states v booker 543 us 22...</td>\n",
       "      <td>[holding that united states v booker 543 us 22...</td>\n",
       "    </tr>\n",
       "  </tbody>\n",
       "</table>\n",
       "</div>"
      ],
      "text/plain": [
       "                                               query  \\\n",
       "0  Drapeau’s cohorts, the cohort would be a “vict...   \n",
       "1  Colameta used customer information that he too...   \n",
       "2  property tax sale. In reviewing section 6323(b...   \n",
       "3  They also rely on Oswego Laborers’ Local 214 P...   \n",
       "4  did not affect the defendant’s guideline range...   \n",
       "\n",
       "                                                docs  label  \\\n",
       "0  [holding that possession of a pipe bomb is a c...      0   \n",
       "1  [recognizing that even if a plaintiff claims c...      1   \n",
       "2  [holding that where there is a conflict betwee...      4   \n",
       "3  [holding that plaintiff stated a  349 claim wh...      0   \n",
       "4  [holding that united states v booker 543 us 22...      3   \n",
       "\n",
       "                                   relevant_passages  \\\n",
       "0  [holding that possession of a pipe bomb is a c...   \n",
       "1  [holding that included among trade secrets emp...   \n",
       "2  [holding that a specific statutory provision p...   \n",
       "3  [holding that plaintiff stated a  349 claim wh...   \n",
       "4  [holding that united states v booker 543 us 22...   \n",
       "\n",
       "                                      hard_negatives  \n",
       "0  [holding that bank robbery by force and violen...  \n",
       "1  [recognizing that even if a plaintiff claims c...  \n",
       "2  [holding that where there is a conflict betwee...  \n",
       "3  [holding that plaintiff stated a claim for bre...  \n",
       "4  [holding that united states v booker 543 us 22...  "
      ]
     },
     "execution_count": 5,
     "metadata": {},
     "output_type": "execute_result"
    }
   ],
   "source": [
    "# Size of data subset\n",
    "num_examples = 420\n",
    "\n",
    "# Labels for columns containing the 5 documents in raw dataset file\n",
    "all_labels = [\"holding_\" + s for s in [\"0\", \"1\", \"2\", \"3\", \"4\"]]\n",
    "\n",
    "# Instantiate list containing the data\n",
    "d = []\n",
    "\n",
    "# Store each dataset entry as dictionary within Python list\n",
    "for example in iterable_dataset.take(num_examples):\n",
    "    selected_passage_idx = \"holding_{}\".format(example[\"label\"])\n",
    "    hard_negatives_idx = [x for x in all_labels if x != selected_passage_idx]\n",
    "    d.append(\n",
    "        {\n",
    "            'query': example[\"citing_prompt\"],\n",
    "            'docs': [example.get(key) for key in all_labels],\n",
    "            'label': int(example[\"label\"]),\n",
    "            'relevant_passages': [example[selected_passage_idx]],\n",
    "            'hard_negatives': [example.get(key) for key in hard_negatives_idx]\n",
    "        }\n",
    "    )\n",
    "\n",
    "# Convert list to Pandas dataframe, preview the dataframe\n",
    "df = pd.DataFrame(d)\n",
    "df.head()"
   ]
  },
  {
   "cell_type": "markdown",
   "id": "9ff54b7c",
   "metadata": {
    "id": "9ff54b7c"
   },
   "source": [
    "We next split the data into training, validation, and test sets."
   ]
  },
  {
   "cell_type": "code",
   "execution_count": 6,
   "id": "ee4b9053",
   "metadata": {
    "colab": {
     "base_uri": "https://localhost:8080/"
    },
    "id": "ee4b9053",
    "outputId": "71e3ce6f-68f7-4567-b3f6-696a79eaf43a"
   },
   "outputs": [
    {
     "name": "stdout",
     "output_type": "stream",
     "text": [
      "Size of training set: 256\n",
      "Size of validation set: 154\n",
      "Size of test set: 10\n"
     ]
    }
   ],
   "source": [
    "# Set number of examples for train-valid-test split\n",
    "train_num = 256\n",
    "valid_num = 154\n",
    "test_num = 10\n",
    "\n",
    "# Do train-validation-test split\n",
    "df_train = df[:train_num].copy()\n",
    "df_valid = df[train_num:train_num+valid_num].copy()\n",
    "df_test = df[train_num+valid_num:].copy()\n",
    "\n",
    "print('Size of training set:', len(df_train))\n",
    "print('Size of validation set:', len(df_valid))\n",
    "print('Size of test set:', len(df_test))"
   ]
  },
  {
   "cell_type": "markdown",
   "id": "723e4906",
   "metadata": {
    "id": "723e4906"
   },
   "source": [
    "## Step 2: Assess the Pre-Trained Model\n",
    "\n",
    "We'll now check the test accuracy of the pre-trained model. The `get_prediction()` function looks at a test example and uses the pre-trained model to predict the index of the document that it believes correctly answers the query.\n",
    "\n",
    "To get predictions, we'll use the [`rerank()` method](https://docs.cohere.com/reference/rerank-1) of the Cohere client and supply four arguments:\n",
    "- `model` - We will use [`rerank-english-v3.0`](https://docs.cohere.com/docs/rerank-2), Cohere's newest and most powerful pre-trained model for re-ranking English language documents\n",
    "- `query` - The search query or question\n",
    "- `documents` - List of documents to choose from\n",
    "- `top_n` - Number of documents to return"
   ]
  },
  {
   "cell_type": "code",
   "execution_count": 7,
   "id": "a6cc999d",
   "metadata": {
    "id": "a6cc999d"
   },
   "outputs": [],
   "source": [
    "# Predict index of document that corrrectly answers query\n",
    "def get_prediction(item, model=\"rerank-english-v3.0\"):\n",
    "    response = co.rerank(model=model,\n",
    "                         query=item[\"query\"],\n",
    "                         documents=item[\"docs\"],\n",
    "                         top_n=1)\n",
    "    prediction = response.results[0].index\n",
    "    return prediction"
   ]
  },
  {
   "cell_type": "markdown",
   "id": "a49c3012",
   "metadata": {
    "id": "a49c3012"
   },
   "source": [
    "We apply this function to every row in the test set and save the predictions in new column `\"baseline_prediction\"`. Then, to calculate the test accuracy, we compare the predictions to the ground truth labels in the `\"label\"` column."
   ]
  },
  {
   "cell_type": "code",
   "execution_count": 8,
   "id": "c038e0c0",
   "metadata": {
    "id": "c038e0c0",
    "outputId": "d9c3f41e-9122-40b0-e70f-ea1cddfa98b3"
   },
   "outputs": [
    {
     "name": "stdout",
     "output_type": "stream",
     "text": [
      "Baseline accuracy: 0.6\n"
     ]
    }
   ],
   "source": [
    "# Calculate pre-trained model's test accuracy\n",
    "df_test[\"baseline_prediction\"] = df_test.apply(get_prediction, axis=1)\n",
    "print(\"Baseline accuracy:\", sum(df_test[\"baseline_prediction\"] == df_test[\"label\"])/len(df_test))"
   ]
  },
  {
   "cell_type": "markdown",
   "id": "64427505",
   "metadata": {
    "id": "64427505"
   },
   "source": [
    "The pre-trained model gets 60% accuracy, which isn't bad!  But we can do better with fine-tuning.\n",
    "\n",
    "## Step 3: Fine-Tune the Model\n",
    "\n",
    "To prepare for fine-tuning with the Rerank endpoint, we'll need to convert the data to jsonl format, where each row is an example with three items:\n",
    "- `\"query\"` - The search query or question\n",
    "- `\"relevant_passages\"` - The document that correctly answers the query\n",
    "- `\"hard_negatives\"`- The four documents that incorrectly answer the query\n",
    "\n",
    "We do this separately for training and validation data. You can learn more about preparing the Rerank fine-tuning data in [the documentation](https://docs.cohere.com/docs/rerank-preparing-the-data)."
   ]
  },
  {
   "cell_type": "code",
   "execution_count": 9,
   "id": "203e0995",
   "metadata": {
    "id": "203e0995"
   },
   "outputs": [],
   "source": [
    "# Arranges the data to suit Cohere's format\n",
    "def create_rerank_ft_data(query, relevant_passages, hard_negatives):\n",
    "    formatted_data = {\n",
    "        \"query\": query,\n",
    "        \"relevant_passages\": relevant_passages,\n",
    "        \"hard_negatives\": hard_negatives\n",
    "    }\n",
    "    return formatted_data\n",
    "\n",
    "# Creates jsonl file if does not already exist\n",
    "def create_jsonl_from_list(file_name, df):\n",
    "    path = f'{file_name}.jsonl'\n",
    "    if not os.path.isfile(path):\n",
    "        with open(path, 'w+') as file:\n",
    "            for idx, row in df.iterrows():\n",
    "                formatted_data = create_rerank_ft_data(row[\"query\"], row[\"relevant_passages\"], row[\"hard_negatives\"])\n",
    "                file.write(json.dumps(formatted_data) + '\\n')\n",
    "            file.close()\n",
    "\n",
    "# Create training and validation jsonl files\n",
    "create_jsonl_from_list(\"casehold_train\", df_train)\n",
    "create_jsonl_from_list(\"casehold_valid\", df_valid)"
   ]
  },
  {
   "cell_type": "markdown",
   "id": "9d12485b",
   "metadata": {
    "id": "9d12485b"
   },
   "source": [
    "Next, we preview the first couple lines of the training file."
   ]
  },
  {
   "cell_type": "code",
   "execution_count": 10,
   "id": "104016d2",
   "metadata": {
    "id": "104016d2",
    "outputId": "e4467558-b2c7-446f-ac18-caa203d6f7f9"
   },
   "outputs": [
    {
     "name": "stdout",
     "output_type": "stream",
     "text": [
      "{'query': \"Drapeau’s cohorts, the cohort would be a “victim” of making the bomb. Further, firebombs are inherently dangerous. There is no peaceful purpose for making a bomb. Felony offenses that involve explosives qualify as “violent crimes” for purposes of enhancing the sentences of career offenders. See 18 U.S.C. § 924(e)(2)(B)(ii) (defining a “violent felony” as: “any crime punishable by imprisonment for a term exceeding one year ... that ... involves use of explosives”). Courts have found possession of a'bomb to be a crime of violence based on the lack of a nonviolent purpose for a bomb and the fact that, by its very nature, there is a substantial risk that the bomb would be used against the person or property of another. See United States v. Newman, 125 F.3d 863 (10th Cir.1997) (unpublished) (<HOLDING>); United States v. Dodge, 846 F.Supp. 181,\", 'relevant_passages': ['holding that possession of a pipe bomb is a crime of violence for purposes of 18 usc  3142f1'], 'hard_negatives': ['holding that bank robbery by force and violence or intimidation under 18 usc  2113a is a crime of violence', 'holding that sexual assault of a child qualified as crime of violence under 18 usc  16', 'holding for the purposes of 18 usc  924e that being a felon in possession of a firearm is not a violent felony as defined in 18 usc  924e2b', 'holding that a court must only look to the statutory definition not the underlying circumstances of the crime to determine whether a given offense is by its nature a crime of violence for purposes of 18 usc  16']}\n",
      "{'query': 'Colameta used customer information that he took from Protégé. Additionally, Colameta admits to having taken at least two Protégé proposals with him to Monument. This type of information may constitute trade secrets. See G.L.c. 266, §30 (defining “trade secret” as used in G.L.c. 93, §42, as including “anything tangible or intangible or electronically kept or stored, which constitutes, represents, evidences or records a secret scientific, technical, merchandising, production or management information, design, process, procedure, formula, invention or improvement”); Warner-Lambert Co., 427 Mass. at 49 (“ [Confidential and proprietary business information may be entitled to protection, even if such information cannot claim trade secret protection”); see, e.g., Augat, Inc., 409 Mass. at 173 (<HOLDING>). “Matters of public knowledge or of general', 'relevant_passages': ['holding that included among trade secrets employee may not appropriate from employer is certain information such as lists of customers'], 'hard_negatives': ['recognizing that even if a plaintiff claims certain information constitutes trade secrets its claim may not depend on that determination', 'holding that supplier lists can be trade secrets under indianas uniform trade secrets act which uses the same definition of a trade secret as montana', 'recognizing that customer lists may be protectable trade secrets', 'recognizing a legitimate need to protect an employee from disclosing an employers trade secrets or other confidential information to a competitor']}\n"
     ]
    }
   ],
   "source": [
    "# List the first 2 items in the training jsonl file\n",
    "with jsonlines.open('casehold_train.jsonl') as f:\n",
    "    [print(line) for _, line in zip(range(2), f)]"
   ]
  },
  {
   "cell_type": "markdown",
   "id": "c6e291f0",
   "metadata": {
    "id": "c6e291f0"
   },
   "source": [
    "We kick off a fine-tuning job by navigating to the fine-tuning tab of the Dashboard. Under \"Rerank\", click on \"Create a Rerank model\".\n",
    "\n",
    "<img src=\"https://files.readme.io/48dad78-cohere_dashboard.png\">\n",
    "\n",
    "Next, upload the .jsonl files you just created as the training and validation sets by clicking on the \"TRAINING SET\" and \"VALIDATION SET\" buttons. When ready, click on \"Review data\" to proceed to the next step.\n",
    "\n",
    "<img src=\"https://files.readme.io/4522c16-rerank-review-data.png\">\n",
    "\n",
    "Then, you'll see a preview of how the model will ingest your data. If anything is wrong with the data, the page will also provide suggested changes to fix the training file. Otherwise, if everything looks good, you can proceed to the next step.\n",
    "\n",
    "<img src=\"https://files.readme.io/3becc26-rerank-create-finetune.png\">\n",
    "\n",
    "Finally, you'll provide a nickname for your model. We used `casehold-rerank-ft` as the nickname for our model. This page also allows you to provide custom values for the hyperparameters used during training, but we'll keep them at the default values for now.\n",
    "\n",
    "<img src=\"https://files.readme.io/ea79369-casehold-rerank-ft.png\">\n",
    "\n",
    "Once you have filled in a name, click on \"Start training\" to kick off the fine-tuning process. This will navigate you to a page where you can monitor the status of the model. A model that has finished fine-tuning will show the status as `READY`.\n",
    "\n",
    "<img src=\"https://files.readme.io/eb7d390-rerank_ready.png\">"
   ]
  },
  {
   "cell_type": "markdown",
   "id": "71fa23b6",
   "metadata": {
    "id": "71fa23b6"
   },
   "source": [
    "## Step 4: Evaluate the Fine-Tuned Model\n",
    "\n",
    "Once the model has completed the fine-tuning process, it’s time to evaluate its performance.\n",
    "\n",
    "Navigate to the API tab of the fine-tuned model. There, you'll see the model ID that you should use when calling `co.rerank()`.\n",
    "\n",
    "<img src=\"https://files.readme.io/2d7ffbc-rerank-call-model.png\">\n",
    "\n",
    "In the following code, we calculate the test accuracy of the fine-tuned model. We use the same `get_prediction()` function as before, but now just need to pass in the fine-tuned model ID."
   ]
  },
  {
   "cell_type": "code",
   "execution_count": 11,
   "id": "cfa4c1dc",
   "metadata": {
    "colab": {
     "base_uri": "https://localhost:8080/"
    },
    "id": "cfa4c1dc",
    "outputId": "100ce912-180c-4ab7-8fee-5af71e83ab2d"
   },
   "outputs": [
    {
     "name": "stdout",
     "output_type": "stream",
     "text": [
      "Fine-tune accuracy: 0.8\n"
     ]
    }
   ],
   "source": [
    "# Calculate fine-tuned model's test accuracy\n",
    "df_test['ft_prediction'] = df_test.apply(get_prediction, model='9f22e08a-f1ab-4cee-9524-607dcb08c954-ft', axis=1)\n",
    "print(\"Fine-tune accuracy:\", sum(df_test[\"ft_prediction\"] == df_test[\"label\"])/len(df_test))"
   ]
  },
  {
   "cell_type": "markdown",
   "id": "a39d88a5",
   "metadata": {
    "id": "a39d88a5"
   },
   "source": [
    "Remember the pre-trained model had an accuracy of 60%, and so a test accuracy of 80% is a strong level of improvment. Note that for simplicity, this notebook uses a very small dataset, with only ten examples in the test set. But if you can use the same process detailed here to fine-tune Rerank for a much larger dataset."
   ]
  }
 ],
 "metadata": {
  "colab": {
   "provenance": []
  },
  "kernelspec": {
   "display_name": "Python 3 (ipykernel)",
   "language": "python",
   "name": "python3"
  },
  "language_info": {
   "codemirror_mode": {
    "name": "ipython",
    "version": 3
   },
   "file_extension": ".py",
   "mimetype": "text/x-python",
   "name": "python",
   "nbconvert_exporter": "python",
   "pygments_lexer": "ipython3",
   "version": "3.11.5"
  }
 },
 "nbformat": 4,
 "nbformat_minor": 5
}
