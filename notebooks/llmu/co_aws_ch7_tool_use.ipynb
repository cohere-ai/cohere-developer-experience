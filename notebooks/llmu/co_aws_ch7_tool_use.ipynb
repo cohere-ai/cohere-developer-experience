{
 "cells": [
  {
   "cell_type": "markdown",
   "metadata": {},
   "source": [
    "<a target=\"_blank\" href=\"https://colab.research.google.com/github/cohere-ai/notebooks/blob/main/notebooks/llmu/co_aws_ch7_tool_use.ipynb\"> <img src=\"https://colab.research.google.com/assets/colab-badge.svg\" alt=\"Open In Colab\"/>"
   ]
  },
  {
   "cell_type": "markdown",
   "metadata": {},
   "source": [
    "# Text Generation Using Cohere Command on Amazon Bedrock"
   ]
  },
  {
   "cell_type": "markdown",
   "metadata": {},
   "source": [
    "Tool use extends the ideas in RAG by making it possible to build applications that not only can answer questions but can also automate tasks.\n",
    "\n",
    "With a tool use approach, external systems are used to guide an LLM’s response, but by leveraging a much bigger set of tools than what’s possible with RAG. The concept of tool use expands on LLMs' useful feature of being able to act as a reasoning and decision-making engine. Tool use also enables developers to build applications that can take actions, that is, capable of doing both read and write operations on an external system.\n",
    "\n",
    "In this notebook, we'll see how to build an application that leverages tool use. We’ll use Cohere's Command R+ model on Amazon Bedrock. We'll build an onboarding assistant that helps new hires to a fictitious company called Co1t get set up in their first week. The assistant can help answer user questions about the company, search for information from e-mails, and create meeting appointments."
   ]
  },
  {
   "cell_type": "markdown",
   "metadata": {},
   "source": [
    "# Setup"
   ]
  },
  {
   "cell_type": "markdown",
   "metadata": {},
   "source": [
    "First, let's install and import the necessary libraries and set up our Cohere client using the cohere SDK. To use Bedrock, we create a BedrockClient by passing the necessary AWS credentials."
   ]
  },
  {
   "cell_type": "code",
   "execution_count": null,
   "metadata": {},
   "outputs": [],
   "source": [
    "! pip install cohere -q"
   ]
  },
  {
   "cell_type": "code",
   "execution_count": null,
   "metadata": {},
   "outputs": [],
   "source": [
    "import cohere\n",
    "\n",
    "# Create Bedrock client via the native Cohere SDK\n",
    "# Contact your AWS administrator for the credentials\n",
    "co = cohere.BedrockClient(\n",
    "    aws_region=\"YOUR_AWS_REGION\",\n",
    "    aws_access_key=\"YOUR_AWS_ACCESS_KEY_ID\",\n",
    "    aws_secret_key=\"YOUR_AWS_SECRET_ACCESS_KEY\",\n",
    "    aws_session_token=\"YOUR_AWS_SESSION_TOKEN\",\n",
    ")"
   ]
  },
  {
   "cell_type": "markdown",
   "metadata": {},
   "source": [
    "# Set up the tools"
   ]
  },
  {
   "cell_type": "markdown",
   "metadata": {},
   "source": [
    "The pre-requisite, before we can run a tool use workflow, is to set up the tools. Let's create three tools. Here, we are defining a Python function for each tool, but more broadly, the tool can be any function or service that can receive and send objects."
   ]
  },
  {
   "cell_type": "code",
   "execution_count": 4,
   "metadata": {},
   "outputs": [],
   "source": [
    "def search_faqs(query):\n",
    "    faqs = [\n",
    "    {\"text\" : \"Submitting Travel Expenses:\\nSubmit your expenses through our user-friendly finance tool.\"},\n",
    "    {\"text\" : \"Side Projects Policy:\\nWe encourage you to explore your passions! Just ensure there's no conflict of interest with our business.\"},\n",
    "    {\"text\" : \"Wellness Benefits:\\nTo promote a healthy lifestyle, we provide gym memberships, on-site yoga classes, and health insurance.\"}\n",
    "    ]\n",
    "    return  {\"faqs\" : faqs}\n",
    "\n",
    "def search_emails(query):\n",
    "    emails = [\n",
    "    {\"from\": \"hr@co1t.com\", \"to\": \"david@co1t.com\", \"date\": \"2024-06-24\", \"subject\": \"A Warm Welcome to Co1t, David!\", \"text\": \"We are delighted to have you on board. Please find attached your first week's agenda.\"},\n",
    "    {\"from\": \"it@co1t.com\", \"to\": \"david@co1t.com\", \"date\": \"2024-06-24\", \"subject\": \"Instructions for IT Setup\", \"text\": \"Welcome, David! To get you started, please follow the attached guide to set up your work accounts.\"},\n",
    "    {\"from\": \"john@co1t.com\", \"to\": \"david@co1t.com\", \"date\": \"2024-06-24\", \"subject\": \"First Week Check-In\", \"text\": \"Hi David, let's chat briefly tomorrow to discuss your first week. Also, come join us for lunch this Thursday at noon to meet everyone!\"},\n",
    "    ]\n",
    "    return  {\"emails\" : emails}\n",
    "    \n",
    "def create_calendar_event(date: str, time: str, duration: int):\n",
    "    # You can implement any logic here\n",
    "    return {\"is_success\": True,\n",
    "            \"message\": f\"Created a {duration} hour long event at {time} on {date}\"}\n",
    "    \n",
    "functions_map = {\n",
    "    \"search_faqs\": search_faqs,\n",
    "    \"search_emails\": search_emails,\n",
    "    \"create_calendar_event\": create_calendar_event\n",
    "}"
   ]
  },
  {
   "cell_type": "markdown",
   "metadata": {},
   "source": [
    "The next step is to define the tool schemas in a format that can be passed to the Chat endpoint. The schema must contain the following fields: `name`, `description`, and `parameter_definitions` in the format shown below."
   ]
  },
  {
   "cell_type": "code",
   "execution_count": 5,
   "metadata": {},
   "outputs": [],
   "source": [
    "tools = [\n",
    "    {\n",
    "      \"name\": \"search_faqs\",\n",
    "      \"description\": \"Given a user query, searches a company's frequently asked questions (FAQs) list and returns the most relevant matches to the query.\",\n",
    "      \"parameter_definitions\": {\n",
    "        \"query\": {\n",
    "          \"description\": \"The query from the user\",\n",
    "          \"type\": \"str\",\n",
    "          \"required\": True\n",
    "        }\n",
    "      }\n",
    "    }, \n",
    "    {\n",
    "      \"name\": \"search_emails\",\n",
    "      \"description\": \"Given a user query, searches a person's emails and returns the most relevant matches to the query.\",\n",
    "      \"parameter_definitions\": {\n",
    "        \"query\": {\n",
    "          \"description\": \"The query from the user\",\n",
    "          \"type\": \"str\",\n",
    "          \"required\": True\n",
    "        }\n",
    "      }\n",
    "    }, \n",
    "    {\n",
    "      \"name\": \"create_calendar_event\",\n",
    "      \"description\": \"Creates a new calendar event of the specified duration at the specified time and date. A new event cannot be created on the same time as an existing event.\",\n",
    "      \"parameter_definitions\": {\n",
    "        \"date\": {\n",
    "          \"description\": \"the date on which the event starts, formatted as mm/dd/yy\",\n",
    "          \"type\": \"str\",\n",
    "          \"required\": True\n",
    "        },\n",
    "        \"time\": {\n",
    "          \"description\": \"the time of the event, formatted using 24h military time formatting\",\n",
    "          \"type\": \"str\",\n",
    "          \"required\": True\n",
    "        },\n",
    "        \"duration\": {\n",
    "          \"description\": \"the number of hours the event lasts for\",\n",
    "          \"type\": \"float\",\n",
    "          \"required\": True\n",
    "        }\n",
    "      }\n",
    "    }\n",
    "]"
   ]
  },
  {
   "cell_type": "markdown",
   "metadata": {},
   "source": [
    "# Run the tool use workflow"
   ]
  },
  {
   "cell_type": "markdown",
   "metadata": {},
   "source": [
    "We can now run the tool use workflow. We can think of a tool use system as consisting of four components:\n",
    "- The user\n",
    "- The application\n",
    "- The LLM\n",
    "- The tools\n",
    "\n",
    "At its most basic, these four components interact in a workflow through four steps:\n",
    "- **Step 1: Get user message** – The LLM gets the user message (via the application)\n",
    "- **Step 2: Generate tool calls** – The LLM makes a decision on the tools to call (if any) and generates - the tool calls\n",
    "- **Step 3: Get tool results** - The tools are executed by the application and the results are sent to the LLM\n",
    "- **Step 4: Generate response and citations** – The LLM generates the response and citations to back to the user\n",
    "\n",
    "Let's create a function called `run_assistant` to implement these steps, and along the way, print out the key events and messages. Optionally, this function also accepts the chat history as an argument to keep the state in a multi-turn conversation. "
   ]
  },
  {
   "cell_type": "code",
   "execution_count": 8,
   "metadata": {},
   "outputs": [],
   "source": [
    "model = \"cohere.command-r-plus-v1:0\"\n",
    "\n",
    "preamble=\"\"\"## Task and Context\n",
    "You are an assistant who assist new employees of Co1t with their first week. You respond to their questions and assist them with their needs. Today is Monday, June 24, 2024\"\"\"\n",
    "\n",
    "def run_assistant(message, chat_history=None):\n",
    "    \n",
    "    if chat_history is None:\n",
    "        chat_history = []\n",
    "    \n",
    "    # Step 1: get user message\n",
    "    print(f\"Question:\\n{message}\")\n",
    "    print(\"=\"*50)\n",
    "\n",
    "    # Step 2: Generate tool calls (if any)    \n",
    "    response = co.chat(\n",
    "        message=message,\n",
    "        model=model,\n",
    "        preamble=preamble,\n",
    "        tools=tools,\n",
    "        chat_history=chat_history\n",
    "    )\n",
    "\n",
    "    while response.tool_calls:\n",
    "        tool_calls = response.tool_calls\n",
    "        \n",
    "        if response.text:\n",
    "            print(\"Tool plan:\")\n",
    "            print(response.text,\"\\n\")\n",
    "        print(\"Tool calls:\")\n",
    "        for call in tool_calls:\n",
    "            print(f\"Tool name: {call.name} | Parameters: {call.parameters}\")\n",
    "        print(\"=\"*50)\n",
    "        \n",
    "        # Step 3: Get tool results\n",
    "        tool_results = []\n",
    "        for tc in tool_calls:\n",
    "            tool_call = {\"name\": tc.name, \"parameters\": tc.parameters}\n",
    "            tool_output = functions_map[tc.name](**tc.parameters)\n",
    "            tool_results.append({\"call\": tool_call, \"outputs\": [tool_output]})\n",
    "        \n",
    "        # Step 4: Generate response and citations                \n",
    "        response = co.chat(\n",
    "            message=\"\",\n",
    "            model=model,\n",
    "            preamble=preamble,\n",
    "            tools=tools,\n",
    "            tool_results=tool_results,\n",
    "            chat_history=response.chat_history\n",
    "        )\n",
    "\n",
    "        chat_history = response.chat_history\n",
    "        \n",
    "    # Print final response\n",
    "    print(\"RESPONSE:\\n\")\n",
    "    print(response.text)\n",
    "    print(\"=\"*50)\n",
    "    \n",
    "    # Print citations (if any)\n",
    "    if response.citations:\n",
    "        print(\"\\nCITATIONS:\\n\")\n",
    "        for citation in response.citations:\n",
    "            print(citation)\n",
    "\n",
    "        print(\"\\nCITED REFERENCES:\\n\")\n",
    "        for document in response.documents:\n",
    "            print(document)\n",
    "                \n",
    "    return chat_history"
   ]
  },
  {
   "cell_type": "markdown",
   "metadata": {},
   "source": [
    "## Single-step"
   ]
  },
  {
   "cell_type": "markdown",
   "metadata": {},
   "source": [
    "Cohere supports running tool use in single-step and multi-step modes. In a single-step scenario, the model will make only one round of tool calling. Having said that, within this one round, the model can decide to call multiple tools in parallel. This can be calling the same tool multiple times, calling different tools, or a combination of both.\n",
    "\n",
    "Let’s look at an example of a new hire asking about IT access and travel expensing.\n",
    "\n",
    "Given three tools to choose from, the model is able to pick the right tools (in this case, `search_faqs` and `search_emails`) based on what the user is asking for.\n",
    "\n",
    "Also, notice that the model first generates a plan about what it should do (\"I will do ...\") before actually generating the tool call(s).\n",
    "\n",
    "Additionally, the model also generates fine-grained citations in tool use mode based on the tool results it receives, the same way we saw with RAG."
   ]
  },
  {
   "cell_type": "code",
   "execution_count": 9,
   "metadata": {},
   "outputs": [
    {
     "name": "stdout",
     "output_type": "stream",
     "text": [
      "Question:\n",
      "Any emails about setting up IT access? Also, how do I submit travel expenses?\n",
      "==================================================\n",
      "Tool plan:\n",
      "I will search for emails about setting up IT access and travel expenses. \n",
      "\n",
      "Tool calls:\n",
      "Tool name: search_emails | Parameters: {'query': 'IT access'}\n",
      "Tool name: search_emails | Parameters: {'query': 'travel expenses'}\n",
      "==================================================\n",
      "RESPONSE:\n",
      "\n",
      "You have an email from *it@co1t.com* with the subject \"Instructions for IT Setup\". It contains an attached guide to set up your work accounts. \n",
      "\n",
      "To submit travel expenses, you can send an email to *expenses@co1t.com*.\n",
      "==================================================\n",
      "\n",
      "CITATIONS:\n",
      "\n",
      "start=23 end=35 text='*it@co1t.com' document_ids=['search_emails:0:2:0', 'search_emails:1:2:0']\n",
      "start=54 end=80 text='\"Instructions for IT Setup' document_ids=['search_emails:0:2:0', 'search_emails:1:2:0']\n",
      "start=98 end=141 text='attached guide to set up your work accounts' document_ids=['search_emails:0:2:0', 'search_emails:1:2:0']\n",
      "\n",
      "CITED REFERENCES:\n",
      "\n",
      "{'emails': '[{\"date\":\"2024-06-24\",\"from\":\"hr@co1t.com\",\"subject\":\"A Warm Welcome to Co1t, David!\",\"text\":\"We are delighted to have you on board. Please find attached your first week\\'s agenda.\",\"to\":\"david@co1t.com\"},{\"date\":\"2024-06-24\",\"from\":\"it@co1t.com\",\"subject\":\"Instructions for IT Setup\",\"text\":\"Welcome, David! To get you started, please follow the attached guide to set up your work accounts.\",\"to\":\"david@co1t.com\"},{\"date\":\"2024-06-24\",\"from\":\"john@co1t.com\",\"subject\":\"First Week Check-In\",\"text\":\"Hi David, let\\'s chat briefly tomorrow to discuss your first week. Also, come join us for lunch this Thursday at noon to meet everyone!\",\"to\":\"david@co1t.com\"}]', 'id': 'search_emails:0:2:0', 'tool_name': 'search_emails'}\n",
      "{'emails': '[{\"date\":\"2024-06-24\",\"from\":\"hr@co1t.com\",\"subject\":\"A Warm Welcome to Co1t, David!\",\"text\":\"We are delighted to have you on board. Please find attached your first week\\'s agenda.\",\"to\":\"david@co1t.com\"},{\"date\":\"2024-06-24\",\"from\":\"it@co1t.com\",\"subject\":\"Instructions for IT Setup\",\"text\":\"Welcome, David! To get you started, please follow the attached guide to set up your work accounts.\",\"to\":\"david@co1t.com\"},{\"date\":\"2024-06-24\",\"from\":\"john@co1t.com\",\"subject\":\"First Week Check-In\",\"text\":\"Hi David, let\\'s chat briefly tomorrow to discuss your first week. Also, come join us for lunch this Thursday at noon to meet everyone!\",\"to\":\"david@co1t.com\"}]', 'id': 'search_emails:1:2:0', 'tool_name': 'search_emails'}\n"
     ]
    }
   ],
   "source": [
    "chat_history = run_assistant(\"Any emails about setting up IT access? Also, how do I submit travel expenses?\")"
   ]
  },
  {
   "cell_type": "markdown",
   "metadata": {},
   "source": [
    "## Multi-step"
   ]
  },
  {
   "cell_type": "markdown",
   "metadata": {},
   "source": [
    "Cohere supports running more complex tasks in tool use – tasks that require tool calls to happen in a sequence. This is referred to as \"multi-step\" tool use.\n",
    "\n",
    "To illustrate this, let's ask the assistant to block time for any lunch invites received in the email.\n",
    "\n",
    "Here, we see the assistant running these steps:\n",
    "- First, it calls the search_emails tool to find any lunch invites, which it found one.\n",
    "- Next, it calls the create_calendar_event tool to create an event to block the person's calendar on the day mentioned by the email.\n",
    "\n",
    "This is also an example of tool use enabling a write operation instead of just a read operation that we saw with RAG."
   ]
  },
  {
   "cell_type": "code",
   "execution_count": 10,
   "metadata": {},
   "outputs": [
    {
     "name": "stdout",
     "output_type": "stream",
     "text": [
      "Question:\n",
      "Can you check if there are any lunch invites, and for those days, block an hour on my calendar from 12-1PM.\n",
      "==================================================\n",
      "Tool plan:\n",
      "I will search the user's emails for lunch invites, and then create calendar events for the dates of the invites. \n",
      "\n",
      "Tool calls:\n",
      "Tool name: search_emails | Parameters: {'query': 'lunch invite'}\n",
      "==================================================\n",
      "Tool plan:\n",
      "I have found an email from John inviting David for lunch on Thursday at noon. I will now create a calendar event for this lunch. \n",
      "\n",
      "Tool calls:\n",
      "Tool name: create_calendar_event | Parameters: {'date': '06/27/24', 'duration': 1, 'time': '12:00'}\n",
      "==================================================\n",
      "RESPONSE:\n",
      "\n",
      "I have found an email from John inviting you for lunch on Thursday at noon. I have created a calendar event for this lunch.\n",
      "==================================================\n",
      "\n",
      "CITATIONS:\n",
      "\n",
      "start=16 end=31 text='email from John' document_ids=['search_emails:0:2:0']\n",
      "start=49 end=74 text='lunch on Thursday at noon' document_ids=['search_emails:0:2:0']\n",
      "start=93 end=107 text='calendar event' document_ids=['create_calendar_event:0:4:0']\n",
      "\n",
      "CITED REFERENCES:\n",
      "\n",
      "{'emails': '[{\"date\":\"2024-06-24\",\"from\":\"hr@co1t.com\",\"subject\":\"A Warm Welcome to Co1t, David!\",\"text\":\"We are delighted to have you on board. Please find attached your first week\\'s agenda.\",\"to\":\"david@co1t.com\"},{\"date\":\"2024-06-24\",\"from\":\"it@co1t.com\",\"subject\":\"Instructions for IT Setup\",\"text\":\"Welcome, David! To get you started, please follow the attached guide to set up your work accounts.\",\"to\":\"david@co1t.com\"},{\"date\":\"2024-06-24\",\"from\":\"john@co1t.com\",\"subject\":\"First Week Check-In\",\"text\":\"Hi David, let\\'s chat briefly tomorrow to discuss your first week. Also, come join us for lunch this Thursday at noon to meet everyone!\",\"to\":\"david@co1t.com\"}]', 'id': 'search_emails:0:2:0', 'tool_name': 'search_emails'}\n",
      "{'id': 'create_calendar_event:0:4:0', 'is_success': 'true', 'message': 'Created a 1 hour long event at 12:00 on 06/27/24', 'tool_name': 'create_calendar_event'}\n"
     ]
    }
   ],
   "source": [
    "chat_history = run_assistant(\"Can you check if there are any lunch invites, and for those days, block an hour on my calendar from 12-1PM.\")\n",
    "# Answer: Thursday, June 27, 2024"
   ]
  },
  {
   "cell_type": "markdown",
   "metadata": {},
   "source": [
    "This notebook demonstrated how to use Command R+ on Amazon Bedrock in an application that implements tool use. We covered the steps to create and define the tools, and looked at how tool use works in single-step and multi-step scenarios."
   ]
  },
  {
   "cell_type": "markdown",
   "metadata": {},
   "source": []
  }
 ],
 "metadata": {
  "kernelspec": {
   "display_name": "base",
   "language": "python",
   "name": "base"
  },
  "language_info": {
   "codemirror_mode": {
    "name": "ipython",
    "version": 3
   },
   "file_extension": ".py",
   "mimetype": "text/x-python",
   "name": "python",
   "nbconvert_exporter": "python",
   "pygments_lexer": "ipython3",
   "version": "3.11.4"
  }
 },
 "nbformat": 4,
 "nbformat_minor": 2
}
