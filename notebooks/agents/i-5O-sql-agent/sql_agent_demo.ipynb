{
  "cells": [
    {
      "cell_type": "markdown",
      "metadata": {
        "id": "iqA_uIS_yTQh"
      },
      "source": [
        "# SQL Agent Demo with Cohere and LangChain\n",
        "\n",
        "This tutorial demonstrates how to create a SQL agent using Cohere and LangChain. The agent can translate natural language queries coming from users into SQL, and execute them against a database. This powerful combination allows for intuitive interaction with databases without requiring direct SQL knowledge.\n",
        "\n",
        "Key topics covered:\n",
        "1. Setting up the necessary libraries and environment\n",
        "2. Connecting to a SQLite database\n",
        "3. Configuring the LangChain SQL Toolkit\n",
        "4. Creating a custom prompt template with few-shot examples\n",
        "5. Building and running the SQL agent\n",
        "6. Adding memory to the agent to keep track of historical messages\n",
        "\n",
        "By the end of this tutorial, you'll have a functional SQL agent that can answer questions about your data using natural language.\n",
        "\n",
        "\n",
        "This tutorial uses a mocked up data of a manufacturing environment where a product item's production is tracked across multiple stations, allowing for analysis of production efficiency, station performance, and individual item progress through the manufacturing process. This is modelled after a real customer use case.\n",
        "\n",
        "The database contains two tables:\n",
        "- The `product_tracking` table records the movement of items through different zones in manufacturing stations, including start and end times, station names, and product IDs.\n",
        "- The `status` table logs the operational status of stations, including timestamps, station names, and whether they are productive or in downtime.\n"
      ]
    },
    {
      "cell_type": "markdown",
      "metadata": {
        "id": "_CzR44NcyTQj"
      },
      "source": [
        "**Table of contents**<a id='toc0_'></a>    \n",
        "- [Import the required libraries](#toc1_1_)    \n",
        "- [Load the database](#toc1_2_)    \n",
        "- [Setup the LangChain SQL Toolkit](#toc1_3_)    \n",
        "- [Create a prompt template with few shot examples](#toc1_4_)    \n",
        "- [Create the agent](#toc1_5_)    \n",
        "- [Run the agent](#toc1_6_)    \n",
        "\n",
        "<!-- vscode-jupyter-toc-config\n",
        "\tnumbering=false\n",
        "\tanchor=true\n",
        "\tflat=false\n",
        "\tminLevel=1\n",
        "\tmaxLevel=6\n",
        "\t/vscode-jupyter-toc-config -->\n",
        "<!-- THIS CELL WILL BE REPLACED ON TOC UPDATE. DO NOT WRITE YOUR TEXT IN THIS CELL -->"
      ]
    },
    {
      "cell_type": "markdown",
      "metadata": {
        "id": "yyyBqMYvyTQj"
      },
      "source": [
        "## <a id='toc1_1_'></a>[Import the required libraries](#toc0_)"
      ]
    },
    {
      "cell_type": "markdown",
      "metadata": {
        "id": "OvpMUeiCyTQk"
      },
      "source": [
        "First, let's import the necessary libraries for creating a SQL agent using Cohere and LangChain. These libraries enable natural language interaction with databases and provide tools for building AI-powered agents.\n"
      ]
    },
    {
      "cell_type": "code",
      "execution_count": null,
      "metadata": {
        "id": "zubD6E1Ty5X5"
      },
      "outputs": [],
      "source": [
        "import os\n",
        "\n",
        "os.environ[\"COHERE_API_KEY\"] = \"<cohere-api-key>\""
      ]
    },
    {
      "cell_type": "code",
      "execution_count": null,
      "metadata": {
        "id": "r0IG_1Ecyaqv"
      },
      "outputs": [],
      "source": [
        "! pip install langchain-core langchain-cohere langchain-community faiss-cpu -qq"
      ]
    },
    {
      "cell_type": "code",
      "execution_count": 56,
      "metadata": {
        "id": "2DXDmpwryTQk"
      },
      "outputs": [],
      "source": [
        "from langchain_cohere import create_sql_agent\n",
        "from langchain_cohere.chat_models import ChatCohere\n",
        "from langchain_community.agent_toolkits import SQLDatabaseToolkit\n",
        "from langchain_community.vectorstores import FAISS\n",
        "from langchain_core.example_selectors import SemanticSimilarityExampleSelector\n",
        "from langchain_cohere import CohereEmbeddings\n",
        "from datetime import datetime"
      ]
    },
    {
      "cell_type": "markdown",
      "metadata": {
        "id": "tlfyHsW9yTQl"
      },
      "source": [
        "## <a id='toc1_2_'></a>[Load the database](#toc0_)"
      ]
    },
    {
      "cell_type": "markdown",
      "metadata": {
        "id": "G9sJplHDyTQl"
      },
      "source": [
        "Next, we load the database for our manufacturing data.\n",
        "\n",
        "### Download the sql files from the link below to create the database.\n",
        "\n",
        "We create an in-memory SQLite database using SQL scripts for the `product_tracking` and `status` tables. You can get the [SQL tables here](https://github.com/cohere-ai/notebooks/tree/main/notebooks/agents/i-5O-sql-agent).\n",
        "\n",
        "We then create a SQLDatabase instance, which will be used by our LangChain tools and agents to interact with the data."
      ]
    },
    {
      "cell_type": "code",
      "execution_count": 57,
      "metadata": {
        "id": "_ft-Y7xFyTQl"
      },
      "outputs": [],
      "source": [
        "import sqlite3\n",
        "\n",
        "from langchain_community.utilities.sql_database import SQLDatabase\n",
        "from sqlalchemy import create_engine\n",
        "from sqlalchemy.pool import StaticPool\n",
        "\n",
        "def get_engine_for_manufacturing_db():\n",
        "    \"\"\"Create an in-memory database with the manufacturing data tables.\"\"\"\n",
        "    connection = sqlite3.connect(\":memory:\", check_same_thread=False)\n",
        "\n",
        "    # Read and execute the SQL scripts\n",
        "    for sql_file in ['product_tracking.sql', 'status.sql']:\n",
        "        with open(sql_file, 'r') as file:\n",
        "            sql_script = file.read()\n",
        "            connection.executescript(sql_script)\n",
        "\n",
        "    return create_engine(\n",
        "        \"sqlite://\",\n",
        "        creator=lambda: connection,\n",
        "        poolclass=StaticPool,\n",
        "        connect_args={\"check_same_thread\": False},\n",
        "    )\n",
        "\n",
        "# Create the engine\n",
        "engine = get_engine_for_manufacturing_db()\n",
        "\n",
        "# Create the SQLDatabase instance\n",
        "db = SQLDatabase(engine)\n",
        "\n",
        "# Now you can use this db instance with your LangChain tools and agents"
      ]
    },
    {
      "cell_type": "code",
      "execution_count": 58,
      "metadata": {
        "colab": {
          "base_uri": "https://localhost:8080/",
          "height": 71
        },
        "id": "r94_RgFdyTQl",
        "outputId": "c9390193-1ad5-4435-9d7a-ab3ddfa0c9e7"
      },
      "outputs": [
        {
          "data": {
            "text/plain": [
              "\"[('2024-05-09 19:28:00', 'Canada/Toronto', '2024-05-09', '19', '28', 'stn3', 'downtime'), ('2024-04-21 06:57:00', 'Canada/Toronto', '2024-04-21', '6', '57', 'stn3', 'productive'), ('2024-04-11 23:52:00', 'Canada/Toronto', '2024-04-11', '23', '52', 'stn4', 'productive'), ('2024-04-03 21:52:00', 'Canada/Toronto', '2024-04-03', '21', '52', 'stn2', 'downtime'), ('2024-04-30 05:01:00', 'Canada/Toronto', '2024-04-30', '5', '1', 'stn4', 'productive')]\""
            ]
          },
          "execution_count": 58,
          "metadata": {},
          "output_type": "execute_result"
        }
      ],
      "source": [
        "# Test the connection\n",
        "db.run(\"SELECT * FROM status LIMIT 5;\")"
      ]
    },
    {
      "cell_type": "code",
      "execution_count": 59,
      "metadata": {
        "colab": {
          "base_uri": "https://localhost:8080/",
          "height": 89
        },
        "id": "t9KO5OuuyTQm",
        "outputId": "69b26bf7-a8e1-41c8-8427-d09b1c89480b"
      },
      "outputs": [
        {
          "data": {
            "text/plain": [
              "\"[('2024-05-27 17:22:00', '2024-05-27 17:57:00', 'Canada/Toronto', '2024-05-27', '17', 'stn2', 'wip', '187', '35'), ('2024-04-26 15:56:00', '2024-04-26 17:56:00', 'Canada/Toronto', '2024-04-26', '15', 'stn4', 'wip', '299', '120'), ('2024-04-12 04:36:00', '2024-04-12 05:12:00', 'Canada/Toronto', '2024-04-12', '4', 'stn3', 'wip', '60', '36'), ('2024-04-19 15:15:00', '2024-04-19 15:22:00', 'Canada/Toronto', '2024-04-19', '15', 'stn4', 'wait', '227', '7'), ('2024-04-24 19:10:00', '2024-04-24 21:07:00', 'Canada/Toronto', '2024-04-24', '19', 'stn4', 'wait', '169', '117')]\""
            ]
          },
          "execution_count": 59,
          "metadata": {},
          "output_type": "execute_result"
        }
      ],
      "source": [
        "# Test the connection\n",
        "db.run(\"SELECT * FROM product_tracking LIMIT 5;\")"
      ]
    },
    {
      "cell_type": "markdown",
      "metadata": {
        "id": "g9nHU221yTQm"
      },
      "source": [
        "## <a id='toc1_3_'></a>[Setup the LangChain SQL Toolkit](#toc0_)"
      ]
    },
    {
      "cell_type": "markdown",
      "metadata": {
        "id": "OklZuvtByTQm"
      },
      "source": [
        "Next, we initialize the LangChain SQL Toolkit and initialize the language model to use Cohere's LLM. This prepares the necessary components for querying the SQL database using natural language.\n"
      ]
    },
    {
      "cell_type": "code",
      "execution_count": 60,
      "metadata": {
        "colab": {
          "base_uri": "https://localhost:8080/"
        },
        "id": "kq4t4BksyTQm",
        "outputId": "1f63e3d2-128b-478b-88f0-61026b458d25"
      },
      "outputs": [
        {
          "name": "stdout",
          "output_type": "stream",
          "text": [
            "**List of pre-defined Langchain Tools**\n",
            "['sql_db_query', 'sql_db_schema', 'sql_db_list_tables', 'sql_db_query_checker']\n"
          ]
        }
      ],
      "source": [
        "## Define model to use\n",
        "import os\n",
        "\n",
        "MODEL = \"command-a-03-2025\"\n",
        "\n",
        "llm = ChatCohere(\n",
        "    model=MODEL,\n",
        "    temperature=0.1,\n",
        "    verbose=True\n",
        ")\n",
        "\n",
        "\n",
        "toolkit = SQLDatabaseToolkit(db=db, llm=llm)\n",
        "context = toolkit.get_context()\n",
        "tools = toolkit.get_tools()\n",
        "\n",
        "print(\"**List of pre-defined Langchain Tools**\")\n",
        "print([tool.name for tool in tools])"
      ]
    },
    {
      "cell_type": "markdown",
      "metadata": {
        "id": "tOQLAkL_yTQn"
      },
      "source": [
        "## <a id='toc1_4_'></a>[Create a prompt template](#toc0_)"
      ]
    },
    {
      "cell_type": "markdown",
      "metadata": {
        "id": "9sTrPZ4lyTQn"
      },
      "source": [
        "Next, we create a prompt template. In this section, we will introduce a simple system message, and then also show how we can improve the prompt by introducing few shot prompting examples in the later sections.\n",
        "The system message is used to communicate instructions or provide context to the model at the beginning of a conversation.\n",
        "\n",
        "In this case, we provide the model with context on what sql dialect it should use, how many samples to query among other instructions."
      ]
    },
    {
      "cell_type": "code",
      "execution_count": 61,
      "metadata": {
        "id": "fza3DILtyTQn"
      },
      "outputs": [],
      "source": [
        "from langchain_core.prompts import (\n",
        "    PromptTemplate,\n",
        "    ChatPromptTemplate,\n",
        "    SystemMessagePromptTemplate,\n",
        "    MessagesPlaceholder\n",
        ")\n",
        "\n",
        "system_message = \"\"\"You are an agent designed to interact with a SQL database.\n",
        "You are an expert at answering questions about manufacturing data.\n",
        "Given an input question, create a syntactically correct {dialect} query to run, then look at the results of the query and return the answer.\n",
        "Always start with checking the schema of the available tables.\n",
        "Unless the user specifies a specific number of examples they wish to obtain, always limit your query to at most {top_k} results.\n",
        "You can order the results by a relevant column to return the most interesting examples in the database.\n",
        "Never query for all the columns from a specific table, only ask for the relevant columns given the question.\n",
        "You have access to tools for interacting with the database.\n",
        "Only use the given tools. Only use the information returned by the tools to construct your final answer.\n",
        "You MUST double check your query before executing it. If you get an error while executing a query, rewrite the query and try again.\n",
        "\n",
        "DO NOT make any DML statements (INSERT, UPDATE, DELETE, DROP etc.) to the database.\n",
        "\n",
        "The current date is {date}.\n",
        "\n",
        "For questions regarding productive time, downtime, productive or productivity, use minutes as units.\n",
        "\n",
        "For questions regarding productive time, downtime, productive or productivity use the status table.\n",
        "\n",
        "For questions regarding processing time and average processing time, use minutes as units.\n",
        "\n",
        "For questions regarding bottlenecks, processing time and average processing time use the product_tracking table.\n",
        "\n",
        "If the question does not seem related to the database, just return \"I don't know\" as the answer.\"\"\"\n",
        "\n",
        "system_prompt = PromptTemplate.from_template(system_message)\n"
      ]
    },
    {
      "cell_type": "code",
      "execution_count": 62,
      "metadata": {
        "id": "727SGeIEyTQn"
      },
      "outputs": [],
      "source": [
        "full_prompt = ChatPromptTemplate.from_messages(\n",
        "    [\n",
        "        SystemMessagePromptTemplate(prompt=system_prompt),\n",
        "        MessagesPlaceholder(variable_name='chat_history', optional=True),\n",
        "        (\"human\", \"{input}\"),\n",
        "        MessagesPlaceholder(\"agent_scratchpad\"),\n",
        "    ]\n",
        ")"
      ]
    },
    {
      "cell_type": "code",
      "execution_count": 63,
      "metadata": {
        "colab": {
          "base_uri": "https://localhost:8080/"
        },
        "id": "NUVjPXqKCEhi",
        "outputId": "1b5e9641-b24d-4a36-ec20-c6ba3290a850"
      },
      "outputs": [
        {
          "name": "stdout",
          "output_type": "stream",
          "text": [
            "System: You are an agent designed to interact with a SQL database.\n",
            "You are an expert at answering questions about manufacturing data.\n",
            "Given an input question, create a syntactically correct SQLite query to run, then look at the results of the query and return the answer.\n",
            "Always start with checking the schema of the available tables.\n",
            "Unless the user specifies a specific number of examples they wish to obtain, always limit your query to at most 5 results.\n",
            "You can order the results by a relevant column to return the most interesting examples in the database.\n",
            "Never query for all the columns from a specific table, only ask for the relevant columns given the question.\n",
            "You have access to tools for interacting with the database.\n",
            "Only use the given tools. Only use the information returned by the tools to construct your final answer.\n",
            "You MUST double check your query before executing it. If you get an error while executing a query, rewrite the query and try again.\n",
            "\n",
            "DO NOT make any DML statements (INSERT, UPDATE, DELETE, DROP etc.) to the database.\n",
            "\n",
            "The current date is 2025-03-13 09:21:55.403450.\n",
            "\n",
            "For questions regarding productive time, downtime, productive or productivity, use minutes as units.\n",
            "\n",
            "For questions regarding productive time, downtime, productive or productivity use the status table.\n",
            "\n",
            "For questions regarding processing time and average processing time, use minutes as units.\n",
            "\n",
            "For questions regarding bottlenecks, processing time and average processing time use the product_tracking table.\n",
            "\n",
            "If the question does not seem related to the database, just return \"I don't know\" as the answer.\n",
            "Human: What was the productive time for all stations today?\n"
          ]
        }
      ],
      "source": [
        "prompt_val = full_prompt.invoke({\n",
        "        \"input\": \"What was the productive time for all stations today?\",\n",
        "        \"top_k\": 5,\n",
        "        \"dialect\": \"SQLite\",\n",
        "        \"date\":datetime.now(),\n",
        "        \"agent_scratchpad\": [],\n",
        "    })\n",
        "print(prompt_val.to_string())"
      ]
    },
    {
      "cell_type": "markdown",
      "metadata": {
        "id": "ThKE_KNu_zBi"
      },
      "source": [
        "## <a id='toc1_4_'></a>[Create a few-shot prompt template](#toc0_)"
      ]
    },
    {
      "cell_type": "markdown",
      "metadata": {
        "id": "bEfO_ADF_4-O"
      },
      "source": [
        "In the above step, we've created a simple system prompt. Now, let us see how we can create a better few shot prompt template in this section. Few-shot examples are used to provide the model with context and improve its performance on specific tasks. In this case, we'll prepare examples of natural language queries and their corresponding SQL queries to help the model generate accurate SQL statements for our database.\n",
        "\n",
        "In this example, we use `SemanticSimilarityExampleSelector` to select the top k examples that are most similar to an input query out of all the examples available."
      ]
    },
    {
      "cell_type": "code",
      "execution_count": 64,
      "metadata": {
        "id": "vM3CE7MqyTQn"
      },
      "outputs": [],
      "source": [
        "examples = [\n",
        "    {\n",
        "        \"input\": \"What was the average processing time for all stations on April 3rd 2024?\",\n",
        "        \"query\": \"SELECT station_name, AVG(CAST(duration AS INTEGER)) AS avg_processing_time FROM product_tracking WHERE date = '2024-04-03' AND zone = 'wip' GROUP BY station_name ORDER BY station_name;\",\n",
        "    },\n",
        "    {\n",
        "        \"input\": \"What was the average processing time for all stations on April 3rd 2024 between 4pm and 6pm?\",\n",
        "        \"query\": \"SELECT station_name, AVG(CAST(duration AS INTEGER)) AS avg_processing_time FROM product_tracking WHERE date = '2024-04-03' AND CAST(hour AS INTEGER) BETWEEN 16 AND 18 AND zone = 'wip' GROUP BY station_name ORDER BY station_name;\",\n",
        "    },\n",
        "    {\n",
        "        \"input\": \"What was the average processing time for stn4 on April 3rd 2024?\",\n",
        "        \"query\": \"SELECT AVG(CAST(duration AS INTEGER)) AS avg_processing_time FROM product_tracking WHERE date = '2024-04-03' AND station_name = 'stn4' AND zone = 'wip';\",\n",
        "    },\n",
        "    {\n",
        "        \"input\": \"How much downtime did stn2 have on April 3rd 2024?\",\n",
        "        \"query\": \"SELECT COUNT(*) AS downtime_count FROM status WHERE date = '2024-04-03' AND station_name = 'stn2' AND station_status = 'downtime';\",\n",
        "    },\n",
        "    {\n",
        "        \"input\": \"What were the productive time and downtime numbers for all stations on April 3rd 2024?\",\n",
        "        \"query\": \"SELECT station_name, station_status, COUNT(*) as total_time FROM status WHERE date = '2024-04-03' GROUP BY station_name, station_status;\",\n",
        "    },\n",
        "    {\n",
        "        \"input\": \"What was the bottleneck station on April 3rd 2024?\",\n",
        "        \"query\": \"SELECT station_name, AVG(CAST(duration AS INTEGER)) AS avg_processing_time FROM product_tracking WHERE date = '2024-04-03' AND zone = 'wip' GROUP BY station_name ORDER BY avg_processing_time DESC LIMIT 1;\",\n",
        "    },\n",
        "    {\n",
        "        \"input\": \"Which percentage of the time was stn5 down in the last week of May?\",\n",
        "        \"query\": \"SELECT SUM(CASE WHEN station_status = 'downtime' THEN 1 ELSE 0 END) * 100.0 / COUNT(*) AS percentage_downtime FROM status WHERE station_name = 'stn5' AND date >= '2024-05-25' AND date <= '2024-05-31';\",\n",
        "    },\n",
        "]"
      ]
    },
    {
      "cell_type": "code",
      "execution_count": 65,
      "metadata": {
        "id": "cjWTXsEgyTQn"
      },
      "outputs": [],
      "source": [
        "example_selector = SemanticSimilarityExampleSelector.from_examples(\n",
        "    examples,\n",
        "    CohereEmbeddings(\n",
        "        cohere_api_key=os.getenv(\"COHERE_API_KEY\"), model=\"embed-english-v3.0\"\n",
        "    ),\n",
        "    FAISS,\n",
        "    k=5,\n",
        "    input_keys=[\"input\"],\n",
        ")"
      ]
    },
    {
      "cell_type": "code",
      "execution_count": 66,
      "metadata": {
        "id": "O3r_brDBAKSl"
      },
      "outputs": [],
      "source": [
        "from langchain_core.prompts import (\n",
        "    ChatPromptTemplate,\n",
        "    FewShotPromptTemplate,\n",
        "    MessagesPlaceholder,\n",
        "    PromptTemplate,\n",
        "    SystemMessagePromptTemplate,\n",
        ")\n",
        "\n",
        "system_prefix = \"\"\"You are an agent designed to interact with a SQL database.\n",
        "You are an expert at answering questions about manufacturing data.\n",
        "Given an input question, create a syntactically correct {dialect} query to run, then look at the results of the query and return the answer.\n",
        "Always start with checking the schema of the available tables.\n",
        "Unless the user specifies a specific number of examples they wish to obtain, always limit your query to at most {top_k} results.\n",
        "You can order the results by a relevant column to return the most interesting examples in the database.\n",
        "Never query for all the columns from a specific table, only ask for the relevant columns given the question.\n",
        "You have access to tools for interacting with the database.\n",
        "Only use the given tools. Only use the information returned by the tools to construct your final answer.\n",
        "You MUST double check your query before executing it. If you get an error while executing a query, rewrite the query and try again.\n",
        "\n",
        "DO NOT make any DML statements (INSERT, UPDATE, DELETE, DROP etc.) to the database.\n",
        "\n",
        "The current date is {date}.\n",
        "\n",
        "For questions regarding productive time, downtime, productive or productivity, use minutes as units.\n",
        "\n",
        "For questions regarding productive time, downtime, productive or productivity use the status table.\n",
        "\n",
        "For questions regarding processing time and average processing time, use minutes as units.\n",
        "\n",
        "For questions regarding bottlenecks, processing time and average processing time use the product_tracking table.\n",
        "\n",
        "If the question does not seem related to the database, just return \"I don't know\" as the answer.\n",
        "\n",
        "Here are some examples of user inputs and their corresponding SQL queries:\n",
        "\"\"\"\n",
        "\n",
        "few_shot_prompt = FewShotPromptTemplate(\n",
        "    example_selector=example_selector,\n",
        "    example_prompt=PromptTemplate.from_template(\n",
        "        \"User input: {input}\\nSQL query: {query}\"\n",
        "    ),\n",
        "    input_variables=[\"input\", \"dialect\", \"top_k\",\"date\"],\n",
        "    prefix=system_prefix,\n",
        "    suffix=\"\",\n",
        ")"
      ]
    },
    {
      "cell_type": "code",
      "execution_count": 67,
      "metadata": {
        "id": "cgcEZ5PwAZvo"
      },
      "outputs": [],
      "source": [
        "full_prompt = ChatPromptTemplate.from_messages(\n",
        "    [\n",
        "        # In the previous section, this was system_prompt instead without the few shot examples.\n",
        "        # We can use either prompting style as required\n",
        "        SystemMessagePromptTemplate(prompt=few_shot_prompt),\n",
        "        (\"human\", \"{input}\"),\n",
        "        MessagesPlaceholder(\"agent_scratchpad\"),\n",
        "    ]\n",
        ")"
      ]
    },
    {
      "cell_type": "code",
      "execution_count": 68,
      "metadata": {
        "colab": {
          "base_uri": "https://localhost:8080/"
        },
        "id": "sMAfAKBOyTQn",
        "outputId": "874d6d19-51e9-4fce-dc92-969943ba8a5c"
      },
      "outputs": [
        {
          "name": "stdout",
          "output_type": "stream",
          "text": [
            "System: You are an agent designed to interact with a SQL database.\n",
            "You are an expert at answering questions about manufacturing data.\n",
            "Given an input question, create a syntactically correct SQLite query to run, then look at the results of the query and return the answer.\n",
            "Always start with checking the schema of the available tables.\n",
            "Unless the user specifies a specific number of examples they wish to obtain, always limit your query to at most 5 results.\n",
            "You can order the results by a relevant column to return the most interesting examples in the database.\n",
            "Never query for all the columns from a specific table, only ask for the relevant columns given the question.\n",
            "You have access to tools for interacting with the database.\n",
            "Only use the given tools. Only use the information returned by the tools to construct your final answer.\n",
            "You MUST double check your query before executing it. If you get an error while executing a query, rewrite the query and try again.\n",
            "\n",
            "DO NOT make any DML statements (INSERT, UPDATE, DELETE, DROP etc.) to the database.\n",
            "\n",
            "The current date is 2025-03-13 09:22:22.275098.\n",
            "\n",
            "For questions regarding productive time, downtime, productive or productivity, use minutes as units.\n",
            "\n",
            "For questions regarding productive time, downtime, productive or productivity use the status table.\n",
            "\n",
            "For questions regarding processing time and average processing time, use minutes as units.\n",
            "\n",
            "For questions regarding bottlenecks, processing time and average processing time use the product_tracking table.\n",
            "\n",
            "If the question does not seem related to the database, just return \"I don't know\" as the answer.\n",
            "\n",
            "Here are some examples of user inputs and their corresponding SQL queries:\n",
            "\n",
            "\n",
            "User input: What were the productive time and downtime numbers for all stations on April 3rd 2024?\n",
            "SQL query: SELECT station_name, station_status, COUNT(*) as total_time FROM status WHERE date = '2024-04-03' GROUP BY station_name, station_status;\n",
            "\n",
            "User input: What was the average processing time for all stations on April 3rd 2024?\n",
            "SQL query: SELECT station_name, AVG(CAST(duration AS INTEGER)) AS avg_processing_time FROM product_tracking WHERE date = '2024-04-03' AND zone = 'wip' GROUP BY station_name ORDER BY station_name;\n",
            "\n",
            "User input: What was the average processing time for all stations on April 3rd 2024 between 4pm and 6pm?\n",
            "SQL query: SELECT station_name, AVG(CAST(duration AS INTEGER)) AS avg_processing_time FROM product_tracking WHERE date = '2024-04-03' AND CAST(hour AS INTEGER) BETWEEN 16 AND 18 AND zone = 'wip' GROUP BY station_name ORDER BY station_name;\n",
            "\n",
            "User input: What was the bottleneck station on April 3rd 2024?\n",
            "SQL query: SELECT station_name, AVG(CAST(duration AS INTEGER)) AS avg_processing_time FROM product_tracking WHERE date = '2024-04-03' AND zone = 'wip' GROUP BY station_name ORDER BY avg_processing_time DESC LIMIT 1;\n",
            "\n",
            "User input: What was the average processing time for stn4 on April 3rd 2024?\n",
            "SQL query: SELECT AVG(CAST(duration AS INTEGER)) AS avg_processing_time FROM product_tracking WHERE date = '2024-04-03' AND station_name = 'stn4' AND zone = 'wip';\n",
            "Human: What was the productive time for all stations today?\n"
          ]
        }
      ],
      "source": [
        "# Example formatted prompt\n",
        "prompt_val = full_prompt.invoke(\n",
        "    {\n",
        "        \"input\": \"What was the productive time for all stations today?\",\n",
        "        \"top_k\": 5,\n",
        "        \"dialect\": \"SQLite\",\n",
        "        \"date\":datetime.now(),\n",
        "        \"agent_scratchpad\": [],\n",
        "    }\n",
        ")\n",
        "print(prompt_val.to_string())"
      ]
    },
    {
      "cell_type": "markdown",
      "metadata": {
        "id": "LqMk1Pj1yTQo"
      },
      "source": [
        "## <a id='toc1_5_'></a>[Create the agent](#toc0_)"
      ]
    },
    {
      "cell_type": "markdown",
      "metadata": {
        "id": "hog2fff5yTQo"
      },
      "source": [
        "Next, we create an instance of the SQL agent using the LangChain framework, specifically using `create_sql_agent`.\n",
        "\n",
        "This agent will be capable of interpreting natural language queries, converting them into SQL queries, and executing them against our database. The agent uses the LLM we defined earlier, along with the SQL toolkit and the custom prompt we created."
      ]
    },
    {
      "cell_type": "code",
      "execution_count": 69,
      "metadata": {
        "id": "pDRp_Mi-yTQo"
      },
      "outputs": [],
      "source": [
        "agent = create_sql_agent(\n",
        "   llm=llm,\n",
        "   toolkit=toolkit,\n",
        "   prompt=full_prompt,\n",
        "   verbose=True\n",
        ")"
      ]
    },
    {
      "cell_type": "markdown",
      "metadata": {
        "id": "aJ2oFSJgyTQo"
      },
      "source": [
        "## <a id='toc1_6_'></a>[Run the agent](#toc0_)"
      ]
    },
    {
      "cell_type": "markdown",
      "metadata": {
        "id": "bLpPzqfwyTQo"
      },
      "source": [
        "Now, we can run the agent and test it with a few different queries."
      ]
    },
    {
      "cell_type": "code",
      "execution_count": 70,
      "metadata": {
        "colab": {
          "base_uri": "https://localhost:8080/"
        },
        "id": "hNyuwg_0yTQo",
        "outputId": "a0092b7d-1da1-4c5f-c718-163bcd1e99db"
      },
      "outputs": [
        {
          "name": "stdout",
          "output_type": "stream",
          "text": [
            "\n",
            "\n",
            "\u001b[1m> Entering new Cohere SQL Agent Executor chain...\u001b[0m\n",
            "\u001b[32;1m\u001b[1;3m\n",
            "Invoking: `sql_db_list_tablessql_db_list_tables` with `{}`\n",
            "responded: I will first check the schema of the available tables. Then, I will query the connected SQL database to find the stations that had some downtime in the month of May 2024.\n",
            "\n",
            "\u001b[0msql_db_list_tablessql_db_list_tables is not a valid tool, try one of [sql_db_query, sql_db_schema, sql_db_list_tables, sql_db_query_checker].\u001b[32;1m\u001b[1;3m\n",
            "Invoking: `sql_db_list_tables` with `{}`\n",
            "responded: I will first check the schema of the available tables. Then, I will query the connected SQL database to find the stations that had some downtime in the month of May 2024.\n",
            "\n",
            "\u001b[0m\u001b[38;5;200m\u001b[1;3mproduct_tracking, status\u001b[0m\u001b[32;1m\u001b[1;3m\n",
            "Invoking: `sql_db_schema` with `{'table_names': 'product_tracking, status'}`\n",
            "responded: I have found the following tables: product_tracking and status. I will now query the schema of these tables to understand their structure.\n",
            "\n",
            "\u001b[0m\u001b[33;1m\u001b[1;3m\n",
            "CREATE TABLE product_tracking (\n",
            "\ttimestamp_start TEXT, \n",
            "\ttimestamp_end TEXT, \n",
            "\ttimezone TEXT, \n",
            "\tdate TEXT, \n",
            "\thour TEXT, \n",
            "\tstation_name TEXT, \n",
            "\tzone TEXT, \n",
            "\tproduct_id TEXT, \n",
            "\tduration TEXT\n",
            ")\n",
            "\n",
            "/*\n",
            "3 rows from product_tracking table:\n",
            "timestamp_start\ttimestamp_end\ttimezone\tdate\thour\tstation_name\tzone\tproduct_id\tduration\n",
            "2024-05-27 17:22:00\t2024-05-27 17:57:00\tCanada/Toronto\t2024-05-27\t17\tstn2\twip\t187\t35\n",
            "2024-04-26 15:56:00\t2024-04-26 17:56:00\tCanada/Toronto\t2024-04-26\t15\tstn4\twip\t299\t120\n",
            "2024-04-12 04:36:00\t2024-04-12 05:12:00\tCanada/Toronto\t2024-04-12\t4\tstn3\twip\t60\t36\n",
            "*/\n",
            "\n",
            "\n",
            "CREATE TABLE status (\n",
            "\ttimestamp_event TEXT, \n",
            "\ttimezone TEXT, \n",
            "\tdate TEXT, \n",
            "\thour TEXT, \n",
            "\tminute TEXT, \n",
            "\tstation_name TEXT, \n",
            "\tstation_status TEXT\n",
            ")\n",
            "\n",
            "/*\n",
            "3 rows from status table:\n",
            "timestamp_event\ttimezone\tdate\thour\tminute\tstation_name\tstation_status\n",
            "2024-05-09 19:28:00\tCanada/Toronto\t2024-05-09\t19\t28\tstn3\tdowntime\n",
            "2024-04-21 06:57:00\tCanada/Toronto\t2024-04-21\t6\t57\tstn3\tproductive\n",
            "2024-04-11 23:52:00\tCanada/Toronto\t2024-04-11\t23\t52\tstn4\tproductive\n",
            "*/\u001b[0m\u001b[32;1m\u001b[1;3m\n",
            "Invoking: `sql_db_schema` with `{'table_names': 'product_tracking, status'}`\n",
            "responded: I have found the following tables: product_tracking and status. I will now query the schema of these tables to understand their structure.\n",
            "\n",
            "\u001b[0m\u001b[33;1m\u001b[1;3m\n",
            "CREATE TABLE product_tracking (\n",
            "\ttimestamp_start TEXT, \n",
            "\ttimestamp_end TEXT, \n",
            "\ttimezone TEXT, \n",
            "\tdate TEXT, \n",
            "\thour TEXT, \n",
            "\tstation_name TEXT, \n",
            "\tzone TEXT, \n",
            "\tproduct_id TEXT, \n",
            "\tduration TEXT\n",
            ")\n",
            "\n",
            "/*\n",
            "3 rows from product_tracking table:\n",
            "timestamp_start\ttimestamp_end\ttimezone\tdate\thour\tstation_name\tzone\tproduct_id\tduration\n",
            "2024-05-27 17:22:00\t2024-05-27 17:57:00\tCanada/Toronto\t2024-05-27\t17\tstn2\twip\t187\t35\n",
            "2024-04-26 15:56:00\t2024-04-26 17:56:00\tCanada/Toronto\t2024-04-26\t15\tstn4\twip\t299\t120\n",
            "2024-04-12 04:36:00\t2024-04-12 05:12:00\tCanada/Toronto\t2024-04-12\t4\tstn3\twip\t60\t36\n",
            "*/\n",
            "\n",
            "\n",
            "CREATE TABLE status (\n",
            "\ttimestamp_event TEXT, \n",
            "\ttimezone TEXT, \n",
            "\tdate TEXT, \n",
            "\thour TEXT, \n",
            "\tminute TEXT, \n",
            "\tstation_name TEXT, \n",
            "\tstation_status TEXT\n",
            ")\n",
            "\n",
            "/*\n",
            "3 rows from status table:\n",
            "timestamp_event\ttimezone\tdate\thour\tminute\tstation_name\tstation_status\n",
            "2024-05-09 19:28:00\tCanada/Toronto\t2024-05-09\t19\t28\tstn3\tdowntime\n",
            "2024-04-21 06:57:00\tCanada/Toronto\t2024-04-21\t6\t57\tstn3\tproductive\n",
            "2024-04-11 23:52:00\tCanada/Toronto\t2024-04-11\t23\t52\tstn4\tproductive\n",
            "*/\u001b[0m\u001b[32;1m\u001b[1;3m\n",
            "Invoking: `sql_db_query_checker` with `{'query': \"SELECT DISTINCT station_name\\r\\nFROM status\\r\\nWHERE station_status = 'downtime'\\r\\n  AND SUBSTR(date, 1, 7) = '2024-05';\"}`\n",
            "responded: I have found that the status table contains the relevant information, including the station_status column which contains the values 'productive' and 'downtime'. I will now query the database to find the stations that had some downtime in the month of May 2024.\n",
            "\n",
            "\u001b[0m\u001b[36;1m\u001b[1;3m```sql\n",
            "SELECT DISTINCT station_name\n",
            "FROM status\n",
            "WHERE station_status = 'downtime'\n",
            "  AND SUBSTR(date, 1, 7) = '2024-05';\n",
            "```\u001b[0m\u001b[32;1m\u001b[1;3m\n",
            "Invoking: `sql_db_query_checker` with `{'query': \"SELECT DISTINCT station_name\\r\\nFROM status\\r\\nWHERE station_status = 'downtime'\\r\\n  AND SUBSTR(date, 1, 7) = '2024-05';\"}`\n",
            "responded: I have found that the status table contains the relevant information, including the station_status column which contains the values 'productive' and 'downtime'. I will now query the database to find the stations that had some downtime in the month of May 2024.\n",
            "\n",
            "\u001b[0m\u001b[36;1m\u001b[1;3m```sql\n",
            "SELECT DISTINCT station_name\n",
            "FROM status\n",
            "WHERE station_status = 'downtime'\n",
            "  AND SUBSTR(date, 1, 7) = '2024-05';\n",
            "```\u001b[0m\u001b[32;1m\u001b[1;3m\n",
            "Invoking: `sql_db_query_checker` with `{'query': \"SELECT DISTINCT station_name\\r\\nFROM status\\r\\nWHERE station_status = 'downtime'\\r\\n  AND SUBSTR(date, 1, 7) = '2024-05';\"}`\n",
            "responded: I have found that the status table contains the relevant information, including the station_status column which contains the values 'productive' and 'downtime'. I will now query the database to find the stations that had some downtime in the month of May 2024.\n",
            "\n",
            "\u001b[0m\u001b[36;1m\u001b[1;3m```sql\n",
            "SELECT DISTINCT station_name\n",
            "FROM status\n",
            "WHERE station_status = 'downtime'\n",
            "  AND SUBSTR(date, 1, 7) = '2024-05';\n",
            "```\u001b[0m\u001b[32;1m\u001b[1;3m\n",
            "Invoking: `sql_db_query_checker` with `{'query': \"SELECT DISTINCT station_name\\r\\nFROM status\\r\\nWHERE station_status = 'downtime'\\r\\n  AND SUBSTR(date, 1, 7) = '2024-05';\"}`\n",
            "responded: I have found that the status table contains the relevant information, including the station_status column which contains the values 'productive' and 'downtime'. I will now query the database to find the stations that had some downtime in the month of May 2024.\n",
            "\n",
            "\u001b[0m\u001b[36;1m\u001b[1;3m```sql\n",
            "SELECT DISTINCT station_name\n",
            "FROM status\n",
            "WHERE station_status = 'downtime'\n",
            "  AND SUBSTR(date, 1, 7) = '2024-05';\n",
            "```\u001b[0m\u001b[32;1m\u001b[1;3m\n",
            "Invoking: `sql_db_query` with `{'query': \"SELECT DISTINCT station_name\\r\\nFROM status\\r\\nWHERE station_status = 'downtime'\\r\\n  AND SUBSTR(date, 1, 7) = '2024-05';\"}`\n",
            "responded: I have checked the query and it is correct. I will now execute the query to find the stations that had some downtime in the month of May 2024.\n",
            "\n",
            "\u001b[0m\u001b[36;1m\u001b[1;3m[('stn3',), ('stn5',), ('stn2',)]\u001b[0m\u001b[32;1m\u001b[1;3m\n",
            "Invoking: `sql_db_query` with `{'query': \"SELECT DISTINCT station_name\\r\\nFROM status\\r\\nWHERE station_status = 'downtime'\\r\\n  AND SUBSTR(date, 1, 7) = '2024-05';\"}`\n",
            "responded: I have checked the query and it is correct. I will now execute the query to find the stations that had some downtime in the month of May 2024.\n",
            "\n",
            "\u001b[0m\u001b[36;1m\u001b[1;3m[('stn3',), ('stn5',), ('stn2',)]\u001b[0m\u001b[32;1m\u001b[1;3mThe stations that had some downtime in the month of May 2024 are:\n",
            "- stn3\n",
            "- stn5\n",
            "- stn2\u001b[0m\n",
            "\n",
            "\u001b[1m> Finished chain.\u001b[0m\n",
            "The stations that had some downtime in the month of May 2024 are:\n",
            "- stn3\n",
            "- stn5\n",
            "- stn2\n"
          ]
        }
      ],
      "source": [
        "# %%time\n",
        "output=agent.invoke({\n",
        "   \"input\": \"Which stations had some downtime in the month of May 2024?\",\n",
        "    \"date\": datetime.now()\n",
        "})\n",
        "print(output['output'])\n",
        "\n",
        "# Answer: stn2, stn3 and stn5 had some downtime in the month of May 2024."
      ]
    },
    {
      "cell_type": "code",
      "execution_count": 71,
      "metadata": {
        "colab": {
          "base_uri": "https://localhost:8080/"
        },
        "id": "ptIkKBfoyTQo",
        "outputId": "596eda34-c56d-4f16-e140-b3a8c20a81fd"
      },
      "outputs": [
        {
          "name": "stdout",
          "output_type": "stream",
          "text": [
            "\n",
            "\n",
            "\u001b[1m> Entering new Cohere SQL Agent Executor chain...\u001b[0m\n",
            "\u001b[32;1m\u001b[1;3m\n",
            "Invoking: `sql_db_list_tablessql_db_list_tables` with `{}`\n",
            "responded: I will first check the schema of the available tables. Then, I will write a query to find the average processing duration at stn5 in the wip zone.\n",
            "\n",
            "\u001b[0msql_db_list_tablessql_db_list_tables is not a valid tool, try one of [sql_db_query, sql_db_schema, sql_db_list_tables, sql_db_query_checker].\u001b[32;1m\u001b[1;3m\n",
            "Invoking: `sql_db_list_tables` with `{}`\n",
            "responded: I will first check the schema of the available tables. Then, I will write a query to find the average processing duration at stn5 in the wip zone.\n",
            "\n",
            "\u001b[0m\u001b[38;5;200m\u001b[1;3mproduct_tracking, status\u001b[0m\u001b[32;1m\u001b[1;3m\n",
            "Invoking: `sql_db_schema` with `{'table_names': 'product_tracking'}`\n",
            "responded: I will use the product_tracking table to find the average processing duration at stn5 in the wip zone.\n",
            "\n",
            "\u001b[0m\u001b[33;1m\u001b[1;3m\n",
            "CREATE TABLE product_tracking (\n",
            "\ttimestamp_start TEXT, \n",
            "\ttimestamp_end TEXT, \n",
            "\ttimezone TEXT, \n",
            "\tdate TEXT, \n",
            "\thour TEXT, \n",
            "\tstation_name TEXT, \n",
            "\tzone TEXT, \n",
            "\tproduct_id TEXT, \n",
            "\tduration TEXT\n",
            ")\n",
            "\n",
            "/*\n",
            "3 rows from product_tracking table:\n",
            "timestamp_start\ttimestamp_end\ttimezone\tdate\thour\tstation_name\tzone\tproduct_id\tduration\n",
            "2024-05-27 17:22:00\t2024-05-27 17:57:00\tCanada/Toronto\t2024-05-27\t17\tstn2\twip\t187\t35\n",
            "2024-04-26 15:56:00\t2024-04-26 17:56:00\tCanada/Toronto\t2024-04-26\t15\tstn4\twip\t299\t120\n",
            "2024-04-12 04:36:00\t2024-04-12 05:12:00\tCanada/Toronto\t2024-04-12\t4\tstn3\twip\t60\t36\n",
            "*/\u001b[0m\u001b[32;1m\u001b[1;3m\n",
            "Invoking: `sql_db_schema` with `{'table_names': 'product_tracking'}`\n",
            "responded: I will use the product_tracking table to find the average processing duration at stn5 in the wip zone.\n",
            "\n",
            "\u001b[0m\u001b[33;1m\u001b[1;3m\n",
            "CREATE TABLE product_tracking (\n",
            "\ttimestamp_start TEXT, \n",
            "\ttimestamp_end TEXT, \n",
            "\ttimezone TEXT, \n",
            "\tdate TEXT, \n",
            "\thour TEXT, \n",
            "\tstation_name TEXT, \n",
            "\tzone TEXT, \n",
            "\tproduct_id TEXT, \n",
            "\tduration TEXT\n",
            ")\n",
            "\n",
            "/*\n",
            "3 rows from product_tracking table:\n",
            "timestamp_start\ttimestamp_end\ttimezone\tdate\thour\tstation_name\tzone\tproduct_id\tduration\n",
            "2024-05-27 17:22:00\t2024-05-27 17:57:00\tCanada/Toronto\t2024-05-27\t17\tstn2\twip\t187\t35\n",
            "2024-04-26 15:56:00\t2024-04-26 17:56:00\tCanada/Toronto\t2024-04-26\t15\tstn4\twip\t299\t120\n",
            "2024-04-12 04:36:00\t2024-04-12 05:12:00\tCanada/Toronto\t2024-04-12\t4\tstn3\twip\t60\t36\n",
            "*/\u001b[0m\u001b[32;1m\u001b[1;3m\n",
            "Invoking: `sql_db_query_checker` with `{'query': \"SELECT AVG(CAST(duration AS INTEGER)) AS avg_processing_duration\\nFROM product_tracking\\nWHERE station_name = 'stn5' AND zone = 'wip';\"}`\n",
            "responded: I will use the product_tracking table to find the average processing duration at stn5 in the wip zone. The relevant columns are station_name, zone and duration.\n",
            "\n",
            "\u001b[0m\u001b[36;1m\u001b[1;3m```sql\n",
            "SELECT AVG(CAST(duration AS INTEGER)) AS avg_processing_duration\n",
            "FROM product_tracking\n",
            "WHERE station_name = 'stn5' AND zone = 'wip';\n",
            "```\u001b[0m\u001b[32;1m\u001b[1;3m\n",
            "Invoking: `sql_db_query_checker` with `{'query': \"SELECT AVG(CAST(duration AS INTEGER)) AS avg_processing_duration\\nFROM product_tracking\\nWHERE station_name = 'stn5' AND zone = 'wip';\"}`\n",
            "responded: I will use the product_tracking table to find the average processing duration at stn5 in the wip zone. The relevant columns are station_name, zone and duration.\n",
            "\n",
            "\u001b[0m\u001b[36;1m\u001b[1;3m```sql\n",
            "SELECT AVG(CAST(duration AS INTEGER)) AS avg_processing_duration\n",
            "FROM product_tracking\n",
            "WHERE station_name = 'stn5' AND zone = 'wip';\n",
            "```\u001b[0m\u001b[32;1m\u001b[1;3m\n",
            "Invoking: `sql_db_query` with `{'query': \"SELECT AVG(CAST(duration AS INTEGER)) AS avg_processing_duration\\nFROM product_tracking\\nWHERE station_name = 'stn5' AND zone = 'wip';\"}`\n",
            "responded: I will now execute the query to find the average processing duration at stn5 in the wip zone.\n",
            "\n",
            "\u001b[0m\u001b[36;1m\u001b[1;3m[(39.166666666666664,)]\u001b[0m\u001b[32;1m\u001b[1;3m\n",
            "Invoking: `sql_db_query` with `{'query': \"SELECT AVG(CAST(duration AS INTEGER)) AS avg_processing_duration\\nFROM product_tracking\\nWHERE station_name = 'stn5' AND zone = 'wip';\"}`\n",
            "responded: I will now execute the query to find the average processing duration at stn5 in the wip zone.\n",
            "\n",
            "\u001b[0m\u001b[36;1m\u001b[1;3m[(39.166666666666664,)]\u001b[0m\u001b[32;1m\u001b[1;3mThe average processing duration at stn5 in the wip zone is 39.17 minutes.\u001b[0m\n",
            "\n",
            "\u001b[1m> Finished chain.\u001b[0m\n",
            "The average processing duration at stn5 in the wip zone is 39.17 minutes.\n"
          ]
        }
      ],
      "source": [
        "output=agent.invoke({\n",
        "   \"input\": \"What is the average processing duration at stn5 in the wip zone?\",\n",
        "    \"date\": datetime.now()\n",
        "})\n",
        "print(output['output'])\n",
        "\n",
        "# Answer: 39.17 minutes"
      ]
    },
    {
      "cell_type": "code",
      "execution_count": 72,
      "metadata": {
        "colab": {
          "base_uri": "https://localhost:8080/"
        },
        "id": "6EMkPBJnyTQo",
        "outputId": "98effb52-ff6d-40e5-afa3-443bbff52472"
      },
      "outputs": [
        {
          "name": "stdout",
          "output_type": "stream",
          "text": [
            "\n",
            "\n",
            "\u001b[1m> Entering new Cohere SQL Agent Executor chain...\u001b[0m\n",
            "\u001b[32;1m\u001b[1;3m\n",
            "Invoking: `sql_db_list_tablessql_db_list_tables` with `{}`\n",
            "responded: I will first check the schema of the available tables. Then, I will write a query to find the station with the highest total duration in the wait zone.\n",
            "\n",
            "\u001b[0msql_db_list_tablessql_db_list_tables is not a valid tool, try one of [sql_db_query, sql_db_schema, sql_db_list_tables, sql_db_query_checker].\u001b[32;1m\u001b[1;3m\n",
            "Invoking: `sql_db_list_tables` with `{}`\n",
            "responded: I will first check the schema of the available tables. Then, I will write a query to find the station with the highest total duration in the wait zone.\n",
            "\n",
            "\u001b[0m\u001b[38;5;200m\u001b[1;3mproduct_tracking, status\u001b[0m\u001b[32;1m\u001b[1;3m\n",
            "Invoking: `sql_db_schema` with `{'table_names': 'product_tracking'}`\n",
            "responded: I will use the product_tracking table to find the station with the highest total duration in the wait zone. I will group the results by station_name and zone, and filter for the zone 'wait'. I will then order the results by total duration in descending order and limit the results to 1.\n",
            "\n",
            "\u001b[0m\u001b[33;1m\u001b[1;3m\n",
            "CREATE TABLE product_tracking (\n",
            "\ttimestamp_start TEXT, \n",
            "\ttimestamp_end TEXT, \n",
            "\ttimezone TEXT, \n",
            "\tdate TEXT, \n",
            "\thour TEXT, \n",
            "\tstation_name TEXT, \n",
            "\tzone TEXT, \n",
            "\tproduct_id TEXT, \n",
            "\tduration TEXT\n",
            ")\n",
            "\n",
            "/*\n",
            "3 rows from product_tracking table:\n",
            "timestamp_start\ttimestamp_end\ttimezone\tdate\thour\tstation_name\tzone\tproduct_id\tduration\n",
            "2024-05-27 17:22:00\t2024-05-27 17:57:00\tCanada/Toronto\t2024-05-27\t17\tstn2\twip\t187\t35\n",
            "2024-04-26 15:56:00\t2024-04-26 17:56:00\tCanada/Toronto\t2024-04-26\t15\tstn4\twip\t299\t120\n",
            "2024-04-12 04:36:00\t2024-04-12 05:12:00\tCanada/Toronto\t2024-04-12\t4\tstn3\twip\t60\t36\n",
            "*/\u001b[0m\u001b[32;1m\u001b[1;3m\n",
            "Invoking: `sql_db_schema` with `{'table_names': 'product_tracking'}`\n",
            "responded: I will use the product_tracking table to find the station with the highest total duration in the wait zone. I will group the results by station_name and zone, and filter for the zone 'wait'. I will then order the results by total duration in descending order and limit the results to 1.\n",
            "\n",
            "\u001b[0m\u001b[33;1m\u001b[1;3m\n",
            "CREATE TABLE product_tracking (\n",
            "\ttimestamp_start TEXT, \n",
            "\ttimestamp_end TEXT, \n",
            "\ttimezone TEXT, \n",
            "\tdate TEXT, \n",
            "\thour TEXT, \n",
            "\tstation_name TEXT, \n",
            "\tzone TEXT, \n",
            "\tproduct_id TEXT, \n",
            "\tduration TEXT\n",
            ")\n",
            "\n",
            "/*\n",
            "3 rows from product_tracking table:\n",
            "timestamp_start\ttimestamp_end\ttimezone\tdate\thour\tstation_name\tzone\tproduct_id\tduration\n",
            "2024-05-27 17:22:00\t2024-05-27 17:57:00\tCanada/Toronto\t2024-05-27\t17\tstn2\twip\t187\t35\n",
            "2024-04-26 15:56:00\t2024-04-26 17:56:00\tCanada/Toronto\t2024-04-26\t15\tstn4\twip\t299\t120\n",
            "2024-04-12 04:36:00\t2024-04-12 05:12:00\tCanada/Toronto\t2024-04-12\t4\tstn3\twip\t60\t36\n",
            "*/\u001b[0m\u001b[32;1m\u001b[1;3m\n",
            "Invoking: `sql_db_query_checker` with `{'query': \"SELECT station_name, SUM(CAST(duration AS INTEGER)) AS total_duration\\r\\nFROM product_tracking\\r\\nWHERE zone = 'wait'\\r\\nGROUP BY station_name\\r\\nORDER BY total_duration DESC\\r\\nLIMIT 1;\"}`\n",
            "responded: I will use the product_tracking table to find the station with the highest total duration in the wait zone. I will group the results by station_name and zone, and filter for the zone 'wait'. I will then order the results by total duration in descending order and limit the results to 1.\n",
            "\n",
            "\u001b[0m\u001b[36;1m\u001b[1;3m```sql\n",
            "SELECT station_name, SUM(CAST(duration AS INTEGER)) AS total_duration\n",
            "FROM product_tracking\n",
            "WHERE zone = 'wait'\n",
            "GROUP BY station_name\n",
            "ORDER BY total_duration DESC\n",
            "LIMIT 1;\n",
            "```\u001b[0m\u001b[32;1m\u001b[1;3m\n",
            "Invoking: `sql_db_query` with `{'query': \"SELECT station_name, SUM(CAST(duration AS INTEGER)) AS total_duration\\nFROM product_tracking\\nWHERE zone = 'wait'\\nGROUP BY station_name\\nORDER BY total_duration DESC\\nLIMIT 1;\"}`\n",
            "responded: I will now execute the query to find the station with the highest total duration in the wait zone.\n",
            "\n",
            "\u001b[0m\u001b[36;1m\u001b[1;3m[('stn4', 251)]\u001b[0m\u001b[32;1m\u001b[1;3mThe station with the highest total duration in the wait zone is stn4, with a total duration of 251 minutes.\u001b[0m\n",
            "\n",
            "\u001b[1m> Finished chain.\u001b[0m\n",
            "The station with the highest total duration in the wait zone is stn4, with a total duration of 251 minutes.\n"
          ]
        }
      ],
      "source": [
        "output=agent.invoke({\n",
        "   \"input\": \"Which station had the highest total duration in the wait zone?\",\n",
        "    \"date\": datetime.now()\n",
        "})\n",
        "print(output['output'])\n",
        "\n",
        "# Answer: stn4 - 251 minutes\n"
      ]
    },
    {
      "cell_type": "markdown",
      "metadata": {
        "id": "fX4NbrAr9QFg"
      },
      "source": [
        "## Memory in the sql agent\n",
        "We may want the agent to hold memory of our previous messages so that we're able to coherently engage with the agent to answer our queries. In this section, let's take a look at how we can add memory to the agent so that we're able to achieve this outcome!"
      ]
    },
    {
      "cell_type": "code",
      "execution_count": 73,
      "metadata": {
        "id": "exzKbTS99QFg"
      },
      "outputs": [],
      "source": [
        "from langchain_core.runnables.history import RunnableWithMessageHistory\n",
        "from langchain_core.chat_history import BaseChatMessageHistory\n",
        "from langchain_core.messages import BaseMessage\n",
        "from pydantic import BaseModel, Field\n",
        "from typing import List"
      ]
    },
    {
      "cell_type": "markdown",
      "metadata": {
        "id": "mRevYNNm9QFg"
      },
      "source": [
        "In the code snippets below, we create a class to store the chat history in memory. This can be customised to store the messages from a database or any other suitable data store."
      ]
    },
    {
      "cell_type": "code",
      "execution_count": 74,
      "metadata": {
        "id": "6R7zoxd89QFg"
      },
      "outputs": [],
      "source": [
        "class InMemoryHistory(BaseChatMessageHistory, BaseModel):\n",
        "    \"\"\"In memory implementation of chat message history.\"\"\"\n",
        "\n",
        "    messages: List[BaseMessage] = Field(default_factory=list)\n",
        "\n",
        "    def add_messages(self, messages: List[BaseMessage]) -> None:\n",
        "        \"\"\"Add a list of messages to the store\"\"\"\n",
        "        self.messages.extend(messages)\n",
        "\n",
        "    def clear(self) -> None:\n",
        "        self.messages = []\n"
      ]
    },
    {
      "cell_type": "markdown",
      "metadata": {
        "id": "_1GYoAwLC_c7"
      },
      "source": [
        "In the below code snippet, we make use of the [RunnableWithMessageHistory](https://python.langchain.com/api_reference/core/runnables/langchain_core.runnables.history.RunnableWithMessageHistory.html) abstraction to wrap around the agent we've created above to provide the message history to the agent that we can now utilize by chatting with the `agent_with_chat_history` as shown below."
      ]
    },
    {
      "cell_type": "code",
      "execution_count": 75,
      "metadata": {
        "colab": {
          "base_uri": "https://localhost:8080/"
        },
        "id": "3-5w4j_H9QFg",
        "outputId": "24dc77ef-5fb5-4de2-fa18-d20df79b9a12"
      },
      "outputs": [
        {
          "name": "stdout",
          "output_type": "stream",
          "text": [
            "\n",
            "\n",
            "\u001b[1m> Entering new Cohere SQL Agent Executor chain...\u001b[0m\n",
            "\u001b[32;1m\u001b[1;3m\n",
            "Invoking: `sql_db_list_tablessql_db_list_tables` with `{}`\n",
            "responded: I will first check the schema of the available tables. Then, I will query the product_tracking table to find the station with the longest duration on 27th May 2024.\n",
            "\n",
            "\u001b[0msql_db_list_tablessql_db_list_tables is not a valid tool, try one of [sql_db_query, sql_db_schema, sql_db_list_tables, sql_db_query_checker].\u001b[32;1m\u001b[1;3m\n",
            "Invoking: `sql_db_list_tables` with `{}`\n",
            "responded: I will first check the schema of the available tables. Then, I will query the product_tracking table to find the station with the longest duration on 27th May 2024.\n",
            "\n",
            "\u001b[0m\u001b[38;5;200m\u001b[1;3mproduct_tracking, status\u001b[0m\u001b[32;1m\u001b[1;3m\n",
            "Invoking: `sql_db_schema` with `{'table_names': 'product_tracking'}`\n",
            "responded: I will query the product_tracking table to find the station with the longest duration on 27th May 2024.\n",
            "\n",
            "\u001b[0m\u001b[33;1m\u001b[1;3m\n",
            "CREATE TABLE product_tracking (\n",
            "\ttimestamp_start TEXT, \n",
            "\ttimestamp_end TEXT, \n",
            "\ttimezone TEXT, \n",
            "\tdate TEXT, \n",
            "\thour TEXT, \n",
            "\tstation_name TEXT, \n",
            "\tzone TEXT, \n",
            "\tproduct_id TEXT, \n",
            "\tduration TEXT\n",
            ")\n",
            "\n",
            "/*\n",
            "3 rows from product_tracking table:\n",
            "timestamp_start\ttimestamp_end\ttimezone\tdate\thour\tstation_name\tzone\tproduct_id\tduration\n",
            "2024-05-27 17:22:00\t2024-05-27 17:57:00\tCanada/Toronto\t2024-05-27\t17\tstn2\twip\t187\t35\n",
            "2024-04-26 15:56:00\t2024-04-26 17:56:00\tCanada/Toronto\t2024-04-26\t15\tstn4\twip\t299\t120\n",
            "2024-04-12 04:36:00\t2024-04-12 05:12:00\tCanada/Toronto\t2024-04-12\t4\tstn3\twip\t60\t36\n",
            "*/\u001b[0m\u001b[32;1m\u001b[1;3m\n",
            "Invoking: `sql_db_schema` with `{'table_names': 'product_tracking'}`\n",
            "responded: I will query the product_tracking table to find the station with the longest duration on 27th May 2024.\n",
            "\n",
            "\u001b[0m\u001b[33;1m\u001b[1;3m\n",
            "CREATE TABLE product_tracking (\n",
            "\ttimestamp_start TEXT, \n",
            "\ttimestamp_end TEXT, \n",
            "\ttimezone TEXT, \n",
            "\tdate TEXT, \n",
            "\thour TEXT, \n",
            "\tstation_name TEXT, \n",
            "\tzone TEXT, \n",
            "\tproduct_id TEXT, \n",
            "\tduration TEXT\n",
            ")\n",
            "\n",
            "/*\n",
            "3 rows from product_tracking table:\n",
            "timestamp_start\ttimestamp_end\ttimezone\tdate\thour\tstation_name\tzone\tproduct_id\tduration\n",
            "2024-05-27 17:22:00\t2024-05-27 17:57:00\tCanada/Toronto\t2024-05-27\t17\tstn2\twip\t187\t35\n",
            "2024-04-26 15:56:00\t2024-04-26 17:56:00\tCanada/Toronto\t2024-04-26\t15\tstn4\twip\t299\t120\n",
            "2024-04-12 04:36:00\t2024-04-12 05:12:00\tCanada/Toronto\t2024-04-12\t4\tstn3\twip\t60\t36\n",
            "*/\u001b[0m\u001b[32;1m\u001b[1;3m\n",
            "Invoking: `sql_db_query_checker` with `{'query': \"SELECT station_name, duration\\r\\nFROM product_tracking\\r\\nWHERE date = '2024-05-27'\\r\\nORDER BY duration DESC\\r\\nLIMIT 1;\"}`\n",
            "responded: I will query the product_tracking table to find the station with the longest duration on 27th May 2024. I will filter the data for the date '2024-05-27' and order the results by duration in descending order to find the station with the longest duration.\n",
            "\n",
            "\u001b[0m\u001b[36;1m\u001b[1;3m```sql\n",
            "SELECT station_name, duration\n",
            "FROM product_tracking\n",
            "WHERE date = '2024-05-27'\n",
            "ORDER BY duration DESC\n",
            "LIMIT 1;\n",
            "```\u001b[0m\u001b[32;1m\u001b[1;3m\n",
            "Invoking: `sql_db_query` with `{'query': \"SELECT station_name, duration\\nFROM product_tracking\\nWHERE date = '2024-05-27'\\nORDER BY duration DESC\\nLIMIT 1;\"}`\n",
            "responded: I will now execute the SQL query to find the station with the longest duration on 27th May 2024.\n",
            "\n",
            "\u001b[0m\u001b[36;1m\u001b[1;3m[('stn2', '35')]\u001b[0m\u001b[32;1m\u001b[1;3mThe station with the longest duration on 27th May 2024 was stn2 with a duration of 35 minutes.\u001b[0m\n",
            "\n",
            "\u001b[1m> Finished chain.\u001b[0m\n",
            "The station with the longest duration on 27th May 2024 was stn2 with a duration of 35 minutes.\n"
          ]
        }
      ],
      "source": [
        "store = {}\n",
        "\n",
        "\n",
        "def get_by_session_id(session_id: str):\n",
        "    if session_id not in store:\n",
        "        store[session_id] = InMemoryHistory()\n",
        "    return store[session_id]\n",
        "\n",
        "\n",
        "agent_with_chat_history = RunnableWithMessageHistory(\n",
        "    agent, get_by_session_id, history_messages_key=\"chat_history\"\n",
        ")\n",
        "\n",
        "output = agent_with_chat_history.invoke(\n",
        "    {\n",
        "        \"input\": \"What station had the longest duration on 27th May 2024?\",\n",
        "        \"date\": datetime.now(),\n",
        "    },\n",
        "    config={\"configurable\": {\"session_id\": \"foo\"}},\n",
        ")\n",
        "print(output[\"output\"])\n",
        "\n",
        "# Answer: stn2, with duration of 35 mins."
      ]
    },
    {
      "cell_type": "code",
      "execution_count": 76,
      "metadata": {
        "colab": {
          "base_uri": "https://localhost:8080/"
        },
        "id": "LM_ybIgx9QFg",
        "outputId": "7a5dae65-8348-42aa-bb4c-a3ddb11ee7d9"
      },
      "outputs": [
        {
          "name": "stdout",
          "output_type": "stream",
          "text": [
            "\n",
            "\n",
            "\u001b[1m> Entering new Cohere SQL Agent Executor chain...\u001b[0m\n",
            "\u001b[32;1m\u001b[1;3m\n",
            "Invoking: `sql_db_list_tablessql_db_list_tables` with `{}`\n",
            "responded: I will first check the schema of the available tables. Then, I will query the database to find out when the station had downtime on 2024-04-03.\n",
            "\n",
            "\u001b[0msql_db_list_tablessql_db_list_tables is not a valid tool, try one of [sql_db_query, sql_db_schema, sql_db_list_tables, sql_db_query_checker].\u001b[32;1m\u001b[1;3m\n",
            "Invoking: `sql_db_list_tables` with `{}`\n",
            "responded: I will first check the schema of the available tables. Then, I will query the database to find out when the station had downtime on 2024-04-03.\n",
            "\n",
            "\u001b[0m\u001b[38;5;200m\u001b[1;3mproduct_tracking, status\u001b[0m\u001b[32;1m\u001b[1;3m\n",
            "Invoking: `sql_db_schema` with `{'table_names': 'product_tracking, status'}`\n",
            "responded: I have found that there are two tables: product_tracking and status. I will now check the schema of these tables.\n",
            "\n",
            "\u001b[0m\u001b[33;1m\u001b[1;3m\n",
            "CREATE TABLE product_tracking (\n",
            "\ttimestamp_start TEXT, \n",
            "\ttimestamp_end TEXT, \n",
            "\ttimezone TEXT, \n",
            "\tdate TEXT, \n",
            "\thour TEXT, \n",
            "\tstation_name TEXT, \n",
            "\tzone TEXT, \n",
            "\tproduct_id TEXT, \n",
            "\tduration TEXT\n",
            ")\n",
            "\n",
            "/*\n",
            "3 rows from product_tracking table:\n",
            "timestamp_start\ttimestamp_end\ttimezone\tdate\thour\tstation_name\tzone\tproduct_id\tduration\n",
            "2024-05-27 17:22:00\t2024-05-27 17:57:00\tCanada/Toronto\t2024-05-27\t17\tstn2\twip\t187\t35\n",
            "2024-04-26 15:56:00\t2024-04-26 17:56:00\tCanada/Toronto\t2024-04-26\t15\tstn4\twip\t299\t120\n",
            "2024-04-12 04:36:00\t2024-04-12 05:12:00\tCanada/Toronto\t2024-04-12\t4\tstn3\twip\t60\t36\n",
            "*/\n",
            "\n",
            "\n",
            "CREATE TABLE status (\n",
            "\ttimestamp_event TEXT, \n",
            "\ttimezone TEXT, \n",
            "\tdate TEXT, \n",
            "\thour TEXT, \n",
            "\tminute TEXT, \n",
            "\tstation_name TEXT, \n",
            "\tstation_status TEXT\n",
            ")\n",
            "\n",
            "/*\n",
            "3 rows from status table:\n",
            "timestamp_event\ttimezone\tdate\thour\tminute\tstation_name\tstation_status\n",
            "2024-05-09 19:28:00\tCanada/Toronto\t2024-05-09\t19\t28\tstn3\tdowntime\n",
            "2024-04-21 06:57:00\tCanada/Toronto\t2024-04-21\t6\t57\tstn3\tproductive\n",
            "2024-04-11 23:52:00\tCanada/Toronto\t2024-04-11\t23\t52\tstn4\tproductive\n",
            "*/\u001b[0m\u001b[32;1m\u001b[1;3m\n",
            "Invoking: `sql_db_schema` with `{'table_names': 'product_tracking, status'}`\n",
            "responded: I have found that there are two tables: product_tracking and status. I will now check the schema of these tables.\n",
            "\n",
            "\u001b[0m\u001b[33;1m\u001b[1;3m\n",
            "CREATE TABLE product_tracking (\n",
            "\ttimestamp_start TEXT, \n",
            "\ttimestamp_end TEXT, \n",
            "\ttimezone TEXT, \n",
            "\tdate TEXT, \n",
            "\thour TEXT, \n",
            "\tstation_name TEXT, \n",
            "\tzone TEXT, \n",
            "\tproduct_id TEXT, \n",
            "\tduration TEXT\n",
            ")\n",
            "\n",
            "/*\n",
            "3 rows from product_tracking table:\n",
            "timestamp_start\ttimestamp_end\ttimezone\tdate\thour\tstation_name\tzone\tproduct_id\tduration\n",
            "2024-05-27 17:22:00\t2024-05-27 17:57:00\tCanada/Toronto\t2024-05-27\t17\tstn2\twip\t187\t35\n",
            "2024-04-26 15:56:00\t2024-04-26 17:56:00\tCanada/Toronto\t2024-04-26\t15\tstn4\twip\t299\t120\n",
            "2024-04-12 04:36:00\t2024-04-12 05:12:00\tCanada/Toronto\t2024-04-12\t4\tstn3\twip\t60\t36\n",
            "*/\n",
            "\n",
            "\n",
            "CREATE TABLE status (\n",
            "\ttimestamp_event TEXT, \n",
            "\ttimezone TEXT, \n",
            "\tdate TEXT, \n",
            "\thour TEXT, \n",
            "\tminute TEXT, \n",
            "\tstation_name TEXT, \n",
            "\tstation_status TEXT\n",
            ")\n",
            "\n",
            "/*\n",
            "3 rows from status table:\n",
            "timestamp_event\ttimezone\tdate\thour\tminute\tstation_name\tstation_status\n",
            "2024-05-09 19:28:00\tCanada/Toronto\t2024-05-09\t19\t28\tstn3\tdowntime\n",
            "2024-04-21 06:57:00\tCanada/Toronto\t2024-04-21\t6\t57\tstn3\tproductive\n",
            "2024-04-11 23:52:00\tCanada/Toronto\t2024-04-11\t23\t52\tstn4\tproductive\n",
            "*/\u001b[0m\u001b[32;1m\u001b[1;3m\n",
            "Invoking: `sql_db_query` with `{'query': \"SELECT timestamp_event, station_name\\r\\nFROM status\\r\\nWHERE date = '2024-04-03'\\r\\nAND station_status = 'downtime';\"}`\n",
            "responded: I have found that the status table contains information about downtime. I will now query the database to find out when the station had downtime on 2024-04-03.\n",
            "\n",
            "\u001b[0m\u001b[36;1m\u001b[1;3m[('2024-04-03 21:52:00', 'stn2')]\u001b[0m\u001b[32;1m\u001b[1;3m\n",
            "Invoking: `sql_db_query` with `{'query': \"SELECT timestamp_event, station_name\\r\\nFROM status\\r\\nWHERE date = '2024-04-03'\\r\\nAND station_status = 'downtime';\"}`\n",
            "responded: I have found that the status table contains information about downtime. I will now query the database to find out when the station had downtime on 2024-04-03.\n",
            "\n",
            "\u001b[0m\u001b[36;1m\u001b[1;3m[('2024-04-03 21:52:00', 'stn2')]\u001b[0m\u001b[32;1m\u001b[1;3mThe station stn2 had downtime at 21:52 on 2024-04-03.\u001b[0m\n",
            "\n",
            "\u001b[1m> Finished chain.\u001b[0m\n",
            "The station stn2 had downtime at 21:52 on 2024-04-03.\n"
          ]
        }
      ],
      "source": [
        "output = agent_with_chat_history.invoke(\n",
        "    {\n",
        "        \"input\": \"Can you tell me when this station had downtime on 2024-04-03?\",\n",
        "        \"date\": datetime.now(),\n",
        "    },\n",
        "    config={\"configurable\": {\"session_id\": \"foo\"}},\n",
        ")\n",
        "print(output[\"output\"])\n",
        "\n",
        "# Answer: 21:52:00"
      ]
    },
    {
      "cell_type": "markdown",
      "metadata": {
        "id": "KMHm5rux9QFg"
      },
      "source": [
        "We can see from the above code snippets that the agent is automatically able to infer and query with respect to 'stn2' in the above question without us having to specify it explicitly. This allows us to have more coherent conversations with the agent."
      ]
    },
    {
      "cell_type": "markdown",
      "metadata": {
        "id": "bzx-fIOYyTQo"
      },
      "source": [
        "## Conclusion\n",
        "This tutorial demonstrated how to create a SQL agent using Cohere and LangChain. The agent can translate natural language queries coming from users into SQL, and execute them against a database. This powerful combination allows for intuitive interaction with databases without requiring direct SQL knowledge.\n"
      ]
    }
  ],
  "metadata": {
    "colab": {
      "provenance": []
    },
    "kernelspec": {
      "display_name": "base",
      "language": "python",
      "name": "base"
    },
    "language_info": {
      "codemirror_mode": {
        "name": "ipython",
        "version": 3
      },
      "file_extension": ".py",
      "mimetype": "text/x-python",
      "name": "python",
      "nbconvert_exporter": "python",
      "pygments_lexer": "ipython3",
      "version": "3.11.4"
    }
  },
  "nbformat": 4,
  "nbformat_minor": 0
}
