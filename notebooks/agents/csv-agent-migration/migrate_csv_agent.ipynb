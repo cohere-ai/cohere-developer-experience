{
  "cells": [
    {
      "cell_type": "markdown",
      "metadata": {
        "id": "U4pmg1xJnNqu"
      },
      "source": [
        "# How to use the CSV Agent with LangChain-Cohere"
      ]
    },
    {
      "cell_type": "markdown",
      "metadata": {
        "id": "ZUKeJF3pnNqw"
      },
      "source": [
        "The create_csv_agent abstraction offered by langchain-cohere is a powerful agent abstraction to seamlessly integrates natural language processing with CSV datasets.\n",
        "\n",
        "In this cookbook, we will explore how to build a similar CSV agent, without the create_csv_agent abstraction, that can be used as a replacement for the create_csv_agent provided which is now sunset from the langchain-cohere package version 0.3.5 onwards."
      ]
    },
    {
      "cell_type": "markdown",
      "metadata": {
        "id": "ZwHFgviAnNqw"
      },
      "source": [
        "## Building the CSV agent -- without the create_csv_agent abstraction"
      ]
    },
    {
      "cell_type": "code",
      "execution_count": null,
      "metadata": {
        "id": "-b7FgyJanNqx"
      },
      "outputs": [],
      "source": [
        "!pip install langchain langchain-core langchain-experimental langchain-cohere pandas -qq"
      ]
    },
    {
      "cell_type": "code",
      "execution_count": null,
      "metadata": {
        "id": "el_5El77nNqx"
      },
      "outputs": [],
      "source": [
        "# Import packages\n",
        "from datetime import datetime\n",
        "from io import IOBase\n",
        "from typing import List, Optional, Union\n",
        "import pandas as pd\n",
        "from pydantic import BaseModel, Field\n",
        "\n",
        "from langchain.agents import AgentExecutor, create_tool_calling_agent\n",
        "from langchain_core.language_models import BaseLanguageModel\n",
        "from langchain_core.messages import BaseMessage, HumanMessage, SystemMessage\n",
        "from langchain_core.prompts import (\n",
        "    ChatPromptTemplate,\n",
        "    MessagesPlaceholder,\n",
        ")\n",
        "\n",
        "from langchain_core.tools import Tool, BaseTool\n",
        "from langchain_core.prompts.chat import (\n",
        "    BaseMessagePromptTemplate,\n",
        "    HumanMessagePromptTemplate,\n",
        ")\n",
        "\n",
        "from langchain_experimental.tools.python.tool import PythonAstREPLTool\n",
        "from langchain_cohere.chat_models import ChatCohere\n"
      ]
    },
    {
      "cell_type": "code",
      "source": [
        "# Replace this cell with your actual cohere api key\n",
        "os.env[\"COHERE_API_KEY\"] = \"cohere_api_key\""
      ],
      "metadata": {
        "id": "_0Uo2185rr5E"
      },
      "execution_count": null,
      "outputs": []
    },
    {
      "cell_type": "code",
      "execution_count": null,
      "metadata": {
        "id": "JbpvxSudnNqx"
      },
      "outputs": [],
      "source": [
        "# Define prompts that we want to use in the csv agent\n",
        "FUNCTIONS_WITH_DF = \"\"\"\n",
        "This is the result of `print(df.head())`:\n",
        "{df_head}\n",
        "\n",
        "Do note that the above df isn't the complete df. It is only the first {number_of_head_rows} rows of the df.\n",
        "Use this as a sample to understand the structure of the df. However, donot use this to make any calculations directly!\n",
        "\n",
        "The complete path for the csv files are for the corresponding dataframe is:\n",
        "{csv_path}\n",
        "\"\"\"  # noqa E501\n",
        "\n",
        "FUNCTIONS_WITH_MULTI_DF = \"\"\"\n",
        "This is the result of `print(df.head())` for each dataframe:\n",
        "{dfs_head}\n",
        "\n",
        "Do note that the above dfs aren't the complete df. It is only the first {number_of_head_rows} rows of the df.\n",
        "Use this as a sample to understand the structure of the df. However, donot use this to make any calculations directly!\n",
        "\n",
        "The complete path for the csv files are for the corresponding dataframes are:\n",
        "{csv_paths}\n",
        "\"\"\"  # noqa E501\n",
        "\n",
        "PREFIX_FUNCTIONS = \"\"\"\n",
        "You are working with a pandas dataframe in Python. The name of the dataframe is `df`.\"\"\"  # noqa E501\n",
        "\n",
        "MULTI_DF_PREFIX_FUNCTIONS = \"\"\"\n",
        "You are working with {num_dfs} pandas dataframes in Python named df1, df2, etc.\"\"\"  # noqa E501\n",
        "\n",
        "CSV_PREAMBLE = \"\"\"## Task And Context\n",
        "You use your advanced complex reasoning capabilities to help people by answering their questions and other requests interactively. You will be asked a very wide array of requests on all kinds of topics. You will be equipped with a wide range of search engines or similar tools to help you, which you use to research your answer. You may need to use multiple tools in parallel or sequentially to complete your task. You should focus on serving the user's needs as best you can, which will be wide-ranging. The current date is {current_date}\n",
        "\n",
        "## Style Guide\n",
        "Unless the user asks for a different style of answer, you should answer in full sentences, using proper grammar and spelling\n",
        "\"\"\"  # noqa E501\n"
      ]
    },
    {
      "cell_type": "markdown",
      "metadata": {
        "id": "SEnhpE_bnNqy"
      },
      "source": [
        "### Define tools necessary for the agent\n",
        "The above cell introduces a suite of tools that are provided to the csv agent. These tools allow the agent to fcilitate meaningful interactions with uploaded files and providing Python code execution functionality. The toolkit comprises three main components:\n",
        "\n",
        "\n",
        "**File Peek Tool**: Offers a convenient way to inspect a CSV file by providing a quick preview of the first few rows in a Markdown format, making it easy to get a glimpse of the data.\n",
        "\n",
        "**File Read Tool**: Allows for a comprehensive exploration of the CSV file by reading and presenting its full contents in a user-friendly Markdown format.\n",
        "\n",
        "**Python Interpreter Tool**: Enables secure execution of Python code within a sandboxed environment, providing users with the output of the code execution."
      ]
    },
    {
      "cell_type": "code",
      "execution_count": null,
      "metadata": {
        "id": "9IcFAioxnNqy"
      },
      "outputs": [],
      "source": [
        "# Define tools that we want the csv agent to have access to\n",
        "\n",
        "def get_file_peek_tool() -> Tool:\n",
        "    def file_peek(filename: str, num_rows: int = 5) -> str:\n",
        "        \"\"\"Returns the first textual contents of an uploaded file\n",
        "\n",
        "        Args:\n",
        "            table_path: the table path\n",
        "            num_rows: the number of rows of the table to preview.\n",
        "        \"\"\"  # noqa E501\n",
        "        if \".csv\" in filename:\n",
        "            return pd.read_csv(filename).head(num_rows).to_markdown()\n",
        "        else:\n",
        "            return \"the table_path was not recognised\"\n",
        "\n",
        "    class file_peek_inputs(BaseModel):\n",
        "        filename: str = Field(\n",
        "            description=\"The name of the attached file to show a peek preview.\"\n",
        "        )\n",
        "\n",
        "    file_peek_tool = Tool(\n",
        "        name=\"file_peek\",\n",
        "        description=\"The name of the attached file to show a peek preview.\",  # noqa E501\n",
        "        func=file_peek,\n",
        "        args_schema=file_peek_inputs,\n",
        "    )\n",
        "\n",
        "    return file_peek_tool\n",
        "\n",
        "\n",
        "def get_file_read_tool() -> Tool:\n",
        "    def file_read(filename: str) -> str:\n",
        "        \"\"\"Returns the textual contents of an uploaded file, broken up in text chunks\n",
        "\n",
        "        Args:\n",
        "            filename (str): The name of the attached file to read.\n",
        "        \"\"\"  # noqa E501\n",
        "        if \".csv\" in filename:\n",
        "            return pd.read_csv(filename).to_markdown()\n",
        "        else:\n",
        "            return \"the table_path was not recognised\"\n",
        "\n",
        "    class file_read_inputs(BaseModel):\n",
        "        filename: str = Field(description=\"The name of the attached file to read.\")\n",
        "\n",
        "    file_read_tool = Tool(\n",
        "        name=\"file_read\",\n",
        "        description=\"Returns the textual contents of an uploaded file, broken up in text chunks\",  # noqa E501\n",
        "        func=file_read,\n",
        "        args_schema=file_read_inputs,\n",
        "    )\n",
        "\n",
        "    return file_read_tool\n",
        "\n",
        "\n",
        "def get_python_tool() -> Tool:\n",
        "    \"\"\"Returns a tool that will execute python code and return the output.\"\"\"\n",
        "\n",
        "    def python_interpreter(code: str) -> str:\n",
        "        \"\"\"A function that will return the output of the python code.\n",
        "\n",
        "        Args:\n",
        "            code: the python code to run.\n",
        "        \"\"\"\n",
        "        return python_repl.run(code)\n",
        "\n",
        "    python_repl = PythonAstREPLTool()\n",
        "    python_tool = Tool(\n",
        "        name=\"python_interpreter\",\n",
        "        description=\"Executes python code and returns the result. The code runs in a static sandbox without interactive mode, so print output or save output to a file.\",  # noqa E501\n",
        "        func=python_interpreter,\n",
        "    )\n",
        "\n",
        "    class PythonToolInput(BaseModel):\n",
        "        code: str = Field(description=\"Python code to execute.\")\n",
        "\n",
        "    python_tool.args_schema = PythonToolInput\n",
        "    return python_tool\n"
      ]
    },
    {
      "cell_type": "markdown",
      "source": [
        "### Create helper functions\n",
        "In the cell below, we will create some important helper functions that we can call to properly assemble the full prompt that the csv agent can utilize."
      ],
      "metadata": {
        "id": "0thbLiEsqtDM"
      }
    },
    {
      "cell_type": "code",
      "source": [
        "def create_prompt(\n",
        "    system_message: Optional[BaseMessage] = SystemMessage(\n",
        "        content=\"You are a helpful AI assistant.\"\n",
        "    ),\n",
        "    extra_prompt_messages: Optional[List[BaseMessagePromptTemplate]] = None,\n",
        ") -> ChatPromptTemplate:\n",
        "    \"\"\"Create prompt for this agent.\n",
        "\n",
        "    Args:\n",
        "        system_message: Message to use as the system message that will be the\n",
        "            first in the prompt.\n",
        "        extra_prompt_messages: Prompt messages that will be placed between the\n",
        "            system message and the new human input.\n",
        "\n",
        "    Returns:\n",
        "        A prompt template to pass into this agent.\n",
        "    \"\"\"\n",
        "    _prompts = extra_prompt_messages or []\n",
        "    messages: List[Union[BaseMessagePromptTemplate, BaseMessage]]\n",
        "    if system_message:\n",
        "        messages = [system_message]\n",
        "    else:\n",
        "        messages = []\n",
        "\n",
        "    messages.extend(\n",
        "        [\n",
        "            *_prompts,\n",
        "            HumanMessagePromptTemplate.from_template(\"{input}\"),\n",
        "            MessagesPlaceholder(variable_name=\"agent_scratchpad\"),\n",
        "        ]\n",
        "    )\n",
        "    return ChatPromptTemplate(messages=messages)\n",
        "\n",
        "\n",
        "def _get_csv_head_str(path: str, number_of_head_rows: int) -> str:\n",
        "    with open(path, \"r\") as file:\n",
        "        lines = []\n",
        "        for _ in range(number_of_head_rows):\n",
        "            lines.append(file.readline().strip(\"\\n\"))\n",
        "        # validate that the head contents are well formatted csv\n",
        "\n",
        "        return \" \".join(lines)\n",
        "\n",
        "\n",
        "def _get_prompt(\n",
        "    path: Union[str, List[str]], number_of_head_rows: int\n",
        ") -> ChatPromptTemplate:\n",
        "    if isinstance(path, str):\n",
        "        lines = _get_csv_head_str(path, number_of_head_rows)\n",
        "        prompt_message = f\"The user uploaded the following attachments:\\nFilename: {path}\\nWord Count: {count_words_in_file(path)}\\nPreview: {lines}\"  # noqa: E501\n",
        "\n",
        "    elif isinstance(path, list):\n",
        "        prompt_messages = []\n",
        "        for file_path in path:\n",
        "            lines = _get_csv_head_str(file_path, number_of_head_rows)\n",
        "            prompt_messages.append(\n",
        "                f\"The user uploaded the following attachments:\\nFilename: {file_path}\\nWord Count: {count_words_in_file(file_path)}\\nPreview: {lines}\"  # noqa: E501\n",
        "            )\n",
        "        prompt_message = \" \".join(prompt_messages)\n",
        "\n",
        "    prompt = create_prompt(system_message=HumanMessage(prompt_message))\n",
        "    return prompt\n",
        "\n",
        "\n",
        "def count_words_in_file(file_path: str) -> int:\n",
        "    try:\n",
        "        with open(file_path, \"r\") as file:\n",
        "            content = file.readlines()\n",
        "            words = [len(sentence.split()) for sentence in content]\n",
        "            return sum(words)\n",
        "    except FileNotFoundError:\n",
        "        print(\"File not found.\")\n",
        "        return 0\n",
        "    except Exception as e:\n",
        "        print(\"An error occurred:\", str(e))\n",
        "        return 0"
      ],
      "metadata": {
        "id": "nF5RazUAq7Ss"
      },
      "execution_count": null,
      "outputs": []
    },
    {
      "cell_type": "markdown",
      "source": [
        "### Build the core csv agent abstraction\n",
        "The cells below outline the assembly of the various components to build an agent abstraction tailored for intelligent CSV file interactions. We use langchain to provide the agent that has access to the tools declared above, along with additional capabilities to provide additional tools if needed, and put together an agentic abstraction using the prompts defined earlier to deliver an abstraction that can easily be called for natural language querying over csv files!"
      ],
      "metadata": {
        "id": "TAKiKgUSq85i"
      }
    },
    {
      "cell_type": "code",
      "execution_count": null,
      "metadata": {
        "id": "3rRfDbRgnNqz"
      },
      "outputs": [],
      "source": [
        "# Build the agent abstraction itself\n",
        "def create_csv_agent(\n",
        "    llm: BaseLanguageModel,\n",
        "    path: Union[str, List[str]],\n",
        "    extra_tools: List[BaseTool] = [],\n",
        "    pandas_kwargs: Optional[dict] = None,\n",
        "    prompt: Optional[ChatPromptTemplate] = None,\n",
        "    number_of_head_rows: int = 5,\n",
        "    verbose: bool = True,\n",
        "    return_intermediate_steps: bool = True,\n",
        ") -> AgentExecutor:\n",
        "    \"\"\"Create csv agent with the specified language model.\n",
        "\n",
        "    Args:\n",
        "        llm: Language model to use for the agent.\n",
        "        path: A string path, or a list of string paths\n",
        "            that can be read in as pandas DataFrames with pd.read_csv().\n",
        "        number_of_head_rows: Number of rows to display in the prompt for sample data\n",
        "        include_df_in_prompt: Display the DataFrame sample values in the prompt.\n",
        "        pandas_kwargs: Named arguments to pass to pd.read_csv().\n",
        "        prefix: Prompt prefix string.\n",
        "        suffix: Prompt suffix string.\n",
        "        prompt: Prompt to use for the agent. This takes precedence over the other prompt arguments, such as suffix and prefix.\n",
        "        temp_path_dir: Temporary directory to store the csv files in for the python repl.\n",
        "        delete_temp_path: Whether to delete the temporary directory after the agent is done. This only works if temp_path_dir is not provided.\n",
        "\n",
        "    Returns:\n",
        "        An AgentExecutor with the specified agent_type agent and access to\n",
        "        a PythonREPL and any user-provided extra_tools.\n",
        "\n",
        "    Example:\n",
        "        .. code-block:: python\n",
        "\n",
        "            from langchain_cohere import ChatCohere, create_csv_agent\n",
        "\n",
        "            llm = ChatCohere(model=\"command-a-03-2025\", temperature=0)\n",
        "            agent_executor = create_csv_agent(\n",
        "                llm,\n",
        "                \"titanic.csv\"\n",
        "            )\n",
        "            resp = agent_executor.invoke({\"input\":\"How many people were on the titanic?\"})\n",
        "            print(resp.get(\"output\"))\n",
        "    \"\"\"  # noqa: E501\n",
        "    try:\n",
        "        import pandas as pd\n",
        "    except ImportError:\n",
        "        raise ImportError(\n",
        "            \"pandas package not found, please install with `pip install pandas`.\"\n",
        "        )\n",
        "\n",
        "    _kwargs = pandas_kwargs or {}\n",
        "    if isinstance(path, (str)):\n",
        "        df = pd.read_csv(path, **_kwargs)\n",
        "\n",
        "    elif isinstance(path, list):\n",
        "        df = []\n",
        "        for item in path:\n",
        "            if not isinstance(item, (str, IOBase)):\n",
        "                raise ValueError(f\"Expected str or file-like object, got {type(path)}\")\n",
        "            df.append(pd.read_csv(item, **_kwargs))\n",
        "    else:\n",
        "        raise ValueError(f\"Expected str, list, or file-like object, got {type(path)}\")\n",
        "\n",
        "    if not prompt:\n",
        "        prompt = _get_prompt(path, number_of_head_rows)\n",
        "\n",
        "    final_tools = [\n",
        "        get_file_read_tool(),\n",
        "        get_file_peek_tool(),\n",
        "        get_python_tool(),\n",
        "    ] + extra_tools\n",
        "    if \"preamble\" in llm.__dict__ and not llm.__dict__.get(\"preamble\"):\n",
        "        llm = ChatCohere(**llm.__dict__)\n",
        "        llm.preamble = CSV_PREAMBLE.format(\n",
        "            current_date=datetime.now().strftime(\"%A, %B %d, %Y %H:%M:%S\")\n",
        "        )\n",
        "\n",
        "    agent = create_tool_calling_agent(llm=llm, tools=final_tools, prompt=prompt)\n",
        "    agent_executor = AgentExecutor(\n",
        "        agent=agent,\n",
        "        tools=final_tools,\n",
        "        verbose=verbose,\n",
        "        return_intermediate_steps=return_intermediate_steps,\n",
        "    )\n",
        "    return agent_executor\n"
      ]
    },
    {
      "cell_type": "markdown",
      "source": [
        "# Using the CSV agent"
      ],
      "metadata": {
        "id": "5s5jB8SFn2ij"
      }
    },
    {
      "cell_type": "markdown",
      "source": [
        "Let's create a dummy CSV file for demo"
      ],
      "metadata": {
        "id": "txTve0kln4Br"
      }
    },
    {
      "cell_type": "code",
      "execution_count": null,
      "metadata": {
        "id": "MV_ZLmORnNqz",
        "outputId": "e8b68e2b-61ee-4d2a-e50f-609f6e2a7286"
      },
      "outputs": [
        {
          "name": "stdout",
          "output_type": "stream",
          "text": [
            "CSV file created successfully at movies_tickets.csv.\n"
          ]
        }
      ],
      "source": [
        "import csv\n",
        "\n",
        "# Data to be written to the CSV file\n",
        "data = [\n",
        "    [\"movie\", \"name\", \"num_tickets\"],\n",
        "    [\"The Shawshank Redemption\", \"John\", 2],\n",
        "    [\"The Shawshank Redemption\", \"Jerry\", 2],\n",
        "    [\"The Shawshank Redemption\", \"Jack\", 4],\n",
        "    [\"The Shawshank Redemption\", \"Jeremy\", 2],\n",
        "    [\"Finding Nemo\", \"Darren\", 3],\n",
        "    [\"Finding Nemo\", \"Jones\", 2],\n",
        "    [\"Finding Nemo\", \"King\", 1],\n",
        "    [\"Finding Nemo\", \"Penelope\", 5],\n",
        "]\n",
        "\n",
        "file_path = \"movies_tickets.csv\"\n",
        "\n",
        "with open(file_path, \"w\", newline=\"\") as file:\n",
        "    writer = csv.writer(file)\n",
        "    writer.writerows(data)\n",
        "\n",
        "print(f\"CSV file created successfully at {file_path}.\")\n"
      ]
    },
    {
      "cell_type": "markdown",
      "source": [
        "Let's use our CSV Agent to interact with the CSV file"
      ],
      "metadata": {
        "id": "479uUtDen6Rk"
      }
    },
    {
      "cell_type": "code",
      "execution_count": null,
      "metadata": {
        "id": "Yfkdk8qCnNq0",
        "outputId": "7bba6d0e-c59d-4750-e65a-cf66999104c3"
      },
      "outputs": [
        {
          "name": "stdout",
          "output_type": "stream",
          "text": [
            "\n",
            "\n",
            "\u001b[1m> Entering new AgentExecutor chain...\u001b[0m\n",
            "\u001b[32;1m\u001b[1;3m\n",
            "Invoking: `python_interpreter` with `{'code': 'import csv\\n\\nlines = csv.reader(open(\\'movies_tickets.csv\\', \"r\"))\\n\\nshawshank_redemption_watchers = []\\n\\nfor i, line in enumerate(lines):\\n    if i == 0:\\n        continue\\n    if line[0] == \\'The Shawshank Redemption\\':\\n        shawshank_redemption_watchers.append(line[1])\\n\\nprint(f\"People who watched Shawshank Redemption: {shawshank_redemption_watchers}\")'}`\n",
            "responded: I will use Python to read the CSV file and find out who watched Shawshank Redemption.\n",
            "\n",
            "\u001b[0m\u001b[38;5;200m\u001b[1;3mPeople who watched Shawshank Redemption: ['John', 'Jerry', 'Jack', 'Jeremy']\n",
            "\u001b[0m\u001b[32;1m\u001b[1;3mJohn, Jerry, Jack and Jeremy watched Shawshank Redemption.\u001b[0m\n",
            "\n",
            "\u001b[1m> Finished chain.\u001b[0m\n",
            "John, Jerry, Jack and Jeremy watched Shawshank Redemption.\n"
          ]
        }
      ],
      "source": [
        "# Try out an example\n",
        "llm = ChatCohere(model=\"command-a-03-2025\", temperature=0)\n",
        "agent_executor = create_csv_agent(\n",
        "                llm,\n",
        "                \"movies_tickets.csv\")\n",
        "resp = agent_executor.invoke({\"input\":\"Who all watched Shawshank redemption?\"})\n",
        "print(resp.get(\"output\"))"
      ]
    }
  ],
  "metadata": {
    "kernelspec": {
      "display_name": "venv",
      "language": "python",
      "name": "python3"
    },
    "language_info": {
      "codemirror_mode": {
        "name": "ipython",
        "version": 3
      },
      "file_extension": ".py",
      "mimetype": "text/x-python",
      "name": "python",
      "nbconvert_exporter": "python",
      "pygments_lexer": "ipython3",
      "version": "3.11.9"
    },
    "colab": {
      "provenance": [],
      "collapsed_sections": [
        "SEnhpE_bnNqy"
      ]
    }
  },
  "nbformat": 4,
  "nbformat_minor": 0
}