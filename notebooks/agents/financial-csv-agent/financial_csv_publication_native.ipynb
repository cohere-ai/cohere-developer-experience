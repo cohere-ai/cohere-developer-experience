{
 "cells": [
  {
   "cell_type": "markdown",
   "id": "549c3504",
   "metadata": {},
   "source": [
    "![Cohere-Logo-Color-RGB.png](data:image/png;base64,iVBORw0KGgoAAAANSUhEUgAAAuMAAADwCAYAAACqoGq4AAAACXBIWXMAAC4jAAAuIwF4pT92AAAgAElEQVR4nO3dvVYbydbG8Z53TY5jEnMSUmsSpWYihWaU4cT4CqzJnBlnZANXYJFApoFQkUWqZERKclBCeqwr8LsK757pYemzPnrvav1/a5HMOYZWq7vqqd3VVT99//69AAAAAFC//+OcAwAAADoI4wAAAIASwjgAAACghDAOAAAAKCGMAwAAAEoI4wAAAIASwjgAAACghDAOAAAAKCGMAwAAAEoI4wAAAIASwjgAAACghDAOAAAAKCGMAwAAAEoI4wAAAIASwjgAAACghDAOAAAAKCGMAwAAAEoI4wAAAIASwjgAAACghDAOAAAAKCGMAwAAAEoI4wAAAIASwjgAAACghDAOAAAAKCGMAwAAAEoI4wAAAIASwjgAAACghDAOAAAAKCGMAwAAAEoI4wAAAIASwjgAAACghDAOAAAAKCGMAwAAAEoI4wAAAIASwjgAAACghDAOAAAAKCGMAwAAAEoI4wAAAIASwjgAAACghDAOAAAAKCGMAwAAAEoI4wAAAIASwjgAAACghDAOAAAAKCGMAwAAAEoI4wAAAIASwjgAAACghDAOAAAAKCGMAwAAAEoI4wAAAIASwjgAAACghDAOAAAAKCGMAwAAAEoI4wAAAIASwjgAAACghDAOAAAAKCGMAwAAAEoI4wAAAIASwjgAAACghDAOAAAAKCGMAwAAAEoI4wAAAIASwjgAAACghDAOAAAAKCGMAwAAAEoI4wAAAIASwjgAAACghDAOAAAAKCGMAwAAAEp+5sTXq93tHBRF4X5aRVHsFUXxqsEf97YoioeiKEZFUVyPB8NvBo4JaKR2t/OiKIqe/Ows+YzuvuyNB8MJVwIA6Pvp+/fvfA2Jtbud46IoDouieNPoD7raRVEU/fFgOLJ+oEBu2t3OZIPB/cwVBQjkAKCPMJ5Iu9txVe/jNapU24jKHBCRDPi/bPgb78aDYYvvAQB0EcYjqzwq/tSoD5bG+Xgw7DXxgwF1anc77mnTa48/+QuDYgDQxQucEUl16oEgvrYP7tG6DGAA1I97DwCUEcYjcGGy3e1cy2NipqRsxs1xfWh3OzwuBwAAW4cwHkhC5ISXM4O4AcyIQA4AALYNYTxAu9s5lGX7Xmb7IexwgbzPlBUAALBNCOOeZH74n0xLicpNWek36PMAAAAsRRj3IBXxTZcRw3reyPkFAABoPML4hmReM9XbtJiuAgAAtgJhfAMSEK+ZmpLcjqzVDgAA0GiE8c30eVmzNoRxAADQeITxNck8ZpYvrM+OvCQLAADQWITxNcj0FOaJ148XOQEAQKMRxtfTY564ioMt/MwAAGCLEMZXaHc7e0VRfDJ9kM21w66cAACgyQjjqzFvWdfeNn94AADQbITx1VjVQxeVcQAA0FiE8SVkNQ/migMAACAJwvhyrOYBAACAZAjjy7GuOAAAAJIhjC/Q7nZYVg8AAABJEcYXI4wDAAAgqZ85vQuxiocNo20/AaUVT2u+jQfDSb1HlB9Zt/7FggPnHEaw5Drl/M6x4pqcjAfDb6oHuIVyv4Zlf5RFywJzHxr00/fv37f9HMzV7nbcxfrK4KFtm/+MB8OHbfrM0jkfyIDQNaivN/wVt0VRuHPmruHRNja8c85ha8OVkbI6h+1uZ+RxnTi/jgdDrwGvdPiHHtfpTM7rRAbbo20InBLwWp739bRyPZbX5Fa1iym0u50X0k5Uv5tV7YT7LnrjwfDawPHvPTt2n3buW+WaovilhDC+QLvb4cTom44Hw8Zv+iMdwqH8HCRYTtOFn2sJPtdNDT7tbuewch636hzWFcal8+/JOX7p8fcWuZHz25jrs4b7elq5HlWDoXzWs0T3XlX5mXsh14ksW3wYuEjDLxqDdGnnDhLcg6XG3Ys5IIwvQBg34WI8GDZ2B1Sp3vZq6MCqylB51oSKuYTDk20/h6nDuFR1ezWsMDWTUHeWaxCQc+XarXc1/lkXUvvup+6KuQTxUc1Pku9cIN30Gml3Oyfy3cQIsbX1T9LOHUc89nXdyL1IxTwxwvgChHETvB+hWyad9YlneIrJPaI8yfEccw7/LVUYr1Q86wyWhYRyV/3s1/x3vRm6Ji/kmqwllLe7nb7C9eF8Hg+GJ+v8H6WafBY5yCZ/clspNmic36qpXFPZ3I+5IYzPITfAf80d2HZp3BQVua7ODK5ffyPBx/wcVMPn8FbOoUqlPEUYlwDTV96F2J3XQ8tVckMh/LlzCVBJz51i4epuPBguXWhBBpP9VO3FeDD8KcXvleN219SHFL8/QLYFHOtY2nAOXowxodekDyOPRydGN5JyxzRpdzumz7nxc+iC2F/uGKUjzZpUO/9UDuKFnNeJTOkyxX3P7W7HDQy/GgzihQS5iQyqklDej2PptBi5Zka5bd4n39eDwSBeyHX+1V33TWjnLCGMw6JbC2+qx+AqubIyzycDwWYZd2x/tLuda2uNbEbnsJBjHFkMj+uQgDkx8Fi86qW1cyrHMjEamKrcuftTBg1boxLEs1kRTe49K4PgVT7k3M5ZRBiHNTN5SSV7UjXKbYnMN5YqkVIlyu0cvpKOKqvrWOlFvHXtWOn85Xv9q+YX6UJ9cIOsplUz51XmK0HceqD9W+WYLQ2CV8mynbOKMA5rjpswTUgaqK85dQgVJiqRcg5zqBLN4475Sy4VSeNBvOTOqeqTG6lcftH6+4FeNb2aWbmOcwziOe5rUrZzBPJAhPHFbq0eWIO9b8L0FGmYcu2wS6qVyMxDT9UH+SzW9TMJAy/lWGunuGpITFEDubzIN1P8PM8/R51BPPhzS1+R1eBhAQJ5IML4YrzEWa/3TVg2qSFBvKQSyBsSeqreGQ7kh1K9z+kltzcpX0qcp2HXZHlfx3rCoHlt//0Z5AXvOgeUQSuKyBSbLw0I4iUCeQDC+GJbt4W4Eldd+I0gblbZcdeyzKSs6NKkIF6yGsg/ZPAS4jz9uqarJAziU1lW9LMrRrhlJis/v8l/P5cNbmKLGchPEh3jOp4KBVIw+FTz3/aegibHm+Ip8Eye6rtr5/dn19Sv8t8+y3WX4onGF+UVdrL187afgCVYRzO9O1lDuAlzxFuJgni5/fNIntZMnq8bLB2q+/t7sk3yQeSXy3ak40haIZfBzB8JfnV5Dify8/D8mpPBxp58xlaCc1hIIB81YOBZ7kBans9512RLqpbltt2xK5Y7svzpWpu++JJrMmYQv5NK8vUa7d7fYe3Z1vqxnmK8kkAZVM2U774l52qT3xVjOchyMFHnuxnlhlReGSHBvPZZZffVVUXEfx2z3KfHkbfWd+91tFgiejNs+rNEu9v51qBHSJbMZIvdpB1pXaRxfVBqXOeqbLUfM0icjwfDJGuRJ1oB4SJky/pE59D5JfbmQAGb/mziRq7JjSt6le28e5Hvk71Um9rI9/9XpF8XbbOUBLsyqk0RlCdhJ4HXxF2Ewd5MBpbfVjwV/7bmQGohWTo0xuB0JvfTdYx7QAZTJ5FC+coNmfBvhPElGjh31YJat2qug1ubO2K16rMEyCgBI8F25ku3T/eRYCWPqDsPJtgNz1XqWzFDZOIwHm130QQ7Iv4+HgyjV0XlOCcRgslMVoiKPiVBBgsxXrydyfWo0iZHHvSsq3xa5r6XUV07vMq89hjTaZLsrirXfS/SMX5uSsGtDoTxJWTu01ezB5gX1e3CU5EXyf6M8OuTTtmRa7kfIVxMx4Nh1Pnj8gJhjKB7J8EnyTUWMfw4F+PBMNrLTgnDeKqwG+v9iiQVuEjXZC1b+Uc61pvxYFjrS7FVNRa+bqXYUfuqXZEGHTO5ppJOo430pFJ1kJcbwvgK7W7nIbPNHayJ9njWmojTU6IGs0UiVqCjVTwiVsVqOYdF3OAQ7SlDgjDuOtKDlIPniIE86rSfSNdkbddjEe9cRn/qta4aCl9TGair9UMR7tGkxYbnIvUXqoO8nLCaymo8ZvFzK437QRODuAid61jIfM1aOm1XoZMq4kXgr+pFXMkiRtW1tnNY/DiPx7L6RSirL3ImD+LFj/PYj3QeY3f2oddkrUG8iHcum9rXXUiFVjOIHwcG8Wkd92SVPNE5CFwp5w2rq6yHML6CNHJT0wdpy4VUqpocwsuXqEIfDX/WeHFKgkJIA1uuZBEkQgdVaL18Fin8vDS6Lu9hXZ2+nMebwF8TrbOX4BByTd7UHcRLci4/B/yK1w0MTk8D9brmhC8RMtCZ1THdaR75m8eByyBS0FwDYXw9XEzLzSSE/0cavm1Yoz30mrhQfrnlIHCQGaM6HuMcqlWX5W+HPmWw1rZ8VhhEh3b2MafnhHwf09BlAkNJmxKye3ST+joTG8nJgDtkqqtqnyp/O+S6fl3XPhU5I4yvQW5orU0NLJtJJWZPQvhWvKghITRkzvA0RmU5RKXi4WsnZHpAhA7qVqsCWRXhKYOl6vidxgBRrsWgqSExKroRquIWKrBF4OCmKcFJdaD+TMg9da7xsulzcgwhT7BU+7scEMbXxzav/7iTqsML13kb6YDqFHotmOi0pQJ6HvArQhrYkHM4M3Y/hs5ZttJRaR5H6DztGCuqhFxTF1am5UlRJOR85h6c7iwM1It/Bni+RYeZsScVWu39ViCMr0ke1fyexcGmcyMvZbaasH19gJBG6cbYXPqTgCraK1l5YiNSeQupQJ5ZegojxxIyV9frPEZ2q3ldyuA0ZMpPUDU38GnXzGCAPQu4r3Nf/cJS8As5lmj7TcQg7Zxv8WZHlgHGAoTxDch6u6FzRHNTTkVx88GTr29qnYSmkOkVpjptaexDqi8+0wNCzsHU6EYSIeGnMBAg6txOfJGQx/Ghg5mQoNC39nQwcOrPSwODQ18XVt5ZijDAs3BPPhdyTITxJQjjm+ttyfzx51NRWLj/h5DQdGPxPMogs85rOqRRtthBxZj3rNlRTS3MS5U1jX2FvkzcuGsycOnMXIOTpYF6yHsMpqriJem/fOeOE8aXIIxvKNLam1bNKksTbvtUlEVCGljL59P3pa+NQlzgk4WZ8XMYEso0q5EWgnjZtvq2q6EbWfluz39rtVAhx+V7PnNc4vDC2HcR9LQl4nHE5tte7GT8xCU5wriHBgbyqcyH39uipQk3JnOdfTv9mZHq41zyne/JYGydUO6umd88Or+QTv7a8svCEeY9a1WOLE09q73tCZzLar1g4dvmxFwusi7Wvgvftu7O+JPokPaCDYAW+NnkUWVAOt5WxK2xNVzIfMetnge+gZBRvdkgXoqw3OE6QoKP+XMox+jbHmh1VJbuf40QEnJfW2873fF98vmHbiWQjPqGqaVjlcKN7xNA0+2cGyi0u52p5+ejMr4AYTyQqyS3u52RPKIO3Rq9DlM51qCXju6vHltSSZ13c32TCtdk/2i3ScseBlV1Ix5HznwbY9NPFipCAoFGR3Vn7GmDd3gM4HtfTzN4lybkSUMrg8FGyVrb0OQBXiHXFWE8IsJ4BG5utQTyvuHHe0FV8PurxxdS1TyUzmutgcf91eNUGpfr/aPd3ANpSEOy9VN/pFrkO2DNIhS4YNvudm492wE3p3Kv5oDHi9n+97X5a1Kux5nnfZfT5j/WvgvvviKTpxETz/csQt/taCzCeCTSgR7I/MOzwOXvYgmugt9fPR7I1AXfR+8v5d++k2DuBixnmVbMfRvYHCpodQjp3HMazEwCBuV7NQfkrR4kyvJz3k80Y+z8WYMHzxCUTRXT4FMz774ik2vKuy1XKDhkgTAemTQK17LFdU9pJBirCh77+F/KI+je/dXjyf7RrtUlwRbx7bRpeH4I6WRyeq8hJOAeZPZZcxcSON9l/L5Qk1hcSMF3qU3XR36NfCzW1F1wyAJhPBFZFrAvS/kcy0/KOeU3Mm/Oe8WJ+6vHPQngqY/V/e4/7q8en87L/tGu+epc4JJMhKtwOT1Jyamj4drEIrmsqGLxGs5xNRooIownJkvGuYDbk0BXzrluBQbeO6nAjUKXfLu/eiyr4HU3IK7qPrq/euztH+1aXyIsdFMRBFTGc1pu0z2Ranc7vv+cpb/qxfnOH1XWvPD0bw7CeI0kUPwdKuSFtnJFkjLs7T2bj/VQaWzcv/0W4wUPqYKXFXvN+e1uQPLFrc6yf7Rraqv4iOgsACCNrX85HvkjjCuSlxge6hwlRnghM5UPbq76/tFu6nWufYW8fEgYDzPN+eABrBTSRpoK4+wyCR/swLkFXMh187Pvrx4f5OUQqy8duRVXTgwcxzw5LfPVNDkOZhhAAGuSwpTPPWNtnfyCKY3wQRhvODcfW8LMFyPLLa7ySeawAznjaQhyV/eA0meaotXiDRZjvvgcTFOJ5ePbF5UXM19Ulsx6qPyMitPLWjpp2SGzn+ki+32ZQ06gQZFppYlH1chdrUvPumWB293O+zV3s3YbGfUy2ZUX/7jLZFOj2hHGQ318u2o98X+vUPLxbbnxTT9VMJclA3PZnn+eHTlHllY64CUhPTkOKHO99wDn83gwrH0fCNnN+loGs4vafxfmJganp5Ry3NCuDreymhzmIIz7+hHCTzymfpQb33wqPr49f/odp5fRbl4J4l9i/T5Fr93LpvtHu1ZG0SHfUYtHc0DjfG7gZ1IPuvK3R7m2mW7VtIClTW8b2Fe4QtZDTsvTaiCMb+rj2z2p2sZYk/vD08omLtifXgY/bmtQEC+dNGQdYF7oCZTTFsqyxbovqmqZGA+GzFdGbCOuq+3EC5yb+Pi2JaO8mJvjuMfZfxYf3wbdgLJkYZOCeFFWxw0cRxEYkgjjP4RUfHJazSZkvjjVo3p5X5PtbocNgxAbfcWWIoyv60cQHyWcC+qmrXjtQumWLpSt8JvIxLrjgY/YeJnvh5ABTU7Bh2UwtwPBCYvcep4Z+ootxTSVdaQP4qV3xce3k+L0ctMXZ/oNfmHsnWyXb+Hx/czzPNPA/rAtA5qQY+Xdghq5lR0C5ve2GlwEUSVTvRbdR5Zf3iz5Hh99xZaiMr7KjyULr2sMu38UH9+uXQWUaRxv0h6SOitVUd8wuePmPEc+lhyFhPGcKuMhx8pynvWbef5FpqlE1u52DtvdjrsH/icb1M37+V+725kYnyZEX4GNEMZX81kxJVRfBgHrHl/T5R7GCzruv1dJ8N1IZCeHObpS0fNdinGWy0uqDeN7X1PFjMgF8af3p9brb9099tVwm0BfgY0wTWWZHyunfFD4yy9l7fKlQVs29on5MqlVVjq9UcD1cCDTiUyTqszhGvNhrz3n0Y+epmP5OchgGkfIOrpMUdEx8mxHnwaIbGISjc+65j2j901oGDffVyAuKuPLaVade2tUx0283FgDK2E8pIE1v9lBu9txneF/n6ZKlWvhL/75q93t+NwfTQ8uhPH8hJx3NjGJQIoAPk+gTU7RlCdcvk8Buaa2EJXxRX4EYd8KXgw7clMuGyFvy01r4uVU18C2u52pZ6fhqmiHVrdvbnc7fY/r/ZP7dxtOrWhs4JRAERIOeBlQQeBLnIdSnTVPpnQcrihuuILDmcJ0qSbOk/Z9Cmi6r6iSNu94xdSab/IklWr/ElTGF7MQdBcew/3Vo28lAWFCGkiTnbZ00r4Dz406Uenk7zz/lvXOKeRJ1ZT54qpuPP/4S5nrbJZ7j6Hd7YzkRcgPMiVn0Y/7393LkcyHD9e4vqKq3e0cy5PUTyuuKVeg+CJPXrEAYXwxCw3ssirbVjWWspa6BSGj+9dGXziqu2Lh8/cuLG+nLC9uhnSgVI10NTk4bTonfieXar9lUtn2XannteVVVSSIb7rJoMb7d9kgjC9mI+z+WON8nq0K40bWGS83//GdC1hYW/1GGtWQJyw+AXnT4OOCuPX3I3qB06kI47pCwrjVQXYh73X4rO7D8npxhFxXJivJMkjwOjaWbVyMML6YlSkg7PJmT2h13MRjbanmhjT4Nz6bb8h0jHWmBbiq0nvrQVwe6X8K+BW3TFHRJdfxRcBBmAtOEnx8K9xcj3GE9BVvjA7yznwLD7RzixHG7WPNUXtCq5h9CcLaQnduDTkPq8KLm1fesv7Sj3yPoce4DXsF5CDke3zlubpQSt6hiZV94pBlL0OepFrpK55IIcn3JXXf9zK2AmEcOfB94S8JGd2HVNF2tKclyPSUkJU/piFv+0sntahxPh8Phq1MqihnAZv8FHIeCT4GyPdwG3Akn6y8+NjudnoB9/eUlS+iChmkvbTy1EWetKQswGw1wjhyYDGUhVbB3shygrWTwBDaMMaoAroBwblMR5lJOP91PBgufbTuOgX3+Fb7Ea5UQkOXP+VFOVtCr+uR9rxYGWj/EfAreFITkQxsQqrj7+Q7VSPV+euAJy23FB2WI4wjB+Zu4gjV8UIa2VoDuQTxUeD0lCiVMzdP1wXv8WD4Qn4OlzXYskRbX5bT+irbYX/TmB4gy3SFzBMvpINibXFDIlTH3X11rTW1QKYRbLrKRRVV8TRC26gvWoFcruVR4BNABngrEMbzZXaZtwSsjqhPApauKrlAXkvnHSmIFxoNq1TBH+ZUondkekAtFcnKgCDGMl1UxW0K/V5eaazVLWHtz8Bfo1WB9W7/clgTXQY4IYO8QgJ5rW1Gpc8ICeI3VMVXI4zbt2iKxraE8en+0a7JzyrV8RjB9I103smmXUgj/leEIH5Xd+VMKt9fVxz7azmHyTor+X4mkXbm/Wx53fRtJt/LeeApeClTVpKH28oAMaQiXiiHppAVpnLZiTpG2/RHjcWbwwhBfEbRYT2EcfvmhvH9o92HwHlouTD9yHQ8GJ5FqHgU0nl/lYY2WqVH5laPAueQVtVWOZOQMdlgOsiOdFZRBzYyR70vA4IYS566AQ2PbW07ifDi+I5UM69TPbWRsB9jgDjTqorLZwg5/l4m1XH3PX2O8Ktc8eYh1UBP2ruRPGUJforKcobr+TmHg1Ryu+GuZaksq56NIlXpLMvhDeyyQwxtuAppaN3LnbcyELnedC1vqZocynHFvIbrrub6VmVeycBmKtdP32c9dKkMha4689wso0re1nLXi4SdvyKcg/Kedu+YnMW4h+TYTiLuh3Hoc488O6Y9j82CQoN4Ie3uX+1u59xzk52HugKjG4RLoSC0XS4HeicSeIOLVnJcMb6P0o0Uq7CGn75//855mufj25MIL2iFmhanlwsbt/urx1akzsKqi/2jXes7Lz6R4BY6X3OROwmmD0sGZ2VHGKOhn8e9bFjb6iWe2y0vY+EcOr+leGlTKlk+x/yrpfmcEgi++vzb8WD4U4LjiX0dFnItumtgtO65l6B7ID+HkQb+pc8hT2okEIbuQKttJt9JL3RQsooUSyaRNxYsj9/9TNYZXMhxtOR6Oox8PO4aP0h9LpuEyvhi1wbC+NJO282lvr96tFLBjy2ruWYuYLW7nfcJOu5CKr0h8/ZC3SlUc2M/1tc+h4XsJsrqKRlxFUeZAhHjhd1SeS26F48Lub++yUCxGqLKwW8rYdC9CAzi/YY8nd2Rz9GSn2TkqcthpJfpnx//03fR7nZmlaJDdcDXkpdl9xLuMj6L8aRl2zBnfJHTy4mBOdnrPOJp6tzTk/2j3axuZnlUGLrcoTVPc0kVGtamNeTvWTIuT7Lufcr7+pUUVN5JAaj8eS0/KYO495NHqdY3bZrkKwnKSclUpYMIq3EtslO5fqrX1Bv5bymD+AHzxDdHGF9OM+jeFqeXKy/o/aPd0HVxLbrdP9rNcq6ZdG5NCeRlw6qx6kc/YUdVN4J45hp2XxehQVw09d2HWl4GrSGQ102zv8geYXyZ08vQnbNCbDJF47hBN/Q090ZeOrnfDRxKCNWGVSrxTeioCOINIfd1jNUwtMUI4kXI2uDG1fZuTIMC+R1BPAxhfDWNFwjPZZrMWmSZwyas5fk01yy36SnzyFvkv2XayLqGdU+7Ya10VKFLzGlw3/svBPFmkfnV7zMOT79HCuKIRNq5vUzbuUKezBPEAxHGVzm9HNVcDbkrTi83Dtb7R7v9zKs2T5VYqxv8+JCX9XILk+fjwbBl5eWbSiAP3YSlTrcWBjNIQwZYud3XUxkcstScQa69de1uhn24W4mHVVMiIIyv4/TypKb5grOQR2T7R7t1HWds06YF8ZILZJk0slNZ5s7cExbpqNxx/Wp8o6uZTEuhc/KXxYtfz+5r61VyN5BtMThcm9o1KE9efslgoHcrgzs2L4uEML6u08vUL/A8zbkqTi+DOnFZl/t9vMNKzt3UrSYG8SpptP7jNkKwc1RPZhIoWpbWm57HHd94MNwzGoDOpRquNS3FN0CYuu9kFQaf71ZlkCb3dctoEaQMTKnWzm5qm606IKwM9CxOh5pWCg4M7iJi059NpdkM6PbppcXAIF51f/V4ICtSpFrCKNRMli/cusemsrFJL/LOjpuaydKZZzlWcWXDip6806F5jV9Y2PJZ1sLedAOwc4tPQmQTmU3b2N+1p2DIUn8nBpb7u5VrMungWu7Bh8w3+5nnP1aW5pNzfCxtnWY7N4210yfmI4z7+Pg2VtB9CqTF6WWSTuT+6rEMLNZ2R3MBpteEFzVDSOfdS7D72TJ3cu16bRFvkeySGHvr/2WCttlPZcPdIt1W1WZXLdpwM5lYq4NEIff1cc0DxZnc12d1BkkZBMbcvEab2dWP5P4+rLmIcyPtHJuVJUYYD/Hx7bFUQjZtcP+uSsashi9SCeWaVcRp2VlsewifRzaaKLe7jr1T5G25VXKTN2OQEFSex9gd1l3lHJp9PFsJgovePXmQztX0lKTinydIh0vWfZ7I92H2s0hYLbcbj31fTyvb6quFpWf3Xa7LHY7kvjDfPkq1/LByzmMOhGZyLsq2jr66JoTxGD6+bVVujEXVubuy8yhOL9UaTpm+Uv6k3Gb5Tjp+d2OPmj4nPCZpbFuV7+jFmt/VtLKltjvfkxxCVyoShA5k2bDWmltAV8/hgwSdrT2HiOfZfb1X+Vl1TZZbm38r72u5LglKKNu5sn0rByf5qroAAAHwSURBVOHrPCW8k2tqVPYZzAPXQxgHAAAAlLCaCgAAAKCEMA4AAAAoIYwDAAAASgjjAAAAgBLCOAAAAKCEMA4AAAAoIYwDAAAASgjjAAAAgBLCOAAAAKCEMA4AAAAoIYwDAAAASgjjAAAAgBLCOAAAAKCEMA4AAAAoIYwDAAAASgjjAAAAgBLCOAAAAKCEMA4AAAAoIYwDAAAASgjjAAAAgBLCOAAAAKCEMA4AAAAoIYwDAAAASgjjAAAAgBLCOAAAAKCEMA4AAAAoIYwDAAAASgjjAAAAgBLCOAAAAKCEMA4AAAAoIYwDAAAASgjjAAAAgBLCOAAAAKCEMA4AAAAoIYwDAAAASgjjAAAAgBLCOAAAAKCEMA4AAAAoIYwDAAAASgjjAAAAgBLCOAAAAKCEMA4AAAAoIYwDAAAASgjjAAAAgBLCOAAAAKCEMA4AAAAoIYwDAAAASgjjAAAAgBLCOAAAAKCEMA4AAAAoIYwDAAAASgjjAAAAgBLCOAAAAKCEMA4AAAAoIYwDAAAASgjjAAAAgBLCOAAAAKCEMA4AAAAoIYwDAAAASgjjAAAAgBLCOAAAAKCEMA4AAAAoIYwDAAAASgjjAAAAgBLCOAAAAKCEMA4AAAAoIYwDAAAASgjjAAAAgBLCOAAAAKChKIr/B9RSVF1ZF/7hAAAAAElFTkSuQmCC)"
   ]
  },
  {
   "cell_type": "markdown",
   "id": "321b7fb8",
   "metadata": {},
   "source": [
    "# Notebook Overview\n",
    "\n",
    "## Motivation \n",
    "\n",
    "Tabular data reasoning continues to be an exciting application of Agents, particularly in the financial domain, where multiple reasoning steps may be needed to identify the right answer. For example, a financial analyst working with financial statements may be interested in computing various financial ratios with natural language queries.\n",
    "\n",
    "Some examples may include:\n",
    "- ROE (Return on Equity) = Net Income / Shareholder's Equity\n",
    "- Net Profit Margin = Net Income / Revenue\n",
    "- Asset Turnover = Revenue / Average Total Assets\n",
    "- Financial Leverage = Average Total Assets / Shareholder's Equity\n",
    "\n",
    "Having an Agent which is able to correctly compute these and other ratios would be a great help for any analyst in the field of Finance.\n",
    "\n",
    "## Objective\n",
    "\n",
    "In this notebook we explore how to setup a [Cohere Agent](https://docs.cohere.com/docs/multi-step-tool-use) to answer questions over tables in Apple's SEC10K 2020 form. [financial_csv_publication.ipynb](#TODO) already showed how to use langchain to ask questions about your data. This notebook will demonstrate how you can build the same agent using Cohere's native API with langchain python tool. We will also explore how to make your agent more resilient to errors. \n",
    "\n",
    "## Table of Contents\n",
    "\n",
    "- [Setup](#setup)\n",
    "- [Define Python Tool](#define_python_tool)\n",
    "- [Create Cohere Agent](#create_cohere_agent)\n",
    "- [QnA over Single Table](#qna_over_single_table)\n",
    "- [QnA over Multiple Tables](#qna_over_multiple_tables)\n",
    "- [Error Resilience](#error_resilience)\n",
    "    - [Add Viewing Tool](#add_viewing_tool)\n"
   ]
  },
  {
   "cell_type": "markdown",
   "id": "a9f349f1",
   "metadata": {},
   "source": [
    "<a id=\"setup\"></a>\n",
    "\n",
    "# Setup"
   ]
  },
  {
   "cell_type": "code",
   "execution_count": 32,
   "id": "bce0ca82-fc00-40bb-9d0e-a274bd2eb8a7",
   "metadata": {
    "colab": {
     "base_uri": "https://localhost:8080/"
    },
    "id": "bce0ca82-fc00-40bb-9d0e-a274bd2eb8a7",
    "outputId": "c6c45466-2abc-40fb-8e0e-823d5339e902"
   },
   "outputs": [],
   "source": [
    "import os\n",
    "from typing import List\n",
    "\n",
    "import cohere\n",
    "import langchain\n",
    "import langchain_core\n",
    "import langchain_experimental\n",
    "import pandas as pd\n",
    "from langchain.agents import Tool\n",
    "from langchain_core.pydantic_v1 import BaseModel, Field\n",
    "from langchain_experimental.utilities import PythonREPL"
   ]
  },
  {
   "cell_type": "code",
   "execution_count": null,
   "id": "b4231925",
   "metadata": {},
   "outputs": [],
   "source": [
    "####################################################################################################\n",
    "#\n",
    "# Uncomment if you need to install the following packages\n",
    "#\n",
    "####################################################################################################\n",
    "\n",
    "# !pip install --quiet langchain langchain_experimental cohere --upgrade"
   ]
  },
  {
   "cell_type": "code",
   "execution_count": 3,
   "id": "56a5af0d",
   "metadata": {},
   "outputs": [
    {
     "name": "stdout",
     "output_type": "stream",
     "text": [
      "cohere version: 5.5.1\n",
      "langchain version: 0.2.0\n",
      "langchain_core version: 0.2.0\n",
      "langchain_experimental version: 0.0.59\n"
     ]
    }
   ],
   "source": [
    "# versions\n",
    "print('cohere version:', cohere.__version__)\n",
    "print('langchain version:', langchain.__version__)\n",
    "print('langchain_core version:', langchain_core.__version__)\n",
    "print('langchain_experimental version:', langchain_experimental.__version__)"
   ]
  },
  {
   "cell_type": "markdown",
   "id": "353e63cb",
   "metadata": {},
   "source": [
    "### API Key "
   ]
  },
  {
   "cell_type": "code",
   "execution_count": 10,
   "id": "ad9f883d",
   "metadata": {},
   "outputs": [],
   "source": [
    "COHERE_API_KEY = os.environ[\"COHERE_API_KEY\"]\n",
    "CHAT_URL= \"https://api.cohere.ai/v1/chat\"\n",
    "COHERE_MODEL = 'command-r-plus'\n",
    "co = cohere.Client(api_key=COHERE_API_KEY)"
   ]
  },
  {
   "cell_type": "markdown",
   "id": "e670302a",
   "metadata": {},
   "source": [
    "### Data Loading "
   ]
  },
  {
   "cell_type": "code",
   "execution_count": 5,
   "id": "1d4f7bd7",
   "metadata": {},
   "outputs": [],
   "source": [
    "income_statement = pd.read_csv('income_statement.csv')\n",
    "balance_sheet = pd.read_csv('balance_sheet.csv')"
   ]
  },
  {
   "cell_type": "code",
   "execution_count": 51,
   "id": "a5a8ddd7",
   "metadata": {},
   "outputs": [
    {
     "data": {
      "text/html": [
       "<div>\n",
       "<style scoped>\n",
       "    .dataframe tbody tr th:only-of-type {\n",
       "        vertical-align: middle;\n",
       "    }\n",
       "\n",
       "    .dataframe tbody tr th {\n",
       "        vertical-align: top;\n",
       "    }\n",
       "\n",
       "    .dataframe thead th {\n",
       "        text-align: right;\n",
       "    }\n",
       "</style>\n",
       "<table border=\"1\" class=\"dataframe\">\n",
       "  <thead>\n",
       "    <tr style=\"text-align: right;\">\n",
       "      <th></th>\n",
       "      <th>Unnamed: 0</th>\n",
       "      <th>index</th>\n",
       "      <th>RevenueFromContractWithCustomerExcludingAssessedTax</th>\n",
       "      <th>CostOfGoodsAndServicesSold</th>\n",
       "      <th>GrossProfit</th>\n",
       "      <th>ResearchAndDevelopmentExpense</th>\n",
       "      <th>SellingGeneralAndAdministrativeExpense</th>\n",
       "      <th>OperatingExpenses</th>\n",
       "      <th>OperatingIncomeLoss</th>\n",
       "      <th>NonoperatingIncomeExpense</th>\n",
       "      <th>IncomeLossFromContinuingOperationsBeforeIncomeTaxesExtraordinaryItemsNoncontrollingInterest</th>\n",
       "      <th>IncomeTaxExpenseBenefit</th>\n",
       "      <th>NetIncomeLoss</th>\n",
       "      <th>EarningsPerShareBasic</th>\n",
       "      <th>EarningsPerShareDiluted</th>\n",
       "      <th>WeightedAverageNumberOfSharesOutstandingBasic</th>\n",
       "      <th>WeightedAverageNumberOfDilutedSharesOutstanding</th>\n",
       "    </tr>\n",
       "  </thead>\n",
       "  <tbody>\n",
       "    <tr>\n",
       "      <th>0</th>\n",
       "      <td>0</td>\n",
       "      <td>2017-10-01-2018-09-29</td>\n",
       "      <td>265595000000</td>\n",
       "      <td>1.637560e+11</td>\n",
       "      <td>101839000000</td>\n",
       "      <td>1.423600e+10</td>\n",
       "      <td>1.670500e+10</td>\n",
       "      <td>3.094100e+10</td>\n",
       "      <td>7.089800e+10</td>\n",
       "      <td>2.005000e+09</td>\n",
       "      <td>7.290300e+10</td>\n",
       "      <td>1.337200e+10</td>\n",
       "      <td>59531000000</td>\n",
       "      <td>3.00</td>\n",
       "      <td>2.98</td>\n",
       "      <td>1.982151e+10</td>\n",
       "      <td>2.000044e+10</td>\n",
       "    </tr>\n",
       "    <tr>\n",
       "      <th>1</th>\n",
       "      <td>1</td>\n",
       "      <td>2018-09-30-2018-12-29</td>\n",
       "      <td>84310000000</td>\n",
       "      <td>NaN</td>\n",
       "      <td>32031000000</td>\n",
       "      <td>NaN</td>\n",
       "      <td>NaN</td>\n",
       "      <td>NaN</td>\n",
       "      <td>NaN</td>\n",
       "      <td>NaN</td>\n",
       "      <td>NaN</td>\n",
       "      <td>NaN</td>\n",
       "      <td>19965000000</td>\n",
       "      <td>1.05</td>\n",
       "      <td>1.05</td>\n",
       "      <td>NaN</td>\n",
       "      <td>NaN</td>\n",
       "    </tr>\n",
       "  </tbody>\n",
       "</table>\n",
       "</div>"
      ],
      "text/plain": [
       "   Unnamed: 0                  index  \\\n",
       "0           0  2017-10-01-2018-09-29   \n",
       "1           1  2018-09-30-2018-12-29   \n",
       "\n",
       "   RevenueFromContractWithCustomerExcludingAssessedTax  \\\n",
       "0                                       265595000000     \n",
       "1                                        84310000000     \n",
       "\n",
       "   CostOfGoodsAndServicesSold   GrossProfit  ResearchAndDevelopmentExpense  \\\n",
       "0                1.637560e+11  101839000000                   1.423600e+10   \n",
       "1                         NaN   32031000000                            NaN   \n",
       "\n",
       "   SellingGeneralAndAdministrativeExpense  OperatingExpenses  \\\n",
       "0                            1.670500e+10       3.094100e+10   \n",
       "1                                     NaN                NaN   \n",
       "\n",
       "   OperatingIncomeLoss  NonoperatingIncomeExpense  \\\n",
       "0         7.089800e+10               2.005000e+09   \n",
       "1                  NaN                        NaN   \n",
       "\n",
       "   IncomeLossFromContinuingOperationsBeforeIncomeTaxesExtraordinaryItemsNoncontrollingInterest  \\\n",
       "0                                       7.290300e+10                                             \n",
       "1                                                NaN                                             \n",
       "\n",
       "   IncomeTaxExpenseBenefit  NetIncomeLoss  EarningsPerShareBasic  \\\n",
       "0             1.337200e+10    59531000000                   3.00   \n",
       "1                      NaN    19965000000                   1.05   \n",
       "\n",
       "   EarningsPerShareDiluted  WeightedAverageNumberOfSharesOutstandingBasic  \\\n",
       "0                     2.98                                   1.982151e+10   \n",
       "1                     1.05                                            NaN   \n",
       "\n",
       "   WeightedAverageNumberOfDilutedSharesOutstanding  \n",
       "0                                     2.000044e+10  \n",
       "1                                              NaN  "
      ]
     },
     "execution_count": 51,
     "metadata": {},
     "output_type": "execute_result"
    }
   ],
   "source": [
    "income_statement.head(2)"
   ]
  },
  {
   "cell_type": "code",
   "execution_count": 52,
   "id": "f254c1af",
   "metadata": {},
   "outputs": [
    {
     "data": {
      "text/html": [
       "<div>\n",
       "<style scoped>\n",
       "    .dataframe tbody tr th:only-of-type {\n",
       "        vertical-align: middle;\n",
       "    }\n",
       "\n",
       "    .dataframe tbody tr th {\n",
       "        vertical-align: top;\n",
       "    }\n",
       "\n",
       "    .dataframe thead th {\n",
       "        text-align: right;\n",
       "    }\n",
       "</style>\n",
       "<table border=\"1\" class=\"dataframe\">\n",
       "  <thead>\n",
       "    <tr style=\"text-align: right;\">\n",
       "      <th></th>\n",
       "      <th>Unnamed: 0</th>\n",
       "      <th>index</th>\n",
       "      <th>CashAndCashEquivalentsAtCarryingValue</th>\n",
       "      <th>MarketableSecuritiesCurrent</th>\n",
       "      <th>AccountsReceivableNetCurrent</th>\n",
       "      <th>InventoryNet</th>\n",
       "      <th>NontradeReceivablesCurrent</th>\n",
       "      <th>OtherAssetsCurrent</th>\n",
       "      <th>AssetsCurrent</th>\n",
       "      <th>MarketableSecuritiesNoncurrent</th>\n",
       "      <th>...</th>\n",
       "      <th>LongTermDebtNoncurrent</th>\n",
       "      <th>OtherLiabilitiesNoncurrent</th>\n",
       "      <th>LiabilitiesNoncurrent</th>\n",
       "      <th>Liabilities</th>\n",
       "      <th>CommitmentsAndContingencies</th>\n",
       "      <th>CommonStocksIncludingAdditionalPaidInCapital</th>\n",
       "      <th>RetainedEarningsAccumulatedDeficit</th>\n",
       "      <th>AccumulatedOtherComprehensiveIncomeLossNetOfTax</th>\n",
       "      <th>StockholdersEquity</th>\n",
       "      <th>LiabilitiesAndStockholdersEquity</th>\n",
       "    </tr>\n",
       "  </thead>\n",
       "  <tbody>\n",
       "    <tr>\n",
       "      <th>0</th>\n",
       "      <td>0</td>\n",
       "      <td>2017-09-30</td>\n",
       "      <td>NaN</td>\n",
       "      <td>NaN</td>\n",
       "      <td>NaN</td>\n",
       "      <td>NaN</td>\n",
       "      <td>NaN</td>\n",
       "      <td>NaN</td>\n",
       "      <td>NaN</td>\n",
       "      <td>NaN</td>\n",
       "      <td>...</td>\n",
       "      <td>NaN</td>\n",
       "      <td>NaN</td>\n",
       "      <td>NaN</td>\n",
       "      <td>NaN</td>\n",
       "      <td>NaN</td>\n",
       "      <td>NaN</td>\n",
       "      <td>NaN</td>\n",
       "      <td>NaN</td>\n",
       "      <td>134047000000</td>\n",
       "      <td>NaN</td>\n",
       "    </tr>\n",
       "    <tr>\n",
       "      <th>1</th>\n",
       "      <td>1</td>\n",
       "      <td>2018-09-29</td>\n",
       "      <td>NaN</td>\n",
       "      <td>NaN</td>\n",
       "      <td>NaN</td>\n",
       "      <td>NaN</td>\n",
       "      <td>NaN</td>\n",
       "      <td>NaN</td>\n",
       "      <td>NaN</td>\n",
       "      <td>NaN</td>\n",
       "      <td>...</td>\n",
       "      <td>NaN</td>\n",
       "      <td>NaN</td>\n",
       "      <td>NaN</td>\n",
       "      <td>NaN</td>\n",
       "      <td>NaN</td>\n",
       "      <td>NaN</td>\n",
       "      <td>NaN</td>\n",
       "      <td>NaN</td>\n",
       "      <td>107147000000</td>\n",
       "      <td>NaN</td>\n",
       "    </tr>\n",
       "  </tbody>\n",
       "</table>\n",
       "<p>2 rows × 30 columns</p>\n",
       "</div>"
      ],
      "text/plain": [
       "   Unnamed: 0       index  CashAndCashEquivalentsAtCarryingValue  \\\n",
       "0           0  2017-09-30                                    NaN   \n",
       "1           1  2018-09-29                                    NaN   \n",
       "\n",
       "   MarketableSecuritiesCurrent  AccountsReceivableNetCurrent  InventoryNet  \\\n",
       "0                          NaN                           NaN           NaN   \n",
       "1                          NaN                           NaN           NaN   \n",
       "\n",
       "   NontradeReceivablesCurrent  OtherAssetsCurrent  AssetsCurrent  \\\n",
       "0                         NaN                 NaN            NaN   \n",
       "1                         NaN                 NaN            NaN   \n",
       "\n",
       "   MarketableSecuritiesNoncurrent  ...  LongTermDebtNoncurrent  \\\n",
       "0                             NaN  ...                     NaN   \n",
       "1                             NaN  ...                     NaN   \n",
       "\n",
       "   OtherLiabilitiesNoncurrent  LiabilitiesNoncurrent  Liabilities  \\\n",
       "0                         NaN                    NaN          NaN   \n",
       "1                         NaN                    NaN          NaN   \n",
       "\n",
       "   CommitmentsAndContingencies  CommonStocksIncludingAdditionalPaidInCapital  \\\n",
       "0                          NaN                                           NaN   \n",
       "1                          NaN                                           NaN   \n",
       "\n",
       "   RetainedEarningsAccumulatedDeficit  \\\n",
       "0                                 NaN   \n",
       "1                                 NaN   \n",
       "\n",
       "   AccumulatedOtherComprehensiveIncomeLossNetOfTax  StockholdersEquity  \\\n",
       "0                                              NaN        134047000000   \n",
       "1                                              NaN        107147000000   \n",
       "\n",
       "   LiabilitiesAndStockholdersEquity  \n",
       "0                               NaN  \n",
       "1                               NaN  \n",
       "\n",
       "[2 rows x 30 columns]"
      ]
     },
     "execution_count": 52,
     "metadata": {},
     "output_type": "execute_result"
    }
   ],
   "source": [
    "balance_sheet.head(2)"
   ]
  },
  {
   "cell_type": "markdown",
   "id": "58a1e1ce",
   "metadata": {},
   "source": [
    "<a id=\"define_python_tool\"></a>\n",
    "\n",
    "# Define Python Tool \n",
    "\n",
    "Here we define the python tool using langchain's PythonREPL. We also define `functions_map` that will later be used by the Cohere Agent to correctly map function name to the actual function. Lastly, we define the tools that will be passed in the Cohere API. \n"
   ]
  },
  {
   "cell_type": "code",
   "execution_count": 121,
   "id": "d01b1681",
   "metadata": {},
   "outputs": [],
   "source": [
    "python_repl = PythonREPL()\n",
    "python_tool = Tool(\n",
    "    name=\"python_repl\",\n",
    "    description=\"Executes python code and returns the result. The code runs in a static sandbox without interactive mode, so print output or save output to a file.\",\n",
    "    func=python_repl.run,\n",
    ")\n",
    "python_tool.name = \"python_interpreter\"\n",
    "\n",
    "class ToolInput(BaseModel):\n",
    "    code: str = Field(description=\"Python code to execute.\")\n",
    "python_tool.args_schema = ToolInput\n",
    "\n",
    "def run_python_code(code: str) -> dict:\n",
    "    \"\"\"\n",
    "    Function to run given python code\n",
    "    \"\"\"\n",
    "    input_code = ToolInput(code=code)\n",
    "    return {'python_answer': python_tool.func(input_code.code)}\n",
    "\n",
    "functions_map = {\n",
    "    \"run_python_code\": run_python_code,\n",
    "}\n",
    "\n",
    "tools = [\n",
    "    {\n",
    "        \"name\": \"run_python_code\",\n",
    "        \"description\": \"given a python code, runs it\",\n",
    "        \"parameter_definitions\": {\n",
    "            \"code\": {\n",
    "                \"description\": \"executable python code\",\n",
    "                \"type\": \"str\",\n",
    "                \"required\": True\n",
    "            }\n",
    "        }\n",
    "    },]"
   ]
  },
  {
   "cell_type": "markdown",
   "id": "e58c2745",
   "metadata": {},
   "source": [
    "<a id=\"create_cohere_agent\"></a>\n",
    "\n",
    "# Create Cohere Agent \n",
    "\n",
    "As [Vanilla_Multi_Step_Tool_Use.ipynb](https://github.com/cohere-ai/notebooks/blob/fbf6c8dad47d7557314e9248a267175c7a6908d8/notebooks/Vanilla_Multi_Step_Tool_Use.ipynb) shows, you have a lot of flexiblity on how you can customize and interact with the cohere agent. Here I am creating a wrapper so that it automatically determines when to stop calling the tools and output final answer. It will run maximum of 15 steps. "
   ]
  },
  {
   "cell_type": "code",
   "execution_count": 108,
   "id": "8183d469",
   "metadata": {},
   "outputs": [
    {
     "name": "stdout",
     "output_type": "stream",
     "text": [
      "\n",
      "running 0th step.\n",
      "I will use Python to answer this question.\n",
      "\n",
      "running 1th step.\n",
      "= running tool run_python_code, with parameters: {'code': 'print(1 + 1)'}\n",
      "== tool results: [{'python_answer': '2\\n'}]\n",
      "The answer is **2**.\n"
     ]
    }
   ],
   "source": [
    "def cohere_agent(\n",
    "    message: str,\n",
    "    preamble: str,\n",
    "    tools: List[dict],\n",
    "    force_single_step=False,\n",
    "    verbose: bool = False,\n",
    ") -> str:\n",
    "    \"\"\"\n",
    "    Function to handle multi-step tool use api.\n",
    "\n",
    "    Args:\n",
    "        message (str): The message to send to the Cohere AI model.\n",
    "        preamble (str): The preamble or context for the conversation.\n",
    "        tools (list of dict): List of tools to use in the conversation.\n",
    "        verbose (bool, optional): Whether to print verbose output. Defaults to False.\n",
    "\n",
    "    Returns:\n",
    "        str: The final response from the call.\n",
    "    \"\"\"\n",
    "\n",
    "    counter = 1\n",
    "\n",
    "    response = co.chat(\n",
    "        model=COHERE_MODEL,\n",
    "        message=message,\n",
    "        preamble=preamble,\n",
    "        tools=tools,\n",
    "        force_single_step=force_single_step,\n",
    "    )\n",
    "\n",
    "    if verbose:\n",
    "        print(f\"\\nrunning 0th step.\")\n",
    "        print(response.text)\n",
    "\n",
    "    while response.tool_calls:\n",
    "        tool_results = []\n",
    "\n",
    "        if verbose:\n",
    "            print(f\"\\nrunning {counter}th step.\")\n",
    "\n",
    "        for tool_call in response.tool_calls:\n",
    "            output = functions_map[tool_call.name](**tool_call.parameters)\n",
    "            outputs = [output]\n",
    "            tool_results.append({\"call\": tool_call, \"outputs\": outputs})\n",
    "\n",
    "            if verbose:\n",
    "                print(\n",
    "                    f\"= running tool {tool_call.name}, with parameters: {tool_call.parameters}\"\n",
    "                )\n",
    "                print(f\"== tool results: {outputs}\")\n",
    "\n",
    "        response = co.chat(\n",
    "            model=COHERE_MODEL,\n",
    "            message=\"\",\n",
    "            chat_history=response.chat_history,\n",
    "            preamble=preamble,\n",
    "            tools=tools,\n",
    "            force_single_step=force_single_step,\n",
    "            tool_results=tool_results,\n",
    "        )\n",
    "\n",
    "        if verbose:\n",
    "            print(response.text)\n",
    "\n",
    "            counter += 1\n",
    "\n",
    "    return response.text\n",
    "\n",
    "\n",
    "# test\n",
    "output = cohere_agent(\"can you use python to answer 1 + 1\", None, tools, verbose=True)"
   ]
  },
  {
   "cell_type": "markdown",
   "id": "d3e42dd8-20d0-4b97-90fd-4a4ce5836c64",
   "metadata": {},
   "source": [
    "<a id=\"qna_over_single_table\"></a>\n",
    "\n",
    "# QnA over Single Table \n",
    "\n",
    "In the example below, we show how the python tool can be used to load a dataframe and extract information from it. To do this successfully we need to:\n",
    "\n",
    "1) pass the file name to the preamble so the model knows how to load the dataframe\n",
    "2) pass a preview of the dataframe in the preamble so the model knows which columns/rows to query\n",
    "\n",
    "We will ask the following questions given income statement data. \n",
    "1. what is the highest value of cost of goods and service?\n",
    "2. what is the largest gross profit margin?\n",
    "3. what is the minimum ratio of operating income loss divided by non operating income expense? "
   ]
  },
  {
   "cell_type": "code",
   "execution_count": 109,
   "id": "b77ca643",
   "metadata": {},
   "outputs": [],
   "source": [
    "question_dict ={\n",
    "    'q1': ['what is the highest value of cost of goods and service?',169559000000],\n",
    "    'q2': ['what is the largest gross profit margin?',0.3836194330595236],\n",
    "    'q3': ['what is the minimum ratio of operating income loss divided by non operating income expense?',35.360599]\n",
    "}"
   ]
  },
  {
   "cell_type": "code",
   "execution_count": 110,
   "id": "ce94beed",
   "metadata": {},
   "outputs": [
    {
     "name": "stdout",
     "output_type": "stream",
     "text": [
      "\n",
      "You are an expert who answers the user's question. You are working with a pandas dataframe in Python. The name of the dataframe is `income_statement.csv`.\n",
      "Here is a preview of the dataframe:\n",
      "|    |   Unnamed: 0 | index                 |   RevenueFromContractWithCustomerExcludingAssessedTax |   CostOfGoodsAndServicesSold |   GrossProfit |   ResearchAndDevelopmentExpense |   SellingGeneralAndAdministrativeExpense |   OperatingExpenses |   OperatingIncomeLoss |   NonoperatingIncomeExpense |   IncomeLossFromContinuingOperationsBeforeIncomeTaxesExtraordinaryItemsNoncontrollingInterest |   IncomeTaxExpenseBenefit |   NetIncomeLoss |   EarningsPerShareBasic |   EarningsPerShareDiluted |   WeightedAverageNumberOfSharesOutstandingBasic |   WeightedAverageNumberOfDilutedSharesOutstanding |\n",
      "|---:|-------------:|:----------------------|------------------------------------------------------:|-----------------------------:|--------------:|--------------------------------:|-----------------------------------------:|--------------------:|----------------------:|----------------------------:|----------------------------------------------------------------------------------------------:|--------------------------:|----------------:|------------------------:|--------------------------:|------------------------------------------------:|--------------------------------------------------:|\n",
      "|  0 |            0 | 2017-10-01-2018-09-29 |                                          265595000000 |                  1.63756e+11 |  101839000000 |                      1.4236e+10 |                               1.6705e+10 |          3.0941e+10 |            7.0898e+10 |                   2.005e+09 |                                                                                    7.2903e+10 |                1.3372e+10 |     59531000000 |                    3    |                      2.98 |                                     1.98215e+10 |                                       2.00004e+10 |\n",
      "|  1 |            1 | 2018-09-30-2018-12-29 |                                           84310000000 |                nan           |   32031000000 |                    nan          |                             nan          |        nan          |          nan          |                 nan         |                                                                                  nan          |              nan          |     19965000000 |                    1.05 |                      1.05 |                                   nan           |                                     nan           |\n",
      "|  2 |            2 | 2018-09-30-2019-09-28 |                                          260174000000 |                  1.61782e+11 |   98392000000 |                      1.6217e+10 |                               1.8245e+10 |          3.4462e+10 |            6.393e+10  |                   1.807e+09 |                                                                                    6.5737e+10 |                1.0481e+10 |     55256000000 |                    2.99 |                      2.97 |                                     1.84713e+10 |                                       1.85957e+10 |\n",
      "\n"
     ]
    }
   ],
   "source": [
    "preamble = \"\"\"\n",
    "You are an expert who answers the user's question. You are working with a pandas dataframe in Python. The name of the dataframe is `income_statement.csv`.\n",
    "Here is a preview of the dataframe:\n",
    "{head_df}\n",
    "\"\"\".format(head_df=income_statement.head(3).to_markdown())\n",
    "\n",
    "print(preamble)"
   ]
  },
  {
   "cell_type": "code",
   "execution_count": 111,
   "id": "6346184f",
   "metadata": {},
   "outputs": [
    {
     "name": "stdout",
     "output_type": "stream",
     "text": [
      "question:q1\n",
      "\n",
      "running 0th step.\n",
      "I will use Python to find the highest value of 'CostOfGoodsAndServicesSold' in the 'income_statement.csv' dataframe.\n",
      "\n",
      "running 1th step.\n",
      "= running tool run_python_code, with parameters: {'code': 'import pandas as pd\\n\\ndf = pd.read_csv(\\'income_statement.csv\\')\\n\\n# Find the highest value of \\'CostOfGoodsAndServicesSold\\'\\nhighest_cost = df[\\'CostOfGoodsAndServicesSold\\'].max()\\n\\nprint(f\"The highest value of \\'CostOfGoodsAndServicesSold\\' is {highest_cost}\")'}\n",
      "== tool results: [{'python_answer': \"The highest value of 'CostOfGoodsAndServicesSold' is 169559000000.0\\n\"}]\n",
      "The highest value of 'CostOfGoodsAndServicesSold' is 169559000000.0.\n",
      "GT Answer:169559000000\n",
      "--------------------------------------------------\n",
      "question:q2\n",
      "\n",
      "running 0th step.\n",
      "I will write and execute Python code to find the largest gross profit margin.\n",
      "\n",
      "running 1th step.\n",
      "= running tool run_python_code, with parameters: {'code': 'import pandas as pd\\n\\ndf = pd.read_csv(\\'income_statement.csv\\')\\n\\n# Calculate gross profit margin\\ndf[\\'GrossProfitMargin\\'] = df[\\'GrossProfit\\'] / df[\\'RevenueFromContractWithCustomerExcludingAssessedTax\\'] * 100\\n\\n# Find the largest gross profit margin\\nlargest_gross_profit_margin = df[\\'GrossProfitMargin\\'].max()\\n\\nprint(f\"The largest gross profit margin is {largest_gross_profit_margin:.2f}%\")'}\n",
      "== tool results: [{'python_answer': 'The largest gross profit margin is 38.36%\\n'}]\n",
      "The largest gross profit margin is 38.36%.\n",
      "GT Answer:0.3836194330595236\n",
      "--------------------------------------------------\n",
      "question:q3\n",
      "\n",
      "running 0th step.\n",
      "I will use Python to find the minimum ratio of operating income loss divided by non-operating income expense.\n",
      "\n",
      "running 1th step.\n",
      "= running tool run_python_code, with parameters: {'code': 'import pandas as pd\\n\\ndf = pd.read_csv(\"income_statement.csv\")\\n\\n# Calculate the ratio of operating income loss to non-operating income expense\\ndf[\"OperatingIncomeLossRatio\"] = df[\"OperatingIncomeLoss\"] / df[\"NonoperatingIncomeExpense\"]\\n\\n# Find the minimum ratio\\nmin_ratio = df[\"OperatingIncomeLossRatio\"].min()\\n\\nprint(f\"The minimum ratio of operating income loss to non-operating income expense is: {min_ratio:.2f}\")'}\n",
      "== tool results: [{'python_answer': 'The minimum ratio of operating income loss to non-operating income expense is: 35.36\\n'}]\n",
      "The minimum ratio of operating income loss to non-operating income expense is 35.36.\n",
      "GT Answer:35.360599\n",
      "--------------------------------------------------\n"
     ]
    }
   ],
   "source": [
    "for qsn,val in question_dict.items():\n",
    "    print(f'question:{qsn}')\n",
    "    question = val[0]\n",
    "    answer = val[1]\n",
    "    output = cohere_agent(question, preamble, tools, verbose=True)\n",
    "    print(f'GT Answer:{val[1]}')\n",
    "    print('-'*50)"
   ]
  },
  {
   "cell_type": "markdown",
   "id": "d0200ea4",
   "metadata": {},
   "source": [
    "<a id=\"qna_over_multiple_tables\"></a>\n",
    "\n",
    "# QnA over Multiple Tables \n",
    "\n",
    "We now make the task for the Agent more complicated, by asking it a question that answer can be computed only by retrieving relevant information from multiple tables: \n",
    "\n",
    "- Q: What is the ratio of the largest stockholders equity to the smallest revenue?\n",
    "\n",
    "As you will see below, this question can be obtained only by accessing both the balance sheet and the income statement. \n",
    "\n"
   ]
  },
  {
   "cell_type": "code",
   "execution_count": 112,
   "id": "94ccdb3c",
   "metadata": {},
   "outputs": [],
   "source": [
    "question_dict ={\n",
    "    'q1': ['what is the ratio of the largest stockholders equity to the smallest revenue'],\n",
    "}"
   ]
  },
  {
   "cell_type": "code",
   "execution_count": 113,
   "id": "59ee25cd",
   "metadata": {},
   "outputs": [
    {
     "name": "stdout",
     "output_type": "stream",
     "text": [
      "The largest stockholders equity value is: 134047000000.0\n",
      "The smallest revenue value is: 53809000000.0\n",
      "Their ratio is: 2.4911631883142227\n"
     ]
    }
   ],
   "source": [
    "# get the largest stockholders equity\n",
    "x = balance_sheet['StockholdersEquity'].astype(float).max()\n",
    "print(f\"The largest stockholders equity value is: {x}\")\n",
    "\n",
    "# get the smallest revenue\n",
    "y = income_statement['RevenueFromContractWithCustomerExcludingAssessedTax'].astype(float).min()\n",
    "print(f\"The smallest revenue value is: {y}\")\n",
    "\n",
    "# compute the ratio\n",
    "ratio = x/y\n",
    "print(f\"Their ratio is: {ratio}\")"
   ]
  },
  {
   "cell_type": "code",
   "execution_count": 114,
   "id": "a5f58e0f",
   "metadata": {},
   "outputs": [
    {
     "name": "stdout",
     "output_type": "stream",
     "text": [
      "\n",
      "You are an expert who answers the user's question in complete sentences. You are working with two pandas dataframe in Python. Ensure your output is a string.\n",
      "\n",
      "Here is a preview of the `income_statement.csv` dataframe:\n",
      "|    |   Unnamed: 0 | index                 |   RevenueFromContractWithCustomerExcludingAssessedTax |   CostOfGoodsAndServicesSold |   GrossProfit |   ResearchAndDevelopmentExpense |   SellingGeneralAndAdministrativeExpense |   OperatingExpenses |   OperatingIncomeLoss |   NonoperatingIncomeExpense |   IncomeLossFromContinuingOperationsBeforeIncomeTaxesExtraordinaryItemsNoncontrollingInterest |   IncomeTaxExpenseBenefit |   NetIncomeLoss |   EarningsPerShareBasic |   EarningsPerShareDiluted |   WeightedAverageNumberOfSharesOutstandingBasic |   WeightedAverageNumberOfDilutedSharesOutstanding |\n",
      "|---:|-------------:|:----------------------|------------------------------------------------------:|-----------------------------:|--------------:|--------------------------------:|-----------------------------------------:|--------------------:|----------------------:|----------------------------:|----------------------------------------------------------------------------------------------:|--------------------------:|----------------:|------------------------:|--------------------------:|------------------------------------------------:|--------------------------------------------------:|\n",
      "|  0 |            0 | 2017-10-01-2018-09-29 |                                          265595000000 |                  1.63756e+11 |  101839000000 |                      1.4236e+10 |                               1.6705e+10 |          3.0941e+10 |            7.0898e+10 |                   2.005e+09 |                                                                                    7.2903e+10 |                1.3372e+10 |     59531000000 |                    3    |                      2.98 |                                     1.98215e+10 |                                       2.00004e+10 |\n",
      "|  1 |            1 | 2018-09-30-2018-12-29 |                                           84310000000 |                nan           |   32031000000 |                    nan          |                             nan          |        nan          |          nan          |                 nan         |                                                                                  nan          |              nan          |     19965000000 |                    1.05 |                      1.05 |                                   nan           |                                     nan           |\n",
      "|  2 |            2 | 2018-09-30-2019-09-28 |                                          260174000000 |                  1.61782e+11 |   98392000000 |                      1.6217e+10 |                               1.8245e+10 |          3.4462e+10 |            6.393e+10  |                   1.807e+09 |                                                                                    6.5737e+10 |                1.0481e+10 |     55256000000 |                    2.99 |                      2.97 |                                     1.84713e+10 |                                       1.85957e+10 |\n",
      "\n",
      "Here is a preview of the `balance_sheet.csv` dataframe:\n",
      "|    |   Unnamed: 0 | index      |   CashAndCashEquivalentsAtCarryingValue |   MarketableSecuritiesCurrent |   AccountsReceivableNetCurrent |   InventoryNet |   NontradeReceivablesCurrent |   OtherAssetsCurrent |   AssetsCurrent |   MarketableSecuritiesNoncurrent |   PropertyPlantAndEquipmentNet |   OtherAssetsNoncurrent |   AssetsNoncurrent |        Assets |   AccountsPayableCurrent |   OtherLiabilitiesCurrent |   ContractWithCustomerLiabilityCurrent |   CommercialPaper |   LongTermDebtCurrent |   LiabilitiesCurrent |   LongTermDebtNoncurrent |   OtherLiabilitiesNoncurrent |   LiabilitiesNoncurrent |   Liabilities |   CommitmentsAndContingencies |   CommonStocksIncludingAdditionalPaidInCapital |   RetainedEarningsAccumulatedDeficit |   AccumulatedOtherComprehensiveIncomeLossNetOfTax |   StockholdersEquity |   LiabilitiesAndStockholdersEquity |\n",
      "|---:|-------------:|:-----------|----------------------------------------:|------------------------------:|-------------------------------:|---------------:|-----------------------------:|---------------------:|----------------:|---------------------------------:|-------------------------------:|------------------------:|-------------------:|--------------:|-------------------------:|--------------------------:|---------------------------------------:|------------------:|----------------------:|---------------------:|-------------------------:|-----------------------------:|------------------------:|--------------:|------------------------------:|-----------------------------------------------:|-------------------------------------:|--------------------------------------------------:|---------------------:|-----------------------------------:|\n",
      "|  0 |            0 | 2017-09-30 |                            nan          |                  nan          |                   nan          |    nan         |                 nan          |         nan          |   nan           |                    nan           |                   nan          |            nan          |      nan           | nan           |             nan          |               nan         |                            nan         |        nan        |           nan         |        nan           |             nan          |                 nan          |            nan          | nan           |                           nan |                                   nan          |                         nan          |                                        nan        |         134047000000 |                      nan           |\n",
      "|  1 |            1 | 2018-09-29 |                            nan          |                  nan          |                   nan          |    nan         |                 nan          |         nan          |   nan           |                    nan           |                   nan          |            nan          |      nan           | nan           |             nan          |               nan         |                            nan         |        nan        |           nan         |        nan           |             nan          |                 nan          |            nan          | nan           |                           nan |                                   nan          |                         nan          |                                        nan        |         107147000000 |                      nan           |\n",
      "|  2 |            2 | 2019-09-28 |                              4.8844e+10 |                    5.1713e+10 |                     2.2926e+10 |      4.106e+09 |                   2.2878e+10 |           1.2352e+10 |     1.62819e+11 |                      1.05341e+11 |                     3.7378e+10 |              3.2978e+10 |        1.75697e+11 |   3.38516e+11 |               4.6236e+10 |                 3.772e+10 |                              5.522e+09 |          5.98e+09 |             1.026e+10 |          1.05718e+11 |               9.1807e+10 |                   5.0503e+10 |              1.4231e+11 |   2.48028e+11 |                             0 |                                     4.5174e+10 |                           4.5898e+10 |                                         -5.84e+08 |          90488000000 |                        3.38516e+11 |\n",
      "\n"
     ]
    }
   ],
   "source": [
    "preamble = \"\"\"\n",
    "You are an expert who answers the user's question in complete sentences. You are working with two pandas dataframe in Python. Ensure your output is a string.\n",
    "\n",
    "Here is a preview of the `income_statement.csv` dataframe:\n",
    "{table_1}\n",
    "\n",
    "Here is a preview of the `balance_sheet.csv` dataframe:\n",
    "{table_2}\n",
    "\"\"\".format(table_1=income_statement.head(3).to_markdown(),table_2=balance_sheet.head(3).to_markdown())\n",
    "\n",
    "\n",
    "print(preamble)"
   ]
  },
  {
   "cell_type": "code",
   "execution_count": 115,
   "id": "537fef10",
   "metadata": {},
   "outputs": [
    {
     "name": "stdout",
     "output_type": "stream",
     "text": [
      "question:q1\n",
      "\n",
      "running 0th step.\n",
      "I will use the provided code to find the ratio of the largest stockholders equity to the smallest revenue.\n",
      "\n",
      "running 1th step.\n",
      "= running tool run_python_code, with parameters: {'code': 'import pandas as pd\\n\\n# Read the CSV files into dataframes\\nincome_statement = pd.read_csv(\\'income_statement.csv\\')\\nbalance_sheet = pd.read_csv(\\'balance_sheet.csv\\')\\n\\n# Find the smallest revenue\\nsmallest_revenue = income_statement[\\'RevenueFromContractWithCustomerExcludingAssessedTax\\'].min()\\n\\n# Find the largest stockholders equity\\nlargest_stockholders_equity = balance_sheet[\\'StockholdersEquity\\'].max()\\n\\n# Calculate the ratio\\nratio = largest_stockholders_equity / smallest_revenue\\nprint(f\"The ratio of the largest stockholders equity to the smallest revenue is {ratio:.2f}\")'}\n",
      "== tool results: [{'python_answer': 'The ratio of the largest stockholders equity to the smallest revenue is 2.49\\n'}]\n",
      "The ratio of the largest stockholders equity to the smallest revenue is 2.49.\n"
     ]
    }
   ],
   "source": [
    "for qsn,val in question_dict.items():\n",
    "    print(f'question:{qsn}')\n",
    "    question = val[0]\n",
    "    output = cohere_agent(question, preamble, tools, verbose=True)"
   ]
  },
  {
   "cell_type": "markdown",
   "id": "571c8c96",
   "metadata": {},
   "source": [
    "<a id=\"error_resilience\"></a>\n",
    "\n",
    "# Error Resilience\n",
    "\n",
    "In the previous example over single table, the model successfully answered your questions. However, the model may not always have access to the preview of the data. You will see that when we remove the preview from the preamble, the model is run into an error and not produce the answer. We will solve this problem with two different ways: \n",
    "\n",
    "1. Asking the model to keep trying until it fixes the issue. \n",
    "2. Giving the model another tool to view the data and telling it to preview the data before writing code. \n",
    "\n",
    "You will see that the second method is able to come to the answer with fewer steps. \n"
   ]
  },
  {
   "cell_type": "code",
   "execution_count": 116,
   "id": "a7940e83",
   "metadata": {},
   "outputs": [
    {
     "name": "stdout",
     "output_type": "stream",
     "text": [
      "\n",
      "running 0th step.\n",
      "I will use Python to find the highest value of 'Cost of Goods and Service' in the 'income_statement.csv' file.\n",
      "\n",
      "running 1th step.\n",
      "= running tool run_python_code, with parameters: {'code': 'import pandas as pd\\n\\ndf = pd.read_csv(\\'income_statement.csv\\')\\n\\n# Find the highest value of \\'Cost of Goods and Service\\'\\nhighest_cost = df[\\'Cost of Goods and Service\\'].max()\\n\\nprint(f\"The highest value of \\'Cost of Goods and Service\\' is: {highest_cost}\")'}\n",
      "== tool results: [{'python_answer': \"KeyError('Cost of Goods and Service')\"}]\n",
      "Sorry, there is no column named 'Cost of Goods and Service' in the 'income_statement.csv' file.\n"
     ]
    }
   ],
   "source": [
    "preamble = \"\"\"\n",
    "You are an expert who answers the user's question. You are working with a pandas dataframe in Python. The name of the dataframe is `income_statement.csv`.\n",
    "\"\"\"\n",
    "\n",
    "question1 = \"what is the highest value of cost of goods and service?\"\n",
    "\n",
    "output = cohere_agent(question1, preamble, tools, verbose=True)"
   ]
  },
  {
   "cell_type": "markdown",
   "id": "85189096",
   "metadata": {},
   "source": [
    "As you see above, the model failed to execute because it assumed certain column names but they turned out to be wrong. One simple fix is to tell the model to continue to solve the problem in the face of error. "
   ]
  },
  {
   "cell_type": "code",
   "execution_count": 123,
   "id": "2156f145",
   "metadata": {},
   "outputs": [
    {
     "name": "stdout",
     "output_type": "stream",
     "text": [
      "\n",
      "running 0th step.\n",
      "I will use Python to find the highest value of cost of goods and service.\n",
      "\n",
      "running 1th step.\n",
      "= running tool run_python_code, with parameters: {'code': 'import pandas as pd\\n\\ndf = pd.read_csv(\\'income_statement.csv\\')\\n\\n# Find the highest value of \\'Cost of Goods and Services\\'\\nhighest_cost = df[\\'Cost of Goods and Services\\'].max()\\n\\nprint(f\"The highest value of \\'Cost of Goods and Services\\' is: {highest_cost}\")'}\n",
      "== tool results: [{'python_answer': \"KeyError('Cost of Goods and Services')\"}]\n",
      "I encountered an error. I will now view the data to understand the error.\n",
      "\n",
      "running 2th step.\n",
      "= running tool run_python_code, with parameters: {'code': \"import pandas as pd\\n\\ndf = pd.read_csv('income_statement.csv')\\n\\nprint(df.columns)\"}\n",
      "== tool results: [{'python_answer': \"Index(['Unnamed: 0', 'index',\\n       'RevenueFromContractWithCustomerExcludingAssessedTax',\\n       'CostOfGoodsAndServicesSold', 'GrossProfit',\\n       'ResearchAndDevelopmentExpense',\\n       'SellingGeneralAndAdministrativeExpense', 'OperatingExpenses',\\n       'OperatingIncomeLoss', 'NonoperatingIncomeExpense',\\n       'IncomeLossFromContinuingOperationsBeforeIncomeTaxesExtraordinaryItemsNoncontrollingInterest',\\n       'IncomeTaxExpenseBenefit', 'NetIncomeLoss', 'EarningsPerShareBasic',\\n       'EarningsPerShareDiluted',\\n       'WeightedAverageNumberOfSharesOutstandingBasic',\\n       'WeightedAverageNumberOfDilutedSharesOutstanding'],\\n      dtype='object')\\n\"}]\n",
      "I found that the column name is 'CostOfGoodsAndServicesSold'. I will now use this to find the highest value.\n",
      "\n",
      "running 3th step.\n",
      "= running tool run_python_code, with parameters: {'code': 'import pandas as pd\\n\\ndf = pd.read_csv(\\'income_statement.csv\\')\\n\\n# Find the highest value of \\'Cost of Goods and Services\\'\\nhighest_cost = df[\\'CostOfGoodsAndServicesSold\\'].max()\\n\\nprint(f\"The highest value of \\'Cost of Goods and Services\\' is: {highest_cost}\")'}\n",
      "== tool results: [{'python_answer': \"The highest value of 'Cost of Goods and Services' is: 169559000000.0\\n\"}]\n",
      "The highest value of 'Cost of Goods and Services' is 169559000000.0.\n"
     ]
    }
   ],
   "source": [
    "preamble = \"\"\"\n",
    "You are an expert who answers the user's question. You are working with a pandas dataframe in Python. The name of the dataframe is `income_statement.csv`.\n",
    "If you run into error, keep trying until you fix it. You may need to view the data to understand the error.\n",
    "\"\"\"\n",
    "\n",
    "question1 = \"what is the highest value of cost of goods and service?\"\n",
    "\n",
    "output = cohere_agent(question1, preamble, tools, verbose=True)"
   ]
  },
  {
   "cell_type": "markdown",
   "id": "6f629e56",
   "metadata": {},
   "source": [
    "<a id=\"add_viewing_tool\"></a>\n",
    "\n",
    "### Add Viewing Tool "
   ]
  },
  {
   "cell_type": "markdown",
   "id": "d74ff2d9",
   "metadata": {},
   "source": [
    "What if we directly give the model the ability to view the data as a tool so that it can explicitly use it instead of indirectly figuring it out? "
   ]
  },
  {
   "cell_type": "code",
   "execution_count": 119,
   "id": "e8ac7156",
   "metadata": {},
   "outputs": [],
   "source": [
    "def view_csv_data(path: str) -> dict:\n",
    "    \"\"\"\n",
    "    Function to view the head, tail and shape of a given csv file.\n",
    "    \"\"\"\n",
    "    df = pd.read_csv(path)\n",
    "\n",
    "    return {\n",
    "        \"head\": df.head().to_string(),\n",
    "        \"tail\": df.tail().to_string(),\n",
    "        \"shape\": str(df.shape),\n",
    "    }\n",
    "\n",
    "functions_map = {\n",
    "    \"run_python_code\": run_python_code,\n",
    "    \"view_csv_data\": view_csv_data\n",
    "}\n",
    "\n",
    "tools = [\n",
    "    {\n",
    "        \"name\": \"run_python_code\",\n",
    "        \"description\": \"given a python code, runs it\",\n",
    "        \"parameter_definitions\": {\n",
    "            \"code\": {\n",
    "                \"description\": \"executable python code\",\n",
    "                \"type\": \"str\",\n",
    "                \"required\": True\n",
    "            }\n",
    "        }\n",
    "    },\n",
    "    {\n",
    "        \"name\": \"view_csv_data\",\n",
    "        \"description\": \"give path to csv data and get head, tail and shape of the data\",\n",
    "        \"parameter_definitions\": {\n",
    "            \"path\": {\n",
    "                \"description\": \"path to csv\",\n",
    "                \"type\": \"str\",\n",
    "                \"required\": True\n",
    "            }\n",
    "        }\n",
    "    },\n",
    "]"
   ]
  },
  {
   "cell_type": "code",
   "execution_count": 120,
   "id": "acb59e56",
   "metadata": {},
   "outputs": [
    {
     "name": "stdout",
     "output_type": "stream",
     "text": [
      "\n",
      "running 0th step.\n",
      "I will first view the data and then write and execute Python code to find the highest value of cost of goods and service.\n",
      "\n",
      "running 1th step.\n",
      "= running tool view_csv_data, with parameters: {'path': 'income_statement.csv'}\n",
      "== tool results: [{'head': '   Unnamed: 0                  index  RevenueFromContractWithCustomerExcludingAssessedTax  CostOfGoodsAndServicesSold   GrossProfit  ResearchAndDevelopmentExpense  SellingGeneralAndAdministrativeExpense  OperatingExpenses  OperatingIncomeLoss  NonoperatingIncomeExpense  IncomeLossFromContinuingOperationsBeforeIncomeTaxesExtraordinaryItemsNoncontrollingInterest  IncomeTaxExpenseBenefit  NetIncomeLoss  EarningsPerShareBasic  EarningsPerShareDiluted  WeightedAverageNumberOfSharesOutstandingBasic  WeightedAverageNumberOfDilutedSharesOutstanding\\n0           0  2017-10-01-2018-09-29                                         265595000000                1.637560e+11  101839000000                   1.423600e+10                            1.670500e+10       3.094100e+10         7.089800e+10               2.005000e+09                                                                                 7.290300e+10             1.337200e+10    59531000000                   3.00                     2.98                                   1.982151e+10                                     2.000044e+10\\n1           1  2018-09-30-2018-12-29                                          84310000000                         NaN   32031000000                            NaN                                     NaN                NaN                  NaN                        NaN                                                                                          NaN                      NaN    19965000000                   1.05                     1.05                                            NaN                                              NaN\\n2           2  2018-09-30-2019-09-28                                         260174000000                1.617820e+11   98392000000                   1.621700e+10                            1.824500e+10       3.446200e+10         6.393000e+10               1.807000e+09                                                                                 6.573700e+10             1.048100e+10    55256000000                   2.99                     2.97                                   1.847134e+10                                     1.859565e+10\\n3           3  2018-12-30-2019-03-30                                          58015000000                         NaN   21821000000                            NaN                                     NaN                NaN                  NaN                        NaN                                                                                          NaN                      NaN    11561000000                   0.62                     0.61                                            NaN                                              NaN\\n4           4  2019-03-31-2019-06-29                                          53809000000                         NaN   20227000000                            NaN                                     NaN                NaN                  NaN                        NaN                                                                                          NaN                      NaN    10044000000                   0.55                     0.55                                            NaN                                              NaN', 'tail': '    Unnamed: 0                  index  RevenueFromContractWithCustomerExcludingAssessedTax  CostOfGoodsAndServicesSold   GrossProfit  ResearchAndDevelopmentExpense  SellingGeneralAndAdministrativeExpense  OperatingExpenses  OperatingIncomeLoss  NonoperatingIncomeExpense  IncomeLossFromContinuingOperationsBeforeIncomeTaxesExtraordinaryItemsNoncontrollingInterest  IncomeTaxExpenseBenefit  NetIncomeLoss  EarningsPerShareBasic  EarningsPerShareDiluted  WeightedAverageNumberOfSharesOutstandingBasic  WeightedAverageNumberOfDilutedSharesOutstanding\\n6            6  2019-09-29-2019-12-28                                          91819000000                         NaN   35217000000                            NaN                                     NaN                NaN                  NaN                        NaN                                                                                          NaN                      NaN    22236000000                   1.26                     1.25                                            NaN                                              NaN\\n7            7  2019-09-29-2020-09-26                                         274515000000                1.695590e+11  104956000000                   1.875200e+10                            1.991600e+10       3.866800e+10         6.628800e+10                803000000.0                                                                                 6.709100e+10             9.680000e+09    57411000000                   3.31                     3.28                                   1.735212e+10                                     1.752821e+10\\n8            8  2019-12-29-2020-03-28                                          58313000000                         NaN   22370000000                            NaN                                     NaN                NaN                  NaN                        NaN                                                                                          NaN                      NaN    11249000000                   0.64                     0.64                                            NaN                                              NaN\\n9            9  2020-03-29-2020-06-27                                          59685000000                         NaN   22680000000                            NaN                                     NaN                NaN                  NaN                        NaN                                                                                          NaN                      NaN    11253000000                   0.65                     0.65                                            NaN                                              NaN\\n10          10  2020-06-28-2020-09-26                                          64698000000                         NaN   24689000000                            NaN                                     NaN                NaN                  NaN                        NaN                                                                                          NaN                      NaN    12673000000                   0.74                     0.73                                            NaN                                              NaN', 'shape': '(11, 17)'}]\n",
      "The column name is 'CostOfGoodsAndServicesSold'. I will now write and execute Python code to find the highest value in this column.\n",
      "\n",
      "running 2th step.\n",
      "= running tool run_python_code, with parameters: {'code': \"import pandas as pd\\n\\ndf = pd.read_csv('income_statement.csv')\\n\\nprint(df['CostOfGoodsAndServicesSold'].max())\"}\n",
      "== tool results: [{'python_answer': '169559000000.0\\n'}]\n",
      "The highest value of cost of goods and services is 169559000000.0.\n"
     ]
    }
   ],
   "source": [
    "preamble = \"\"\"\n",
    "You are an expert who answers the user's question. You are working with a pandas dataframe in Python. The name of the dataframe is `income_statement.csv`.\n",
    "Always view the data first to write flawless code.\n",
    "\"\"\"\n",
    "\n",
    "question1 = \"what is the highest value of cost of goods and service?\"\n",
    "\n",
    "output = cohere_agent(question1, preamble, tools, verbose=True)"
   ]
  },
  {
   "cell_type": "markdown",
   "id": "105cf4ee",
   "metadata": {},
   "source": [
    "By being prescriptive, we were able to cut down a step and get to the answer faster. "
   ]
  }
 ],
 "metadata": {
  "colab": {
   "provenance": []
  },
  "kernelspec": {
   "display_name": "Python 3 (ipykernel)",
   "language": "python",
   "name": "python3"
  },
  "language_info": {
   "codemirror_mode": {
    "name": "ipython",
    "version": 3
   },
   "file_extension": ".py",
   "mimetype": "text/x-python",
   "name": "python",
   "nbconvert_exporter": "python",
   "pygments_lexer": "ipython3",
   "version": "3.11.5"
  }
 },
 "nbformat": 4,
 "nbformat_minor": 5
}
