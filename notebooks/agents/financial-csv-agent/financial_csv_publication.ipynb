{
 "cells": [
  {
   "cell_type": "markdown",
   "id": "5c0d5271-8d35-4471-b667-265695cbf11a",
   "metadata": {},
   "source": [
    "![Cohere-Logo-Color-RGB.png](data:image/png;base64,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)"
   ]
  },
  {
   "cell_type": "markdown",
   "id": "1d71f595-01ef-4c24-99eb-81b01eec048b",
   "metadata": {},
   "source": [
    "# Notebook Overview\n",
    "\n",
    "## Motivation\n",
    "Tabular data reasoning continues to be an exciting application of Agents, particularly in the financial domain, where multiple reasoning steps may be needed to identify the right answer. For example, a financial analyst working with financial statements may be interested in computing various financial ratios with natural language queries.\n",
    "\n",
    "Some examples may include:\n",
    "- ROE (Return on Equity) = Net Income / Shareholder's Equity\n",
    "- Net Profit Margin = Net Income / Revenue\n",
    "- Asset Turnover = Revenue / Average Total Assets\n",
    "- Financial Leverage = Average Total Assets / Shareholder's Equity\n",
    "\n",
    "Having an Agent which is able to correctly compute these and other ratios would be a great help for any analyst in the field of Finance.\n",
    "\n",
    "## Objective\n",
    "In this notebook we explore how to setup a [Cohere ReAct Agent](https://github.com/langchain-ai/langchain-cohere/blob/main/libs/cohere/langchain_cohere/cohere_agent.py) to answer questions over tables in Apple's SEC10K 2020 form. We show how this can be done with two variants of a langchain python tool, one that requires you to pass the full path of the dataframe and another that requires the dataframe objects to be loaded in memory. While there is no major difference between the two approaches, we present both to show how to manage files that are loaded in memory vs files in storage. \n",
    "\n",
    "## Table of Contents\n",
    "\n",
    "- [Setup](#sec_step0)\n",
    "- [Introduction](#sec_step1)\n",
    "- [QnA over Single Table](#sec_step2)\n",
    "    - [Agent with Python Tool](#sec_step2_sub1)\n",
    "    - [Agent with Python Tool that takes tables as input](#sec_step2_sub2)\n",
    "- [QnA over Multiple Tables](#sec_step3)"
   ]
  },
  {
   "cell_type": "markdown",
   "id": "68e373fd",
   "metadata": {
    "collapsed": false,
    "jupyter": {
     "outputs_hidden": false
    }
   },
   "source": [
    "<a id=\"sec_step0\"></a>\n",
    "# Setup"
   ]
  },
  {
   "cell_type": "code",
   "execution_count": 3,
   "id": "bce0ca82-fc00-40bb-9d0e-a274bd2eb8a7",
   "metadata": {
    "colab": {
     "base_uri": "https://localhost:8080/"
    },
    "id": "bce0ca82-fc00-40bb-9d0e-a274bd2eb8a7",
    "outputId": "c6c45466-2abc-40fb-8e0e-823d5339e902"
   },
   "outputs": [],
   "source": [
    "from langchain_core.pydantic_v1 import BaseModel, Field\n",
    "from langchain.agents import AgentExecutor\n",
    "from langchain_cohere.react_multi_hop.agent import create_cohere_react_agent\n",
    "from langchain_core.prompts import ChatPromptTemplate\n",
    "from langchain_cohere.chat_models import ChatCohere\n",
    "import pandas as pd\n",
    "from langchain.agents import Tool\n",
    "from langchain_experimental.utilities import PythonREPL\n",
    "from langchain_experimental.tools.python.tool import PythonAstREPLTool"
   ]
  },
  {
   "cell_type": "code",
   "execution_count": 5,
   "id": "76287bf9-d98d-4a34-84c8-46134b85de53",
   "metadata": {},
   "outputs": [],
   "source": [
    "####################################################################################################\n",
    "#\n",
    "# Uncomment if you need to install the following packages\n",
    "#\n",
    "####################################################################################################\n",
    "\n",
    "#!pip install --quiet langchain langchain_cohere langchain_experimental --upgrade\n",
    "#!pip install sec-api"
   ]
  },
  {
   "cell_type": "markdown",
   "id": "b0d3275d",
   "metadata": {
    "collapsed": false,
    "jupyter": {
     "outputs_hidden": false
    }
   },
   "source": [
    "<a id=\"sec_step1\"></a>\n",
    "# Introduction\n",
    "\n",
    "The aim of this notebook is to showcase how Cohere Langchain Agents can be used to answer questions over tabular data.\n",
    "This notebook assumes the input is a set of csv files extracted from Apples SEC 10K filings."
   ]
  },
  {
   "cell_type": "markdown",
   "id": "b698a511-8f2a-4094-9770-ebea661982bc",
   "metadata": {},
   "source": [
    "### Data Loading\n",
    "\n",
    "We use the sec-api to download the income statement and balance sheet from the SEC 10K .htm file. Please note that the tables need to be parsed such that the index is numerical as the python code generation struggles to filter based on index. We have processed the tables and provided them for you."
   ]
  },
  {
   "cell_type": "code",
   "execution_count": 6,
   "id": "936212a7-fda6-4e12-a5e3-2fdd373660ae",
   "metadata": {},
   "outputs": [],
   "source": [
    "income_statement = pd.read_csv('income_statement.csv')\n",
    "balance_sheet = pd.read_csv('balance_sheet.csv')"
   ]
  },
  {
   "cell_type": "markdown",
   "id": "d3e42dd8-20d0-4b97-90fd-4a4ce5836c64",
   "metadata": {},
   "source": [
    "<a id=\"sec_step2\"></a>\n",
    "# QnA over Single Table "
   ]
  },
  {
   "cell_type": "markdown",
   "id": "fa7a67ef-7dbf-40cb-acce-cfec61eac855",
   "metadata": {},
   "source": [
    "<a id=\"sec_step2_sub1\"></a>\n",
    "## Agent with Python Tool\n",
    "\n",
    "In the example below, we show how the python tool can be used to load a dataframe and extract information from it. To do this successfully we need to:\n",
    "\n",
    "1) pass the file name to the preamble so the model knows how to load the dataframe\n",
    "2) pass a preview of the dataframe in the preamble so the model knows which columns/rows to query\n",
    "\n",
    "First, let's implement the ReAct agent"
   ]
  },
  {
   "cell_type": "code",
   "execution_count": 9,
   "id": "9be6f9eb-b1ba-4a4f-a5f3-5b775f0db69f",
   "metadata": {},
   "outputs": [],
   "source": [
    "# instantiate the Cohere llm\n",
    "llm = ChatCohere(model=\"command-r\", temperature=0.1,cohere_api_key=\"\",verbose=True)\n",
    "\n",
    "# create the python tool\n",
    "python_repl = PythonREPL()\n",
    "python_tool = Tool(\n",
    "    name=\"python_repl\",\n",
    "    description=\"Executes python code and returns the result. The code runs in a static sandbox without interactive mode, so print output or save output to a file.\",\n",
    "    func=python_repl.run,\n",
    ")\n",
    "python_tool.name = \"python_interpreter\"\n",
    "\n",
    "class ToolInput(BaseModel):\n",
    "    code: str = Field(description=\"Python code to execute.\")\n",
    "python_tool.args_schema = ToolInput\n",
    "tools=[python_tool]   \n",
    "\n",
    "# define the prompt template\n",
    "prompt = ChatPromptTemplate.from_template(\"{input}\")\n",
    "\n",
    "# instantiate the ReAct agent\n",
    "agent = create_cohere_react_agent(\n",
    "   llm=llm,\n",
    "   tools=tools,\n",
    "   prompt=prompt,\n",
    ")\n",
    "agent_executor = AgentExecutor(agent=agent,\n",
    "                               tools=tools,\n",
    "                               verbose=True,\n",
    "                               return_intermediate_steps=True\n",
    "                    )\n",
    "# finally, define the preamble\n",
    "preamble = \"\"\"\n",
    "You are an expert who answers the user's question. You are working with a pandas dataframe in Python. The name of the dataframe is `income_statement.csv`.\n",
    "Here is a preview of the dataframe:\n",
    "{head_df}\n",
    "\"\"\".format(head_df=income_statement.head(3).to_markdown())\n"
   ]
  },
  {
   "cell_type": "markdown",
   "id": "e82dd596",
   "metadata": {
    "collapsed": false,
    "jupyter": {
     "outputs_hidden": false
    }
   },
   "source": [
    "Then, we define the dictionary including the questions we want the Agent to answer, and their answer."
   ]
  },
  {
   "cell_type": "code",
   "execution_count": 10,
   "id": "6b478e3c",
   "metadata": {
    "collapsed": false,
    "jupyter": {
     "outputs_hidden": false
    }
   },
   "outputs": [],
   "source": [
    "question_dict ={\n",
    "    'q1': ['what is the highest value of cost of goods and service?',169559000000],\n",
    "    'q2': ['what is the largest gross profit margin?',0.3836194330595236],\n",
    "    'q3': ['what is the minimum ratio of operating income loss divided by non operating income expense',35.360599]\n",
    "}"
   ]
  },
  {
   "cell_type": "markdown",
   "id": "d8b575d3",
   "metadata": {
    "collapsed": false,
    "jupyter": {
     "outputs_hidden": false
    }
   },
   "source": [
    "Let's now see how the Agent answers to each of the questions"
   ]
  },
  {
   "cell_type": "code",
   "execution_count": 19,
   "id": "5ebb2d00-315d-462c-919b-749027133d89",
   "metadata": {},
   "outputs": [
    {
     "name": "stdout",
     "output_type": "stream",
     "text": [
      "question:q1\n",
      "\n",
      "\n",
      "\u001b[1m> Entering new AgentExecutor chain...\u001b[0m\n",
      "\u001b[32;1m\u001b[1;3m\n",
      "I will write and execute Python code to find the highest value of Cost of Goods and Services Sold from the provided dataframe.\n",
      "{'tool_name': 'python_interpreter', 'parameters': {'code': 'import pandas as pd\\n\\n# Read the CSV file into a DataFrame\\ndf = pd.read_csv(\\'income_statement.csv\\')\\n\\n# Find the highest value in the \\'CostOfGoodsAndServicesSold\\' column\\nmax_value = df[\\'CostOfGoodsAndServicesSold\\'].max()\\n\\nprint(f\"The highest value of Cost of Goods and Services Sold is {max_value}\")'}}\n",
      "\u001b[0m\u001b[36;1m\u001b[1;3mThe highest value of Cost of Goods and Services Sold is 169559000000.0\n",
      "\u001b[0m\u001b[32;1m\u001b[1;3mRelevant Documents: 0\n",
      "Cited Documents: 0\n",
      "Answer: The highest value of Cost of Goods and Services Sold is 169559000000.0.\n",
      "Grounded answer: The highest value of Cost of Goods and Services Sold is <co: 0>169559000000.0</co: 0>.\u001b[0m\n",
      "\n",
      "\u001b[1m> Finished chain.\u001b[0m\n",
      "GT Answer:169559000000\n",
      "--------------------------------------------------\n",
      "question:q2\n",
      "\n",
      "\n",
      "\u001b[1m> Entering new AgentExecutor chain...\u001b[0m\n",
      "\u001b[32;1m\u001b[1;3m\n",
      "I will write and execute Python code to calculate the largest gross profit margin from the data frame provided.\n",
      "{'tool_name': 'python_interpreter', 'parameters': {'code': 'import pandas as pd\\n\\n# Read the CSV file into a DataFrame\\ndf = pd.read_csv(\\'income_statement.csv\\')\\n\\n# Calculate the gross profit margin as a percentage\\ndf[\\'GrossProfitMargin\\'] = (df[\\'GrossProfit\\'] / df[\\'RevenueFromContractWithCustomerExcludingAssessedTax\\']) * 100\\n\\n# Find the row with the maximum gross profit margin\\nmax_margin_row = df.loc[df[\\'GrossProfitMargin\\'].idxmax()]\\n\\nprint(f\"The largest gross profit margin is {max_margin_row[\\'GrossProfitMargin\\']}% on {max_margin_row[\\'index\\']}\")\\n'}}\n",
      "\u001b[0m\u001b[36;1m\u001b[1;3mThe largest gross profit margin is 38.36194330595236% on 2019-12-29-2020-03-28\n",
      "\u001b[0m\u001b[32;1m\u001b[1;3mRelevant Documents: 0\n",
      "Cited Documents: 0\n",
      "Answer: The largest gross profit margin is approximately 38.36% on 2019-12-29 to 2020-03-28.\n",
      "Grounded answer: The largest gross profit margin is <co: 0>approximately 38.36</co: 0>% on <co: 0>2019-12-29 to 2020-03-28</co: 0>.\u001b[0m\n",
      "\n",
      "\u001b[1m> Finished chain.\u001b[0m\n",
      "GT Answer:0.3836194330595236\n",
      "--------------------------------------------------\n",
      "question:q3\n",
      "\n",
      "\n",
      "\u001b[1m> Entering new AgentExecutor chain...\u001b[0m\n",
      "\u001b[32;1m\u001b[1;3m\n",
      "I will write and execute Python code to calculate the minimum ratio of Operating Income Loss divided by Non Operating Income Expense.\n",
      "{'tool_name': 'python_interpreter', 'parameters': {'code': 'import pandas as pd\\n\\n# Read the CSV file into a DataFrame\\ndf = pd.read_csv(\\'income_statement.csv\\')\\n\\n# Calculate the ratio\\nratios = df[\\'OperatingIncomeLoss\\'] / df[\\'NonoperatingIncomeExpense\\']\\n\\nprint(\"Minimum ratio:\", ratios.min())'}}\n",
      "\u001b[0m\u001b[36;1m\u001b[1;3mMinimum ratio: 35.36059850374065\n",
      "\u001b[0m\u001b[32;1m\u001b[1;3mRelevant Documents: 0\n",
      "Cited Documents: 0\n",
      "Answer: The minimum ratio of Operating Income Loss divided by Non Operating Income Expense is approximately **35.36**.\n",
      "Grounded answer: The minimum ratio of Operating Income Loss divided by Non Operating Income Expense is approximately *<co: 0>*35.36</co: 0>**.\u001b[0m\n",
      "\n",
      "\u001b[1m> Finished chain.\u001b[0m\n",
      "GT Answer:35.360599\n",
      "--------------------------------------------------\n"
     ]
    }
   ],
   "source": [
    "for qsn,val in question_dict.items():\n",
    "    print(f'question:{qsn}')\n",
    "    agent_executor.invoke({\n",
    "       \"input\": val[0],\n",
    "       \"preamble\": preamble,\n",
    "    })\n",
    "    print(f'GT Answer:{val[1]}')\n",
    "    print('-'*50)"
   ]
  },
  {
   "cell_type": "markdown",
   "id": "8a1fc000",
   "metadata": {
    "collapsed": false,
    "jupyter": {
     "outputs_hidden": false
    }
   },
   "source": [
    "Nice! The agent uses the Python tool to write the code to access the data in the tables, and perform the required calculations."
   ]
  },
  {
   "cell_type": "markdown",
   "id": "899e9b6e-3d3d-4127-85eb-7d8d2fb35920",
   "metadata": {},
   "source": [
    "<a id=\"sec_step2_sub2\"></a>\n",
    "## Agent with Python Tool that takes tables as input\n",
    "\n",
    "In the example above, the model needs to load the dataframe in the python call before carrying out operations. In this example, we show how to pass the dataframes to the python tool so it has the file already loaded."
   ]
  },
  {
   "cell_type": "code",
   "execution_count": 163,
   "id": "88cb7c3d-6862-42af-865f-39b45b87defb",
   "metadata": {},
   "outputs": [],
   "source": [
    "# call the PythonAstREPLTool in order to pass tables to the tool\n",
    "df_locals = {'df':pd.read_csv('income_statement.csv')}\n",
    "tools = [PythonAstREPLTool(locals=df_locals)]\n",
    "\n",
    "agent = create_cohere_react_agent(\n",
    "   llm=llm,\n",
    "   tools=tools,\n",
    "   prompt=prompt,\n",
    ")\n",
    "agent_executor = AgentExecutor(agent=agent,\n",
    "                               tools=tools,\n",
    "                               verbose=True,\n",
    "                               return_intermediate_steps=True\n",
    "                    )\n",
    "\n",
    "preamble = \"\"\"\n",
    "You are an expert who answers the user's question. You are working with a pandas dataframe in Python. The name of the dataframe is `df`.\n",
    "Here is a preview of the dataframe:\n",
    "{head_df}\n",
    "\"\"\".format(head_df=income_statement.head(3).to_markdown())\n"
   ]
  },
  {
   "cell_type": "markdown",
   "id": "2af2fa42",
   "metadata": {
    "collapsed": false,
    "jupyter": {
     "outputs_hidden": false
    }
   },
   "source": [
    "Let's loop again over the same dictionary of questions"
   ]
  },
  {
   "cell_type": "code",
   "execution_count": 20,
   "id": "7bd700bd-d3ac-44ac-acb0-bebf8c0a09bf",
   "metadata": {},
   "outputs": [
    {
     "name": "stdout",
     "output_type": "stream",
     "text": [
      "question:q1\n",
      "\n",
      "\n",
      "\u001b[1m> Entering new AgentExecutor chain...\u001b[0m\n",
      "\u001b[32;1m\u001b[1;3m\n",
      "I will write and execute Python code to find the highest value of Cost of Goods and Services Sold from the provided dataframe.\n",
      "{'tool_name': 'python_interpreter', 'parameters': {'code': \"import pandas as pd\\n\\n# Read the CSV file into a DataFrame\\ndf = pd.read_csv('income_statement.csv')\\n\\n# Find the highest value in the 'CostOfGoodsAndServicesSold' column\\nmax_value = df['CostOfGoodsAndServicesSold'].max()\\n\\nprint(f'The highest value of Cost of Goods and Services Sold is {max_value:.2f}')\\n\"}}\n",
      "\u001b[0m\u001b[36;1m\u001b[1;3mThe highest value of Cost of Goods and Services Sold is 169559000000.00\n",
      "\u001b[0m\u001b[32;1m\u001b[1;3mRelevant Documents: 0\n",
      "Cited Documents: 0\n",
      "Answer: The highest value of Cost of Goods and Services Sold is 169559000000.00.\n",
      "Grounded answer: The highest value of Cost of Goods and Services Sold is <co: 0>169559000000.00</co: 0>.\u001b[0m\n",
      "\n",
      "\u001b[1m> Finished chain.\u001b[0m\n",
      "GT Answer:169559000000\n",
      "--------------------------------------------------\n",
      "question:q2\n",
      "\n",
      "\n",
      "\u001b[1m> Entering new AgentExecutor chain...\u001b[0m\n",
      "\u001b[32;1m\u001b[1;3m\n",
      "I will write and execute Python code to calculate the largest gross profit margin from the data frame provided.\n",
      "{'tool_name': 'python_interpreter', 'parameters': {'code': 'import pandas as pd\\n\\n# Read the CSV file into a DataFrame\\ndf = pd.read_csv(\\'income_statement.csv\\')\\n\\n# Calculate the gross profit margin as a percentage\\ndf[\\'GrossProfitMargin\\'] = (df[\\'GrossProfit\\'] / df[\\'RevenueFromContractWithCustomerExcludingAssessedTax\\']) * 100\\n\\n# Find the row with the maximum gross profit margin\\nmax_margin_row = df.loc[df[\\'GrossProfitMargin\\'].idxmax()]\\n\\nprint(f\"The largest gross profit margin is {max_margin_row[\\'GrossProfitMargin\\']}% on {max_margin_row[\\'index\\']}\")\\n'}}\n",
      "\u001b[0m\u001b[36;1m\u001b[1;3mThe largest gross profit margin is 38.36194330595236% on 2019-12-29-2020-03-28\n",
      "\u001b[0m\u001b[32;1m\u001b[1;3mRelevant Documents: 0\n",
      "Cited Documents: 0\n",
      "Answer: The largest gross profit margin is approximately 38.36% on 2019-12-29 to 2020-03-28.\n",
      "Grounded answer: The largest gross profit margin is <co: 0>approximately 38.36</co: 0>% on <co: 0>2019-12-29 to 2020-03-28</co: 0>.\u001b[0m\n",
      "\n",
      "\u001b[1m> Finished chain.\u001b[0m\n",
      "GT Answer:0.3836194330595236\n",
      "--------------------------------------------------\n",
      "question:q3\n",
      "\n",
      "\n",
      "\u001b[1m> Entering new AgentExecutor chain...\u001b[0m\n",
      "\u001b[32;1m\u001b[1;3m\n",
      "I will write and execute Python code to calculate the minimum ratio of Operating Income Loss divided by Non Operating Income Expense.\n",
      "{'tool_name': 'python_interpreter', 'parameters': {'code': \"import pandas as pd\\n\\n# Read the CSV file into a DataFrame\\ndf = pd.read_csv('income_statement.csv')\\n\\n# Calculate the ratio\\nratios = df['OperatingIncomeLoss'] / df['NonoperatingIncomeExpense']\\n\\n# Find the minimum ratio\\nmin_ratio = ratios.min()\\n\\nprint(f'Minimum ratio: {min_ratio:.2f}')\\n\"}}\n",
      "\u001b[0m\u001b[36;1m\u001b[1;3mMinimum ratio: 35.36\n",
      "\u001b[0m\u001b[32;1m\u001b[1;3mRelevant Documents: 0\n",
      "Cited Documents: 0\n",
      "Answer: The minimum ratio of Operating Income Loss divided by Non Operating Income Expense is approximately **35.36**.\n",
      "Grounded answer: The minimum ratio of Operating Income Loss divided by Non Operating Income Expense is approximately *<co: 0>*35.36</co: 0>**.\u001b[0m\n",
      "\n",
      "\u001b[1m> Finished chain.\u001b[0m\n",
      "GT Answer:35.360599\n",
      "--------------------------------------------------\n"
     ]
    }
   ],
   "source": [
    "for qsn,val in question_dict.items():\n",
    "    print(f'question:{qsn}')\n",
    "    agent_executor.invoke({\n",
    "       \"input\": val[0],\n",
    "       \"preamble\": preamble,\n",
    "    })\n",
    "    print(f'GT Answer:{val[1]}')\n",
    "    print('-'*50)"
   ]
  },
  {
   "cell_type": "markdown",
   "id": "61b9d964",
   "metadata": {
    "collapsed": false,
    "jupyter": {
     "outputs_hidden": false
    }
   },
   "source": [
    "Also in this case, the Agent correctly answers all the questions."
   ]
  },
  {
   "cell_type": "markdown",
   "id": "f6d9adda-9836-4ef9-a40c-cdda3fe76658",
   "metadata": {},
   "source": [
    "<a id=\"sec_step3\"></a>\n",
    "# QnA over Multiple Tables\n",
    "\n",
    "We now make the task for the Agent more complicated, by asking it questions whose answer can be computed only by retrieving relevant information from multiple tables."
   ]
  },
  {
   "cell_type": "code",
   "execution_count": 21,
   "id": "4f799645-c2a3-4f9b-a5cb-b9a6e57a3650",
   "metadata": {},
   "outputs": [],
   "source": [
    "# define the Agent\n",
    "python_repl = PythonREPL()\n",
    "python_tool = Tool(\n",
    "    name=\"python_repl\",\n",
    "    description=\"Executes python code and returns the result. The code runs in a static sandbox without interactive mode, so print output or save output to a file.\",\n",
    "    func=python_repl.run,\n",
    ")\n",
    "python_tool.name = \"python_interpreter\"\n",
    "\n",
    "class ToolInput(BaseModel):\n",
    "    code: str = Field(description=\"Python code to execute.\")\n",
    "python_tool.args_schema = ToolInput\n",
    "tools=[python_tool]   \n",
    "\n",
    "prompt = ChatPromptTemplate.from_template(\"{input}\")\n",
    "agent = create_cohere_react_agent(\n",
    "   llm=llm,\n",
    "   tools=tools,\n",
    "   prompt=prompt,\n",
    ")\n",
    "agent_executor = AgentExecutor(agent=agent,\n",
    "                               tools=tools,\n",
    "                               verbose=True,\n",
    "                               return_intermediate_steps=True\n",
    "                    )\n",
    "\n",
    "preamble = \"\"\"\n",
    "You are an expert who answers the user's question in complete sentences. You are working with two pandas dataframe in Python. Ensure your output is a string.\n",
    "\n",
    "Here is a preview of the `income_statement.csv` dataframe:\n",
    "{table_1}\n",
    "\n",
    "Here is a preview of the `balance_sheet.csv` dataframe:\n",
    "{table_2}\n",
    "\"\"\".format(table_1=income_statement.head(3).to_markdown(),table_2=balance_sheet.head(3).to_markdown())\n"
   ]
  },
  {
   "cell_type": "markdown",
   "id": "538efc17",
   "metadata": {
    "collapsed": false,
    "jupyter": {
     "outputs_hidden": false
    }
   },
   "source": [
    "We now define a new question"
   ]
  },
  {
   "cell_type": "code",
   "execution_count": 27,
   "id": "f2662094",
   "metadata": {
    "collapsed": false,
    "jupyter": {
     "outputs_hidden": false
    }
   },
   "outputs": [],
   "source": [
    "question_dict ={\n",
    "    'q1': ['what is the ratio of the largest stockholders equity to the smallest revenue'],\n",
    "}"
   ]
  },
  {
   "cell_type": "markdown",
   "id": "3e6442e1",
   "metadata": {
    "collapsed": false,
    "jupyter": {
     "outputs_hidden": false
    }
   },
   "source": [
    "The answer to this question can be obtained only by accessing both the balance sheet and the income statement, as show below:"
   ]
  },
  {
   "cell_type": "code",
   "execution_count": 29,
   "id": "236ecbf8-74a2-4d31-af89-2c557ed511cd",
   "metadata": {},
   "outputs": [
    {
     "name": "stdout",
     "output_type": "stream",
     "text": [
      "The largest stockholders equity value is: 134047000000.0\n",
      "The smallest revenue value is: 53809000000.0\n",
      "Their ratio is: 2.4911631883142227\n"
     ]
    }
   ],
   "source": [
    "# get the largest stockholders equity\n",
    "x = balance_sheet['StockholdersEquity'].astype(float).max()\n",
    "print(f\"The largest stockholders equity value is: {x}\")\n",
    "\n",
    "# get the smallest revenue\n",
    "y = income_statement['RevenueFromContractWithCustomerExcludingAssessedTax'].astype(float).min()\n",
    "print(f\"The smallest revenue value is: {y}\")\n",
    "\n",
    "# compute the ratio\n",
    "ratio = x/y\n",
    "print(f\"Their ratio is: {ratio}\")"
   ]
  },
  {
   "cell_type": "markdown",
   "id": "6fbf6bb3",
   "metadata": {
    "collapsed": false,
    "jupyter": {
     "outputs_hidden": false
    }
   },
   "source": [
    "Let's now get the answer from the Agent"
   ]
  },
  {
   "cell_type": "code",
   "execution_count": 34,
   "id": "bf5d72f4-2243-4cc8-a36a-34cec927ee42",
   "metadata": {},
   "outputs": [
    {
     "name": "stdout",
     "output_type": "stream",
     "text": [
      "question:q1\n",
      "\n",
      "\n",
      "\u001b[1m> Entering new AgentExecutor chain...\u001b[0m\n",
      "\u001b[32;1m\u001b[1;3m\n",
      "I will write and execute Python code to find the largest and smallest values in the relevant columns of the dataframes, then calculate the ratio.\n",
      "{'tool_name': 'python_interpreter', 'parameters': {'code': \"import pandas as pd\\n\\nincome_statement = pd.read_csv('income_statement.csv')\\nbalance_sheet = pd.read_csv('balance_sheet.csv')\\n\\n# Find largest and smallest values in relevant columns\\nmax_stockholders_equity = max([balance_sheet['StockholdersEquity'].iloc[i] for i in range(len(balance_sheet))])\\nmin_revenue = min([income_statement['RevenueFromContractWithCustomerExcludingAssessedTax'].iloc[i] for i in range(len(income_statement))])\\n\\n# Calculate ratio\\nratio = max_stockholders_equity / min_revenue\\n\\nprint(f'The ratio of the largest stockholders equity to the smallest revenue is {ratio:.2f}'\\n    )\"}}\n",
      "\u001b[0m\u001b[36;1m\u001b[1;3mNameError(\"name 'balance_sheet' is not defined\")\u001b[0m\u001b[32;1m\u001b[1;3m\n",
      "My code has thrown an error because the variable `balance_sheet` has not been defined. I will fix this by adding the line `balance_sheet = pd.read_csv('balance_sheet.csv')` to the beginning of my code.\n",
      "{'tool_name': 'python_interpreter', 'parameters': {'code': \"import pandas as pd\\n\\nincome_statement = pd.read_csv('income_statement.csv')\\n\\nbalance_sheet = pd.read_csv('balance_sheet.csv')\\n\\n# Find largest and smallest values in relevant columns\\nmax_stockholders_equity = max([balance_sheet['StockholdersEquity'].iloc[i] for i in range(len(balance_sheet))])\\nmin_revenue = min([income_statement['RevenueFromContractWithCustomerExcludingAssessedTax'].iloc[i] for i in range(len(income_statement))])\\n\\n# Calculate ratio\\nratio = max_stockholders_equity / min_revenue\\n\\nprint(f'The ratio of the largest stockholders equity to the smallest revenue is {ratio:.2f}'\\n    )\"}}\n",
      "\u001b[0m\u001b[36;1m\u001b[1;3mNameError(\"name 'balance_sheet' is not defined\")\u001b[0m\u001b[32;1m\u001b[1;3m\n",
      "The same error has occurred again, so I will check my code carefully to make sure the variable is being defined correctly.\n",
      "{'tool_name': 'python_interpreter', 'parameters': {'code': \"import pandas as pd\\n\\n# Load data\\nincome_statement = pd.read_csv('income_statement.csv')\\nbalance_sheet = pd.read_csv('balance_sheet.csv')\\n\\n# Find largest and smallest values in relevant columns\\nmax_stockholders_equity = max(balance_sheet['StockholdersEquity'])\\nmin_revenue = min(income_statement['RevenueFromContractWithCustomerExcludingAssessedTax'])\\n\\n# Calculate ratio\\nratio = max_stockholders_equity / min_revenue\\n\\nprint(f'The ratio of the largest stockholders equity to the smallest revenue is {ratio:.2f}')\"}}\n",
      "\u001b[0m\u001b[36;1m\u001b[1;3mThe ratio of the largest stockholders equity to the smallest revenue is 2.49\n",
      "\u001b[0m\u001b[32;1m\u001b[1;3mRelevant Documents: 0,1,2\n",
      "Cited Documents: 2\n",
      "Answer: The ratio of the largest stockholders equity to the smallest revenue is approximately **2.49**.\n",
      "Grounded answer: The ratio of the largest stockholders equity to the smallest revenue is approximately *<co: 2>*2.49</co: 2>**.\u001b[0m\n",
      "\n",
      "\u001b[1m> Finished chain.\u001b[0m\n"
     ]
    }
   ],
   "source": [
    "for qsn,val in question_dict.items():\n",
    "    print(f'question:{qsn}')\n",
    "    agent_executor.invoke({\n",
    "       \"input\": val[0],\n",
    "       \"preamble\": preamble,\n",
    "    })"
   ]
  },
  {
   "cell_type": "markdown",
   "id": "077a5aa5",
   "metadata": {
    "collapsed": false,
    "jupyter": {
     "outputs_hidden": false
    }
   },
   "source": [
    "The Agent defined a plan (\"write and execute Python code to find the largest and smallest values in the relevant columns of the dataframes, then calculate the ratio\") and executed it. It made some mistakes when coding, that resulted in NameError errors, but it fixed them and finally got to the correct answer"
   ]
  },
  {
   "cell_type": "code",
   "execution_count": null,
   "id": "77a3f5ac",
   "metadata": {
    "collapsed": false,
    "jupyter": {
     "outputs_hidden": false
    }
   },
   "outputs": [],
   "source": []
  }
 ],
 "metadata": {
  "colab": {
   "provenance": []
  },
  "kernelspec": {
   "display_name": "Python 3 (ipykernel)",
   "language": "python",
   "name": "python3"
  },
  "language_info": {
   "codemirror_mode": {
    "name": "ipython",
    "version": 3
   },
   "file_extension": ".py",
   "mimetype": "text/x-python",
   "name": "python",
   "nbconvert_exporter": "python",
   "pygments_lexer": "ipython3",
   "version": "3.10.14"
  }
 },
 "nbformat": 4,
 "nbformat_minor": 5
}
