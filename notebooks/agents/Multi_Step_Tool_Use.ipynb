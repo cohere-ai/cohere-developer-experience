{
 "cells": [
  {
   "cell_type": "markdown",
   "metadata": {
    "id": "EUYMLmXAF3W1"
   },
   "source": [
    "# A ReAct agent with Command R+, achieving the same goals as Adaptive RAG | Add the custom tools\n",
    "\n",
    "Adaptive RAG is a strategy for RAG that unites (1) [query analysis](https://blog.langchain.dev/query-construction/) with (2) [active / self-corrective RAG](https://blog.langchain.dev/agentic-rag-with-langgraph/).\n",
    "\n",
    "In the paper, they report query analysis to route across:\n",
    "- No Retrieval (LLM answers)\n",
    "- Single-shot RAG\n",
    "- Iterative RAG\n",
    "\n",
    "\n",
    "We'll use Command R+, a recent release from Cohere that:\n",
    "- Has strong accuracy on RAG, Tool Use and Agents\n",
    "- Has 128k context\n"
   ]
  },
  {
   "cell_type": "markdown",
   "metadata": {
    "id": "W8yvOB2MQp07"
   },
   "source": [
    "# Environment"
   ]
  },
  {
   "cell_type": "code",
   "execution_count": null,
   "metadata": {
    "colab": {
     "base_uri": "https://localhost:8080/"
    },
    "id": "ujQVUvA9QlD4",
    "outputId": "230c6a56-3ee3-4e0d-95af-2a261b8541d6"
   },
   "outputs": [],
   "source": [
    "%pip install --quiet langchain langchain_cohere tiktoken faiss-cpu beautifulsoup4 langchain_experimental matplotlib tabulate python-dotenv"
   ]
  },
  {
   "cell_type": "markdown",
   "metadata": {},
   "source": [
    "Save your credentials in a .env file in your user root directory, so that you can retrieve securely"
   ]
  },
  {
   "cell_type": "code",
   "execution_count": null,
   "metadata": {},
   "outputs": [],
   "source": [
    "import os\n",
    "from dotenv import load_dotenv\n",
    "load_dotenv()\n",
    "\n",
    "COHERE_API_KEY = os.environ.get(\"COHERE_API_KEY\")\n",
    "TAVILY_API_KEY = os.environ.get(\"TAVILY_API_KEY\") # Get your Free API key at https://app.tavily.com once you sign up\n",
    "FMP_API_KEY = os.environ.get(\"FMP_API_KEY\") # Get your Free API key https://site.financialmodelingprep.com/ once you sign up"
   ]
  },
  {
   "cell_type": "markdown",
   "metadata": {
    "id": "k3mrKxSsTfXO"
   },
   "source": [
    "# Create tools\n",
    "The ReAct agent will be equipped with these tools. The model can pick between\n",
    "- web search\n",
    "- RAG: retrieval from a vector store\n",
    "- custom tool (call an external API)\n",
    "- directly answering\n",
    "\n",
    "The model can use any of these tools, in any sequence of steps, and self-reflect."
   ]
  },
  {
   "cell_type": "markdown",
   "metadata": {
    "id": "4kGUB4IRF3W5"
   },
   "source": [
    "### Web search tool"
   ]
  },
  {
   "cell_type": "code",
   "execution_count": null,
   "metadata": {
    "id": "hYsJgVY0F3W5"
   },
   "outputs": [],
   "source": [
    "from langchain_community.tools.tavily_search import TavilySearchResults\n",
    "from langchain_core.pydantic_v1 import BaseModel, Field\n",
    "\n",
    "internet_search = TavilySearchResults()\n",
    "internet_search.name = \"internet_search\"\n",
    "internet_search.description = \"Returns a list of relevant document snippets for a textual query retrieved from the internet.\"\n",
    "\n",
    "\n",
    "class TavilySearchInput(BaseModel):\n",
    "    query: str = Field(description=\"Query to search the internet with\")\n",
    "\n",
    "\n",
    "internet_search.args_schema = TavilySearchInput"
   ]
  },
  {
   "cell_type": "markdown",
   "metadata": {},
   "source": [
    "### Python interpreter tool"
   ]
  },
  {
   "cell_type": "code",
   "execution_count": null,
   "metadata": {},
   "outputs": [],
   "source": [
    "from langchain.agents import Tool\n",
    "from langchain_experimental.utilities import PythonREPL\n",
    "\n",
    "python_repl = PythonREPL()\n",
    "repl_tool = Tool(\n",
    "    name=\"python_repl\",\n",
    "    description=\"Executes python code and returns the result. The code runs in a static sandbox without interactive mode, so print output or save output to a file.\",\n",
    "    func=python_repl.run,\n",
    ")\n",
    "repl_tool.name = \"python_interpreter\"\n",
    "\n",
    "# from langchain_core.pydantic_v1 import BaseModel, Field\n",
    "class ToolInput(BaseModel):\n",
    "    code: str = Field(description=\"Python code to execute.\")\n",
    "repl_tool.args_schema = ToolInput"
   ]
  },
  {
   "cell_type": "markdown",
   "metadata": {
    "id": "NxDa_Em0tuas"
   },
   "source": [
    "### RAG tool"
   ]
  },
  {
   "cell_type": "code",
   "execution_count": null,
   "metadata": {
    "id": "0QyahrNPtwEi"
   },
   "outputs": [],
   "source": [
    "from langchain.text_splitter import RecursiveCharacterTextSplitter\n",
    "from langchain_cohere import CohereEmbeddings\n",
    "from langchain_community.document_loaders import WebBaseLoader\n",
    "from langchain_community.vectorstores import FAISS\n",
    "\n",
    "# Set embeddings\n",
    "embd = CohereEmbeddings()\n",
    "\n",
    "# Docs to index\n",
    "urls = [\n",
    "    \"https://www.mayerbrown.com/en/insights/publications/2023/03/new-data-standards-pending-for-federally-regulated-financial-entities\",\n",
    "    \"https://plaid.com/resources/open-finance/what-is-fdx/\",\n",
    "    \"https://www.egnyte.com/guides/financial-services/financial-data-compliance\",\n",
    "]\n",
    "\n",
    "# Load\n",
    "docs = [WebBaseLoader(url).load() for url in urls]\n",
    "docs_list = [item for sublist in docs for item in sublist]\n",
    "\n",
    "# Split\n",
    "text_splitter = RecursiveCharacterTextSplitter.from_tiktoken_encoder(\n",
    "    chunk_size=512, chunk_overlap=0\n",
    ")\n",
    "doc_splits = text_splitter.split_documents(docs_list)\n",
    "\n",
    "# Add to vectorstore\n",
    "vectorstore = FAISS.from_documents(\n",
    "    documents=doc_splits,\n",
    "    embedding=embd,\n",
    ")\n",
    "\n",
    "vectorstore_retriever = vectorstore.as_retriever()"
   ]
  },
  {
   "cell_type": "code",
   "execution_count": null,
   "metadata": {
    "id": "eoa3toXfdGkI"
   },
   "outputs": [],
   "source": [
    "from langchain.tools.retriever import create_retriever_tool\n",
    "\n",
    "vectorstore_search = create_retriever_tool(\n",
    "    retriever=vectorstore_retriever,\n",
    "    name=\"vectorstore_search\",\n",
    "    description=\"Retrieve relevant info from a vectorstore that contains documents related to Data Compliance for Financial Services and its regulation.\",\n",
    ")"
   ]
  },
  {
   "cell_type": "markdown",
   "metadata": {},
   "source": [
    "### Custom Tool For Market Capitalization\n",
    "\n"
   ]
  },
  {
   "cell_type": "markdown",
   "metadata": {},
   "source": [
    "1. Define the function"
   ]
  },
  {
   "cell_type": "code",
   "execution_count": null,
   "metadata": {},
   "outputs": [],
   "source": [
    "import requests\n",
    "\n",
    "# Function to get the market capitalization of a ticker symbol\n",
    "def get_market_cap(ticker):\n",
    "    url = f\"https://financialmodelingprep.com/api/v3/market-capitalization/{ticker}?apikey={FMP_API_KEY}\"\n",
    "    response = requests.get(url)\n",
    "    if response.status_code == 200:\n",
    "        data = response.json()\n",
    "        if data and isinstance(data, list) and len(data) > 0:\n",
    "            market_cap = data[0].get('marketCap', 'No market cap data available')\n",
    "            return [{'id': 0, 'text': f'Market cap for {ticker}: ${market_cap}'}]\n",
    "        else:\n",
    "            return \"No data available for the specified ticker.\"\n",
    "    else:\n",
    "        return \"Failed to retrieve data from the API.\""
   ]
  },
  {
   "cell_type": "markdown",
   "metadata": {},
   "source": [
    "2. Define the Custom Tool"
   ]
  },
  {
   "cell_type": "code",
   "execution_count": null,
   "metadata": {},
   "outputs": [],
   "source": [
    "from langchain.tools import tool\n",
    "\n",
    "@tool\n",
    "def market_cap(ticker: str) -> list:\n",
    "    \"\"\"This tool is only used to find market capitalization. Do not use it for anything else. Find the ticker when asked about capitalization. The ticker symbol of the company (e.g., AAPL which is the ticker for Apple Inc, MSFT for Microsoft )\"\"\"\n",
    "    return get_market_cap(ticker)\n",
    "    "
   ]
  },
  {
   "cell_type": "markdown",
   "metadata": {
    "id": "2ENQAfYXRG9Q"
   },
   "source": [
    "# Create the ReAct Agent\n",
    "The model can smartly pick the right tool(s) for the user query, call them in any sequence of steps, analyze the results and self-reflect."
   ]
  },
  {
   "cell_type": "code",
   "execution_count": null,
   "metadata": {
    "id": "hx-Ew1i5F3W4"
   },
   "outputs": [],
   "source": [
    "from langchain.agents import AgentExecutor\n",
    "from langchain_cohere.react_multi_hop.agent import create_cohere_react_agent\n",
    "from langchain_core.prompts import ChatPromptTemplate"
   ]
  },
  {
   "cell_type": "code",
   "execution_count": null,
   "metadata": {
    "id": "BPo3ZIHkF3W4"
   },
   "outputs": [],
   "source": [
    "# LLM\n",
    "from langchain_cohere.chat_models import ChatCohere\n",
    "\n",
    "chat = ChatCohere(model=\"command-r-plus\", temperature=0.3)\n",
    "\n",
    "# Preamble\n",
    "preamble = \"\"\"\n",
    "Use all tools that are available to answear the question. \n",
    "If the query covers the topics of Federal Financial Institutions, use the vectorstore search first.\n",
    "If the query covers market capitalization, use the market cap tool first.\n",
    "You are equipped with an internet search tool, and python interpreter, a market cap api, and a special vectorstore of information about Data Compliance for Financial Services.\n",
    "\n",
    "\"\"\"\n",
    "\n",
    "# Prompt\n",
    "prompt = ChatPromptTemplate.from_template(\"{input}\")\n",
    "\n",
    "# Create the ReAct agent\n",
    "agent = create_cohere_react_agent(\n",
    "    llm=chat,\n",
    "    tools=[vectorstore_search, internet_search, repl_tool, market_cap],\n",
    "    prompt=prompt,\n",
    ")"
   ]
  },
  {
   "cell_type": "code",
   "execution_count": null,
   "metadata": {
    "id": "dks-7TGGtdLE"
   },
   "outputs": [],
   "source": [
    "agent_executor = AgentExecutor(\n",
    "    agent=agent, tools=[vectorstore_search, internet_search, repl_tool, market_cap], verbose=True\n",
    ")"
   ]
  },
  {
   "cell_type": "markdown",
   "metadata": {
    "id": "v7L1aBHds1pj"
   },
   "source": [
    "# Testing the ReAct agent"
   ]
  },
  {
   "cell_type": "markdown",
   "metadata": {
    "id": "ibo31dsHEjPv"
   },
   "source": [
    "**Let's ask a question that requires web search.**"
   ]
  },
  {
   "cell_type": "code",
   "execution_count": null,
   "metadata": {
    "colab": {
     "base_uri": "https://localhost:8080/"
    },
    "id": "AW_8C7mszsVE",
    "outputId": "9be7067f-a776-4688-8864-db873d1fb65a"
   },
   "outputs": [],
   "source": [
    "result = agent_executor.invoke(\n",
    "    {\n",
    "        \"input\": \"How does the current interest rate environment affect the bond market?\",\n",
    "        \"preamble\": preamble,\n",
    "    }\n",
    ")"
   ]
  },
  {
   "cell_type": "code",
   "execution_count": null,
   "metadata": {},
   "outputs": [],
   "source": [
    "result[\"output\"]"
   ]
  },
  {
   "cell_type": "markdown",
   "metadata": {
    "id": "lKkxSvJmEn8Z"
   },
   "source": [
    "**Let's ask a question that requires RAG retrieval from the vector db.**"
   ]
  },
  {
   "cell_type": "code",
   "execution_count": null,
   "metadata": {
    "colab": {
     "base_uri": "https://localhost:8080/"
    },
    "id": "Jl0JNX2TF3W5",
    "outputId": "2ccb747c-e702-4473-f587-47271e0c71b2"
   },
   "outputs": [],
   "source": [
    "result = agent_executor.invoke(\n",
    "    {\n",
    "        \"input\": \"What are the primary functions of the Federal Financial Institutions Examination Council (FFIEC)?\",\n",
    "        \"preamble\": preamble,\n",
    "    }\n",
    ")"
   ]
  },
  {
   "cell_type": "code",
   "execution_count": null,
   "metadata": {},
   "outputs": [],
   "source": [
    "result[\"output\"]"
   ]
  },
  {
   "cell_type": "markdown",
   "metadata": {},
   "source": [
    "**Let's ask a question that requires Market Cap.**"
   ]
  },
  {
   "cell_type": "code",
   "execution_count": null,
   "metadata": {},
   "outputs": [],
   "source": [
    "result = agent_executor.invoke(\n",
    "    {\n",
    "        \"input\": \"What is Apple capitalization compared to Microsoft? Calculate the difference\",\n",
    "         \"preamble\": preamble,\n",
    "    }\n",
    ")"
   ]
  },
  {
   "cell_type": "code",
   "execution_count": null,
   "metadata": {},
   "outputs": [],
   "source": [
    "result[\"output\"]"
   ]
  },
  {
   "cell_type": "markdown",
   "metadata": {},
   "source": [
    "**Let's ask a question that requires Internet Search.**"
   ]
  },
  {
   "cell_type": "code",
   "execution_count": null,
   "metadata": {},
   "outputs": [],
   "source": [
    "result = agent_executor.invoke(\n",
    "    {\n",
    "        \"input\": \"Hi there!\",\n",
    "         \"preamble\": preamble,\n",
    "    }\n",
    ")"
   ]
  },
  {
   "cell_type": "code",
   "execution_count": null,
   "metadata": {},
   "outputs": [],
   "source": [
    "result[\"output\"]"
   ]
  }
 ],
 "metadata": {
  "colab": {
   "provenance": []
  },
  "kernelspec": {
   "display_name": "Python 3 (ipykernel)",
   "language": "python",
   "name": "python3"
  },
  "language_info": {
   "codemirror_mode": {
    "name": "ipython",
    "version": 3
   },
   "file_extension": ".py",
   "mimetype": "text/x-python",
   "name": "python",
   "nbconvert_exporter": "python",
   "pygments_lexer": "ipython3",
   "version": "3.11.9"
  }
 },
 "nbformat": 4,
 "nbformat_minor": 4
}
