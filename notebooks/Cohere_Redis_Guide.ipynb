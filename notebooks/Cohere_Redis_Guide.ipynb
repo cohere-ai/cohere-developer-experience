{
 "cells": [
  {
   "cell_type": "code",
   "execution_count": 2,
   "metadata": {},
   "outputs": [],
   "source": [
    "# Import the required packages for this tutorial\n",
    "from redis import Redis\n",
    "from redisvl.index import SearchIndex\n",
    "from redisvl.schema import IndexSchema\n",
    "from redisvl.utils.vectorize import CohereTextVectorizer\n",
    "from redisvl.query import VectorQuery\n",
    "from redisvl.query.filter import Tag, Text, Num\n",
    "import jsonlines"
   ]
  },
  {
   "cell_type": "code",
   "execution_count": 3,
   "metadata": {},
   "outputs": [],
   "source": [
    "# initialize the Cohere Text Vectorizer\n",
    "api_key='{Insert your API Key}'\n",
    "\n",
    "cohere_vectorizer = CohereTextVectorizer(\n",
    "    model=\"embed-english-v3.0\",\n",
    "    api_config={\"api_key\": api_key},\n",
    ")"
   ]
  },
  {
   "cell_type": "code",
   "execution_count": 6,
   "metadata": {},
   "outputs": [
    {
     "name": "stdout",
     "output_type": "stream",
     "text": [
      "17:53:38 redisvl.index.index INFO   Index already exists, overwriting.\n"
     ]
    }
   ],
   "source": [
    "# construct a search index from the schema - this schema is called \"semantic_search_demo\"\n",
    "schema = IndexSchema.from_yaml(\"configs/redis_guide_schema.yaml\")\n",
    "client = Redis.from_url(\"redis://localhost:6379\")\n",
    "index = SearchIndex(schema, client)\n",
    "\n",
    "# create the index (no data yet)\n",
    "index.create(overwrite=True)"
   ]
  },
  {
   "cell_type": "code",
   "execution_count": 10,
   "metadata": {},
   "outputs": [
    {
     "name": "stdout",
     "output_type": "stream",
     "text": [
      "\u001b[32m17:57:31\u001b[0m \u001b[34m[RedisVL]\u001b[0m \u001b[1;30mINFO\u001b[0m   Indices:\n",
      "\u001b[32m17:57:31\u001b[0m \u001b[34m[RedisVL]\u001b[0m \u001b[1;30mINFO\u001b[0m   1. semantic_search_demo\n",
      "\u001b[32m17:57:31\u001b[0m \u001b[34m[RedisVL]\u001b[0m \u001b[1;30mINFO\u001b[0m   2. user_index\n",
      "\u001b[32m17:57:31\u001b[0m \u001b[34m[RedisVL]\u001b[0m \u001b[1;30mINFO\u001b[0m   3. demo\n",
      "\u001b[32m17:57:31\u001b[0m \u001b[34m[RedisVL]\u001b[0m \u001b[1;30mINFO\u001b[0m   4. redis_final_demo\n",
      "\u001b[32m17:57:31\u001b[0m \u001b[34m[RedisVL]\u001b[0m \u001b[1;30mINFO\u001b[0m   5. providers\n"
     ]
    }
   ],
   "source": [
    "# list all your indexes \n",
    "!rvl index listall"
   ]
  },
  {
   "cell_type": "code",
   "execution_count": 11,
   "metadata": {},
   "outputs": [
    {
     "name": "stdout",
     "output_type": "stream",
     "text": [
      "\n",
      "\n",
      "Index Information:\n",
      "╭──────────────────────┬────────────────┬────────────┬─────────────────┬────────────╮\n",
      "│ Index Name           │ Storage Type   │ Prefixes   │ Index Options   │   Indexing │\n",
      "├──────────────────────┼────────────────┼────────────┼─────────────────┼────────────┤\n",
      "│ semantic_search_demo │ HASH           │ ['rvl']    │ []              │          0 │\n",
      "╰──────────────────────┴────────────────┴────────────┴─────────────────┴────────────╯\n",
      "Index Fields:\n",
      "╭──────────────┬──────────────┬─────────┬────────────────┬────────────────┬────────────────┬────────────────┬────────────────┬────────────────┬─────────────────┬────────────────╮\n",
      "│ Name         │ Attribute    │ Type    │ Field Option   │ Option Value   │ Field Option   │ Option Value   │ Field Option   │   Option Value │ Field Option    │ Option Value   │\n",
      "├──────────────┼──────────────┼─────────┼────────────────┼────────────────┼────────────────┼────────────────┼────────────────┼────────────────┼─────────────────┼────────────────┤\n",
      "│ url          │ url          │ TEXT    │ WEIGHT         │ 1              │                │                │                │                │                 │                │\n",
      "│ title        │ title        │ TAG     │ SEPARATOR      │ ,              │                │                │                │                │                 │                │\n",
      "│ text         │ text         │ TEXT    │ WEIGHT         │ 1              │                │                │                │                │                 │                │\n",
      "│ wiki_id      │ wiki_id      │ NUMERIC │                │                │                │                │                │                │                 │                │\n",
      "│ paragraph_id │ paragraph_id │ NUMERIC │                │                │                │                │                │                │                 │                │\n",
      "│ id           │ id           │ NUMERIC │                │                │                │                │                │                │                 │                │\n",
      "│ views        │ views        │ NUMERIC │                │                │                │                │                │                │                 │                │\n",
      "│ langs        │ langs        │ NUMERIC │                │                │                │                │                │                │                 │                │\n",
      "│ embedding    │ embedding    │ VECTOR  │ algorithm      │ FLAT           │ data_type      │ FLOAT32        │ dim            │           1024 │ distance_metric │ COSINE         │\n",
      "╰──────────────┴──────────────┴─────────┴────────────────┴────────────────┴────────────────┴────────────────┴────────────────┴────────────────┴─────────────────┴────────────────╯\n"
     ]
    }
   ],
   "source": [
    "# make sure the index matches our schema\n",
    "!rvl index info -i semantic_search_demo"
   ]
  },
  {
   "cell_type": "code",
   "execution_count": 7,
   "metadata": {},
   "outputs": [],
   "source": [
    "# read in your documents\n",
    "jsonl_file_path='data/redis_guide_data.jsonl'\n",
    "\n",
    "corpus=[]\n",
    "text_to_embed=[]\n",
    "\n",
    "with jsonlines.open(jsonl_file_path, mode='r') as reader:\n",
    "    for line in reader: \n",
    "        corpus.append(line)\n",
    "        # we want to store the embeddings of the field called `text`\n",
    "        text_to_embed.append(line['text'])\n",
    "\n",
    "# call embed_many which returns an array \n",
    "# hash data structures get serialized as a string and thus we store the embeddings in hashes as a byte string (handled by numpy)\n",
    "res=cohere_vectorizer.embed_many(text_to_embed, input_type='search_document', as_buffer=True)"
   ]
  },
  {
   "cell_type": "code",
   "execution_count": null,
   "metadata": {},
   "outputs": [],
   "source": [
    "# contruct the data payload to be uploaded to your index\n",
    "data = [{\"url\": row['url'],\n",
    "         \"title\": row['title'],\n",
    "         \"text\": row['text'],\n",
    "         \"wiki_id\": row['wiki_id'],\n",
    "         \"paragraph_id\": row['paragraph_id'],\n",
    "         \"id\":row['id'],\n",
    "         \"views\":row['views'],\n",
    "         \"langs\":row['langs'],\n",
    "         \"embedding\":v}\n",
    "        for row, v in zip(corpus, res)]\n",
    "\n",
    "# load the data into your index\n",
    "index.load(data)"
   ]
  },
  {
   "cell_type": "code",
   "execution_count": 8,
   "metadata": {},
   "outputs": [
    {
     "name": "stdout",
     "output_type": "stream",
     "text": [
      "Title:Microsoft Office\n",
      "Text:On January 22, 2015, the Microsoft Office blog announced that the next version of the suite for Windows desktop, Office 2016, was in development. On May 4, 2015, a public preview of Microsoft Office 2016 was released. Office 2016 was released for Mac OS X on July 9, 2015 and for Windows on September 22, 2015.\n",
      "Distance 0.425565302372\n",
      "\n",
      "\n",
      "Title:Microsoft Office\n",
      "Text:On January 22, 2015, the Microsoft Office blog announced that the next version of the suite for Windows desktop, Office 2016, was in development. On May 4, 2015, a public preview of Microsoft Office 2016 was released. Office 2016 was released for Mac OS X on July 9, 2015 and for Windows on September 22, 2015.\n",
      "Distance 0.425565302372\n",
      "\n",
      "\n",
      "Title:Microsoft Office\n",
      "Text:On January 22, 2015, the Microsoft Office blog announced that the next version of the suite for Windows desktop, Office 2016, was in development. On May 4, 2015, a public preview of Microsoft Office 2016 was released. Office 2016 was released for Mac OS X on July 9, 2015 and for Windows on September 22, 2015.\n",
      "Distance 0.425565302372\n",
      "\n",
      "\n",
      "Title:Microsoft Office\n",
      "Text:The first Preview version of Microsoft Office 2016 for Mac was released on March 5, 2015. On July 9, 2015, Microsoft released the final version of Microsoft Office 2016 for Mac which includes Word, Excel, PowerPoint, Outlook and OneNote. It was immediately made available for Office 365 subscribers with either a Home, Personal, Business, Business Premium, E3 or ProPlus subscription. A non–Office 365 edition of Office 2016 was made available as a one-time purchase option on September 22, 2015.\n",
      "Distance 0.447538018227\n",
      "\n",
      "\n",
      "Title:Microsoft Office\n",
      "Text:The first Preview version of Microsoft Office 2016 for Mac was released on March 5, 2015. On July 9, 2015, Microsoft released the final version of Microsoft Office 2016 for Mac which includes Word, Excel, PowerPoint, Outlook and OneNote. It was immediately made available for Office 365 subscribers with either a Home, Personal, Business, Business Premium, E3 or ProPlus subscription. A non–Office 365 edition of Office 2016 was made available as a one-time purchase option on September 22, 2015.\n",
      "Distance 0.447538018227\n",
      "\n",
      "\n"
     ]
    }
   ],
   "source": [
    "# use the Cohere vectorizer again to create a query embedding\n",
    "query_embedding = cohere_vectorizer.embed(\"What did Microsoft release in 2015?\", input_type='search_query',as_buffer=True)\n",
    "\n",
    "\n",
    "query = VectorQuery(\n",
    "    vector=query_embedding,\n",
    "    vector_field_name=\"embedding\",\n",
    "    return_fields=[\"url\",\"wiki_id\",\"paragraph_id\",\"id\",\"views\",\"langs\",\"title\",\"text\",],\n",
    "    num_results=5\n",
    ")\n",
    "\n",
    "results = index.query(query)\n",
    "\n",
    "for doc in results:\n",
    "    print(f\"Title:{doc['title']}\\nText:{doc['text']}\\nDistance {doc['vector_distance']}\\n\\n\")"
   ]
  },
  {
   "cell_type": "code",
   "execution_count": 9,
   "metadata": {},
   "outputs": [
    {
     "name": "stdout",
     "output_type": "stream",
     "text": [
      "Title:Microsoft Office\n",
      "Text:On January 22, 2015, the Microsoft Office blog announced that the next version of the suite for Windows desktop, Office 2016, was in development. On May 4, 2015, a public preview of Microsoft Office 2016 was released. Office 2016 was released for Mac OS X on July 9, 2015 and for Windows on September 22, 2015.\n",
      "Distance 0.425565302372\n",
      "\n",
      "Title:Microsoft Office\n",
      "Text:On January 22, 2015, the Microsoft Office blog announced that the next version of the suite for Windows desktop, Office 2016, was in development. On May 4, 2015, a public preview of Microsoft Office 2016 was released. Office 2016 was released for Mac OS X on July 9, 2015 and for Windows on September 22, 2015.\n",
      "Distance 0.425565302372\n",
      "\n",
      "Title:Microsoft Office\n",
      "Text:On January 22, 2015, the Microsoft Office blog announced that the next version of the suite for Windows desktop, Office 2016, was in development. On May 4, 2015, a public preview of Microsoft Office 2016 was released. Office 2016 was released for Mac OS X on July 9, 2015 and for Windows on September 22, 2015.\n",
      "Distance 0.425565302372\n",
      "\n",
      "Title:Microsoft Office\n",
      "Text:The first Preview version of Microsoft Office 2016 for Mac was released on March 5, 2015. On July 9, 2015, Microsoft released the final version of Microsoft Office 2016 for Mac which includes Word, Excel, PowerPoint, Outlook and OneNote. It was immediately made available for Office 365 subscribers with either a Home, Personal, Business, Business Premium, E3 or ProPlus subscription. A non–Office 365 edition of Office 2016 was made available as a one-time purchase option on September 22, 2015.\n",
      "Distance 0.447538018227\n",
      "\n",
      "Title:Microsoft Office\n",
      "Text:The first Preview version of Microsoft Office 2016 for Mac was released on March 5, 2015. On July 9, 2015, Microsoft released the final version of Microsoft Office 2016 for Mac which includes Word, Excel, PowerPoint, Outlook and OneNote. It was immediately made available for Office 365 subscribers with either a Home, Personal, Business, Business Premium, E3 or ProPlus subscription. A non–Office 365 edition of Office 2016 was made available as a one-time purchase option on September 22, 2015.\n",
      "Distance 0.447538018227\n",
      "\n"
     ]
    }
   ],
   "source": [
    "# Initialize a tag filter\n",
    "tag_filter = Tag(\"title\") == \"Microsoft Office\"\n",
    "\n",
    "# set the tag filter on our existing query \n",
    "query.set_filter(tag_filter)\n",
    "\n",
    "results = index.query(query)\n",
    "\n",
    "for doc in results:\n",
    "    print(f\"Title:{doc['title']}\\nText:{doc['text']}\\nDistance {doc['vector_distance']}\\n\")"
   ]
  },
  {
   "cell_type": "code",
   "execution_count": 15,
   "metadata": {},
   "outputs": [
    {
     "name": "stdout",
     "output_type": "stream",
     "text": [
      "Title:Elizabeth II\n",
      "Text:Elizabeth was born on 21 April 1926, the first child of Prince Albert, Duke of York (later King George VI), and his wife, Elizabeth, Duchess of York (later Queen Elizabeth The Queen Mother). Her father was the second son of King George V and Queen Mary, and her mother was the youngest daughter of Scottish aristocrat Claude Bowes-Lyon, 14th Earl of Strathmore and Kinghorne. She was delivered at 02:40 (GMT) by Caesarean section at her maternal grandfather's London home, 17 Bruton Street in Mayfair. The Anglican Archbishop of York, Cosmo Gordon Lang, baptised her in the private chapel of Buckingham Palace on 29 May, and she was named Elizabeth after her mother; Alexandra after her paternal great-grandmother, who had died six months earlier; and Mary after her paternal grandmother. She was called \"Lilibet\" by her close family, based on what she called herself at first. She was cherished by her grandfather George V, whom she affectionately called \"Grandpa England\", and her regular visits during his serious illness in 1929 were credited in the popular press and by later biographers with raising his spirits and aiding his recovery.\n",
      "Distance 0.553019762039\n",
      "View 4912.77372605\n",
      "\n",
      "Title:Elizabeth II\n",
      "Text:Elizabeth was born on 21 April 1926, the first child of Prince Albert, Duke of York (later King George VI), and his wife, Elizabeth, Duchess of York (later Queen Elizabeth The Queen Mother). Her father was the second son of King George V and Queen Mary, and her mother was the youngest daughter of Scottish aristocrat Claude Bowes-Lyon, 14th Earl of Strathmore and Kinghorne. She was delivered at 02:40 (GMT) by Caesarean section at her maternal grandfather's London home, 17 Bruton Street in Mayfair. The Anglican Archbishop of York, Cosmo Gordon Lang, baptised her in the private chapel of Buckingham Palace on 29 May, and she was named Elizabeth after her mother; Alexandra after her paternal great-grandmother, who had died six months earlier; and Mary after her paternal grandmother. She was called \"Lilibet\" by her close family, based on what she called herself at first. She was cherished by her grandfather George V, whom she affectionately called \"Grandpa England\", and her regular visits during his serious illness in 1929 were credited in the popular press and by later biographers with raising his spirits and aiding his recovery.\n",
      "Distance 0.553019762039\n",
      "View 4912.77372605\n",
      "\n",
      "Title:Elizabeth II\n",
      "Text:Elizabeth was born on 21 April 1926, the first child of Prince Albert, Duke of York (later King George VI), and his wife, Elizabeth, Duchess of York (later Queen Elizabeth The Queen Mother). Her father was the second son of King George V and Queen Mary, and her mother was the youngest daughter of Scottish aristocrat Claude Bowes-Lyon, 14th Earl of Strathmore and Kinghorne. She was delivered at 02:40 (GMT) by Caesarean section at her maternal grandfather's London home, 17 Bruton Street in Mayfair. The Anglican Archbishop of York, Cosmo Gordon Lang, baptised her in the private chapel of Buckingham Palace on 29 May, and she was named Elizabeth after her mother; Alexandra after her paternal great-grandmother, who had died six months earlier; and Mary after her paternal grandmother. She was called \"Lilibet\" by her close family, based on what she called herself at first. She was cherished by her grandfather George V, whom she affectionately called \"Grandpa England\", and her regular visits during his serious illness in 1929 were credited in the popular press and by later biographers with raising his spirits and aiding his recovery.\n",
      "Distance 0.553019762039\n",
      "View 4912.77372605\n",
      "\n",
      "Title:Elizabeth II\n",
      "Text:Elizabeth was born in Mayfair, London, as the first child of the Duke and Duchess of York (later King George VI and Queen Elizabeth The Queen Mother). Her father acceded to the throne in 1936 upon the abdication of his brother Edward VIII, making the ten-year-old Princess Elizabeth the heir presumptive. She was educated privately at home and began to undertake public duties during the Second World War, serving in the Auxiliary Territorial Service. In November 1947, she married Philip Mountbatten, a former prince of Greece and Denmark, and their marriage lasted 73 years until his death in 2021. They had four children: Charles, Anne, Andrew, and Edward.\n",
      "Distance 0.573408603668\n",
      "View 4912.77372605\n",
      "\n",
      "Title:Elizabeth II\n",
      "Text:Elizabeth was born in Mayfair, London, as the first child of the Duke and Duchess of York (later King George VI and Queen Elizabeth The Queen Mother). Her father acceded to the throne in 1936 upon the abdication of his brother Edward VIII, making the ten-year-old Princess Elizabeth the heir presumptive. She was educated privately at home and began to undertake public duties during the Second World War, serving in the Auxiliary Territorial Service. In November 1947, she married Philip Mountbatten, a former prince of Greece and Denmark, and their marriage lasted 73 years until his death in 2021. They had four children: Charles, Anne, Andrew, and Edward.\n",
      "Distance 0.573408603668\n",
      "View 4912.77372605\n",
      "\n"
     ]
    }
   ],
   "source": [
    "# use a filter expression for a more complex filter\n",
    "# define a tag match on the title, text match on the text field, and numeric filter on the views field\n",
    "filter_data=(Tag('title')=='Elizabeth II') & (Text(\"text\")% \"born\") & (Num(\"views\")>4500)\n",
    "\n",
    "query_embedding = cohere_vectorizer.embed(\"When was she born?\", input_type='search_query',as_buffer=True)\n",
    "\n",
    "# reinitialize the query with the filter expression\n",
    "query = VectorQuery(\n",
    "    vector=query_embedding,\n",
    "    vector_field_name=\"embedding\",\n",
    "    return_fields=[\"url\",\"wiki_id\",\"paragraph_id\",\"id\",\"views\",\"langs\",\"title\",\"text\",],\n",
    "    num_results=5, \n",
    "    filter_expression=filter_data\n",
    ")\n",
    "\n",
    "results = index.query(query)\n",
    "\n",
    "for doc in results:\n",
    "    print(f\"Title:{doc['title']}\\nText:{doc['text']}\\nDistance {doc['vector_distance']}\\nView {doc['views']}\\n\")"
   ]
  }
 ],
 "metadata": {
  "kernelspec": {
   "display_name": "Python 3",
   "language": "python",
   "name": "python3"
  },
  "language_info": {
   "codemirror_mode": {
    "name": "ipython",
    "version": 3
   },
   "file_extension": ".py",
   "mimetype": "text/x-python",
   "name": "python",
   "nbconvert_exporter": "python",
   "pygments_lexer": "ipython3",
   "version": "3.9.18"
  }
 },
 "nbformat": 4,
 "nbformat_minor": 2
}
